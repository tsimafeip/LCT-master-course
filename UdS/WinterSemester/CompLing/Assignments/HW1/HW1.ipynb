{
  "nbformat": 4,
  "nbformat_minor": 0,
  "metadata": {
    "colab": {
      "name": "HW1.ipynb",
      "provenance": []
    },
    "kernelspec": {
      "name": "python3",
      "display_name": "Python 3"
    },
    "language_info": {
      "name": "python"
    }
  },
  "cells": [
    {
      "cell_type": "markdown",
      "metadata": {
        "id": "geVXTsHYD8e8"
      },
      "source": [
        ">>> **1. Zipf ’s Law**\n",
        "\n",
        "\n",
        "Empirically verify Zipf’s law. \n",
        "\n",
        "Use the following freely available corpora: <br>\n",
        "• King James Bible (on Classroom)<br>\n",
        "• The Jungle Book (on Classroom) <br>\n",
        "• SETIMES Turkish-Bulgarian parallel newspaper text \n",
        "http://opus.lingfil.uu.se/download.php?f=SETIMES2/bg-tr.txt.zip <br>\n",
        "\n",
        "1) For each corpus, compute a list of unique words sorted by descending frequency. Feel free to tokenize however you like, e.g. by splitting at whitespace.\n",
        "\n",
        "2) Use the Python library matplotlib to plot the frequency curves for the corpora, i.e. x-axis is position in the frequency list, y-axis is frequency. Make\n",
        "sure to provide both a plot with linear axes and one with log-log axes (see\n",
        "methods matplotlib.pyplot.plot and matplotlib.pyplot.loglog) for\n",
        "each corpus.\n",
        "\n",
        "3) Provide a brief discussion of the findings, as well as the source code."
      ]
    },
    {
      "cell_type": "code",
      "metadata": {
        "id": "YEKS5CIvD4bd",
        "colab": {
          "base_uri": "https://localhost:8080/"
        },
        "outputId": "102f32f9-a851-4e0d-cecc-6a26d276d40e"
      },
      "source": [
        "! ls"
      ],
      "execution_count": 1,
      "outputs": [
        {
          "output_type": "stream",
          "name": "stdout",
          "text": [
            "junglebook.txt\t\t      sample_data\tSETIMES.bg-tr.tr\n",
            "kingjamesbible_tokenized.txt  SETIMES.bg-tr.bg\n"
          ]
        }
      ]
    },
    {
      "cell_type": "code",
      "metadata": {
        "id": "M2rL4ned6UHk"
      },
      "source": [
        "%matplotlib inline\n",
        "\n",
        "from typing import List\n",
        "from collections import Counter\n",
        "from functools import wraps\n",
        "from timeit import default_timer as timer\n",
        "from contextlib import contextmanager\n",
        "import string\n",
        "\n",
        "\n",
        "import nltk\n",
        "import matplotlib\n",
        "import matplotlib.pyplot as plt"
      ],
      "execution_count": 2,
      "outputs": []
    },
    {
      "cell_type": "code",
      "metadata": {
        "id": "fDoZR9q--E4u"
      },
      "source": [
        "%%capture\n",
        "# initial preparation\n",
        "\n",
        "# downloading data for nltk tokenization\n",
        "nltk.download('punkt')\n",
        "\n",
        "# creating set of punctuations to exclude them from list of tokens\n",
        "punctuation = set(string.punctuation)\n",
        "punctuation.update([\"''\", '``'])"
      ],
      "execution_count": 3,
      "outputs": []
    },
    {
      "cell_type": "code",
      "metadata": {
        "id": "e7Njv8YDEyaO"
      },
      "source": [
        "@contextmanager\n",
        "def time_my_func():\n",
        "    \n",
        "    yield\n",
        "    \n",
        "    print(f\"Time elapsed: {end-start}\")"
      ],
      "execution_count": 4,
      "outputs": []
    },
    {
      "cell_type": "code",
      "metadata": {
        "id": "2pBIg99AGhN4"
      },
      "source": [
        "def timing(f):\n",
        "    \"\"\"Simple decorator to measure execution time for the function\"\"\"\n",
        "    @wraps(f)\n",
        "    def wrap(*args, **kw):\n",
        "        start = timer()\n",
        "        result = f(*args, **kw)\n",
        "        end = timer()\n",
        "        #print(f\"Time elapsed to execute {f.__name__} functions with the following arguments {args}: {end-start}\")\n",
        "        print(f\"Time elapsed: {end-start}\")\n",
        "        return result\n",
        "    return wrap"
      ],
      "execution_count": 5,
      "outputs": []
    },
    {
      "cell_type": "code",
      "metadata": {
        "id": "CwrJCe6J6Opr"
      },
      "source": [
        "@timing\n",
        "def read_data_and_return_tokens(filename: str, encoding: str = 'utf-8-sig', tokenize: bool = True,\n",
        "                                exclude_punctuation: bool = True) -> List[str]:\n",
        "    \"\"\"\n",
        "    Reads data from the provided filepath and returns list of tokens.\n",
        "\n",
        "    By default following parameters are applied:\n",
        "      - 'utf-8-sig' encoding\n",
        "      - tokenization (separation) of punctuation from actual words\n",
        "      - exclusion of punctuation tokens from word list\n",
        "    \"\"\"\n",
        "    print(f\"Processing the following file: {filename}...\")\n",
        "    tokens = []\n",
        "    #with time_my_func():\n",
        "    with open(filename, 'r', encoding=encoding) as f:\n",
        "      for line in f:\n",
        "        tokenized_line = nltk.word_tokenize(line.strip()) if tokenize else line.strip().split()\n",
        "        if exclude_punctuation:\n",
        "            tokenized_line = [token for token in tokenized_line if token not in punctuation]\n",
        "        tokens.extend(tokenized_line)\n",
        "\n",
        "    return tokens"
      ],
      "execution_count": 6,
      "outputs": []
    },
    {
      "cell_type": "code",
      "metadata": {
        "id": "EQvZM3pK_d71"
      },
      "source": [
        "def discover_data_and_return_ordered_frequencies(tokens: List[str]) -> List[int]:\n",
        "    \"\"\"Gives some insights about provided tokens and returns list of reversed tokens' frequencies.\"\"\"\n",
        "    print(\"First ten tokens: \", tokens[:10])\n",
        "    tokens_counter = Counter(tokens)\n",
        "    print(\"Top-10 tokens by frequency: \", tokens_counter.most_common(10))\n",
        "\n",
        "    ordered_frequencies = sorted(tokens_counter.values(), reverse=True)\n",
        "\n",
        "    return ordered_frequencies"
      ],
      "execution_count": 7,
      "outputs": []
    },
    {
      "cell_type": "code",
      "metadata": {
        "id": "MYqvfqb1M7JG"
      },
      "source": [
        "def plot_frequencies(frequency_data: List[int], loglog: bool = False):\n",
        "    if loglog:\n",
        "        plt.loglog(range(1, len(frequency_data)+1), frequency_data)\n",
        "        plt.title('Log frequency plot')\n",
        "    else:\n",
        "        plt.plot(range(1, len(frequency_data)+1), frequency_data)\n",
        "        plt.title('Basic frequency plot')"
      ],
      "execution_count": 8,
      "outputs": []
    },
    {
      "cell_type": "code",
      "metadata": {
        "colab": {
          "base_uri": "https://localhost:8080/"
        },
        "id": "RPh5S6NcMavA",
        "outputId": "72fa99c9-1c3d-4e2f-82a9-529d10a27e20"
      },
      "source": [
        "# using a new cell to distguish data loading from data exploring\n",
        "data_jungle = read_data_and_return_tokens('junglebook.txt')"
      ],
      "execution_count": 9,
      "outputs": [
        {
          "output_type": "stream",
          "name": "stdout",
          "text": [
            "Processing the following file: junglebook.txt...\n",
            "Time elapsed: 0.949989015999563\n"
          ]
        }
      ]
    },
    {
      "cell_type": "code",
      "metadata": {
        "colab": {
          "base_uri": "https://localhost:8080/",
          "height": 335
        },
        "id": "jrDXOHGcM4ht",
        "outputId": "63b09d1d-ef9c-4888-d532-56f08b632922"
      },
      "source": [
        "frequency_data = discover_data_and_return_ordered_frequencies(data_jungle)\n",
        "plot_frequencies(frequency_data)"
      ],
      "execution_count": 10,
      "outputs": [
        {
          "output_type": "stream",
          "name": "stdout",
          "text": [
            "First ten tokens:  ['The', 'Project', 'Gutenberg', 'EBook', 'of', 'The', 'jungle', 'book', 'by', 'Rudyard']\n",
            "Top-10 tokens by frequency:  [('the', 3397), ('and', 2259), ('of', 1298), ('to', 1232), ('a', 1122), ('he', 875), ('in', 720), ('I', 648), ('his', 638), ('that', 611)]\n"
          ]
        },
        {
          "output_type": "display_data",
          "data": {
            "image/png": "[encoded data removed]",
            "text/plain": [
              "<Figure size 432x288 with 1 Axes>"
            ]
          },
          "metadata": {
            "needs_background": "light"
          }
        }
      ]
    },
    {
      "cell_type": "code",
      "metadata": {
        "colab": {
          "base_uri": "https://localhost:8080/",
          "height": 285
        },
        "id": "QGAt7EG3MnJS",
        "outputId": "026f010d-1daf-4cf5-d9e8-9386995ed411"
      },
      "source": [
        "plot_frequencies(frequency_data, loglog=True)"
      ],
      "execution_count": 11,
      "outputs": [
        {
          "output_type": "display_data",
          "data": {
            "image/png": "[encoded data removed]",
            "text/plain": [
              "<Figure size 432x288 with 1 Axes>"
            ]
          },
          "metadata": {
            "needs_background": "light"
          }
        }
      ]
    },
    {
      "cell_type": "code",
      "metadata": {
        "colab": {
          "base_uri": "https://localhost:8080/"
        },
        "id": "m-ZyxDWuNwuH",
        "outputId": "14110d30-2de0-4861-a34c-a07e405fe796"
      },
      "source": [
        "data_bible = read_data_and_return_tokens('kingjamesbible_tokenized.txt')"
      ],
      "execution_count": 12,
      "outputs": [
        {
          "output_type": "stream",
          "name": "stdout",
          "text": [
            "Processing the following file: kingjamesbible_tokenized.txt...\n",
            "Time elapsed: 6.2279890310001065\n"
          ]
        }
      ]
    },
    {
      "cell_type": "code",
      "metadata": {
        "colab": {
          "base_uri": "https://localhost:8080/",
          "height": 335
        },
        "id": "EESWcUP8CbmE",
        "outputId": "74a8717b-5a67-41cc-8be9-94c9c329daa1"
      },
      "source": [
        "frequency_data = discover_data_and_return_ordered_frequencies(data_bible)\n",
        "plot_frequencies(frequency_data)"
      ],
      "execution_count": 13,
      "outputs": [
        {
          "output_type": "stream",
          "name": "stdout",
          "text": [
            "First ten tokens:  ['In', 'the', 'beginning', 'God', 'created', 'the', 'heaven', 'and', 'the', 'earth']\n",
            "Top-10 tokens by frequency:  [('the', 62064), ('and', 38846), ('of', 34427), ('to', 13378), ('And', 12847), ('that', 12576), ('in', 12331), ('shall', 9760), ('he', 9666), ('unto', 8940)]\n"
          ]
        },
        {
          "output_type": "display_data",
          "data": {
            "image/png": "[encoded data removed]",
            "text/plain": [
              "<Figure size 432x288 with 1 Axes>"
            ]
          },
          "metadata": {
            "needs_background": "light"
          }
        }
      ]
    },
    {
      "cell_type": "code",
      "metadata": {
        "colab": {
          "base_uri": "https://localhost:8080/",
          "height": 285
        },
        "id": "S3phswwIKO07",
        "outputId": "48309955-1d95-40fb-842e-57d7b4e04d42"
      },
      "source": [
        "plot_frequencies(frequency_data, loglog=True)"
      ],
      "execution_count": 14,
      "outputs": [
        {
          "output_type": "display_data",
          "data": {
            "image/png": "[encoded data removed]",
            "text/plain": [
              "<Figure size 432x288 with 1 Axes>"
            ]
          },
          "metadata": {
            "needs_background": "light"
          }
        }
      ]
    },
    {
      "cell_type": "code",
      "metadata": {
        "colab": {
          "base_uri": "https://localhost:8080/"
        },
        "id": "mkz4nWsfN4C8",
        "outputId": "512e540b-a733-44d2-b661-5a73770ee0d5"
      },
      "source": [
        "data_tr = read_data_and_return_tokens('SETIMES.bg-tr.tr')"
      ],
      "execution_count": 15,
      "outputs": [
        {
          "output_type": "stream",
          "name": "stdout",
          "text": [
            "Processing the following file: SETIMES.bg-tr.tr...\n",
            "Time elapsed: 45.8270983400007\n"
          ]
        }
      ]
    },
    {
      "cell_type": "code",
      "metadata": {
        "colab": {
          "base_uri": "https://localhost:8080/",
          "height": 335
        },
        "id": "ZhElUa2tCb04",
        "outputId": "14e836d6-ab2e-4fcb-e88a-016637981efe"
      },
      "source": [
        "frequency_data = discover_data_and_return_ordered_frequencies(data_tr)\n",
        "plot_frequencies(frequency_data)"
      ],
      "execution_count": 16,
      "outputs": [
        {
          "output_type": "stream",
          "name": "stdout",
          "text": [
            "First ten tokens:  ['Hırvat', 'yerel', 'seçimleri', 'ikinci', 'tura', 'kaldı', 'Sonuçlar', 'başta', 'büyük', 'şehirler']\n",
            "Top-10 tokens by frequency:  [('ve', 99241), ('bir', 76150), ('için', 27414), ('bu', 21551), ('da', 20733), ('de', 20605), ('ile', 15097), ('günü', 14579), ('olarak', 14088), ('olan', 12688)]\n"
          ]
        },
        {
          "output_type": "display_data",
          "data": {
            "image/png": "[encoded data removed]",
            "text/plain": [
              "<Figure size 432x288 with 1 Axes>"
            ]
          },
          "metadata": {
            "needs_background": "light"
          }
        }
      ]
    },
    {
      "cell_type": "code",
      "metadata": {
        "colab": {
          "base_uri": "https://localhost:8080/",
          "height": 285
        },
        "id": "jarOBGMrKSlo",
        "outputId": "22fdc19c-c289-4163-daef-0497d22a979b"
      },
      "source": [
        "plot_frequencies(frequency_data, loglog=True)"
      ],
      "execution_count": 17,
      "outputs": [
        {
          "output_type": "display_data",
          "data": {
            "image/png": "[encoded data removed]",
            "text/plain": [
              "<Figure size 432x288 with 1 Axes>"
            ]
          },
          "metadata": {
            "needs_background": "light"
          }
        }
      ]
    },
    {
      "cell_type": "code",
      "metadata": {
        "colab": {
          "base_uri": "https://localhost:8080/"
        },
        "id": "3Ki0b_e2N98p",
        "outputId": "903a2b68-a6d5-4f1f-d0f6-381d5d831c38"
      },
      "source": [
        "data_bg = read_data_and_return_tokens('SETIMES.bg-tr.bg')"
      ],
      "execution_count": 18,
      "outputs": [
        {
          "output_type": "stream",
          "name": "stdout",
          "text": [
            "Processing the following file: SETIMES.bg-tr.bg...\n",
            "Time elapsed: 45.5429105610001\n"
          ]
        }
      ]
    },
    {
      "cell_type": "code",
      "metadata": {
        "colab": {
          "base_uri": "https://localhost:8080/",
          "height": 335
        },
        "id": "Z1CfuWOUCb3h",
        "outputId": "85b6c55b-e17b-4669-cdf6-688425693aec"
      },
      "source": [
        "frequency_data = discover_data_and_return_ordered_frequencies(data_bg)\n",
        "plot_frequencies(frequency_data)"
      ],
      "execution_count": 19,
      "outputs": [
        {
          "output_type": "stream",
          "name": "stdout",
          "text": [
            "First ten tokens:  ['Местните', 'избори', 'в', 'Хърватия', 'вървят', 'към', 'втори', 'тур', 'Резултатите', 'показаха']\n",
            "Top-10 tokens by frequency:  [('на', 271026), ('в', 130818), ('и', 123536), ('за', 108269), ('да', 91104), ('от', 86940), ('се', 60088), ('е', 52169), ('че', 47390), ('с', 39177)]\n"
          ]
        },
        {
          "output_type": "display_data",
          "data": {
            "image/png": "[encoded data removed]",
            "text/plain": [
              "<Figure size 432x288 with 1 Axes>"
            ]
          },
          "metadata": {
            "needs_background": "light"
          }
        }
      ]
    },
    {
      "cell_type": "code",
      "metadata": {
        "colab": {
          "base_uri": "https://localhost:8080/",
          "height": 285
        },
        "id": "vCbCTldhKWWb",
        "outputId": "bc558de5-c92f-4349-dd1e-2d5653aad24a"
      },
      "source": [
        "plot_frequencies(frequency_data, loglog=True)"
      ],
      "execution_count": 20,
      "outputs": [
        {
          "output_type": "display_data",
          "data": {
            "image/png": "[encoded data removed]",
            "text/plain": [
              "<Figure size 432x288 with 1 Axes>"
            ]
          },
          "metadata": {
            "needs_background": "light"
          }
        }
      ]
    },
    {
      "cell_type": "markdown",
      "metadata": {
        "id": "doxv2RkqOdtg"
      },
      "source": [
        "**Conclusion**\n",
        "\n",
        "\n",
        "Let's take a simple definition of Zipf's law from wikipedia.\n",
        "\n",
        "\n",
        "Zipf's law states that given a large sample of words used, the frequency of any word is inversely proportional to its rank in the frequency table. So word number n has a frequency proportional to 1/n.\n",
        "\n",
        "Then, we expect to see 1/x lines for usual order-to-frequency graphics. Also, according to the lecture, log(absolute frequency) falls linearly with log(rank)\n",
        "i.e., most words are really rare. We observe both phenomena empirically.\n",
        "\n",
        "Finally, we see that plots above prove the idea that even across languages Zipf's law works well, since all plots have almost the same line on them."
      ]
    },
    {
      "cell_type": "code",
      "metadata": {
        "id": "GApYekDnPToZ"
      },
      "source": [
        ""
      ],
      "execution_count": null,
      "outputs": []
    }
  ]
}