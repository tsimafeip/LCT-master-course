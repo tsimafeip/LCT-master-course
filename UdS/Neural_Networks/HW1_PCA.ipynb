{
  "nbformat": 4,
  "nbformat_minor": 0,
  "metadata": {
    "colab": {
      "name": "assignment1.ipynb",
      "provenance": [],
      "collapsed_sections": []
    },
    "kernelspec": {
      "display_name": "Python 3",
      "language": "python",
      "name": "python3"
    },
    "language_info": {
      "codemirror_mode": {
        "name": "ipython",
        "version": 3
      },
      "file_extension": ".py",
      "mimetype": "text/x-python",
      "name": "python",
      "nbconvert_exporter": "python",
      "pygments_lexer": "ipython3",
      "version": "3.8.8"
    }
  },
  "cells": [
    {
      "cell_type": "markdown",
      "metadata": {
        "id": "ZT_S_io_85jk"
      },
      "source": [
        "# NNIA Assignment 1\n",
        "\n",
        "**DEADLINE: 17. 11. 2021 08:00 CET**\n",
        "\n",
        "- Trevor Atkins & trat00001 (Teams username: trat00001@uni-saarland.de): \n",
        "- Tsimafei Prakapenka & tspr00001 (Teams username e.g. tspr00001@uni-saarland.de):\n",
        "- Hours of work per person: \n",
        "\n",
        "Trevor Atkins: ~ 1.5h\n",
        "\n",
        "Tsimafei Prakapenka: ~3h\n",
        "# Submission Instructions\n",
        "\n",
        "**IMPORTANT** Please make sure you read the following instructions carefully. If you are unclear about any part of the assignment, ask questions **before** the assignment deadline. All course-related questions can be addressed on the course **[Piazza Platform](https://piazza.com/class/kvc3vzhsvh55rt)**\n",
        "\n",
        "* Assignments are to be submitted in a **team of 2**.\n",
        "* Please include your **names**, **ID's**, **Teams usernames**, and **approximate total time spent per person** at the beginning of the Notebook in the space provided\n",
        "* Make sure you appropriately comment your code wherever required. \n",
        "* Your final submission should contain this completed Jupyter Notebook, including the bonus question (if you attempt it), and any necessary Python files.\n",
        "* Do **not** submit any data or cache files (e.g. `__pycache__`).\n",
        "* Upload the **zipped** folder (*.zip* is the only accepted extension) in **Teams**.\n",
        "* Only **one member** of the group should make the submisssion.\n",
        "* **Important** please name the submitted zip folder as: `Name1_id1_Name2_id2.zip`. The Jupyter Notebook should also be named: `Name1_id1_Name2_id2.ipynb`. This is **very important** for our internal organization epeatedly students fail to do this.\n",
        "\n",
        "<font color=\"red\">Failure to follow the above instructions will result in point penalties at the discretion of the instructors.</font>."
      ]
    },
    {
      "cell_type": "markdown",
      "metadata": {
        "id": "H9-_bjMYVpCX"
      },
      "source": [
        "# 1 PCA (6p)\n",
        "\n",
        "## 1.1 Reasoning about PCA (2p)\n",
        "\n",
        "Consider two datasets of children $D_1$ and $D_2$ which consist of vectors with the following features:\n",
        "\n",
        "- $D_1$: \n",
        "  - body weight\n",
        "  - age (years)\n",
        "  - age (months)\n",
        "\n",
        "- $D_2$\n",
        "  - body weight\n",
        "  - age (years)\n",
        "  - hours sleeping\n",
        "\n",
        "Assume real-life reasonable correlations between features. Answer the following questions and justify your answers mathematically:\n",
        "\n",
        "1. Would $D_1$ look the same if you projected it using PCA into a 3-dimensional space? (0.5p)\n",
        "2. What is a reconstruction error? (0.5p)\n",
        "3. What is the reconstruction error of $k$-dimensional dataset reduced to $k$ dimensions and then reconstructed? (0.5p)\n",
        "4. What would be the difference in reconstruction error of a projection into 2-dimensional space of $D_1$ and $D_2$ (separately)? (0.5p)"
      ]
    },
    {
      "cell_type": "markdown",
      "metadata": {
        "id": "pTcs54aydauk"
      },
      "source": [
        "## 1.1 <font color=\"green\">Solution</font> \n",
        "\n",
        "1. No, $D_1$ would not look the same if projected using PCA into a 3-dimensional space because the dataset consists of 3 vectors but 2 vectors will be on the same axis of age just on a different scale. Moreover, after standartization I assume that age in years in months will be equal points of data (in case if years are not rounded up or down and represented as floats).\n",
        "\n",
        "2. A reconstruction error is the distance between the original data point and the estimate of the projection onto a lower dimensional subspace.\n",
        "\n",
        "3. 0.\n",
        "\n",
        "4. I assume that reconstruction error after projection to 2-d space will be higher for $D_2$, since original data contains three radically different features. It is hard to reconstruct them fully using only 2 principal components. On the other hand, age in years in months contains exactly the same underlying information, then $D_1$ projection into 2-d space will contain all the key features from original data.\n"
      ]
    },
    {
      "cell_type": "code",
      "metadata": {
        "colab": {
          "base_uri": "https://localhost:8080/"
        },
        "cellView": "form",
        "id": "xX_yvrV0d-iy",
        "outputId": "fbddf7ac-bc10-4198-8379-4e44aea6fa79"
      },
      "source": [
        "#@title Here is a small demo for 1.1.1.\n",
        "import numpy as np\n",
        "\n",
        "x_years = np.array([22.5, 14.25, 16, 15, 18.75, 19], 'float')\n",
        "y_months = np.array([x * 12 for x in x_years], 'float')\n",
        "\n",
        "\n",
        "def standartize(x):\n",
        "    numerator = x - x.mean()\n",
        "    denominator = np.std(x)\n",
        "\n",
        "    return numerator / denominator\n",
        "\n",
        "\n",
        "print(standartize(x_years))\n",
        "print(standartize(y_months))"
      ],
      "execution_count": 1,
      "outputs": [
        {
          "output_type": "stream",
          "name": "stdout",
          "text": [
            "[ 1.74132994 -1.18056267 -0.56076727 -0.91493607  0.41319694  0.50173914]\n",
            "[ 1.74132994 -1.18056267 -0.56076727 -0.91493607  0.41319694  0.50173914]\n"
          ]
        }
      ]
    },
    {
      "cell_type": "markdown",
      "metadata": {
        "id": "5MVVGTFi2t_j"
      },
      "source": [
        "## 1.2 Coding PCA (4p)\n",
        "\n",
        "1. Read in detail the following [blog post](https://builtin.com/data-science/step-step-explanation-principal-component-analysis) and write in pseudo-code how PCA works (5-20 lines, you can use _find largest principal component_ as an elementary operation). For your answer use ` ``` ` (backticks) to format your pseudo-code. (Note that many resources for PCA use the terms \"normalization\" to mean \"standardization\", not scaling to a unit norm.) (1p)\n",
        "2. The file `birds.csv` contains a dataset of birds with two features: wing span and body mass. This is a very simplified dataset of 20 samples taken from the [Birds of Minesota Dataset](https://github.com/microsoft/Data-Science-For-Beginners/blob/main/data/birds.csv) (2p).\n",
        " - Load the data into your script\n",
        " - Run PCA into 1 dimension\n",
        " - Reconstruct the original data\n",
        " - Compute reconstruction error\n",
        "3. Plot the following (2p): \n",
        " - Original data\n",
        " - Pre-processed data\n",
        " - Data projected into 1D using PCA\n",
        " - Reconstructed data\n",
        " - Reconstructed data + post-processing (mean, sd)\n",
        "\n",
        "\n"
      ]
    },
    {
      "cell_type": "markdown",
      "metadata": {
        "id": "7uxJtdKGmbfj"
      },
      "source": [
        "## 1.2 <font color=\"green\">Solution</font>\n",
        "\n",
        "### 1.2.1\n",
        "``` \n",
        "function standartize(vector, data)\n",
        "    return (vector - data.mean()) / data.std()\n",
        "\n",
        "function PCA(data, k)\n",
        "\n",
        "    Initialize StandartizedData variable by standartizing (code above) each vector from input data\n",
        "    create covariance matrix A from StandartizedData\n",
        "    find eigenvectors and eigenvalues for matrix A\n",
        "\n",
        "    create FeatureVector by sorting eigenvectors with correspoding eigenvalues as a key \n",
        "    reinitialize FeatureVector by selecting first k columns from it (if k < n)\n",
        "\n",
        "    create ReconstructedDataset by multiplying transposed FeatureVector and transposed StandartizedData\n",
        "\n",
        "    return ReconstructedDataset\n",
        "```"
      ]
    },
    {
      "cell_type": "markdown",
      "metadata": {
        "id": "gxc9nwBVpLrv"
      },
      "source": [
        "###1.2.2 PCA to 1 dimension of the `birds.csv` data###\n",
        "\n"
      ]
    },
    {
      "cell_type": "code",
      "metadata": {
        "id": "N1Lc20ghmcZD"
      },
      "source": [
        "import os\n",
        "import csv\n",
        "import numpy as np\n",
        "import pandas as pd\n",
        "from matplotlib import pyplot as plt\n",
        "from sklearn.decomposition import PCA\n",
        "from sklearn.preprocessing import StandardScaler\n",
        "from sklearn.metrics import r2_score, mean_squared_error\n",
        "from sklearn.datasets import fetch_california_housing\n",
        "from math import sqrt\n",
        "from typing import Tuple"
      ],
      "execution_count": 2,
      "outputs": []
    },
    {
      "cell_type": "code",
      "metadata": {
        "id": "YgEl22JamDPP"
      },
      "source": [
        "%%capture\n",
        "# Load the data into your script\n",
        "if not os.path.isfile('birds.csv'):\n",
        "    ! wget https://raw.githubusercontent.com/tsimafeip/LCT-master-course/main/UdS/Neural_Networks/birds.csv"
      ],
      "execution_count": 3,
      "outputs": []
    },
    {
      "cell_type": "code",
      "metadata": {
        "colab": {
          "base_uri": "https://localhost:8080/"
        },
        "id": "E8k7MnvjnweL",
        "outputId": "038410fe-8e82-45f9-d20e-4f84e2d04f9e"
      },
      "source": [
        "with open('birds.csv', 'r') as file:\n",
        "    csv_content = csv.reader(file)\n",
        "    headers = next(csv_content)\n",
        "    data = [[float(body_mass), float(wingspan)] for body_mass, wingspan in csv_content]\n",
        "    data_df = pd.DataFrame(data, columns=headers)\n",
        "    print(data_df.head())"
      ],
      "execution_count": 4,
      "outputs": [
        {
          "output_type": "stream",
          "name": "stdout",
          "text": [
            "   BodyMass  Wingspan\n",
            "0    1020.0      94.0\n",
            "1    1050.0      93.0\n",
            "2    4050.0     165.0\n",
            "3    1567.0     116.0\n",
            "4    3310.0     165.0\n"
          ]
        }
      ]
    },
    {
      "cell_type": "code",
      "metadata": {
        "id": "uR0V_zTg4Y24"
      },
      "source": [
        "def reconstruct_with_PCA(data: pd.DataFrame, number_of_components: int) -> Tuple[pd.DataFrame, float]:\n",
        "    \"\"\"Reconstruct data using PCA and returns new data and the value of reconstruction error.\"\"\"\n",
        "    standartized_data = StandardScaler().fit_transform(data.values)\n",
        "\n",
        "    pca = PCA(n_components=number_of_components)\n",
        "    pca.fit(standartized_data)\n",
        "\n",
        "    #print(pca.get_covariance())\n",
        "    #print(pca.components_)\n",
        "    # print(pca.singular_values_)\n",
        "\n",
        "    # Reconstruct the original data with native function or using pca.components_ @ np.transpose(standartized_data)\n",
        "    data_from_pca = pca.transform(standartized_data)\n",
        "\n",
        "    reconstructed_data = pca.inverse_transform(data_from_pca)\n",
        "    loss = np.sum((standartized_data - reconstructed_data) ** 2, axis=1).mean()\n",
        "    return standartized_data, data_from_pca, reconstructed_data, loss, pca.explained_variance_ratio_"
      ],
      "execution_count": 5,
      "outputs": []
    },
    {
      "cell_type": "code",
      "metadata": {
        "colab": {
          "base_uri": "https://localhost:8080/"
        },
        "id": "L4wcPD_q6ZHz",
        "outputId": "f0afaa3a-2e12-4bb5-980d-7f570714221a"
      },
      "source": [
        "standartized_data, data_from_pca, reconstructed_data, loss, explained_variance_ratio = reconstruct_with_PCA(data_df, 1)\n",
        "print(\"Reconstruction error: \",  loss)\n",
        "print(\"Explained variance ratio: \", explained_variance_ratio[0])"
      ],
      "execution_count": 6,
      "outputs": [
        {
          "output_type": "stream",
          "name": "stdout",
          "text": [
            "Reconstruction error:  0.05033948632825883\n",
            "Explained variance ratio:  0.9748302568358705\n"
          ]
        }
      ]
    },
    {
      "cell_type": "markdown",
      "metadata": {
        "id": "BVXyojjHp8M0"
      },
      "source": [
        "### 1.2.3 Plotting"
      ]
    },
    {
      "cell_type": "code",
      "metadata": {
        "id": "5jDXNs4uHs-w"
      },
      "source": [
        "def scatter_plot2d(data_2d, headers):\n",
        "  x = [row[0] for row in data_2d]\n",
        "  y = [row[1] for row in data_2d]\n",
        "  plt.scatter(x, y)\n",
        "  plt.xlabel(headers[0])\n",
        "  plt.ylabel(headers[1])\n",
        "  plt.show()"
      ],
      "execution_count": 7,
      "outputs": []
    },
    {
      "cell_type": "code",
      "metadata": {
        "colab": {
          "base_uri": "https://localhost:8080/",
          "height": 299
        },
        "id": "pxaXJMVHI_d-",
        "outputId": "3ef9c81d-7ab8-4588-f82e-5d41c8836c03"
      },
      "source": [
        "# Original data\n",
        "scatter_plot2d(data, data_df.columns)"
      ],
      "execution_count": 8,
      "outputs": [
        {
          "output_type": "display_data",
          "data": {
            "image/png": "[encoded data removed]",
            "text/plain": [
              "<Figure size 432x288 with 1 Axes>"
            ]
          },
          "metadata": {
            "needs_background": "light"
          }
        }
      ]
    },
    {
      "cell_type": "code",
      "metadata": {
        "id": "Ex0A0fAUIFvn",
        "colab": {
          "base_uri": "https://localhost:8080/",
          "height": 299
        },
        "outputId": "08552f45-50fe-46bf-9cf2-7f2a3eae1fc5"
      },
      "source": [
        "#Pre-processed data\n",
        "scatter_plot2d(standartized_data, data_df.columns)"
      ],
      "execution_count": 9,
      "outputs": [
        {
          "output_type": "display_data",
          "data": {
            "image/png": "[encoded data removed]",
            "text/plain": [
              "<Figure size 432x288 with 1 Axes>"
            ]
          },
          "metadata": {
            "needs_background": "light"
          }
        }
      ]
    },
    {
      "cell_type": "code",
      "metadata": {
        "colab": {
          "base_uri": "https://localhost:8080/"
        },
        "id": "MYdww0UpLaes",
        "outputId": "d52d776d-f466-4061-c9c8-6d8ec1b07a7f"
      },
      "source": [
        "data_from_pca.T[0]"
      ],
      "execution_count": 10,
      "outputs": [
        {
          "output_type": "execute_result",
          "data": {
            "text/plain": [
              "array([-0.2729737 , -0.27420497,  3.68609446,  0.65974973,  3.13085812,\n",
              "        1.25340615,  1.15105513, -0.89008204, -1.331693  , -1.61535195,\n",
              "       -1.64032407, -1.01544317, -0.39044669, -0.56557869, -0.58641428,\n",
              "        0.24216856,  0.21596516, -0.26859091,  0.00587574, -1.49406958])"
            ]
          },
          "metadata": {},
          "execution_count": 10
        }
      ]
    },
    {
      "cell_type": "code",
      "metadata": {
        "id": "UCKaMzzdIMW2",
        "colab": {
          "base_uri": "https://localhost:8080/",
          "height": 303
        },
        "outputId": "ed3966ae-a2b1-4900-93b7-5e8905a28734"
      },
      "source": [
        "#Data projected into 1D using PCA\n",
        "plt.scatter(data_from_pca.T[0], [0]*len(data_from_pca.T[0]))"
      ],
      "execution_count": 11,
      "outputs": [
        {
          "output_type": "execute_result",
          "data": {
            "text/plain": [
              "<matplotlib.collections.PathCollection at 0x7f8103ac7210>"
            ]
          },
          "metadata": {},
          "execution_count": 11
        },
        {
          "output_type": "display_data",
          "data": {
            "image/png": "[encoded data removed]",
            "text/plain": [
              "<Figure size 432x288 with 1 Axes>"
            ]
          },
          "metadata": {
            "needs_background": "light"
          }
        }
      ]
    },
    {
      "cell_type": "code",
      "metadata": {
        "colab": {
          "base_uri": "https://localhost:8080/",
          "height": 299
        },
        "id": "ymDZvKVIJHhe",
        "outputId": "0a6dbd09-01d8-4e7f-eb18-bcfcfd94b64a"
      },
      "source": [
        "#Reconstructed data\n",
        "scatter_plot2d(reconstructed_data, data_df.columns)"
      ],
      "execution_count": 12,
      "outputs": [
        {
          "output_type": "display_data",
          "data": {
            "image/png": "[encoded data removed]",
            "text/plain": [
              "<Figure size 432x288 with 1 Axes>"
            ]
          },
          "metadata": {
            "needs_background": "light"
          }
        }
      ]
    },
    {
      "cell_type": "code",
      "metadata": {
        "colab": {
          "base_uri": "https://localhost:8080/",
          "height": 299
        },
        "id": "xVhDRNqKJZzR",
        "outputId": "831a8910-59ec-4f6b-bc4a-4a66d3ef19bc"
      },
      "source": [
        "#Reconstructed data + post-processing (mean, sd)\n",
        "posprocessed_data = reconstructed_data * np.std(data, axis=0) + np.mean(data, axis=0)\n",
        "scatter_plot2d(posprocessed_data, data_df.columns)"
      ],
      "execution_count": 13,
      "outputs": [
        {
          "output_type": "display_data",
          "data": {
            "image/png": "[encoded data removed]",
            "text/plain": [
              "<Figure size 432x288 with 1 Axes>"
            ]
          },
          "metadata": {
            "needs_background": "light"
          }
        }
      ]
    },
    {
      "cell_type": "markdown",
      "metadata": {
        "id": "Wlwban3iHIum"
      },
      "source": [
        "# 2 SVD and PCA (2 points)\n",
        "\n",
        "## 2.1 PCA in relation to SVD (1 point)\n",
        "Can Singular Value Decomposition (SVD) be used for dimensionality reduction as well? Why, why not?\n",
        "\n",
        "\n",
        "## 2.2 Other Applications (1 point)\n",
        "Describe (shortly, without mathematical details) at least two other machine learning methods\n",
        "that use eigendecomposition or single value decomposition. Provide the source where you found the information. \n",
        "\n",
        "\n",
        "\n",
        "\n"
      ]
    },
    {
      "cell_type": "markdown",
      "metadata": {
        "id": "9lI7TbM9TLRZ"
      },
      "source": [
        "## 2 <font color=\"green\">Solution</font>\n",
        "\n",
        "2.1) Singular Value Decomposition (SVD) can be used for dimensionality reduction as well. With a given decomposition of a $m \\times n$ matrix $M$ into $U$, $S$, and $V$, an approximation of the original matrix $M$ can be reconstructed. The values in the diagonal matrix $S$ can be used to find variance of each singular vector.\n",
        "\n",
        "2.2) Fisher discriminant analysis also uses eigendecomposition to find a separating hyperplane for data classification. <br>\n",
        "Source: https://www.pnas.org/content/106/2/369\n",
        "\n",
        "Latent semantic analysis uses SVD for more efficiency with search and storage. <br>\n",
        "Source: https://ieeexplore.ieee.org/abstract/document/7960038\n",
        " "
      ]
    },
    {
      "cell_type": "markdown",
      "metadata": {
        "id": "JogomKwwRB27"
      },
      "source": [
        "# 3 Component Selection (2 points)\n",
        "Load the built-in `California Housing Dataset` from `sklearn` and compute PCA of 1 to 14 dimensions (principal components). Plot a graph _reconstruction error_ $\\times$ _number of principal components_. How many principal components (dimensions) would you use for your compression?\n",
        "\n",
        "For more information on the dataset, please refer to the [sklearn documentation](https://scikit-learn.org/stable/modules/generated/sklearn.datasets.fetch_california_housing.html#sklearn.datasets.fetch_california_housing)"
      ]
    },
    {
      "cell_type": "markdown",
      "metadata": {
        "id": "13EgQJtJdu7w"
      },
      "source": [
        "## 3 <font color=\"green\">Solution</font>\n"
      ]
    },
    {
      "cell_type": "code",
      "metadata": {
        "id": "hRCRb0iadH1g",
        "colab": {
          "base_uri": "https://localhost:8080/"
        },
        "outputId": "b1d1a2cd-3974-40e0-b110-f9b93589f0bd"
      },
      "source": [
        "california_housing_full = fetch_california_housing(as_frame=True)\n",
        "print(california_housing_full.keys())"
      ],
      "execution_count": 14,
      "outputs": [
        {
          "output_type": "stream",
          "name": "stdout",
          "text": [
            "dict_keys(['data', 'target', 'frame', 'target_names', 'feature_names', 'DESCR'])\n"
          ]
        }
      ]
    },
    {
      "cell_type": "code",
      "metadata": {
        "colab": {
          "base_uri": "https://localhost:8080/",
          "height": 228
        },
        "id": "xXTUjL8c6rQL",
        "outputId": "9e6462d1-22b4-4a87-82b0-daeeafa80146"
      },
      "source": [
        "house_df = california_housing_full.frame\n",
        "house_df.head()"
      ],
      "execution_count": 15,
      "outputs": [
        {
          "output_type": "execute_result",
          "data": {
            "text/html": [
              "<div>\n",
              "<style scoped>\n",
              "    .dataframe tbody tr th:only-of-type {\n",
              "        vertical-align: middle;\n",
              "    }\n",
              "\n",
              "    .dataframe tbody tr th {\n",
              "        vertical-align: top;\n",
              "    }\n",
              "\n",
              "    .dataframe thead th {\n",
              "        text-align: right;\n",
              "    }\n",
              "</style>\n",
              "<table border=\"1\" class=\"dataframe\">\n",
              "  <thead>\n",
              "    <tr style=\"text-align: right;\">\n",
              "      <th></th>\n",
              "      <th>MedInc</th>\n",
              "      <th>HouseAge</th>\n",
              "      <th>AveRooms</th>\n",
              "      <th>AveBedrms</th>\n",
              "      <th>Population</th>\n",
              "      <th>AveOccup</th>\n",
              "      <th>Latitude</th>\n",
              "      <th>Longitude</th>\n",
              "      <th>MedHouseVal</th>\n",
              "    </tr>\n",
              "  </thead>\n",
              "  <tbody>\n",
              "    <tr>\n",
              "      <th>0</th>\n",
              "      <td>8.3252</td>\n",
              "      <td>41.0</td>\n",
              "      <td>6.984127</td>\n",
              "      <td>1.023810</td>\n",
              "      <td>322.0</td>\n",
              "      <td>2.555556</td>\n",
              "      <td>37.88</td>\n",
              "      <td>-122.23</td>\n",
              "      <td>4.526</td>\n",
              "    </tr>\n",
              "    <tr>\n",
              "      <th>1</th>\n",
              "      <td>8.3014</td>\n",
              "      <td>21.0</td>\n",
              "      <td>6.238137</td>\n",
              "      <td>0.971880</td>\n",
              "      <td>2401.0</td>\n",
              "      <td>2.109842</td>\n",
              "      <td>37.86</td>\n",
              "      <td>-122.22</td>\n",
              "      <td>3.585</td>\n",
              "    </tr>\n",
              "    <tr>\n",
              "      <th>2</th>\n",
              "      <td>7.2574</td>\n",
              "      <td>52.0</td>\n",
              "      <td>8.288136</td>\n",
              "      <td>1.073446</td>\n",
              "      <td>496.0</td>\n",
              "      <td>2.802260</td>\n",
              "      <td>37.85</td>\n",
              "      <td>-122.24</td>\n",
              "      <td>3.521</td>\n",
              "    </tr>\n",
              "    <tr>\n",
              "      <th>3</th>\n",
              "      <td>5.6431</td>\n",
              "      <td>52.0</td>\n",
              "      <td>5.817352</td>\n",
              "      <td>1.073059</td>\n",
              "      <td>558.0</td>\n",
              "      <td>2.547945</td>\n",
              "      <td>37.85</td>\n",
              "      <td>-122.25</td>\n",
              "      <td>3.413</td>\n",
              "    </tr>\n",
              "    <tr>\n",
              "      <th>4</th>\n",
              "      <td>3.8462</td>\n",
              "      <td>52.0</td>\n",
              "      <td>6.281853</td>\n",
              "      <td>1.081081</td>\n",
              "      <td>565.0</td>\n",
              "      <td>2.181467</td>\n",
              "      <td>37.85</td>\n",
              "      <td>-122.25</td>\n",
              "      <td>3.422</td>\n",
              "    </tr>\n",
              "  </tbody>\n",
              "</table>\n",
              "</div>"
            ],
            "text/plain": [
              "   MedInc  HouseAge  AveRooms  ...  Latitude  Longitude  MedHouseVal\n",
              "0  8.3252      41.0  6.984127  ...     37.88    -122.23        4.526\n",
              "1  8.3014      21.0  6.238137  ...     37.86    -122.22        3.585\n",
              "2  7.2574      52.0  8.288136  ...     37.85    -122.24        3.521\n",
              "3  5.6431      52.0  5.817352  ...     37.85    -122.25        3.413\n",
              "4  3.8462      52.0  6.281853  ...     37.85    -122.25        3.422\n",
              "\n",
              "[5 rows x 9 columns]"
            ]
          },
          "metadata": {},
          "execution_count": 15
        }
      ]
    },
    {
      "cell_type": "code",
      "metadata": {
        "id": "9HW4RbDV6vF2"
      },
      "source": [
        "losses = []\n",
        "variances = []\n",
        "max_number_of_components = min(len(house_df.columns), 14)\n",
        "\n",
        "for number_of_components in range(max_number_of_components):\n",
        "    _, _, _, loss, explained_variance = reconstruct_with_PCA(house_df, number_of_components+1)\n",
        "    losses.append(loss)\n",
        "    variances.append(sum(explained_variance))"
      ],
      "execution_count": 16,
      "outputs": []
    },
    {
      "cell_type": "code",
      "metadata": {
        "colab": {
          "base_uri": "https://localhost:8080/"
        },
        "id": "vO320lc-8EhO",
        "outputId": "a615b081-a643-432a-feb6-efc7c5698ca6"
      },
      "source": [
        "print(losses)\n",
        "print(variances)"
      ],
      "execution_count": 17,
      "outputs": [
        {
          "output_type": "stream",
          "name": "stdout",
          "text": [
            "[6.963332766382995, 4.988065167308273, 3.3760681841071443, 2.1062232964088254, 1.1031669715639005, 0.41099991750021947, 0.10750225750178062, 0.04379799988232926, 4.503965399693554e-30]\n",
            "[0.22629635929077824, 0.4457705369657473, 0.6248813128769833, 0.7659751892879078, 0.8774258920484547, 0.9543333424999748, 0.9880553047220235, 0.9951335555686299, 0.9999999999999999]\n"
          ]
        }
      ]
    },
    {
      "cell_type": "code",
      "metadata": {
        "colab": {
          "base_uri": "https://localhost:8080/",
          "height": 316
        },
        "id": "WZ2zWPJp75bE",
        "outputId": "18bf4b06-3bb5-4d1e-87a1-86424644b5ba"
      },
      "source": [
        "plt.xlabel('Number of components')\n",
        "plt.ylabel('Reconstruction error')\n",
        "plt.plot(range(1, max_number_of_components+1), losses)"
      ],
      "execution_count": 18,
      "outputs": [
        {
          "output_type": "execute_result",
          "data": {
            "text/plain": [
              "[<matplotlib.lines.Line2D at 0x7f810694df50>]"
            ]
          },
          "metadata": {},
          "execution_count": 18
        },
        {
          "output_type": "display_data",
          "data": {
            "image/png": "[encoded data removed]",
            "text/plain": [
              "<Figure size 432x288 with 1 Axes>"
            ]
          },
          "metadata": {
            "needs_background": "light"
          }
        }
      ]
    },
    {
      "cell_type": "code",
      "metadata": {
        "colab": {
          "base_uri": "https://localhost:8080/",
          "height": 316
        },
        "id": "VoCwS3YxQ-pC",
        "outputId": "80e655c0-335b-47fb-b691-262a7fe3c32c"
      },
      "source": [
        "plt.xlabel('Number of components')\n",
        "plt.ylabel('Explained variance')\n",
        "plt.plot(range(1, max_number_of_components+1), variances)"
      ],
      "execution_count": 19,
      "outputs": [
        {
          "output_type": "execute_result",
          "data": {
            "text/plain": [
              "[<matplotlib.lines.Line2D at 0x7f80fb843ad0>]"
            ]
          },
          "metadata": {},
          "execution_count": 19
        },
        {
          "output_type": "display_data",
          "data": {
            "image/png": "[encoded data removed]",
            "text/plain": [
              "<Figure size 432x288 with 1 Axes>"
            ]
          },
          "metadata": {
            "needs_background": "light"
          }
        }
      ]
    },
    {
      "cell_type": "markdown",
      "metadata": {
        "id": "geiq2DngRFlR"
      },
      "source": [
        "I would use 5 or 6 components depending on the task and goal, since 87%/95% of explained variance is a good value."
      ]
    },
    {
      "cell_type": "markdown",
      "metadata": {
        "id": "C5Pu7huYRyoW"
      },
      "source": [
        "# Bonus: PCA from scratch (2 points)\n",
        "\n",
        "If you used sklearn's implementation to complete the previous exercises, try following the pseudocode you've written and implement PCA without using an existing library implementation. You may use built-in/library functions for matrix operations."
      ]
    },
    {
      "cell_type": "code",
      "metadata": {
        "id": "p6ScYuyh82Bn"
      },
      "source": [
        "def standartize(data):\n",
        "    return (data - np.mean(data, axis=0)) / np.std(data, axis=0)\n",
        "\n",
        "\n",
        "def my_pca(data, number_of_components):\n",
        "    standartized_data = standartize(data.values)\n",
        "    cov_matrix = np.cov(standartized_data.T)\n",
        "    eigenvalues, eigenvectors = np.linalg.eig(cov_matrix)\n",
        "    #print(eigenvalues, eigenvectors)\n",
        "\n",
        "    pairs = []\n",
        "    for value, vector in zip(eigenvalues, eigenvectors):\n",
        "        pairs.append((value, vector))\n",
        "\n",
        "    print(pairs)\n",
        "\n",
        "    pairs.sort(key=lambda x: x[0], reverse=True)\n",
        "    feature_vector = np.transpose([pairs[i][1] for i in range(number_of_components)])\n",
        "    print(feature_vector)\n",
        "\n",
        "    data_from_pca = standartized_data @ feature_vector\n",
        "    reconstructed_data = data_from_pca @ feature_vector.T\n",
        "\n",
        "    return standartized_data, np.array(data_from_pca), np.array(reconstructed_data)"
      ],
      "execution_count": 20,
      "outputs": []
    },
    {
      "cell_type": "code",
      "metadata": {
        "colab": {
          "base_uri": "https://localhost:8080/"
        },
        "id": "DesG2jl-Reca",
        "outputId": "124ac997-2106-4a24-c627-b6cd185f239f"
      },
      "source": [
        "my_standartized, my_data_from_pca, my_reconstructed_data = my_pca(data_df, 1)"
      ],
      "execution_count": 21,
      "outputs": [
        {
          "output_type": "stream",
          "name": "stdout",
          "text": [
            "[(0.05298893297711438, array([-0.70710678, -0.70710678])), (2.052274224917621, array([ 0.70710678, -0.70710678]))]\n",
            "[[ 0.70710678]\n",
            " [-0.70710678]]\n"
          ]
        }
      ]
    },
    {
      "cell_type": "code",
      "metadata": {
        "colab": {
          "base_uri": "https://localhost:8080/"
        },
        "id": "BLqINAhnWrmR",
        "outputId": "5becc189-2964-42e9-887a-ad1846c70319"
      },
      "source": [
        "print(standartized_data[:5], my_standartized[:5])"
      ],
      "execution_count": 22,
      "outputs": [
        {
          "output_type": "stream",
          "name": "stdout",
          "text": [
            "[[-0.39913722  0.01309411]\n",
            " [-0.36730386 -0.02048053]\n",
            " [ 2.81603166  2.39689312]\n",
            " [ 0.18129096  0.75173606]\n",
            " [ 2.0308089   2.39689312]] [[-0.39913722  0.01309411]\n",
            " [-0.36730386 -0.02048053]\n",
            " [ 2.81603166  2.39689312]\n",
            " [ 0.18129096  0.75173606]\n",
            " [ 2.0308089   2.39689312]]\n"
          ]
        }
      ]
    }
  ]
}