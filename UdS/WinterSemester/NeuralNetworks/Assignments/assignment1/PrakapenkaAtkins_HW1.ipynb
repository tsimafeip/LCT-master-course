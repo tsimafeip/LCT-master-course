{
  "nbformat": 4,
  "nbformat_minor": 0,
  "metadata": {
    "colab": {
      "name": "assignment1.ipynb",
      "provenance": [],
      "collapsed_sections": []
    },
    "kernelspec": {
      "display_name": "Python 3",
      "language": "python",
      "name": "python3"
    },
    "language_info": {
      "codemirror_mode": {
        "name": "ipython",
        "version": 3
      },
      "file_extension": ".py",
      "mimetype": "text/x-python",
      "name": "python",
      "nbconvert_exporter": "python",
      "pygments_lexer": "ipython3",
      "version": "3.8.8"
    }
  },
  "cells": [
    {
      "cell_type": "markdown",
      "metadata": {
        "id": "ZT_S_io_85jk"
      },
      "source": [
        "# NNIA Assignment 1\n",
        "\n",
        "**DEADLINE: 17. 11. 2021 08:00 CET**\n",
        "\n",
        "- Trevor Atkins & trat00001 (Teams username: trat00001@uni-saarland.de): \n",
        "- Tsimafei Prakapenka & tspr00001 (Teams username e.g. tspr00001@uni-saarland.de):\n",
        "- Hours of work per person: \n",
        "\n",
        "# Submission Instructions\n",
        "\n",
        "**IMPORTANT** Please make sure you read the following instructions carefully. If you are unclear about any part of the assignment, ask questions **before** the assignment deadline. All course-related questions can be addressed on the course **[Piazza Platform](https://piazza.com/class/kvc3vzhsvh55rt)**\n",
        "\n",
        "* Assignments are to be submitted in a **team of 2**.\n",
        "* Please include your **names**, **ID's**, **Teams usernames**, and **approximate total time spent per person** at the beginning of the Notebook in the space provided\n",
        "* Make sure you appropriately comment your code wherever required. \n",
        "* Your final submission should contain this completed Jupyter Notebook, including the bonus question (if you attempt it), and any necessary Python files.\n",
        "* Do **not** submit any data or cache files (e.g. `__pycache__`).\n",
        "* Upload the **zipped** folder (*.zip* is the only accepted extension) in **Teams**.\n",
        "* Only **one member** of the group should make the submisssion.\n",
        "* **Important** please name the submitted zip folder as: `Name1_id1_Name2_id2.zip`. The Jupyter Notebook should also be named: `Name1_id1_Name2_id2.ipynb`. This is **very important** for our internal organization epeatedly students fail to do this.\n",
        "\n",
        "<font color=\"red\">Failure to follow the above instructions will result in point penalties at the discretion of the instructors.</font>."
      ]
    },
    {
      "cell_type": "markdown",
      "metadata": {
        "id": "H9-_bjMYVpCX"
      },
      "source": [
        "# 1 PCA (6p)\n",
        "\n",
        "## 1.1 Reasoning about PCA (2p)\n",
        "\n",
        "Consider two datasets of children $D_1$ and $D_2$ which consist of vectors with the following features:\n",
        "\n",
        "- $D_1$: \n",
        "  - body weight\n",
        "  - age (years)\n",
        "  - age (months)\n",
        "\n",
        "- $D_2$\n",
        "  - body weight\n",
        "  - age (years)\n",
        "  - hours sleeping\n",
        "\n",
        "Assume real-life reasonable correlations between features. Answer the following questions and justify your answers mathematically:\n",
        "\n",
        "1. Would $D_1$ look the same if you projected it using PCA into a 3-dimensional space? (0.5p)\n",
        "2. What is a reconstruction error? (0.5p)\n",
        "3. What is the reconstruction error of $k$-dimensional dataset reduced to $k$ dimensions and then reconstructed? (0.5p)\n",
        "4. What would be the difference in reconstruction error of a projection into 2-dimensional space of $D_1$ and $D_2$ (separately)? (0.5p)"
      ]
    },
    {
      "cell_type": "markdown",
      "metadata": {
        "id": "pTcs54aydauk"
      },
      "source": [
        "## 1.1 <font color=\"green\">Solution</font> \n",
        "\n",
        "1. No, $D_1$ would not look the same if projected using PCA into a 3-dimensional space because the dataset consists of 3 vectors but 2 vectors will be on the same axis of age just on a different scale. Moreover, after standartization I assume that age in years in months will be equal points of data (in case if years are not rounded up or down and represented as floats).\n",
        "\n",
        "2. A reconstruction error is the distance between the original data point and the estimate of the projection onto a lower dimensional subspace.\n",
        "\n",
        "3. It is a sum of squared individual reconstruction errors:\n",
        "$ \\sum_{i=1}^{k}={||x^n - {\\hat{x}^n}||}^2$\n",
        "\n",
        "4. I assume that reconstruction error after projection to 2-d space will be higher for $D_2$, since original data contains three radically different features. It is hard to reconstruct them fully using only 2 principal components. On the other hand, age in years in months contains exactly the same underlying information, then $D_1$ projection into 2-d space will contain all the key features from original data.\n"
      ]
    },
    {
      "cell_type": "code",
      "metadata": {
        "colab": {
          "base_uri": "https://localhost:8080/"
        },
        "cellView": "form",
        "id": "xX_yvrV0d-iy",
        "outputId": "dc4196c5-fc02-488b-9ee9-c2236aa9e78e"
      },
      "source": [
        "#@title Here is a small demo for 1.1.1.\n",
        "import numpy as np\n",
        "\n",
        "x_years = np.array([22.5, 14.25, 16, 15, 18.75, 19], 'float')\n",
        "y_months = np.array([x * 12 for x in x_years], 'float')\n",
        "\n",
        "\n",
        "def standartize(x):\n",
        "    numerator = x - x.mean()\n",
        "    denominator = np.std(x)\n",
        "\n",
        "    return numerator / denominator\n",
        "\n",
        "\n",
        "print(standartize(x_years))\n",
        "print(standartize(y_months))"
      ],
      "execution_count": null,
      "outputs": [
        {
          "output_type": "stream",
          "name": "stdout",
          "text": [
            "[ 1.74132994 -1.18056267 -0.56076727 -0.91493607  0.41319694  0.50173914]\n",
            "[ 1.74132994 -1.18056267 -0.56076727 -0.91493607  0.41319694  0.50173914]\n"
          ]
        }
      ]
    },
    {
      "cell_type": "markdown",
      "metadata": {
        "id": "5MVVGTFi2t_j"
      },
      "source": [
        "## 1.2 Coding PCA (4p)\n",
        "\n",
        "1. Read in detail the following [blog post](https://builtin.com/data-science/step-step-explanation-principal-component-analysis) and write in pseudo-code how PCA works (5-20 lines, you can use _find largest principal component_ as an elementary operation). For your answer use ` ``` ` (backticks) to format your pseudo-code. (Note that many resources for PCA use the terms \"normalization\" to mean \"standardization\", not scaling to a unit norm.) (1p)\n",
        "2. The file `birds.csv` contains a dataset of birds with two features: wing span and body mass. This is a very simplified dataset of 20 samples taken from the [Birds of Minesota Dataset](https://github.com/microsoft/Data-Science-For-Beginners/blob/main/data/birds.csv) (2p).\n",
        " - Load the data into your script\n",
        " - Run PCA into 1 dimension\n",
        " - Reconstruct the original data\n",
        " - Compute reconstruction error\n",
        "3. Plot the following (2p): \n",
        " - Original data\n",
        " - Pre-processed data\n",
        " - Data projected into 1D using PCA\n",
        " - Reconstructed data\n",
        " - Reconstructed data + post-processing (mean, sd)\n",
        "\n",
        "\n"
      ]
    },
    {
      "cell_type": "markdown",
      "metadata": {
        "id": "7uxJtdKGmbfj"
      },
      "source": [
        "## 1.2 <font color=\"red\">To Do</font>\n",
        "\n",
        "### 1.2.1\n",
        "``` \n",
        "function standartize(vector)\n",
        "    return (vector - vector.mean()) / std(vector)\n",
        "\n",
        "function PCA(data, k)\n",
        "\n",
        "    Initialize StandartizedData variable by standartizing (code above) each vector from input data\n",
        "    create covariance matrix A from StandartizedData\n",
        "    find eigenvectors and eigenvalues for matrix A\n",
        "\n",
        "    create FeatureVector by sorting eigenvectors with correspoding eigenvalues as a key \n",
        "    reinitialize FeatureVector by selecting first k columns from it (if k < n)\n",
        "\n",
        "    create ReconstructedDataset by multiplying transposed FeatureVector and transposed StandartizedData\n",
        "\n",
        "    return ReconstructedDataset\n",
        "```"
      ]
    },
    {
      "cell_type": "markdown",
      "metadata": {
        "id": "EeYQxZ70h6zP"
      },
      "source": [
        "'''\n",
        "1. For each value of each variable compute $z = \\frac{value - mean}{standard \\space deviation}$ \n",
        "\n",
        "2. Compute covariance matrix, a square matrix $p \\times p$, where $p$ is the number of dimensions and the matrix has all possible pairs of the initial variables. <br>\n",
        "  If sign of covariance is positive: then it is correlated.<br>\n",
        "  If sign of covariance is negative: then it is inversely correlated.\n",
        "\n",
        "3. Compute eigenvectors and eigenvalues of the covariance matrix.<br>\n",
        "While ($i$) is in the range of the number of dimensions ($p$) and $i+1$ is uncorrelated with $i$ and accounts for the next highest variance, find largest principal component\n",
        "Sort eigenvector by eigenvalues in descending order\n",
        "\n",
        "4. If keeping all principal components:\n",
        "Form a feature vector (matrix of vectors) - each column containing eigenvectors of components kept\n",
        "Else:\n",
        "Discard the lesser significant or low eigenvalue components\n",
        "\n",
        "5. Multiply transpose of original dataset with transpose of feature vector\n",
        "'''"
      ]
    },
    {
      "cell_type": "markdown",
      "metadata": {
        "id": "gxc9nwBVpLrv"
      },
      "source": [
        "###1.2.2 PCA to 1 dimension of the `birds.csv` data###\n",
        "\n"
      ]
    },
    {
      "cell_type": "code",
      "metadata": {
        "id": "N1Lc20ghmcZD"
      },
      "source": [
        "import os\n",
        "import csv\n",
        "import numpy as np\n",
        "import pandas as pd\n",
        "from matplotlib import pyplot as plt\n",
        "from sklearn.decomposition import PCA\n",
        "from sklearn.preprocessing import StandardScaler\n",
        "from sklearn.metrics import r2_score, mean_squared_error\n",
        "from sklearn.datasets import fetch_california_housing\n",
        "from math import sqrt\n",
        "from typing import Tuple"
      ],
      "execution_count": 2,
      "outputs": []
    },
    {
      "cell_type": "code",
      "metadata": {
        "id": "YgEl22JamDPP"
      },
      "source": [
        "%%capture\n",
        "# Load the data into your script\n",
        "if not os.path.isfile('birds.csv'):\n",
        "    ! wget https://raw.githubusercontent.com/tsimafeip/LCT-master-course/main/UdS/WinterSemester/NeuralNetworks/Assignments/assignment1/data/birds.csv"
      ],
      "execution_count": 5,
      "outputs": []
    },
    {
      "cell_type": "code",
      "metadata": {
        "colab": {
          "base_uri": "https://localhost:8080/"
        },
        "id": "E8k7MnvjnweL",
        "outputId": "969a0b20-e638-4bd1-f8b6-6b82fcb3ccfa"
      },
      "source": [
        "with open('birds.csv', 'r') as file:\n",
        "    csv_content = csv.reader(file)\n",
        "    headers = next(csv_content)\n",
        "    data = [[float(body_mass), float(wingspan)] for body_mass, wingspan in csv_content]\n",
        "    data_df = pd.DataFrame(data, columns=headers)\n",
        "    print(data_df)"
      ],
      "execution_count": 6,
      "outputs": [
        {
          "output_type": "stream",
          "name": "stdout",
          "text": [
            "    BodyMass  Wingspan\n",
            "0     1020.0      94.0\n",
            "1     1050.0      93.0\n",
            "2     4050.0     165.0\n",
            "3     1567.0     116.0\n",
            "4     3310.0     165.0\n",
            "5     2200.0     121.0\n",
            "6     2380.0     111.0\n",
            "7      862.0      73.0\n",
            "8      400.0      69.0\n",
            "9      370.0      58.0\n",
            "10     400.0      56.0\n",
            "11     600.0      76.0\n",
            "12     990.0      90.0\n",
            "13    1073.0      80.0\n",
            "14    1330.0      71.0\n",
            "15    1580.0      98.0\n",
            "16    1640.0      95.0\n",
            "17    1241.0      87.2\n",
            "18    1360.0      95.0\n",
            "19     500.0      59.0\n"
          ]
        }
      ]
    },
    {
      "cell_type": "code",
      "metadata": {
        "id": "uR0V_zTg4Y24"
      },
      "source": [
        "def reconstruct_with_PCA(data: pd.DataFrame, number_of_components: int) -> Tuple[pd.DataFrame, float]:\n",
        "    \"\"\"Reconstruct data using PCA and returns new data and the value of reconstruction error.\"\"\"\n",
        "    standartized_data = StandardScaler().fit_transform(data.values)\n",
        "\n",
        "    pca = PCA(n_components=number_of_components)\n",
        "    pca.fit(standartized_data)\n",
        "\n",
        "    # print(pca.explained_variance_ratio_)\n",
        "    # print(pca.components_)\n",
        "    # print(pca.singular_values_)\n",
        "\n",
        "    # Reconstruct the original data with native function or using pca.components_ @ np.transpose(standartized_data)\n",
        "    data_from_pca = pca.transform(standartized_data)\n",
        "\n",
        "    reconstructed_data = pca.inverse_transform(data_from_pca)\n",
        "    loss = np.sum((standartized_data - reconstructed_data) ** 2, axis=1).mean()\n",
        "    return reconstructed_data, loss"
      ],
      "execution_count": 3,
      "outputs": []
    },
    {
      "cell_type": "code",
      "metadata": {
        "colab": {
          "base_uri": "https://localhost:8080/"
        },
        "id": "L4wcPD_q6ZHz",
        "outputId": "8135e13a-9eb5-488e-925d-ba8c1fc91962"
      },
      "source": [
        "reconstructed_data, loss = reconstruct_with_PCA(data_df, 1)\n",
        "loss"
      ],
      "execution_count": 41,
      "outputs": [
        {
          "output_type": "execute_result",
          "data": {
            "text/plain": [
              "0.05033948632825883"
            ]
          },
          "metadata": {},
          "execution_count": 41
        }
      ]
    },
    {
      "cell_type": "markdown",
      "metadata": {
        "id": "BVXyojjHp8M0"
      },
      "source": [
        "### 1.2.3 Plotting"
      ]
    },
    {
      "cell_type": "code",
      "metadata": {
        "colab": {
          "base_uri": "https://localhost:8080/",
          "height": 541
        },
        "id": "RitaX4YyN1Eg",
        "outputId": "68c8c4fa-ff4a-457e-d2f1-9d4cf308dcb4"
      },
      "source": [
        "import sys\n",
        "sys.path.insert(0,'/content/drive/MyDrive/Neural Networks/assignment1/data')\n",
        "from solution import pltOriginal, pltPreProcessed\n",
        "pltOriginal()\n",
        "pltPreProcessed()"
      ],
      "execution_count": null,
      "outputs": [
        {
          "output_type": "display_data",
          "data": {
            "image/png": "[encoded data removed]",
            "text/plain": [
              "<Figure size 432x288 with 1 Axes>"
            ]
          },
          "metadata": {
            "needs_background": "light"
          }
        },
        {
          "output_type": "display_data",
          "data": {
            "image/png": "[encoded data removed]",
            "text/plain": [
              "<Figure size 432x288 with 1 Axes>"
            ]
          },
          "metadata": {
            "needs_background": "light"
          }
        }
      ]
    },
    {
      "cell_type": "markdown",
      "metadata": {
        "id": "Wlwban3iHIum"
      },
      "source": [
        "# 2 SVD and PCA (2 points)\n",
        "\n",
        "## 2.1 PCA in relation to SVD (1 point)\n",
        "Can Singular Value Decomposition (SVD) be used for dimensionality reduction as well? Why, why not?\n",
        "\n",
        "\n",
        "## 2.2 Other Applications (1 point)\n",
        "Describe (shortly, without mathematical details) at least two other machine learning methods\n",
        "that use eigendecomposition or single value decomposition. Provide the source where you found the information. \n",
        "\n",
        "\n",
        "\n",
        "\n"
      ]
    },
    {
      "cell_type": "markdown",
      "metadata": {
        "id": "9lI7TbM9TLRZ"
      },
      "source": [
        "## 2 <font color=\"green\">Solution</font>\n",
        "\n",
        "2.1) Singular Value Decomposition (SVD) can be used for dimensionality reduction as well. With a given decomposition of a $m \\times n$ matrix $M$ into $U$, $S$, and $V$, an approximation of the original matrix $M$ can be reconstructed. The values in the diagonal matrix $S$ can be used to find variance of each singular vector.\n",
        "\n",
        "2.2) Fisher discriminant analysis also uses eigendecomposition to find a separating hyperplane for data classification. <br>\n",
        "Source: https://www.pnas.org/content/106/2/369\n",
        "\n",
        "Latent semantic analysis uses SVD for more efficiency with search and storage. <br>\n",
        "Source: https://ieeexplore.ieee.org/abstract/document/7960038\n",
        " "
      ]
    },
    {
      "cell_type": "markdown",
      "metadata": {
        "id": "JogomKwwRB27"
      },
      "source": [
        "# 3 Component Selection (2 points)\n",
        "Load the built-in `California Housing Dataset` from `sklearn` and compute PCA of 1 to 14 dimensions (principal components). Plot a graph _reconstruction error_ $\\times$ _number of principal components_. How many principal components (dimensions) would you use for your compression?\n",
        "\n",
        "For more information on the dataset, please refer to the [sklearn documentation](https://scikit-learn.org/stable/modules/generated/sklearn.datasets.fetch_california_housing.html#sklearn.datasets.fetch_california_housing)"
      ]
    },
    {
      "cell_type": "markdown",
      "metadata": {
        "id": "13EgQJtJdu7w"
      },
      "source": [
        "## 3 <font color=\"green\">Solution</font>\n"
      ]
    },
    {
      "cell_type": "code",
      "metadata": {
        "id": "hRCRb0iadH1g",
        "colab": {
          "base_uri": "https://localhost:8080/"
        },
        "outputId": "124cafa2-10e3-4c81-f042-207cae3fd308"
      },
      "source": [
        "california_housing_full = fetch_california_housing(as_frame=True)\n",
        "print(california_housing_full.keys())"
      ],
      "execution_count": 9,
      "outputs": [
        {
          "output_type": "stream",
          "name": "stdout",
          "text": [
            "dict_keys(['data', 'target', 'frame', 'target_names', 'feature_names', 'DESCR'])\n"
          ]
        }
      ]
    },
    {
      "cell_type": "code",
      "metadata": {
        "colab": {
          "base_uri": "https://localhost:8080/",
          "height": 419
        },
        "id": "xXTUjL8c6rQL",
        "outputId": "d1c098dc-ce88-49f5-b2ed-269f3a04f57b"
      },
      "source": [
        "house_df = california_housing_full.frame\n",
        "house_df"
      ],
      "execution_count": 18,
      "outputs": [
        {
          "output_type": "execute_result",
          "data": {
            "text/html": [
              "<div>\n",
              "<style scoped>\n",
              "    .dataframe tbody tr th:only-of-type {\n",
              "        vertical-align: middle;\n",
              "    }\n",
              "\n",
              "    .dataframe tbody tr th {\n",
              "        vertical-align: top;\n",
              "    }\n",
              "\n",
              "    .dataframe thead th {\n",
              "        text-align: right;\n",
              "    }\n",
              "</style>\n",
              "<table border=\"1\" class=\"dataframe\">\n",
              "  <thead>\n",
              "    <tr style=\"text-align: right;\">\n",
              "      <th></th>\n",
              "      <th>MedInc</th>\n",
              "      <th>HouseAge</th>\n",
              "      <th>AveRooms</th>\n",
              "      <th>AveBedrms</th>\n",
              "      <th>Population</th>\n",
              "      <th>AveOccup</th>\n",
              "      <th>Latitude</th>\n",
              "      <th>Longitude</th>\n",
              "      <th>MedHouseVal</th>\n",
              "    </tr>\n",
              "  </thead>\n",
              "  <tbody>\n",
              "    <tr>\n",
              "      <th>0</th>\n",
              "      <td>8.3252</td>\n",
              "      <td>41.0</td>\n",
              "      <td>6.984127</td>\n",
              "      <td>1.023810</td>\n",
              "      <td>322.0</td>\n",
              "      <td>2.555556</td>\n",
              "      <td>37.88</td>\n",
              "      <td>-122.23</td>\n",
              "      <td>4.526</td>\n",
              "    </tr>\n",
              "    <tr>\n",
              "      <th>1</th>\n",
              "      <td>8.3014</td>\n",
              "      <td>21.0</td>\n",
              "      <td>6.238137</td>\n",
              "      <td>0.971880</td>\n",
              "      <td>2401.0</td>\n",
              "      <td>2.109842</td>\n",
              "      <td>37.86</td>\n",
              "      <td>-122.22</td>\n",
              "      <td>3.585</td>\n",
              "    </tr>\n",
              "    <tr>\n",
              "      <th>2</th>\n",
              "      <td>7.2574</td>\n",
              "      <td>52.0</td>\n",
              "      <td>8.288136</td>\n",
              "      <td>1.073446</td>\n",
              "      <td>496.0</td>\n",
              "      <td>2.802260</td>\n",
              "      <td>37.85</td>\n",
              "      <td>-122.24</td>\n",
              "      <td>3.521</td>\n",
              "    </tr>\n",
              "    <tr>\n",
              "      <th>3</th>\n",
              "      <td>5.6431</td>\n",
              "      <td>52.0</td>\n",
              "      <td>5.817352</td>\n",
              "      <td>1.073059</td>\n",
              "      <td>558.0</td>\n",
              "      <td>2.547945</td>\n",
              "      <td>37.85</td>\n",
              "      <td>-122.25</td>\n",
              "      <td>3.413</td>\n",
              "    </tr>\n",
              "    <tr>\n",
              "      <th>4</th>\n",
              "      <td>3.8462</td>\n",
              "      <td>52.0</td>\n",
              "      <td>6.281853</td>\n",
              "      <td>1.081081</td>\n",
              "      <td>565.0</td>\n",
              "      <td>2.181467</td>\n",
              "      <td>37.85</td>\n",
              "      <td>-122.25</td>\n",
              "      <td>3.422</td>\n",
              "    </tr>\n",
              "    <tr>\n",
              "      <th>...</th>\n",
              "      <td>...</td>\n",
              "      <td>...</td>\n",
              "      <td>...</td>\n",
              "      <td>...</td>\n",
              "      <td>...</td>\n",
              "      <td>...</td>\n",
              "      <td>...</td>\n",
              "      <td>...</td>\n",
              "      <td>...</td>\n",
              "    </tr>\n",
              "    <tr>\n",
              "      <th>20635</th>\n",
              "      <td>1.5603</td>\n",
              "      <td>25.0</td>\n",
              "      <td>5.045455</td>\n",
              "      <td>1.133333</td>\n",
              "      <td>845.0</td>\n",
              "      <td>2.560606</td>\n",
              "      <td>39.48</td>\n",
              "      <td>-121.09</td>\n",
              "      <td>0.781</td>\n",
              "    </tr>\n",
              "    <tr>\n",
              "      <th>20636</th>\n",
              "      <td>2.5568</td>\n",
              "      <td>18.0</td>\n",
              "      <td>6.114035</td>\n",
              "      <td>1.315789</td>\n",
              "      <td>356.0</td>\n",
              "      <td>3.122807</td>\n",
              "      <td>39.49</td>\n",
              "      <td>-121.21</td>\n",
              "      <td>0.771</td>\n",
              "    </tr>\n",
              "    <tr>\n",
              "      <th>20637</th>\n",
              "      <td>1.7000</td>\n",
              "      <td>17.0</td>\n",
              "      <td>5.205543</td>\n",
              "      <td>1.120092</td>\n",
              "      <td>1007.0</td>\n",
              "      <td>2.325635</td>\n",
              "      <td>39.43</td>\n",
              "      <td>-121.22</td>\n",
              "      <td>0.923</td>\n",
              "    </tr>\n",
              "    <tr>\n",
              "      <th>20638</th>\n",
              "      <td>1.8672</td>\n",
              "      <td>18.0</td>\n",
              "      <td>5.329513</td>\n",
              "      <td>1.171920</td>\n",
              "      <td>741.0</td>\n",
              "      <td>2.123209</td>\n",
              "      <td>39.43</td>\n",
              "      <td>-121.32</td>\n",
              "      <td>0.847</td>\n",
              "    </tr>\n",
              "    <tr>\n",
              "      <th>20639</th>\n",
              "      <td>2.3886</td>\n",
              "      <td>16.0</td>\n",
              "      <td>5.254717</td>\n",
              "      <td>1.162264</td>\n",
              "      <td>1387.0</td>\n",
              "      <td>2.616981</td>\n",
              "      <td>39.37</td>\n",
              "      <td>-121.24</td>\n",
              "      <td>0.894</td>\n",
              "    </tr>\n",
              "  </tbody>\n",
              "</table>\n",
              "<p>20640 rows × 9 columns</p>\n",
              "</div>"
            ],
            "text/plain": [
              "       MedInc  HouseAge  AveRooms  ...  Latitude  Longitude  MedHouseVal\n",
              "0      8.3252      41.0  6.984127  ...     37.88    -122.23        4.526\n",
              "1      8.3014      21.0  6.238137  ...     37.86    -122.22        3.585\n",
              "2      7.2574      52.0  8.288136  ...     37.85    -122.24        3.521\n",
              "3      5.6431      52.0  5.817352  ...     37.85    -122.25        3.413\n",
              "4      3.8462      52.0  6.281853  ...     37.85    -122.25        3.422\n",
              "...       ...       ...       ...  ...       ...        ...          ...\n",
              "20635  1.5603      25.0  5.045455  ...     39.48    -121.09        0.781\n",
              "20636  2.5568      18.0  6.114035  ...     39.49    -121.21        0.771\n",
              "20637  1.7000      17.0  5.205543  ...     39.43    -121.22        0.923\n",
              "20638  1.8672      18.0  5.329513  ...     39.43    -121.32        0.847\n",
              "20639  2.3886      16.0  5.254717  ...     39.37    -121.24        0.894\n",
              "\n",
              "[20640 rows x 9 columns]"
            ]
          },
          "metadata": {},
          "execution_count": 18
        }
      ]
    },
    {
      "cell_type": "code",
      "metadata": {
        "id": "9HW4RbDV6vF2"
      },
      "source": [
        "losses = []\n",
        "max_number_of_components = min(len(house_df.columns), 14)\n",
        "\n",
        "for number_of_components in range(max_number_of_components):\n",
        "    plt.title('Basic frequency plot')\n",
        "    _, loss = reconstruct_with_PCA(house_df, number_of_components+1)\n",
        "    losses.append(loss)"
      ],
      "execution_count": 24,
      "outputs": []
    },
    {
      "cell_type": "code",
      "metadata": {
        "colab": {
          "base_uri": "https://localhost:8080/"
        },
        "id": "vO320lc-8EhO",
        "outputId": "d0e23b95-cad7-474d-a3aa-caadbbdd9d1c"
      },
      "source": [
        "print(losses)"
      ],
      "execution_count": 26,
      "outputs": [
        {
          "output_type": "stream",
          "name": "stdout",
          "text": [
            "[6.963332766382995, 4.988065167308274, 3.3760681841071443, 2.106223296408825, 1.1031669715639005, 0.41099991750021947, 0.10750225750178062, 0.04379799988232926, 4.503965399693554e-30]\n"
          ]
        }
      ]
    },
    {
      "cell_type": "code",
      "metadata": {
        "colab": {
          "base_uri": "https://localhost:8080/",
          "height": 296
        },
        "id": "WZ2zWPJp75bE",
        "outputId": "b362d7b9-d496-48d5-e97f-9b4173d00f75"
      },
      "source": [
        "plt.xlabel('Number of components')\n",
        "plt.ylabel('Reconstruction error')\n",
        "plt.plot(range(1, max_number_of_components+1), losses)"
      ],
      "execution_count": 30,
      "outputs": [
        {
          "output_type": "execute_result",
          "data": {
            "text/plain": [
              "[<matplotlib.lines.Line2D at 0x7f8c274a9d50>]"
            ]
          },
          "metadata": {},
          "execution_count": 30
        },
        {
          "output_type": "display_data",
          "data": {
            "image/png": "[encoded data removed]",
            "text/plain": [
              "<Figure size 432x288 with 1 Axes>"
            ]
          },
          "metadata": {
            "needs_background": "light"
          }
        }
      ]
    },
    {
      "cell_type": "markdown",
      "metadata": {
        "id": "C5Pu7huYRyoW"
      },
      "source": [
        "# Bonus: PCA from scratch (2 points)\n",
        "\n",
        "If you used sklearn's implementation to complete the previous exercises, try following the pseudocode you've written and implement PCA without using an existing library implementation. You may use built-in/library functions for matrix operations."
      ]
    },
    {
      "cell_type": "code",
      "metadata": {
        "id": "p6ScYuyh82Bn"
      },
      "source": [
        "def my_pca(standartized_data, number_of_components):\n",
        "    cov_matrix = np.cov(standartized_data)\n",
        "    eigenvalues, eigenvectors = np.linalg.eig(cov_matrix)\n",
        "\n",
        "    pairs = []\n",
        "    for value, vector in zip(eigenvalues, eigenvectors):\n",
        "        pairs.append((value, vector))\n",
        "\n",
        "    print(pairs)\n",
        "    \n",
        "    pairs.sort(key=lambda x: x[0])\n",
        "    feature_vector = np.transpose([pairs[i][1] for i in range(number_of_components)])\n",
        "    print(feature_vector)\n",
        "    data_from_pca = feature_vector @ np.transpose(standartized_data)\n",
        "\n",
        "    return data_from_pca"
      ],
      "execution_count": 39,
      "outputs": []
    },
    {
      "cell_type": "code",
      "metadata": {
        "colab": {
          "base_uri": "https://localhost:8080/",
          "height": 1000
        },
        "id": "HSe1JVV4-9iI",
        "outputId": "63cccd08-b8e6-47ac-c517-974dd1bd9ce1"
      },
      "source": [
        "standartized_data = StandardScaler().fit_transform(data_df.values)\n",
        "\n",
        "number_of_components = 1\n",
        "pca = PCA(n_components=number_of_components)\n",
        "pca.fit(standartized_data)\n",
        "data_from_pca = pca.transform(standartized_data)\n",
        "\n",
        "print(pca.components_, data_from_pca)\n",
        "my_pca(standartized_data, number_of_components)\n",
        "#print(my_pca(standartized_data, number_of_components))"
      ],
      "execution_count": 40,
      "outputs": [
        {
          "output_type": "stream",
          "name": "stdout",
          "text": [
            "[[0.70710678 0.70710678]] [[-0.2729737 ]\n",
            " [-0.27420497]\n",
            " [ 3.68609446]\n",
            " [ 0.65974973]\n",
            " [ 3.13085812]\n",
            " [ 1.25340615]\n",
            " [ 1.15105513]\n",
            " [-0.89008204]\n",
            " [-1.331693  ]\n",
            " [-1.61535195]\n",
            " [-1.64032407]\n",
            " [-1.01544317]\n",
            " [-0.39044669]\n",
            " [-0.56557869]\n",
            " [-0.58641428]\n",
            " [ 0.24216856]\n",
            " [ 0.21596516]\n",
            " [-0.26859091]\n",
            " [ 0.00587574]\n",
            " [-1.49406958]]\n",
            "[((-1.1102230246251565e-16+0j), array([-9.56872866e-01+0.j        ,  2.90507003e-01+0.j        ,\n",
            "       -7.72809854e-02+0.j        ,  4.13958519e-02+0.j        ,\n",
            "        2.86054246e-02-0.0144993j ,  2.86054246e-02+0.0144993j ,\n",
            "        2.15357395e-03-0.02474091j,  2.15357395e-03+0.02474091j,\n",
            "       -1.90782897e-02+0.j        ,  6.89790350e-03+0.j        ,\n",
            "        2.88165237e-02+0.j        , -1.26787904e-02+0.j        ,\n",
            "        2.84508943e-02+0.j        , -1.14780834e-02+0.j        ,\n",
            "       -6.81784945e-04+0.j        , -4.87370340e-03+0.j        ,\n",
            "        1.08754918e-02+0.j        ,  1.15478297e-02+0.j        ,\n",
            "        1.60467182e-03+0.j        ,  9.05306808e-03+0.j        ])), ((1.006789726565177+0j), array([ 0.07420383+0.j        ,  0.24441279+0.j        ,\n",
            "        0.02612241+0.j        , -0.22563513+0.j        ,\n",
            "       -0.11988741-0.09368775j, -0.11988741+0.09368775j,\n",
            "        0.02032186+0.17844384j,  0.02032186-0.17844384j,\n",
            "       -0.01453755+0.j        , -0.01678406+0.j        ,\n",
            "       -0.06146995+0.j        , -0.02850107+0.j        ,\n",
            "       -0.01365255+0.j        , -0.02376173+0.j        ,\n",
            "       -0.00091908+0.j        , -0.02063782+0.j        ,\n",
            "       -0.01305381+0.j        , -0.00437088+0.j        ,\n",
            "        0.01320634+0.j        , -0.00376555+0.j        ])), ((-2.0817062643291108e-17+0j), array([-0.08967587+0.j        , -0.29537464+0.j        ,\n",
            "        0.57401338+0.j        ,  0.02535162+0.j        ,\n",
            "       -0.06018313-0.07521533j, -0.06018313+0.07521533j,\n",
            "        0.16413154+0.11557735j,  0.16413154-0.11557735j,\n",
            "        0.09035226+0.j        ,  0.37724685+0.j        ,\n",
            "       -0.210818  +0.j        , -0.12328534+0.j        ,\n",
            "       -0.01949701+0.j        , -0.1273587 +0.j        ,\n",
            "        0.05285738+0.j        ,  0.0721    +0.j        ,\n",
            "       -0.04933885+0.j        , -0.06684621+0.j        ,\n",
            "        0.08289311+0.j        ,  0.01358682+0.j        ])), ((1.8793896387975434e-17+0j), array([ 0.12204833+0.j        ,  0.40200316+0.j        ,\n",
            "        0.18867694+0.j        ,  0.58464772+0.j        ,\n",
            "        0.58604205+0.j        ,  0.58604205-0.j        ,\n",
            "       -0.31005225+0.15395789j, -0.31005225-0.15395789j,\n",
            "        0.37767356+0.j        ,  0.19218149+0.j        ,\n",
            "       -0.37897581+0.j        , -0.25814159+0.j        ,\n",
            "        0.10541703+0.j        , -0.12606053+0.j        ,\n",
            "       -0.08660229+0.j        ,  0.00392947+0.j        ,\n",
            "        0.04361768+0.j        ,  0.01827923+0.j        ,\n",
            "        0.00788779+0.j        , -0.00915773+0.j        ])), ((1.5069303304186195e-17+1.8047773285919426e-18j), array([ 0.07832475+0.j        ,  0.25798629+0.j        ,\n",
            "       -0.19686741+0.j        ,  0.00204855+0.j        ,\n",
            "       -0.11837233+0.17544459j, -0.11837233-0.17544459j,\n",
            "       -0.06006641-0.0372245j , -0.06006641+0.0372245j ,\n",
            "        0.39712414+0.j        ,  0.4576271 +0.j        ,\n",
            "       -0.09993428+0.j        ,  0.14214472+0.j        ,\n",
            "       -0.11110338+0.j        ,  0.06611998+0.j        ,\n",
            "       -0.17300934+0.j        , -0.1771662 +0.j        ,\n",
            "        0.11805344+0.j        ,  0.12853466+0.j        ,\n",
            "        0.10215205+0.j        , -0.09480231+0.j        ])), ((1.5069303304186195e-17-1.8047773285919426e-18j), array([ 0.01425663+0.j        ,  0.04695854+0.j        ,\n",
            "       -0.0210161 +0.j        , -0.04980686+0.j        ,\n",
            "       -0.05344253-0.04818715j, -0.05344253+0.04818715j,\n",
            "        0.04062741-0.05554164j,  0.04062741+0.05554164j,\n",
            "       -0.05890309+0.j        ,  0.09661555+0.j        ,\n",
            "       -0.0102101 +0.j        ,  0.01806766+0.j        ,\n",
            "       -0.12916336+0.j        , -0.02589264+0.j        ,\n",
            "        0.18471281+0.j        ,  0.39066286+0.j        ,\n",
            "       -0.08355248+0.j        ,  0.26589012+0.j        ,\n",
            "       -0.13399033+0.j        , -0.07759249+0.j        ])), ((-2.4303468030034486e-18+8.071286838590417e-18j), array([-0.09844225+0.j        , -0.32424939+0.j        ,\n",
            "        0.32823892+0.j        , -0.18612603+0.j        ,\n",
            "       -0.03621964-0.04283927j, -0.03621964+0.04283927j,\n",
            "        0.00657661-0.0288933j ,  0.00657661+0.0288933j ,\n",
            "        0.09729665+0.j        ,  0.08762362+0.j        ,\n",
            "       -0.0619018 +0.j        ,  0.34603856+0.j        ,\n",
            "       -0.31395771+0.j        ,  0.27752028+0.j        ,\n",
            "       -0.01317626+0.j        , -0.04086124+0.j        ,\n",
            "       -0.00609412+0.j        , -0.00160336+0.j        ,\n",
            "        0.07807071+0.j        , -0.07542747+0.j        ])), ((-2.4303468030034486e-18-8.071286838590417e-18j), array([-0.02678268+0.j        , -0.08821687+0.j        ,\n",
            "        0.19949496+0.j        , -0.08302974+0.j        ,\n",
            "       -0.07179397+0.02531601j, -0.07179397-0.02531601j,\n",
            "       -0.06481815+0.01275558j, -0.06481815-0.01275558j,\n",
            "        0.02665129+0.j        , -0.14717228+0.j        ,\n",
            "        0.00899287+0.j        , -0.37535103+0.j        ,\n",
            "        0.44459869+0.j        ,  0.32291047+0.j        ,\n",
            "       -0.45594925+0.j        , -0.29610625+0.j        ,\n",
            "        0.40401665+0.j        ,  0.44485359+0.j        ,\n",
            "       -0.03066416+0.j        ,  0.0932815 +0.j        ])), ((7.877944678155377e-18+0j), array([ 0.04937064+0.j        ,  0.16261717+0.j        ,\n",
            "        0.13139333+0.j        , -0.37570233+0.j        ,\n",
            "       -0.38375464-0.16520255j, -0.38375464+0.16520255j,\n",
            "       -0.03622628-0.36044298j, -0.03622628+0.36044298j,\n",
            "       -0.31372842+0.j        , -0.09458215+0.j        ,\n",
            "        0.30545083+0.j        ,  0.11400815+0.j        ,\n",
            "        0.39614141+0.j        , -0.16458154+0.j        ,\n",
            "       -0.0048333 +0.j        ,  0.31796445+0.j        ,\n",
            "       -0.08997052+0.j        , -0.20885762+0.j        ,\n",
            "       -0.31435313+0.j        ,  0.06428857+0.j        ])), ((-7.320152037603048e-18+0j), array([-0.02283578+0.j        , -0.07521657+0.j        ,\n",
            "        0.0894197 +0.j        , -0.21719813+0.j        ,\n",
            "       -0.17502156-0.08925958j, -0.17502156+0.08925958j,\n",
            "        0.1670369 -0.22689367j,  0.1670369 +0.22689367j,\n",
            "       -0.21209225+0.j        , -0.03510667+0.j        ,\n",
            "        0.05945199+0.j        ,  0.12024033+0.j        ,\n",
            "       -0.01625778+0.j        , -0.45133294+0.j        ,\n",
            "        0.12113672+0.j        , -0.399262  +0.j        ,\n",
            "        0.63232793+0.j        ,  0.66459392+0.j        ,\n",
            "        0.59171203+0.j        , -0.30142809+0.j        ])), ((4.9524787670686316e-18+0j), array([-0.04401339+0.j        , -0.14497145+0.j        ,\n",
            "        0.18368181+0.j        ,  0.23907287+0.j        ,\n",
            "        0.16399537+0.129632j  ,  0.16399537-0.129632j  ,\n",
            "       -0.45627611+0.15821234j, -0.45627611-0.15821234j,\n",
            "        0.30605369+0.j        , -0.32051483+0.j        ,\n",
            "        0.28150023+0.j        , -0.4779136 +0.j        ,\n",
            "        0.05138933+0.j        , -0.03307031+0.j        ,\n",
            "        0.02308607+0.j        ,  0.30521614+0.j        ,\n",
            "       -0.24993792+0.j        , -0.22732602+0.j        ,\n",
            "       -0.05308929+0.j        , -0.00294911+0.j        ])), ((-3.6439359517806434e-18+0j), array([ 0.05424878+0.j        ,  0.1786848 +0.j        ,\n",
            "        0.18820652+0.j        ,  0.15504462+0.j        ,\n",
            "        0.07182578-0.15754045j,  0.07182578+0.15754045j,\n",
            "        0.11853272+0.03383687j,  0.11853272-0.03383687j,\n",
            "        0.05717791+0.j        , -0.34142323+0.j        ,\n",
            "        0.06258844+0.j        ,  0.39956221+0.j        ,\n",
            "       -0.05538412+0.j        ,  0.18115186+0.j        ,\n",
            "        0.13823931+0.j        , -0.26242834+0.j        ,\n",
            "        0.18230975+0.j        ,  0.1930381 +0.j        ,\n",
            "        0.06802851+0.j        , -0.12954581+0.j        ])), ((-1.9515549121015516e-18+0j), array([ 0.06627534+0.j        ,  0.2182979 +0.j        ,\n",
            "       -0.00762932+0.j        , -0.49847506+0.j        ,\n",
            "       -0.32103598-0.25501805j, -0.32103598+0.25501805j,\n",
            "        0.48906137+0.j        ,  0.48906137-0.j        ,\n",
            "       -0.15398471+0.j        ,  0.29247263+0.j        ,\n",
            "        0.12989231+0.j        , -0.001945  +0.j        ,\n",
            "       -0.0411958 +0.j        , -0.1769575 +0.j        ,\n",
            "        0.00802922+0.j        , -0.05581047+0.j        ,\n",
            "        0.11533662+0.j        ,  0.1153237 +0.j        ,\n",
            "        0.15654567+0.j        , -0.09092439+0.j        ])), ((2.1771884128702538e-18+0j), array([-0.02440185+0.j        , -0.08037488+0.j        ,\n",
            "       -0.04862716+0.j        ,  0.09409837+0.j        ,\n",
            "        0.11020388+0.02130495j,  0.11020388-0.02130495j,\n",
            "        0.1642264 +0.11847827j,  0.1642264 -0.11847827j,\n",
            "        0.35233298+0.j        , -0.28389135+0.j        ,\n",
            "       -0.45355041+0.j        ,  0.36072648+0.j        ,\n",
            "       -0.03611121+0.j        , -0.3185568 +0.j        ,\n",
            "       -0.54980676+0.j        ,  0.08192361+0.j        ,\n",
            "       -0.12062124+0.j        , -0.00799   +0.j        ,\n",
            "        0.19899776+0.j        , -0.13527661+0.j        ])), ((1.8240366368027455e-18+0j), array([-0.14739849+0.j        , -0.4855016 +0.j        ,\n",
            "       -0.56593528+0.j        ,  0.13499096+0.j        ,\n",
            "        0.10401705-0.19962029j,  0.10401705+0.19962029j,\n",
            "       -0.06040873-0.06694665j, -0.06040873+0.06694665j,\n",
            "        0.00474903+0.j        ,  0.19164922+0.j        ,\n",
            "        0.06210047+0.j        , -0.0747892 +0.j        ,\n",
            "        0.12340376+0.j        ,  0.03969218+0.j        ,\n",
            "       -0.07067746+0.j        , -0.0172151 +0.j        ,\n",
            "        0.09965212+0.j        ,  0.06882612+0.j        ,\n",
            "        0.01191662+0.j        , -0.01234918+0.j        ])), ((5.74122078947342e-19+0j), array([-0.010204  +0.j        , -0.03360997+0.j        ,\n",
            "        0.04651267+0.j        , -0.01494773+0.j        ,\n",
            "       -0.01317699-0.03912789j, -0.01317699+0.03912789j,\n",
            "        0.00935258+0.01318643j,  0.00935258-0.01318643j,\n",
            "       -0.01177054+0.j        , -0.01774019+0.j        ,\n",
            "        0.02076493+0.j        , -0.0725499 +0.j        ,\n",
            "       -0.27752774+0.j        , -0.05486018+0.j        ,\n",
            "       -0.08576232+0.j        , -0.46240827+0.j        ,\n",
            "       -0.34959769+0.j        , -0.28827064+0.j        ,\n",
            "       -0.50813572+0.j        , -0.2317445 +0.j        ])), ((-4.307317057990398e-19+0j), array([-0.04537583+0.j        , -0.14945906+0.j        ,\n",
            "        0.13465279+0.j        ,  0.05193805+0.j        ,\n",
            "        0.08483252+0.03706398j,  0.08483252-0.03706398j,\n",
            "       -0.00311029+0.05508877j, -0.00311029-0.05508877j,\n",
            "       -0.18384715+0.j        ,  0.36005191+0.j        ,\n",
            "        0.25395964+0.j        ,  0.23780363+0.j        ,\n",
            "        0.3090897 +0.j        , -0.16149069+0.j        ,\n",
            "       -0.15812096+0.j        , -0.02072859+0.j        ,\n",
            "       -0.07237723+0.j        , -0.02655698+0.j        ,\n",
            "       -0.20559801+0.j        , -0.01265499+0.j        ])), ((-2.934471556493766e-19+0j), array([-0.01082214+0.j        , -0.035646  +0.j        ,\n",
            "        0.02234316+0.j        , -0.03203686+0.j        ,\n",
            "       -0.01874539-0.03608713j, -0.01874539+0.03608713j,\n",
            "        0.0915221 -0.01890391j,  0.0915221 +0.01890391j,\n",
            "        0.06581894+0.j        , -0.03495379+0.j        ,\n",
            "       -0.07952134+0.j        ,  0.14350461+0.j        ,\n",
            "       -0.34370609+0.j        , -0.33890603+0.j        ,\n",
            "       -0.02157404+0.j        , -0.0503814 +0.j        ,\n",
            "       -0.0255388 +0.j        ,  0.00828171+0.j        ,\n",
            "       -0.33093119+0.j        ,  0.80290915+0.j        ])), ((8.418774968212662e-20+0j), array([ 0.01819196+0.j        ,  0.05992075+0.j        ,\n",
            "        0.0103786 +0.j        ,  0.0560994 +0.j        ,\n",
            "        0.04165884-0.00269057j,  0.04165884+0.00269057j,\n",
            "       -0.11341045+0.0440703j , -0.11341045-0.0440703j ,\n",
            "        0.00976119+0.j        ,  0.05218206+0.j        ,\n",
            "        0.1385561 +0.j        ,  0.04687483+0.j        ,\n",
            "        0.24777488+0.j        ,  0.30786187+0.j        ,\n",
            "        0.13520194+0.j        , -0.20384743+0.j        ,\n",
            "       -0.35010498+0.j        , -0.14407186+0.j        ,\n",
            "        0.11837118+0.j        ,  0.36126068+0.j        ])), ((-2.523213246613305e-20+0j), array([-0.04516602+0.j        , -0.14876796+0.j        ,\n",
            "       -0.05907091+0.j        ,  0.09341775+0.j        ,\n",
            "        0.12578461+0.1284097j ,  0.12578461-0.1284097j ,\n",
            "        0.02905071+0.13034392j,  0.02905071-0.13034392j,\n",
            "        0.50068435+0.j        , -0.07802872+0.j        ,\n",
            "       -0.54446427+0.j        ,  0.01397493+0.j        ,\n",
            "        0.35921045+0.j        , -0.37824602+0.j        ,\n",
            "        0.56991248+0.j        , -0.17314662+0.j        ,\n",
            "        0.13815157+0.j        ,  0.11380082+0.j        ,\n",
            "       -0.11326999+0.j        , -0.05192592+0.j        ]))]\n",
            "[[-9.56872866e-01+0.j        ]\n",
            " [ 2.90507003e-01+0.j        ]\n",
            " [-7.72809854e-02+0.j        ]\n",
            " [ 4.13958519e-02+0.j        ]\n",
            " [ 2.86054246e-02-0.0144993j ]\n",
            " [ 2.86054246e-02+0.0144993j ]\n",
            " [ 2.15357395e-03-0.02474091j]\n",
            " [ 2.15357395e-03+0.02474091j]\n",
            " [-1.90782897e-02+0.j        ]\n",
            " [ 6.89790350e-03+0.j        ]\n",
            " [ 2.88165237e-02+0.j        ]\n",
            " [-1.26787904e-02+0.j        ]\n",
            " [ 2.84508943e-02+0.j        ]\n",
            " [-1.14780834e-02+0.j        ]\n",
            " [-6.81784945e-04+0.j        ]\n",
            " [-4.87370340e-03+0.j        ]\n",
            " [ 1.08754918e-02+0.j        ]\n",
            " [ 1.15478297e-02+0.j        ]\n",
            " [ 1.60467182e-03+0.j        ]\n",
            " [ 9.05306808e-03+0.j        ]]\n"
          ]
        },
        {
          "output_type": "error",
          "ename": "ValueError",
          "evalue": "ignored",
          "traceback": [
            "\u001b[0;31m---------------------------------------------------------------------------\u001b[0m",
            "\u001b[0;31mValueError\u001b[0m                                Traceback (most recent call last)",
            "\u001b[0;32m<ipython-input-40-f8cc1071411e>\u001b[0m in \u001b[0;36m<module>\u001b[0;34m()\u001b[0m\n\u001b[1;32m      8\u001b[0m \u001b[0;34m\u001b[0m\u001b[0m\n\u001b[1;32m      9\u001b[0m \u001b[0mprint\u001b[0m\u001b[0;34m(\u001b[0m\u001b[0mpca\u001b[0m\u001b[0;34m.\u001b[0m\u001b[0mcomponents_\u001b[0m\u001b[0;34m,\u001b[0m \u001b[0mdata_from_pca\u001b[0m\u001b[0;34m)\u001b[0m\u001b[0;34m\u001b[0m\u001b[0;34m\u001b[0m\u001b[0m\n\u001b[0;32m---> 10\u001b[0;31m \u001b[0mmy_pca\u001b[0m\u001b[0;34m(\u001b[0m\u001b[0mstandartized_data\u001b[0m\u001b[0;34m,\u001b[0m \u001b[0mnumber_of_components\u001b[0m\u001b[0;34m)\u001b[0m\u001b[0;34m\u001b[0m\u001b[0;34m\u001b[0m\u001b[0m\n\u001b[0m\u001b[1;32m     11\u001b[0m \u001b[0;31m#print(my_pca(standartized_data, number_of_components))\u001b[0m\u001b[0;34m\u001b[0m\u001b[0;34m\u001b[0m\u001b[0;34m\u001b[0m\u001b[0m\n",
            "\u001b[0;32m<ipython-input-39-4ab3e253572c>\u001b[0m in \u001b[0;36mmy_pca\u001b[0;34m(standartized_data, number_of_components)\u001b[0m\n\u001b[1;32m     12\u001b[0m     \u001b[0mfeature_vector\u001b[0m \u001b[0;34m=\u001b[0m \u001b[0mnp\u001b[0m\u001b[0;34m.\u001b[0m\u001b[0mtranspose\u001b[0m\u001b[0;34m(\u001b[0m\u001b[0;34m[\u001b[0m\u001b[0mpairs\u001b[0m\u001b[0;34m[\u001b[0m\u001b[0mi\u001b[0m\u001b[0;34m]\u001b[0m\u001b[0;34m[\u001b[0m\u001b[0;36m1\u001b[0m\u001b[0;34m]\u001b[0m \u001b[0;32mfor\u001b[0m \u001b[0mi\u001b[0m \u001b[0;32min\u001b[0m \u001b[0mrange\u001b[0m\u001b[0;34m(\u001b[0m\u001b[0mnumber_of_components\u001b[0m\u001b[0;34m)\u001b[0m\u001b[0;34m]\u001b[0m\u001b[0;34m)\u001b[0m\u001b[0;34m\u001b[0m\u001b[0;34m\u001b[0m\u001b[0m\n\u001b[1;32m     13\u001b[0m     \u001b[0mprint\u001b[0m\u001b[0;34m(\u001b[0m\u001b[0mfeature_vector\u001b[0m\u001b[0;34m)\u001b[0m\u001b[0;34m\u001b[0m\u001b[0;34m\u001b[0m\u001b[0m\n\u001b[0;32m---> 14\u001b[0;31m     \u001b[0mdata_from_pca\u001b[0m \u001b[0;34m=\u001b[0m \u001b[0mfeature_vector\u001b[0m \u001b[0;34m@\u001b[0m \u001b[0mnp\u001b[0m\u001b[0;34m.\u001b[0m\u001b[0mtranspose\u001b[0m\u001b[0;34m(\u001b[0m\u001b[0mstandartized_data\u001b[0m\u001b[0;34m)\u001b[0m\u001b[0;34m\u001b[0m\u001b[0;34m\u001b[0m\u001b[0m\n\u001b[0m\u001b[1;32m     15\u001b[0m \u001b[0;34m\u001b[0m\u001b[0m\n\u001b[1;32m     16\u001b[0m     \u001b[0;32mreturn\u001b[0m \u001b[0mdata_from_pca\u001b[0m\u001b[0;34m\u001b[0m\u001b[0;34m\u001b[0m\u001b[0m\n",
            "\u001b[0;31mValueError\u001b[0m: matmul: Input operand 1 has a mismatch in its core dimension 0, with gufunc signature (n?,k),(k,m?)->(n?,m?) (size 2 is different from 1)"
          ]
        }
      ]
    }
  ]
}