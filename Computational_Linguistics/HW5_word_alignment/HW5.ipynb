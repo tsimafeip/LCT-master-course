{
  "cells": [
    {
      "cell_type": "markdown",
      "metadata": {
        "id": "9C1Hx-kDqlqM"
      },
      "source": [
        "# Word alignments\n",
        "\n",
        "Aligning sentences and words are central tasks in statistical machine transla- tion (SMT). In this assignment, you get to implement a word aligner. Given pairs of aligned sentences in two languages, source and target, the goal is to align source words to their target translations. The resulting alignments might contain unaligned or multiply aligned words, i.e., the word alignments are generally m:n, which makes the task challenging.\n",
        "\n",
        "This assignment is almost identical to the first assignment of a well-known online course on SMT, which is available here: http://mt-class.org/jhu/hw1.html. The task is to train and evaluate IBM Model 1 for word ali- gnments. The EM algorithm for training Model 1 is explained very well in the tutorial by Adam Lopez, which is linked from mt-class and our course website.\n",
        "\n",
        "**Important**: For some reason, the Lopez tutorial systematically flips the role of English and Foreign strings, compared to the lecture slides. The text of the mt-class assignment is consistent with this, but the presentation on the lecture slides is consistent with the original publication of IBM Model 1 and a lot of other material, such as Koehn’s textbook on SMT. **Please implement the assignment as stated on the mt-class site**, with word translation probabilities P (f | e) and the assumption that each Foreign word is aligned to at most one English word."
      ]
    },
    {
      "cell_type": "markdown",
      "metadata": {
        "id": "G93uYCXxqoWn"
      },
      "source": [
        "The key points are as follows:\n",
        "\n",
        "1. Clone the repository from https://github.com/xutaima/jhu-mt-hw, using Git. Observe that the repository contains some Python code and a dataset of 100,000 English-French sentence pairs ('hansards.e' and 'hansards.f') in the folder hw2. The first 37 sentence pairs are manually aligned, and these manual alignments are encoded in the file 'hansards.a'."
      ]
    },
    {
      "cell_type": "code",
      "execution_count": 1,
      "metadata": {
        "colab": {
          "base_uri": "https://localhost:8080/"
        },
        "id": "0AnJ9kz2q8rP",
        "outputId": "14a71130-a4fc-41ef-9a88-7a37c738626f"
      },
      "outputs": [
        {
          "output_type": "stream",
          "name": "stdout",
          "text": [
            "Cloning into 'jhu-mt-hw'...\n",
            "remote: Enumerating objects: 55, done.\u001b[K\n",
            "remote: Counting objects: 100% (8/8), done.\u001b[K\n",
            "remote: Compressing objects: 100% (8/8), done.\u001b[K\n",
            "remote: Total 55 (delta 0), reused 1 (delta 0), pack-reused 47\u001b[K\n",
            "Unpacking objects: 100% (55/55), done.\n"
          ]
        }
      ],
      "source": [
        "! git clone https://github.com/xutaima/jhu-mt-hw"
      ]
    },
    {
      "cell_type": "markdown",
      "metadata": {
        "id": "HCNmow6swFGX"
      },
      "source": [
        "## Baseline\n",
        "\n",
        "2. Get to know the code of the aligner. It provides a very simple baseline system; test it through the provided command-line interface. Determine the Alignment Error Rate (AER) of the baseline system, using the score-alignments script, and submit the result. Observe that it is terrible; word alignments are not an easy problem."
      ]
    },
    {
      "cell_type": "markdown",
      "metadata": {
        "id": "ORNs9iMRFD6_"
      },
      "source": [
        "Summary of the base alignment algorithm from 'align' file:\n",
        "0. Input: parallel sentences; threshold for Dice' coefficient; number of sentences to use.\n",
        "1. Create list of tuples of format (list_of_split_f_words, list_of_split_e_words). Splitting is done by space.\n",
        "2. Count all unique (f, e) tuples of words in the parallel sentences. Please note that only F_E tuples are considered, no E_F. Also, we count all unique f and e words.\n",
        "3. Iterate by (f, e) counter and calculate [Dice coefficient](https://en.wikipedia.org/wiki/Sørensen–Dice_coefficient):\n",
        "\n",
        "$$DSC =  \\frac{2  |X \\cap Y|}{|X| + |Y|}$$\n",
        "4. Dice's coefficient for each pair will be in range [0, 1].\n",
        "Hence, for pairs with value upper than the provided threshold (0.5 by default) think that they are aligned."
      ]
    },
    {
      "cell_type": "code",
      "execution_count": 1,
      "metadata": {
        "colab": {
          "base_uri": "https://localhost:8080/"
        },
        "id": "HcNNCAfHH8q2",
        "outputId": "3db783d0-d7db-4c1a-db01-9aac60ea8bd6"
      },
      "outputs": [
        {
          "output_type": "stream",
          "name": "stdout",
          "text": [
            "Training with Dice's coefficient.......................................\n",
            "  Alignment 0  KEY: ( ) = guessed, * = sure, ? = possible\n",
            "  ------------------------------------------------------------------------------------\n",
            " | *                                                                                   | chacun\n",
            " |    ?                                                                                | en\n",
            " |       ?                                                                             | lui\n",
            " |       ?                                                                             | -\n",
            " |       ?                                                                             | même\n",
            " |         (*)                           ( )                                           | est\n",
            " |             *                                                                       | très\n",
            " |               (*)         ( )            ( )   ( )            ( )         ( )( )    | complexe\n",
            " |                                                                                     | et\n",
            " |   ( )            ( )   (*)      ( )                     ( )                     ( ) | le\n",
            " |               ( )         (*)            ( )   ( )            ( )         ( )( )    | lien\n",
            " |                               *                                                     | entre\n",
            " |   ( )                  ( )      (*)                     ( )                     ( ) | les\n",
            " |                                    (*)                                              | deux\n",
            " |   ( )            ( )   ( )      ( )             ?       ( )                     ( ) | le\n",
            " |         ( )                           (*)                                           | est\n",
            " |                                           ?                                         | encore\n",
            " |                                          ( ) ?  ?                                   | davantage\n",
            " |   ( )            ( )   ( )      ( )                ?    ( )                     ( ) | de\n",
            " |                                                    ?                                | sorte\n",
            " |                                                    ?                                | que\n",
            " |                                                                   *                 | pour\n",
            " |                                                                      ?  ?           | beaucoup\n",
            " |                        ( )      ( )                     (*)                         | la\n",
            " |                                                                *                    | situation\n",
            " |               ( )         ( )            ( )   ( )            ( )         ( )( )    | présente\n",
            " |         ( )                           ( )             ?                       ?     | est\n",
            " |               ( )         ( )            ( )   ( )    ?       ( )         ( )(?)    | confuse\n",
            " |   ( )            ( )   ( )      ( )                     ( )                     (*) | .\n",
            "  ------------------------------------------------------------------------------------\n",
            "   e  o  t  i  v  c  ,  b  t  l  b  t  t  i  e  m  c  w  m  t  w  s  f  m  p  u  c  . \n",
            "   a  f  h  s  e  o     u  h  i  e  h  w  s  v  o  o  h  a  h  h  i  o  o  e  n  o    \n",
            "   c     e     r  m     t  e  n  t  e  o     e  r  m  i  k  e  o  t  r  s  o  d  n    \n",
            "   h     m     y  p           k  w           n  e  p  c  e     l  u     t  p  e  f    \n",
            "                  l              e                 l  h  s     e  a        l  r  u    \n",
            "                  e              e                 e              t        e  s  s    \n",
            "                  x              n                 x              i           t  i    \n",
            "                                                                  o           a  n    \n",
            "                                                                  n           n  g    \n",
            "                                                                              d       \n",
            "                                                                              a       \n",
            "                                                                              b       \n",
            "                                                                              l       \n",
            "                                                                              y       \n",
            "\n",
            "Precision = 0.247944\n",
            "Recall = 0.653846\n",
            "AER = 0.680563\n"
          ]
        }
      ],
      "source": [
        "! cd ./jhu-mt-hw/hw2/ && python align -n 1000 | python score-alignments -n 1"
      ]
    },
    {
      "cell_type": "code",
      "execution_count": 2,
      "metadata": {
        "colab": {
          "base_uri": "https://localhost:8080/"
        },
        "id": "JcpzaBICyF3K",
        "outputId": "59ea7012-9613-430e-a535-2bf0e967c1ee"
      },
      "outputs": [
        {
          "output_type": "stream",
          "name": "stdout",
          "text": [
            "Training with Dice's coefficient.......................................................................................................................................................................................................................................................................................................\n",
            "Precision = 0.239020\n",
            "Recall = 0.594675\n",
            "AER = 0.681997\n"
          ]
        }
      ],
      "source": [
        "! cd ./jhu-mt-hw/hw2/ && python align -n 10000 | python score-alignments -n 0"
      ]
    },
    {
      "cell_type": "code",
      "execution_count": 3,
      "metadata": {
        "colab": {
          "base_uri": "https://localhost:8080/"
        },
        "id": "2YwZsEOrykNz",
        "outputId": "c436b8a8-a9f1-4228-9a41-de972b00c1d2"
      },
      "outputs": [
        {
          "output_type": "stream",
          "name": "stdout",
          "text": [
            "Training with Dice's coefficient.......................................\n",
            "Precision = 0.220453\n",
            "Recall = 0.721893\n",
            "AER = 0.709249\n"
          ]
        }
      ],
      "source": [
        "! cd ./jhu-mt-hw/hw2/ && python align -t 0.4 -n 1000 | python score-alignments -n 0"
      ]
    },
    {
      "cell_type": "markdown",
      "metadata": {
        "id": "tt1Kb-AA2Se2"
      },
      "source": [
        "## IBM Model 1\n",
        "\n",
        "3. Your task is to improve over the baseline by implementing an aligner based on IBM Model 1. Your program should learn the parameters P (f | e) of Model 1 from the given data, and then use them to compute optimal alignments. Submit the AER for your implementation. Feel free to use NLTK if you find it helpful, but note that anything in the nltk.align and nltk.translate packages is disallowed in this assignment."
      ]
    },
    {
      "cell_type": "code",
      "execution_count": 3,
      "metadata": {
        "id": "0c7pS9H4hwuA"
      },
      "outputs": [],
      "source": [
        "import os\n",
        "from typing import List, Optional"
      ]
    },
    {
      "cell_type": "code",
      "execution_count": 4,
      "metadata": {
        "id": "a2Cv9rZ8OxpS"
      },
      "outputs": [],
      "source": [
        "%%capture\n",
        "if not os.path.isfile('em-align'):\n",
        "    ! wget https://raw.githubusercontent.com/tsimafeip/LCT-master-course/main/Computational_Linguistics/HW5_word_alignment/em-align "
      ]
    },
    {
      "cell_type": "code",
      "execution_count": 5,
      "metadata": {
        "colab": {
          "base_uri": "https://localhost:8080/"
        },
        "id": "3fVjpBunH8q1",
        "outputId": "31525268-2ec0-4249-d4c3-d7d16b8491af"
      },
      "outputs": [
        {
          "output_type": "stream",
          "name": "stdout",
          "text": [
            "100% 100/100 [00:50<00:00,  2.00it/s]\n",
            "  Alignment 0  KEY: ( ) = guessed, * = sure, ? = possible\n",
            "  ------------------------------------------------------------------------------------\n",
            " | *             ( )                                                                   | chacun\n",
            " |    ?                                                 ( )                            | en\n",
            " |       ?                   ( )                                                       | lui\n",
            " |       ?                                                       ( )                   | -\n",
            " |       ?       ( )                                                                   | même\n",
            " |         (*)                                                                         | est\n",
            " |            (*)                                                                      | très\n",
            " |               (*)                                                                   | complexe\n",
            " |                                                   ( )                               | et\n",
            " |                        (*)                                                          | le\n",
            " |               ( )          *                                                        | lien\n",
            " |                              (*)                                                    | entre\n",
            " |                                  *                                     ( )          | les\n",
            " |                                    (*)                                              | deux\n",
            " |                        ( )                      ?                                   | le\n",
            " |         ( )                            *                                            | est\n",
            " |                                          (?)                                        | encore\n",
            " |                           ( )                ?  ?                                   | davantage\n",
            " |   ( )                                              ?                                | de\n",
            " |                           ( )                      ?                                | sorte\n",
            " |                                                    ?       ( )                      | que\n",
            " |      ( )                                                          *                 | pour\n",
            " |                           ( )                                        ?  ?           | beaucoup\n",
            " |                                                          *          ( )             | la\n",
            " |                           ( )                                  *                    | situation\n",
            " |               ( )                                                                   | présente\n",
            " |         ( )                                           ?                       ?     | est\n",
            " |               ( )                                     ?                       ?     | confuse\n",
            " |                                                                                 (*) | .\n",
            "  ------------------------------------------------------------------------------------\n",
            "   e  o  t  i  v  c  ,  b  t  l  b  t  t  i  e  m  c  w  m  t  w  s  f  m  p  u  c  . \n",
            "   a  f  h  s  e  o     u  h  i  e  h  w  s  v  o  o  h  a  h  h  i  o  o  e  n  o    \n",
            "   c     e     r  m     t  e  n  t  e  o     e  r  m  i  k  e  o  t  r  s  o  d  n    \n",
            "   h     m     y  p           k  w           n  e  p  c  e     l  u     t  p  e  f    \n",
            "                  l              e                 l  h  s     e  a        l  r  u    \n",
            "                  e              e                 e              t        e  s  s    \n",
            "                  x              n                 x              i           t  i    \n",
            "                                                                  o           a  n    \n",
            "                                                                  n           n  g    \n",
            "                                                                              d       \n",
            "                                                                              a       \n",
            "                                                                              b       \n",
            "                                                                              l       \n",
            "                                                                              y       \n",
            "\n",
            "Precision = 0.456366\n",
            "Recall = 0.597633\n",
            "AER = 0.497589\n"
          ]
        }
      ],
      "source": [
        "# runs ~1min\n",
        "! cd ./jhu-mt-hw/hw2/ && python ../../em-align -n 1000 -b 0 | python score-alignments -n 1"
      ]
    },
    {
      "cell_type": "code",
      "execution_count": 6,
      "metadata": {
        "colab": {
          "base_uri": "https://localhost:8080/"
        },
        "id": "Jh6yWPkz1Flw",
        "outputId": "3e8cfd5d-898e-4830-aa6d-fe8832e7f07f"
      },
      "outputs": [
        {
          "output_type": "stream",
          "name": "stdout",
          "text": [
            "100% 100/100 [00:49<00:00,  2.02it/s]\n",
            "100% 100/100 [00:49<00:00,  2.02it/s]\n",
            "  Alignment 0  KEY: ( ) = guessed, * = sure, ? = possible\n",
            "  ------------------------------------------------------------------------------------\n",
            " | *                                                                                   | chacun\n",
            " |    ?                                                                                | en\n",
            " |       ?                                                                             | lui\n",
            " |       ?                                                                             | -\n",
            " |       ?                                                                             | même\n",
            " |         (*)                                                                         | est\n",
            " |            (*)                                                                      | très\n",
            " |               (*)                                                                   | complexe\n",
            " |                                                                                     | et\n",
            " |                        (*)                                                          | le\n",
            " |                            *                                                        | lien\n",
            " |                              (*)                                                    | entre\n",
            " |                                  *                                                  | les\n",
            " |                                    (*)                                              | deux\n",
            " |                                                 ?                                   | le\n",
            " |                                        *                                            | est\n",
            " |                                           ?                                         | encore\n",
            " |                                              ?  ?                                   | davantage\n",
            " |   ( )                                              ?                                | de\n",
            " |                                                    ?                                | sorte\n",
            " |                                                    ?                                | que\n",
            " |                                                                   *                 | pour\n",
            " |                                                                      ?  ?           | beaucoup\n",
            " |                                                          *                          | la\n",
            " |                                                                *                    | situation\n",
            " |                                                                                     | présente\n",
            " |                                                       ?                       ?     | est\n",
            " |                                                       ?                       ?     | confuse\n",
            " |                                                                                 (*) | .\n",
            "  ------------------------------------------------------------------------------------\n",
            "   e  o  t  i  v  c  ,  b  t  l  b  t  t  i  e  m  c  w  m  t  w  s  f  m  p  u  c  . \n",
            "   a  f  h  s  e  o     u  h  i  e  h  w  s  v  o  o  h  a  h  h  i  o  o  e  n  o    \n",
            "   c     e     r  m     t  e  n  t  e  o     e  r  m  i  k  e  o  t  r  s  o  d  n    \n",
            "   h     m     y  p           k  w           n  e  p  c  e     l  u     t  p  e  f    \n",
            "                  l              e                 l  h  s     e  a        l  r  u    \n",
            "                  e              e                 e              t        e  s  s    \n",
            "                  x              n                 x              i           t  i    \n",
            "                                                                  o           a  n    \n",
            "                                                                  n           n  g    \n",
            "                                                                              d       \n",
            "                                                                              a       \n",
            "                                                                              b       \n",
            "                                                                              l       \n",
            "                                                                              y       \n",
            "\n",
            "Precision = 0.843137\n",
            "Recall = 0.514793\n",
            "AER = 0.344013\n"
          ]
        }
      ],
      "source": [
        "# runs ~2min\n",
        "! cd ./jhu-mt-hw/hw2/ && python ../../em-align -n 1000 -b 1 | python score-alignments -n 1"
      ]
    },
    {
      "cell_type": "code",
      "execution_count": null,
      "metadata": {
        "colab": {
          "base_uri": "https://localhost:8080/"
        },
        "id": "1b0A7BVoH8q3",
        "outputId": "02d81ad6-7ab8-4e69-f968-3d5184b84ab7"
      },
      "outputs": [
        {
          "name": "stdout",
          "output_type": "stream",
          "text": [
            "100% 100/100 [15:22<00:00,  9.23s/it]\n",
            "  Alignment 0  KEY: ( ) = guessed, * = sure, ? = possible\n",
            "  ------------------------------------------------------------------------------------\n",
            " | *                                                                         ( )       | chacun\n",
            " |    ?                                                 ( )                            | en\n",
            " |       ?                                                                   ( )       | lui\n",
            " |       ?                                                    ( )                      | -\n",
            " |       ?                                  ( )                                        | même\n",
            " |         (*)                                                                         | est\n",
            " |            (*)                                                                      | très\n",
            " |               (*)                                                                   | complexe\n",
            " |                              ( )                                                    | et\n",
            " |                        (*)                                                          | le\n",
            " |                            *                                              ( )       | lien\n",
            " |                              (*)                                                    | entre\n",
            " |      ( )                         *                                                  | les\n",
            " |                                    (*)                                              | deux\n",
            " |                        ( )                      ?                                   | le\n",
            " |         ( )                            *                                            | est\n",
            " |                                          (?)                                        | encore\n",
            " |                                              ?  ?    ( )                            | davantage\n",
            " |   ( )                                              ?                                | de\n",
            " |                                                    ?                      ( )       | sorte\n",
            " |               ( )                                  ?                                | que\n",
            " |                                                                  (*)                | pour\n",
            " |               ( )                                                    ?  ?           | beaucoup\n",
            " |                                                          *          ( )             | la\n",
            " |                                                               (*)                   | situation\n",
            " |                                                                           ( )       | présente\n",
            " |         ( )                                           ?                       ?     | est\n",
            " |                                                       ?                   ( ) ?     | confuse\n",
            " |                                                                                 (*) | .\n",
            "  ------------------------------------------------------------------------------------\n",
            "   e  o  t  i  v  c  ,  b  t  l  b  t  t  i  e  m  c  w  m  t  w  s  f  m  p  u  c  . \n",
            "   a  f  h  s  e  o     u  h  i  e  h  w  s  v  o  o  h  a  h  h  i  o  o  e  n  o    \n",
            "   c     e     r  m     t  e  n  t  e  o     e  r  m  i  k  e  o  t  r  s  o  d  n    \n",
            "   h     m     y  p           k  w           n  e  p  c  e     l  u     t  p  e  f    \n",
            "                  l              e                 l  h  s     e  a        l  r  u    \n",
            "                  e              e                 e              t        e  s  s    \n",
            "                  x              n                 x              i           t  i    \n",
            "                                                                  o           a  n    \n",
            "                                                                  n           n  g    \n",
            "                                                                              d       \n",
            "                                                                              a       \n",
            "                                                                              b       \n",
            "                                                                              l       \n",
            "                                                                              y       \n",
            "\n",
            "Precision = 0.535368\n",
            "Recall = 0.698225\n",
            "AER = 0.412653\n"
          ]
        }
      ],
      "source": [
        "# runs ~15min\n",
        "! cd ./jhu-mt-hw/hw2/ && python ../../em-align -n 10000 -b 0 | python score-alignments -n 1"
      ]
    },
    {
      "cell_type": "code",
      "execution_count": null,
      "metadata": {
        "colab": {
          "base_uri": "https://localhost:8080/"
        },
        "id": "Duql2EzR1JW3",
        "outputId": "cd1b0d84-acd0-4da4-9318-5463fbe214f1"
      },
      "outputs": [
        {
          "name": "stdout",
          "output_type": "stream",
          "text": [
            "100% 100/100 [15:04<00:00,  9.04s/it]\n",
            "100% 100/100 [15:07<00:00,  9.08s/it]\n",
            "  Alignment 0  KEY: ( ) = guessed, * = sure, ? = possible\n",
            "  ------------------------------------------------------------------------------------\n",
            " | *                                                                                   | chacun\n",
            " |    ?                                                                                | en\n",
            " |       ?                                                                             | lui\n",
            " |       ?                                                                             | -\n",
            " |       ?                                  ( )                                        | même\n",
            " |         (*)                                                                         | est\n",
            " |            (*)                                                                      | très\n",
            " |               (*)                                                                   | complexe\n",
            " |                                                                                     | et\n",
            " |                        (*)                                                          | le\n",
            " |                            *                                              ( )       | lien\n",
            " |                              (*)                                                    | entre\n",
            " |                                  *                                                  | les\n",
            " |                                    (*)                                              | deux\n",
            " |                                                 ?                                   | le\n",
            " |                                        *                                            | est\n",
            " |                                           ?                                         | encore\n",
            " |                                              ?  ?                                   | davantage\n",
            " |   ( )                                              ?                                | de\n",
            " |                                                    ?                                | sorte\n",
            " |                                                    ?                                | que\n",
            " |                                                                  (*)                | pour\n",
            " |                                                                      ?  ?           | beaucoup\n",
            " |                                                          *                          | la\n",
            " |                                                               (*)                   | situation\n",
            " |                                                                                     | présente\n",
            " |                                                       ?                       ?     | est\n",
            " |                                                       ?                       ?     | confuse\n",
            " |                                                                                 (*) | .\n",
            "  ------------------------------------------------------------------------------------\n",
            "   e  o  t  i  v  c  ,  b  t  l  b  t  t  i  e  m  c  w  m  t  w  s  f  m  p  u  c  . \n",
            "   a  f  h  s  e  o     u  h  i  e  h  w  s  v  o  o  h  a  h  h  i  o  o  e  n  o    \n",
            "   c     e     r  m     t  e  n  t  e  o     e  r  m  i  k  e  o  t  r  s  o  d  n    \n",
            "   h     m     y  p           k  w           n  e  p  c  e     l  u     t  p  e  f    \n",
            "                  l              e                 l  h  s     e  a        l  r  u    \n",
            "                  e              e                 e              t        e  s  s    \n",
            "                  x              n                 x              i           t  i    \n",
            "                                                                  o           a  n    \n",
            "                                                                  n           n  g    \n",
            "                                                                              d       \n",
            "                                                                              a       \n",
            "                                                                              b       \n",
            "                                                                              l       \n",
            "                                                                              y       \n",
            "\n",
            "Precision = 0.863333\n",
            "Recall = 0.621302\n",
            "AER = 0.264890\n"
          ]
        }
      ],
      "source": [
        "# runs ~30min\n",
        "! cd ./jhu-mt-hw/hw2/ && python ../../em-align -n 10000 -b 1 | python score-alignments -n 1"
      ]
    },
    {
      "cell_type": "code",
      "execution_count": 4,
      "metadata": {
        "id": "QW3HL_w48mRn",
        "outputId": "6afb5664-67ed-4ced-dd57-9c7e7f575d7e",
        "colab": {
          "base_uri": "https://localhost:8080/"
        }
      },
      "outputs": [
        {
          "output_type": "stream",
          "name": "stdout",
          "text": [
            "100% 10/10 [12:40<00:00, 76.07s/it]\n",
            "100% 10/10 [12:28<00:00, 74.84s/it]\n",
            "  Alignment 0  KEY: ( ) = guessed, * = sure, ? = possible\n",
            "  ------------------------------------------------------------------------------------\n",
            " |(*)                                                                                  | chacun\n",
            " |    ?                                                                                | en\n",
            " |       ?                                                                             | lui\n",
            " |       ?          ( )                                                                | -\n",
            " |       ?                                  ( )                                        | même\n",
            " |         (*)                                                                         | est\n",
            " |            (*)                                                                      | très\n",
            " |               (*)                                                                   | complexe\n",
            " |                                                                                     | et\n",
            " |                        (*)                                                          | le\n",
            " |                           (*)                                                       | lien\n",
            " |                              (*)                                                    | entre\n",
            " |                                  *                                                  | les\n",
            " |                                    (*)                                              | deux\n",
            " |                                                 ?                                   | le\n",
            " |                                        *                                            | est\n",
            " |                                           ?                                         | encore\n",
            " |                                             (?) ?                                   | davantage\n",
            " |   ( )                                              ?                                | de\n",
            " |                                                    ?                                | sorte\n",
            " |                                                    ?                                | que\n",
            " |                                                                  (*)                | pour\n",
            " |                                                                      ?  ?           | beaucoup\n",
            " |                                                          *                          | la\n",
            " |                                                               (*)                   | situation\n",
            " |                                                                                     | présente\n",
            " |                                                       ?                       ?     | est\n",
            " |                                                       ?                   ( ) ?     | confuse\n",
            " |                                                                                 (*) | .\n",
            "  ------------------------------------------------------------------------------------\n",
            "   e  o  t  i  v  c  ,  b  t  l  b  t  t  i  e  m  c  w  m  t  w  s  f  m  p  u  c  . \n",
            "   a  f  h  s  e  o     u  h  i  e  h  w  s  v  o  o  h  a  h  h  i  o  o  e  n  o    \n",
            "   c     e     r  m     t  e  n  t  e  o     e  r  m  i  k  e  o  t  r  s  o  d  n    \n",
            "   h     m     y  p           k  w           n  e  p  c  e     l  u     t  p  e  f    \n",
            "                  l              e                 l  h  s     e  a        l  r  u    \n",
            "                  e              e                 e              t        e  s  s    \n",
            "                  x              n                 x              i           t  i    \n",
            "                                                                  o           a  n    \n",
            "                                                                  n           n  g    \n",
            "                                                                              d       \n",
            "                                                                              a       \n",
            "                                                                              b       \n",
            "                                                                              l       \n",
            "                                                                              y       \n",
            "\n",
            "Precision = 0.860058\n",
            "Recall = 0.659763\n",
            "AER = 0.239354\n"
          ]
        }
      ],
      "source": [
        "# big setup:\n",
        "# combined model with 10 EM iterations\n",
        "# training on full available data (100k sentences)\n",
        "\n",
        "# runs ~ 13 min and beats off-the-shelf aligner\n",
        "! cd ./jhu-mt-hw/hw2/ && python ../../em-align -i 10 -b 1 -s 0 | python score-alignments -n 1"
      ]
    },
    {
      "cell_type": "markdown",
      "metadata": {
        "id": "W4gnsUKniQZu"
      },
      "source": [
        "Conclusions:\n",
        "\n",
        "1) Increasing number of train sentences improves AER drastically, but training time becomes much longer.\n",
        "\n",
        "2) One-side 'IBM Model I' always chooses single English word for the foreign one. Combined version can leave some original words without alignments at all.\n",
        "\n",
        "3) Baseline model can choose from 0 to many English words for the foreign one, so it explains high recall and low precision.\n",
        "\n",
        "4) Adding null word to my code will require changes in check-alignments script. Hence, I prefer to leave out nulls altogether following a proposal from Lopez tutorial. "
      ]
    },
    {
      "cell_type": "markdown",
      "metadata": {
        "id": "qlrmNyNL2cY9"
      },
      "source": [
        "## Off-the-shelf aligner\n",
        "\n",
        "In addition to what is required in the JHU assignment, experiment also with an off-the-shelf aligner of your choice. GIZA++ used to be the standard, but is now hard to compile. Depending on your preference of programming language, you might try [MGIZA](https://github.com/moses-smt/mgiza), [fast align](https://github.com/clab/fast_align), or [the Berkeley aligner](https://github.com/mhajiloo/berkeleyaligner). Compare your IBM Model 1 to the implementation of Model 1 in the off-the-shelf aligner (if available) and another Model i > 1 of your choice."
      ]
    },
    {
      "cell_type": "markdown",
      "metadata": {
        "id": "yfxXAHSGJHEL"
      },
      "source": [
        "I have decided to use fast_align. This is the implemenation of the IBM Model II with some improvements ([a model that prefers to align words close to the diagonal](http://aclweb.org/anthology/N/N13/N13-1073.pdf)).\n",
        "\n",
        "This tool requires data in one file with '|||' as separator, so we have to convert existing files:"
      ]
    },
    {
      "cell_type": "code",
      "execution_count": null,
      "metadata": {
        "id": "nRA8e_y6JjPe"
      },
      "outputs": [],
      "source": [
        "path_to_data = ['.', 'jhu-mt-hw', 'hw2', 'data']\n",
        "f_filename = 'hansards.f'\n",
        "e_filename = 'hansards.e'"
      ]
    },
    {
      "cell_type": "code",
      "execution_count": null,
      "metadata": {
        "id": "P1-BiLbwJTre"
      },
      "outputs": [],
      "source": [
        "def prepare_data_for_fastalign(path_to_data: List[str],\n",
        "                               source_filename: str, target_filename: str,\n",
        "                               res_filename: Optional[str] = None,\n",
        "                               sentences_num: int = -1) -> str:\n",
        "    \"\"\"\n",
        "    Converts data to fast_align format.\n",
        "\n",
        "    Parameters\n",
        "    ----------\n",
        "    path_to_data : List[int]\n",
        "        Path to folder with training data.\n",
        "    source_filename : str\n",
        "        Filename of source file.\n",
        "    target_filename : str\n",
        "        Filename of target file.\n",
        "    res_filename : Optional[str]\n",
        "        Optional filename of the resulting file. \n",
        "        If not set, then 'fast_align_data.txt' default value is used.\n",
        "    sentences_num : int\n",
        "        Optional number of training sentences.\n",
        "        By default has value -1, so all available data will be used.\n",
        "\n",
        "    Returns\n",
        "    -------\n",
        "    str\n",
        "        Name of resulting file in fast_align format.\n",
        "    \"\"\"\n",
        "    if res_filename is None:\n",
        "        res_filename = 'fast_align_data.txt'\n",
        "    \n",
        "    fast_align_separator = '|||'\n",
        "    path_to_target_data = os.path.join(*path_to_data, target_filename)\n",
        "    path_to_source_data = os.path.join(*path_to_data, source_filename)\n",
        "\n",
        "    with open(path_to_target_data, 'r') as target_file, \\\n",
        "         open(path_to_source_data, 'r') as source_file, \\\n",
        "         open(res_filename, 'w') as res_file:\n",
        "        for i, (source_sent, target_sent) in enumerate(zip(source_file, target_file)):\n",
        "            if sentences_num != -1 and i == sentences_num:\n",
        "                break\n",
        "\n",
        "            source_sent = source_sent.strip()\n",
        "            target_sent = target_sent.strip()\n",
        "            res_file.write(f'{source_sent} {fast_align_separator} {target_sent}\\n')\n",
        "    \n",
        "    return res_filename"
      ]
    },
    {
      "cell_type": "code",
      "execution_count": null,
      "metadata": {
        "id": "DJBTgLX_MD4H"
      },
      "outputs": [],
      "source": [
        "# source and target sides were chosen with respect to output format of fast_align\n",
        "# and requirements of the task ('each Foreign word is aligned to at most one English word').\n",
        "res_filename = prepare_data_for_fastalign(path_to_data=path_to_data, \n",
        "                                          source_filename=f_filename,\n",
        "                                          target_filename=e_filename, \n",
        "                                          sentences_num=1000)"
      ]
    },
    {
      "cell_type": "code",
      "execution_count": null,
      "metadata": {
        "id": "YFwjRxdN2uk2"
      },
      "outputs": [],
      "source": [
        "# install fast_align with dependencies and build it.\n",
        "%%capture\n",
        "! sudo apt-get install libgoogle-perftools-dev libsparsehash-dev\n",
        "! git clone https://github.com/clab/fast_align\n",
        "! cd fast_align && mkdir build && cd build && cmake .. && make"
      ]
    },
    {
      "cell_type": "code",
      "execution_count": null,
      "metadata": {
        "colab": {
          "base_uri": "https://localhost:8080/"
        },
        "id": "ioA_k-zrOQiM",
        "outputId": "1b1c7640-1afb-460b-9f0f-b96d04ba1ecf"
      },
      "outputs": [
        {
          "name": "stdout",
          "output_type": "stream",
          "text": [
            "  Alignment 0  KEY: ( ) = guessed, * = sure, ? = possible\n",
            "  ------------------------------------------------------------------------------------\n",
            " |(*)                                                                                  | chacun\n",
            " |    ? ( )                                                                            | en\n",
            " |       ?                                                                             | lui\n",
            " |       ?                                                                             | -\n",
            " |       ?          ( )                                                                | même\n",
            " |         (*)                                                                         | est\n",
            " |            (*)                                                                      | très\n",
            " |               (*)                                                                   | complexe\n",
            " |                  ( )                                                                | et\n",
            " |                        (*)                                                          | le\n",
            " |                           (*)                                                       | lien\n",
            " |                              (*)                                                    | entre\n",
            " |                                 (*)                                                 | les\n",
            " |                                    (*)                                              | deux\n",
            " |                                 ( )             ?                                   | le\n",
            " |                                       (*)                                           | est\n",
            " |                                          (?)                                        | encore\n",
            " |                                             (?) ?                                   | davantage\n",
            " |                                                    ?                                | de\n",
            " |                                                    ?    ( )                         | sorte\n",
            " |                                                    ?    ( )                         | que\n",
            " |                                                                  (*)                | pour\n",
            " |                                             ( )                      ?  ?           | beaucoup\n",
            " |                                                          *          ( )             | la\n",
            " |                                                                *                    | situation\n",
            " |                                                                           ( )       | présente\n",
            " |                                                       ?                ( )    ?     | est\n",
            " |                                                       ?                      (?)    | confuse\n",
            " |                                                                                 (*) | .\n",
            "  ------------------------------------------------------------------------------------\n",
            "   e  o  t  i  v  c  ,  b  t  l  b  t  t  i  e  m  c  w  m  t  w  s  f  m  p  u  c  . \n",
            "   a  f  h  s  e  o     u  h  i  e  h  w  s  v  o  o  h  a  h  h  i  o  o  e  n  o    \n",
            "   c     e     r  m     t  e  n  t  e  o     e  r  m  i  k  e  o  t  r  s  o  d  n    \n",
            "   h     m     y  p           k  w           n  e  p  c  e     l  u     t  p  e  f    \n",
            "                  l              e                 l  h  s     e  a        l  r  u    \n",
            "                  e              e                 e              t        e  s  s    \n",
            "                  x              n                 x              i           t  i    \n",
            "                                                                  o           a  n    \n",
            "                                                                  n           n  g    \n",
            "                                                                              d       \n",
            "                                                                              a       \n",
            "                                                                              b       \n",
            "                                                                              l       \n",
            "                                                                              y       \n",
            "\n",
            "Precision = 0.685157\n",
            "Recall = 0.736686\n",
            "AER = 0.297512\n"
          ]
        }
      ],
      "source": [
        "# runs fast_align based on data produced above\n",
        "# set of flag was chosen based on examples provided in fast_align README\n",
        "# please note, that we add here -r flag, which means 'reverse'\n",
        "! cd ./jhu-mt-hw/hw2/ && ../../fast_align/build/fast_align -i ../../$res_filename -d -o -v -r 2>/dev/null | python score-alignments -n 1"
      ]
    },
    {
      "cell_type": "code",
      "execution_count": null,
      "metadata": {
        "colab": {
          "base_uri": "https://localhost:8080/"
        },
        "id": "YAkkeVymCiH2",
        "outputId": "29dc16c2-f76f-4793-a121-59ab6bf33661"
      },
      "outputs": [
        {
          "name": "stdout",
          "output_type": "stream",
          "text": [
            "  Alignment 0  KEY: ( ) = guessed, * = sure, ? = possible\n",
            "  ------------------------------------------------------------------------------------\n",
            " |(*)                                                                                  | chacun\n",
            " |    ? ( )                                                                            | en\n",
            " |       ?                                                                             | lui\n",
            " |       ?          ( )                                                                | -\n",
            " |       ?                                                                             | même\n",
            " |         (*)                                                                         | est\n",
            " |            (*)                                                                      | très\n",
            " |               (*)                              ( )                                  | complexe\n",
            " |                                                                                     | et\n",
            " |                     ( )(*)      ( )                                                 | le\n",
            " |                           (*)                                                       | lien\n",
            " |                              (*)                                                    | entre\n",
            " |                                  *                                                  | les\n",
            " |                                    (*)                                              | deux\n",
            " |                                                 ?                                   | le\n",
            " |                                       (*)                                           | est\n",
            " |                                          (?)( )                                     | encore\n",
            " |                                              ?  ?                                   | davantage\n",
            " |                                                    ?                                | de\n",
            " |                                                    ?                                | sorte\n",
            " |                                                    ?       ( )                      | que\n",
            " |                                                                  (*)                | pour\n",
            " |                                                                      ?  ?           | beaucoup\n",
            " |                                                         (*)         ( )             | la\n",
            " |                                                                *                    | situation\n",
            " |                                                                           ( )       | présente\n",
            " |                                                       ?       ( )      ( )    ?     | est\n",
            " |                                                       ?                      (?)    | confuse\n",
            " |                                                                                 (*) | .\n",
            "  ------------------------------------------------------------------------------------\n",
            "   e  o  t  i  v  c  ,  b  t  l  b  t  t  i  e  m  c  w  m  t  w  s  f  m  p  u  c  . \n",
            "   a  f  h  s  e  o     u  h  i  e  h  w  s  v  o  o  h  a  h  h  i  o  o  e  n  o    \n",
            "   c     e     r  m     t  e  n  t  e  o     e  r  m  i  k  e  o  t  r  s  o  d  n    \n",
            "   h     m     y  p           k  w           n  e  p  c  e     l  u     t  p  e  f    \n",
            "                  l              e                 l  h  s     e  a        l  r  u    \n",
            "                  e              e                 e              t        e  s  s    \n",
            "                  x              n                 x              i           t  i    \n",
            "                                                                  o           a  n    \n",
            "                                                                  n           n  g    \n",
            "                                                                              d       \n",
            "                                                                              a       \n",
            "                                                                              b       \n",
            "                                                                              l       \n",
            "                                                                              y       \n",
            "\n",
            "Precision = 0.708738\n",
            "Recall = 0.745562\n",
            "AER = 0.278243\n"
          ]
        }
      ],
      "source": [
        "# 'forward' path:\n",
        "! cd ./jhu-mt-hw/hw2/ && ../../fast_align/build/fast_align -i ../../$res_filename -d -o -v 2>/dev/null | python score-alignments -n 1"
      ]
    },
    {
      "cell_type": "code",
      "execution_count": null,
      "metadata": {
        "colab": {
          "base_uri": "https://localhost:8080/"
        },
        "id": "wF8ucdM-CrJP",
        "outputId": "0fa4b672-2c55-4885-b9ab-53969bd37b07"
      },
      "outputs": [
        {
          "name": "stdout",
          "output_type": "stream",
          "text": [
            "  Alignment 0  KEY: ( ) = guessed, * = sure, ? = possible\n",
            "  ------------------------------------------------------------------------------------\n",
            " |(*)                                                                                  | chacun\n",
            " |    ? ( )                                                                            | en\n",
            " |       ?                                                                             | lui\n",
            " |       ?                                                                             | -\n",
            " |       ?                                                                             | même\n",
            " |         (*)                                                                         | est\n",
            " |            (*)                                                                      | très\n",
            " |               (*)                                                                   | complexe\n",
            " |                  ( )                                                                | et\n",
            " |                     ( )(*)                                                          | le\n",
            " |                           (*)                                                       | lien\n",
            " |                              (*)                                                    | entre\n",
            " |                                 (*)                                                 | les\n",
            " |                                    (*)                                              | deux\n",
            " |                                 ( )             ?                                   | le\n",
            " |                                       (*)                                           | est\n",
            " |                                          (?)( )                                     | encore\n",
            " |                                             (?) ?                                   | davantage\n",
            " |                                                    ?                                | de\n",
            " |                                                    ?    ( )                         | sorte\n",
            " |                                                    ?       ( )                      | que\n",
            " |                                                                  (*)                | pour\n",
            " |                                                                      ?  ?           | beaucoup\n",
            " |                                                          *          ( )             | la\n",
            " |                                                                *                    | situation\n",
            " |                                                                           ( )       | présente\n",
            " |                                                       ?                ( )    ?     | est\n",
            " |                                                       ?                      (?)    | confuse\n",
            " |                                                                                 (*) | .\n",
            "  ------------------------------------------------------------------------------------\n",
            "   e  o  t  i  v  c  ,  b  t  l  b  t  t  i  e  m  c  w  m  t  w  s  f  m  p  u  c  . \n",
            "   a  f  h  s  e  o     u  h  i  e  h  w  s  v  o  o  h  a  h  h  i  o  o  e  n  o    \n",
            "   c     e     r  m     t  e  n  t  e  o     e  r  m  i  k  e  o  t  r  s  o  d  n    \n",
            "   h     m     y  p           k  w           n  e  p  c  e     l  u     t  p  e  f    \n",
            "                  l              e                 l  h  s     e  a        l  r  u    \n",
            "                  e              e                 e              t        e  s  s    \n",
            "                  x              n                 x              i           t  i    \n",
            "                                                                  o           a  n    \n",
            "                                                                  n           n  g    \n",
            "                                                                              d       \n",
            "                                                                              a       \n",
            "                                                                              b       \n",
            "                                                                              l       \n",
            "                                                                              y       \n",
            "\n",
            "Precision = 0.699583\n",
            "Recall = 0.772189\n",
            "AER = 0.277200\n"
          ]
        }
      ],
      "source": [
        "# try combining two models\n",
        "! fast_align/build/fast_align -i $res_filename -d -o -v -r 2>/dev/null > reverse.align \n",
        "! fast_align/build/fast_align -i $res_filename -d -o -v 2>/dev/null > forward.align\n",
        "! cd ./jhu-mt-hw/hw2/ && ../../fast_align/build/atools -i ../../forward.align -j ../../reverse.align -c grow-diag-final-and | python score-alignments -n 1"
      ]
    },
    {
      "cell_type": "markdown",
      "metadata": {
        "id": "CXwyERBK9WHV"
      },
      "source": [
        "I have decided to train it on full available data:"
      ]
    },
    {
      "cell_type": "code",
      "execution_count": null,
      "metadata": {
        "id": "rILlSh2e9gZK"
      },
      "outputs": [],
      "source": [
        "# source and target sides were chosen with respect to output format of fast_align\n",
        "# and requirements of the task ('each Foreign word is aligned to at most one English word').\n",
        "res_filename_full = prepare_data_for_fastalign(path_to_data=path_to_data, \n",
        "                                               source_filename=f_filename,\n",
        "                                               target_filename=e_filename, \n",
        "                                               sentences_num=-1)"
      ]
    },
    {
      "cell_type": "code",
      "execution_count": null,
      "metadata": {
        "colab": {
          "base_uri": "https://localhost:8080/"
        },
        "id": "TMmqFVER83F5",
        "outputId": "b4e6a055-0f1e-44f8-ee4a-3862a9adcbf1"
      },
      "outputs": [
        {
          "name": "stdout",
          "output_type": "stream",
          "text": [
            "  Alignment 0  KEY: ( ) = guessed, * = sure, ? = possible\n",
            "  ------------------------------------------------------------------------------------\n",
            " |(*)                                                                                  | chacun\n",
            " |    ? ( )                                                                            | en\n",
            " |       ? ( )                                                                         | lui\n",
            " |       ? ( )                                                                         | -\n",
            " |       ?                                  ( )                                        | même\n",
            " |         (*)                                                                         | est\n",
            " |            (*)                                                                      | très\n",
            " |               (*)                                                                   | complexe\n",
            " |                              ( )                                                    | et\n",
            " |                        (*)                                                          | le\n",
            " |                           (*)                                                       | lien\n",
            " |                              (*)                                                    | entre\n",
            " |                                 (*)                                                 | les\n",
            " |                                    (*)                                              | deux\n",
            " |                                 ( )             ?                                   | le\n",
            " |                                       (*)                                           | est\n",
            " |                                          (?)                                        | encore\n",
            " |                                             (?) ?                                   | davantage\n",
            " |                                                    ?                                | de\n",
            " |                                                    ?                                | sorte\n",
            " |                                                    ?                                | que\n",
            " |                                                                  (*)                | pour\n",
            " |                                             ( )                      ?  ?           | beaucoup\n",
            " |                                                          *          ( )             | la\n",
            " |                                                               (*)                   | situation\n",
            " |                                                                                     | présente\n",
            " |                                       ( )             ?                       ?     | est\n",
            " |                                                       ?                   ( ) ?     | confuse\n",
            " |                                                                                 (*) | .\n",
            "  ------------------------------------------------------------------------------------\n",
            "   e  o  t  i  v  c  ,  b  t  l  b  t  t  i  e  m  c  w  m  t  w  s  f  m  p  u  c  . \n",
            "   a  f  h  s  e  o     u  h  i  e  h  w  s  v  o  o  h  a  h  h  i  o  o  e  n  o    \n",
            "   c     e     r  m     t  e  n  t  e  o     e  r  m  i  k  e  o  t  r  s  o  d  n    \n",
            "   h     m     y  p           k  w           n  e  p  c  e     l  u     t  p  e  f    \n",
            "                  l              e                 l  h  s     e  a        l  r  u    \n",
            "                  e              e                 e              t        e  s  s    \n",
            "                  x              n                 x              i           t  i    \n",
            "                                                                  o           a  n    \n",
            "                                                                  n           n  g    \n",
            "                                                                              d       \n",
            "                                                                              a       \n",
            "                                                                              b       \n",
            "                                                                              l       \n",
            "                                                                              y       \n",
            "\n",
            "Precision = 0.768293\n",
            "Recall = 0.843195\n",
            "AER = 0.206237\n",
            "CPU times: user 400 ms, sys: 70 ms, total: 470 ms\n",
            "Wall time: 56.4 s\n"
          ]
        }
      ],
      "source": [
        "%%time\n",
        "# return fast_align on full available data\n",
        "! cd ./jhu-mt-hw/hw2/ && ../../fast_align/build/fast_align -i ../../$res_filename_full -d -o -v -r 2>/dev/null | python score-alignments -n 1"
      ]
    },
    {
      "cell_type": "code",
      "execution_count": null,
      "metadata": {
        "colab": {
          "base_uri": "https://localhost:8080/"
        },
        "id": "f3plwAEi9pNX",
        "outputId": "68f3de2b-7eb0-4b52-bd15-340b93cf48b3"
      },
      "outputs": [
        {
          "name": "stdout",
          "output_type": "stream",
          "text": [
            "  Alignment 0  KEY: ( ) = guessed, * = sure, ? = possible\n",
            "  ------------------------------------------------------------------------------------\n",
            " |(*)                                                                                  | chacun\n",
            " |   (?)( )                                                                            | en\n",
            " |       ?                                                                             | lui\n",
            " |       ?          ( )                                                                | -\n",
            " |       ?                                                                             | même\n",
            " |         (*)                                                                         | est\n",
            " |            (*)                                                                      | très\n",
            " |               (*)                              ( )                                  | complexe\n",
            " |                                                                                     | et\n",
            " |                        (*)                                                          | le\n",
            " |                           (*)                                                       | lien\n",
            " |                              (*)                                                    | entre\n",
            " |                                 (*)                                                 | les\n",
            " |                                    (*)                                              | deux\n",
            " |                                                 ?                                   | le\n",
            " |                                       (*)            ( )                            | est\n",
            " |                                          (?)                                        | encore\n",
            " |                                             (?) ?                                   | davantage\n",
            " |                                                   (?)                               | de\n",
            " |                                                    ?                                | sorte\n",
            " |                                                    ?                                | que\n",
            " |                                                                  (*)                | pour\n",
            " |                                                            ( )       ? (?)          | beaucoup\n",
            " |                                                         (*)         ( )             | la\n",
            " |                                                               (*)                   | situation\n",
            " |                                                                                     | présente\n",
            " |                                                       ?                       ?     | est\n",
            " |                                                       ?                   ( )(?)    | confuse\n",
            " |                                                                                 (*) | .\n",
            "  ------------------------------------------------------------------------------------\n",
            "   e  o  t  i  v  c  ,  b  t  l  b  t  t  i  e  m  c  w  m  t  w  s  f  m  p  u  c  . \n",
            "   a  f  h  s  e  o     u  h  i  e  h  w  s  v  o  o  h  a  h  h  i  o  o  e  n  o    \n",
            "   c     e     r  m     t  e  n  t  e  o     e  r  m  i  k  e  o  t  r  s  o  d  n    \n",
            "   h     m     y  p           k  w           n  e  p  c  e     l  u     t  p  e  f    \n",
            "                  l              e                 l  h  s     e  a        l  r  u    \n",
            "                  e              e                 e              t        e  s  s    \n",
            "                  x              n                 x              i           t  i    \n",
            "                                                                  o           a  n    \n",
            "                                                                  n           n  g    \n",
            "                                                                              d       \n",
            "                                                                              a       \n",
            "                                                                              b       \n",
            "                                                                              l       \n",
            "                                                                              y       \n",
            "\n",
            "Precision = 0.788122\n",
            "Recall = 0.831361\n",
            "AER = 0.196670\n",
            "CPU times: user 419 ms, sys: 54.5 ms, total: 473 ms\n",
            "Wall time: 56.1 s\n"
          ]
        }
      ],
      "source": [
        "%%time\n",
        "# rerun 'forward' path on full data:\n",
        "! cd ./jhu-mt-hw/hw2/ && ../../fast_align/build/fast_align -i ../../$res_filename_full -d -o -v 2>/dev/null | python score-alignments -n 1"
      ]
    },
    {
      "cell_type": "code",
      "execution_count": null,
      "metadata": {
        "colab": {
          "base_uri": "https://localhost:8080/"
        },
        "id": "wPvIMO3O9tZJ",
        "outputId": "d5b0c440-cd95-43e0-c108-737459b6b05e"
      },
      "outputs": [
        {
          "name": "stdout",
          "output_type": "stream",
          "text": [
            "  Alignment 0  KEY: ( ) = guessed, * = sure, ? = possible\n",
            "  ------------------------------------------------------------------------------------\n",
            " |(*)                                                                                  | chacun\n",
            " |   (?)( )                                                                            | en\n",
            " |       ? ( )                                                                         | lui\n",
            " |       ? ( )                                                                         | -\n",
            " |       ?                                                                             | même\n",
            " |         (*)                                                                         | est\n",
            " |            (*)                                                                      | très\n",
            " |               (*)                                                                   | complexe\n",
            " |                                                                                     | et\n",
            " |                        (*)                                                          | le\n",
            " |                           (*)                                                       | lien\n",
            " |                              (*)                                                    | entre\n",
            " |                                 (*)                                                 | les\n",
            " |                                    (*)                                              | deux\n",
            " |                                 ( )             ?                                   | le\n",
            " |                                       (*)                                           | est\n",
            " |                                          (?)                                        | encore\n",
            " |                                             (?) ?                                   | davantage\n",
            " |                                                   (?)                               | de\n",
            " |                                                    ?                                | sorte\n",
            " |                                                    ?                                | que\n",
            " |                                                                  (*)                | pour\n",
            " |                                                                      ? (?)          | beaucoup\n",
            " |                                                          *          ( )             | la\n",
            " |                                                               (*)                   | situation\n",
            " |                                                                                     | présente\n",
            " |                                                       ?                       ?     | est\n",
            " |                                                       ?                   ( )(?)    | confuse\n",
            " |                                                                                 (*) | .\n",
            "  ------------------------------------------------------------------------------------\n",
            "   e  o  t  i  v  c  ,  b  t  l  b  t  t  i  e  m  c  w  m  t  w  s  f  m  p  u  c  . \n",
            "   a  f  h  s  e  o     u  h  i  e  h  w  s  v  o  o  h  a  h  h  i  o  o  e  n  o    \n",
            "   c     e     r  m     t  e  n  t  e  o     e  r  m  i  k  e  o  t  r  s  o  d  n    \n",
            "   h     m     y  p           k  w           n  e  p  c  e     l  u     t  p  e  f    \n",
            "                  l              e                 l  h  s     e  a        l  r  u    \n",
            "                  e              e                 e              t        e  s  s    \n",
            "                  x              n                 x              i           t  i    \n",
            "                                                                  o           a  n    \n",
            "                                                                  n           n  g    \n",
            "                                                                              d       \n",
            "                                                                              a       \n",
            "                                                                              b       \n",
            "                                                                              l       \n",
            "                                                                              y       \n",
            "\n",
            "Precision = 0.786932\n",
            "Recall = 0.878698\n",
            "AER = 0.183301\n",
            "CPU times: user 856 ms, sys: 121 ms, total: 978 ms\n",
            "Wall time: 1min 56s\n"
          ]
        }
      ],
      "source": [
        "%%time\n",
        "# return combining two models\n",
        "! fast_align/build/fast_align -i $res_filename_full -d -o -v -r 2>/dev/null > reverse.align \n",
        "! fast_align/build/fast_align -i $res_filename_full -d -o -v 2>/dev/null > forward.align\n",
        "! cd ./jhu-mt-hw/hw2/ && ../../fast_align/build/atools -i ../../forward.align -j ../../reverse.align -c grow-diag-final-and | python score-alignments -n 1"
      ]
    },
    {
      "cell_type": "code",
      "execution_count": null,
      "metadata": {
        "colab": {
          "base_uri": "https://localhost:8080/"
        },
        "id": "Ze_9Ylny_Crj",
        "outputId": "0b11300e-53a0-4ade-855b-a50aaeb750bc"
      },
      "outputs": [
        {
          "name": "stdout",
          "output_type": "stream",
          "text": [
            "100%|█████████████████████████████████████████████| 2/2 [01:14<00:00, 37.09s/it]\n",
            "100%|█████████████████████████████████████████████| 2/2 [01:14<00:00, 37.17s/it]\n",
            "  Alignment 0  KEY: ( ) = guessed, * = sure, ? = possible\n",
            "  ------------------------------------------------------------------------------------\n",
            " |(*)                                                                                  | chacun\n",
            " |    ?                                                                                | en\n",
            " |       ?                                                                             | lui\n",
            " |       ?          ( )                                                                | -\n",
            " |       ?                                                                             | même\n",
            " |         (*)                                                                         | est\n",
            " |            (*)                                                                      | très\n",
            " |               (*)                                                                   | complexe\n",
            " |                                                                                     | et\n",
            " |                         *                                                           | le\n",
            " |                           (*)                                                       | lien\n",
            " |                              (*)                                                    | entre\n",
            " |                                  *                                     ( )          | les\n",
            " |                                    (*)                                              | deux\n",
            " |                                                 ?                                   | le\n",
            " |                                        *                                            | est\n",
            " |                                           ?                                         | encore\n",
            " |                                             (?) ?                                   | davantage\n",
            " |   ( )                                              ?                                | de\n",
            " |                                                    ?                                | sorte\n",
            " |                                                    ?                                | que\n",
            " |                                                                  (*)                | pour\n",
            " |                                                                      ?  ?           | beaucoup\n",
            " |                        ( )                               *                          | la\n",
            " |                                                               (*)                   | situation\n",
            " |                                                                                     | présente\n",
            " |                                                       ?                       ?     | est\n",
            " |                                                       ?                   ( ) ?     | confuse\n",
            " |                                                                                 (*) | .\n",
            "  ------------------------------------------------------------------------------------\n",
            "   e  o  t  i  v  c  ,  b  t  l  b  t  t  i  e  m  c  w  m  t  w  s  f  m  p  u  c  . \n",
            "   a  f  h  s  e  o     u  h  i  e  h  w  s  v  o  o  h  a  h  h  i  o  o  e  n  o    \n",
            "   c     e     r  m     t  e  n  t  e  o     e  r  m  i  k  e  o  t  r  s  o  d  n    \n",
            "   h     m     y  p           k  w           n  e  p  c  e     l  u     t  p  e  f    \n",
            "                  l              e                 l  h  s     e  a        l  r  u    \n",
            "                  e              e                 e              t        e  s  s    \n",
            "                  x              n                 x              i           t  i    \n",
            "                                                                  o           a  n    \n",
            "                                                                  n           n  g    \n",
            "                                                                              d       \n",
            "                                                                              a       \n",
            "                                                                              b       \n",
            "                                                                              l       \n",
            "                                                                              y       \n",
            "\n",
            "Precision = 0.860759\n",
            "Recall = 0.606509\n",
            "AER = 0.270642\n"
          ]
        }
      ],
      "source": [
        "# it is an attempt to compare my aligner with off-the-shelf aligner on full data\n",
        "# using almost the SAME time of run to eliminate effect of longer running\n",
        "! cd ./jhu-mt-hw/hw2/ && python ../../em-align -i 2 -b 1 -s 0 | python score-alignments -n 1"
      ]
    },
    {
      "cell_type": "markdown",
      "metadata": {
        "id": "-3zycG2a-REs"
      },
      "source": [
        "Conclusion: my implementation of 'IBM model I' can deliver comparably good AER (0.24 with 10 iterations of EM, 0.27 with only 2 iterations) on full available data. Whereas off-the-shelf fast_align even on first 1000 of sentences gives low error rate (0.29 vs. 0.5 in my implementation), and on full data it gives AER=~0.2."
      ]
    },
    {
      "cell_type": "markdown",
      "metadata": {
        "id": "LXqibbTk2396"
      },
      "source": [
        "## Extra\n",
        "\n",
        "Implement an aligner that improves over your implementation of IBM Model 1. Some ideas are suggested in the JHU homework assignment:\n",
        "\n",
        "- Implement [a model that prefers to align words close to the diagonal](http://aclweb.org/anthology/N/N13/N13-1073.pdf).\n",
        "- Implement [an HMM alignment model](https://aclanthology.org/C96-2141.pdf).\n",
        "- Implement [a morphologically-aware alignment model](https://aclanthology.org/N13-1140.pdf).\n",
        "- [Use maximum a posteriori inference under a Bayesian prior](https://aclanthology.org/P11-2032.pdf).\n",
        "- Train a French-English model and an English-French model and [combine their predictions](https://aclanthology.org/N06-1014.pdf).\n",
        "- Train [a supervised discriminative alignment model](https://aclanthology.org/P06-1009.pdf) on the annotated development set.\n",
        "- Train [an unsupervised discriminative alignment model](https://aclanthology.org/P11-1042.pdf)."
      ]
    },
    {
      "cell_type": "markdown",
      "metadata": {
        "id": "SCBs6Ci5-6h5"
      },
      "source": [
        "I have decided to implement combination of French-English model and English-French model. However, I have done the simpliest version of it by choosing alignments, where both models agree and omitting other cases. [Alignment by Agreement](https://aclanthology.org/N06-1014.pdf) proposed better approach. Possibly, I will implement it later."
      ]
    },
    {
      "cell_type": "markdown",
      "metadata": {
        "id": "QtXZCa-9306b"
      },
      "source": [
        "## Submissions\n",
        "\n",
        "Submit your code and document all your evaluation results. Submit at least one alignment visualization from your system in comparison to the baseline system and the off-the-shelf aligner so we can discuss it in class."
      ]
    }
  ],
  "metadata": {
    "colab": {
      "collapsed_sections": [],
      "name": "HW5_CL_word_alignment.ipynb",
      "provenance": []
    },
    "kernelspec": {
      "display_name": "Python 3",
      "name": "python3"
    },
    "language_info": {
      "codemirror_mode": {
        "name": "ipython",
        "version": 3
      },
      "file_extension": ".py",
      "mimetype": "text/x-python",
      "name": "python",
      "nbconvert_exporter": "python",
      "pygments_lexer": "ipython3",
      "version": "3.8.2"
    }
  },
  "nbformat": 4,
  "nbformat_minor": 0
}