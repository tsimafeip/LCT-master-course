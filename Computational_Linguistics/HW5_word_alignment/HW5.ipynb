{
  "cells": [
    {
      "cell_type": "markdown",
      "metadata": {
        "id": "9C1Hx-kDqlqM"
      },
      "source": [
        "# Word alignments\n",
        "\n",
        "Aligning sentences and words are central tasks in statistical machine transla- tion (SMT). In this assignment, you get to implement a word aligner. Given pairs of aligned sentences in two languages, source and target, the goal is to align source words to their target translations. The resulting alignments might contain unaligned or multiply aligned words, i.e., the word alignments are generally m:n, which makes the task challenging.\n",
        "\n",
        "This assignment is almost identical to the first assignment of a well-known online course on SMT, which is available here: http://mt-class.org/jhu/hw1.html. The task is to train and evaluate IBM Model 1 for word ali- gnments. The EM algorithm for training Model 1 is explained very well in the tutorial by Adam Lopez, which is linked from mt-class and our course website.\n",
        "\n",
        "**Important**: For some reason, the Lopez tutorial systematically flips the role of English and Foreign strings, compared to the lecture slides. The text of the mt-class assignment is consistent with this, but the presentation on the lecture slides is consistent with the original publication of IBM Model 1 and a lot of other material, such as Koehn’s textbook on SMT. **Please implement the assignment as stated on the mt-class site**, with word translation probabilities P (f | e) and the assumption that each Foreign word is aligned to at most one English word."
      ]
    },
    {
      "cell_type": "markdown",
      "metadata": {
        "id": "G93uYCXxqoWn"
      },
      "source": [
        "The key points are as follows:\n",
        "\n",
        "1. Clone the repository from https://github.com/xutaima/jhu-mt-hw, using Git. Observe that the repository contains some Python code and a dataset of 100,000 English-French sentence pairs ('hansards.e' and 'hansards.f') in the folder hw2. The first 37 sentence pairs are manually aligned, and these manual alignments are encoded in the file 'hansards.a'."
      ]
    },
    {
      "cell_type": "code",
      "execution_count": 1,
      "metadata": {
        "colab": {
          "base_uri": "https://localhost:8080/"
        },
        "id": "0AnJ9kz2q8rP",
        "outputId": "916bff38-de95-4866-9cfa-a5f23625ec20"
      },
      "outputs": [
        {
          "output_type": "stream",
          "name": "stdout",
          "text": [
            "Cloning into 'jhu-mt-hw'...\n",
            "remote: Enumerating objects: 55, done.\u001b[K\n",
            "remote: Counting objects: 100% (8/8), done.\u001b[K\n",
            "remote: Compressing objects: 100% (8/8), done.\u001b[K\n",
            "remote: Total 55 (delta 0), reused 1 (delta 0), pack-reused 47\u001b[K\n",
            "Unpacking objects: 100% (55/55), done.\n"
          ]
        }
      ],
      "source": [
        "! git clone https://github.com/xutaima/jhu-mt-hw"
      ]
    },
    {
      "cell_type": "markdown",
      "metadata": {
        "id": "HCNmow6swFGX"
      },
      "source": [
        "## Baseline\n",
        "\n",
        "2. Get to know the code of the aligner. It provides a very simple baseline system; test it through the provided command-line interface. Determine the Alignment Error Rate (AER) of the baseline system, using the score-alignments script, and submit the result. Observe that it is terrible; word alignments are not an easy problem."
      ]
    },
    {
      "cell_type": "markdown",
      "metadata": {
        "id": "ORNs9iMRFD6_"
      },
      "source": [
        "Summary of the base alignment algorithm from 'align' file:\n",
        "0. Input: parallel sentences; threshold for Dice' coefficient; number of sentences to use.\n",
        "1. Create list of tuples of format (list_of_split_f_words, list_of_split_e_words). Splitting is done by space.\n",
        "2. Count all unique (f, e) tuples of words in the parallel sentences. Please note that only F_E tuples are considered, no E_F. Also, we count all unique f and e words.\n",
        "3. Iterate by (f, e) counter and calculate [Dice coefficient](https://en.wikipedia.org/wiki/Sørensen–Dice_coefficient):\n",
        "\n",
        "$$DSC =  \\frac{2  |X \\cap Y|}{|X| + |Y|}$$\n",
        "4. Dice's coefficient for each pair will be in range [0, 1].\n",
        "Hence, for pairs with value upper than the provided threshold (0.5 by default) think that they are aligned."
      ]
    },
    {
      "cell_type": "code",
      "execution_count": 2,
      "metadata": {
        "colab": {
          "base_uri": "https://localhost:8080/"
        },
        "id": "kDcWtd0zweVz",
        "outputId": "c8e5bfde-8003-4f61-b7df-3198d7e302be"
      },
      "outputs": [
        {
          "output_type": "stream",
          "name": "stdout",
          "text": [
            "Training with Dice's coefficient.......................................\n",
            "Precision = 0.247944\n",
            "Recall = 0.653846\n",
            "AER = 0.680563\n"
          ]
        }
      ],
      "source": [
        "! cd ./jhu-mt-hw/hw2/ && python align -n 1000 | python score-alignments -n 0"
      ]
    },
    {
      "cell_type": "code",
      "execution_count": 3,
      "metadata": {
        "colab": {
          "base_uri": "https://localhost:8080/"
        },
        "id": "JcpzaBICyF3K",
        "outputId": "81a9811c-aea6-4fe7-ff36-b5edf0cf2ac0"
      },
      "outputs": [
        {
          "output_type": "stream",
          "name": "stdout",
          "text": [
            "Training with Dice's coefficient.......................................................................................................................................................................................................................................................................................................\n",
            "Precision = 0.239020\n",
            "Recall = 0.594675\n",
            "AER = 0.681997\n"
          ]
        }
      ],
      "source": [
        "! cd ./jhu-mt-hw/hw2/ && python align -n 10000 | python score-alignments -n 0"
      ]
    },
    {
      "cell_type": "code",
      "execution_count": 4,
      "metadata": {
        "colab": {
          "base_uri": "https://localhost:8080/"
        },
        "id": "2YwZsEOrykNz",
        "outputId": "60e94d07-8327-4e00-8255-412bdd8f38b5"
      },
      "outputs": [
        {
          "output_type": "stream",
          "name": "stdout",
          "text": [
            "Training with Dice's coefficient.......................................\n",
            "Precision = 0.220453\n",
            "Recall = 0.721893\n",
            "AER = 0.709249\n"
          ]
        }
      ],
      "source": [
        "! cd ./jhu-mt-hw/hw2/ && python align -t 0.4 -n 1000 | python score-alignments -n 0"
      ]
    },
    {
      "cell_type": "markdown",
      "metadata": {
        "id": "tt1Kb-AA2Se2"
      },
      "source": [
        "## IBM Model 1\n",
        "\n",
        "3. Your task is to improve over the baseline by implementing an aligner based on IBM Model 1. Your program should learn the parameters P (f | e) of Model 1 from the given data, and then use them to compute optimal alignments. Submit the AER for your implementation. Feel free to use NLTK if you find it helpful, but note that anything in the nltk.align and nltk.translate packages is disallowed in this assignment."
      ]
    },
    {
      "cell_type": "code",
      "source": [
        "%%capture\n",
        "! wget https://raw.githubusercontent.com/tsimafeip/LCT-master-course/main/Computational_Linguistics/HW5_word_alignment/em-align "
      ],
      "metadata": {
        "id": "a2Cv9rZ8OxpS"
      },
      "execution_count": 5,
      "outputs": []
    },
    {
      "cell_type": "code",
      "execution_count": 6,
      "metadata": {
        "colab": {
          "base_uri": "https://localhost:8080/"
        },
        "id": "3fVjpBunH8q1",
        "outputId": "d6a7e1a7-6a62-4cc4-85f4-f142b9d895d4"
      },
      "outputs": [
        {
          "output_type": "stream",
          "name": "stdout",
          "text": [
            "100% 100/100 [01:16<00:00,  1.31it/s]\n",
            "  Alignment 0  KEY: ( ) = guessed, * = sure, ? = possible\n",
            "  ------------------------------------------------------------------------------------\n",
            " | *             ( )                                                                   | chacun\n",
            " |    ?                                                 ( )                            | en\n",
            " |       ?       ( )                                                                   | lui\n",
            " |       ?                                                       ( )                   | -\n",
            " |       ?       ( )                                                                   | même\n",
            " |         (*)                                                                         | est\n",
            " |            (*)                                                                      | très\n",
            " |                *          ( )                                                       | complexe\n",
            " |                                                   ( )                               | et\n",
            " |                        (*)                                                          | le\n",
            " |                           (*)                                                       | lien\n",
            " |                              (*)                                                    | entre\n",
            " |                                  *                                     ( )          | les\n",
            " |                                    (*)                                              | deux\n",
            " |                        ( )                      ?                                   | le\n",
            " |         ( )                            *                                            | est\n",
            " |                                          (?)                                        | encore\n",
            " |               ( )                            ?  ?                                   | davantage\n",
            " |   ( )                                              ?                                | de\n",
            " |                           ( )                      ?                                | sorte\n",
            " |                                                    ?       ( )                      | que\n",
            " |      ( )                                                          *                 | pour\n",
            " |                           ( )                                        ?  ?           | beaucoup\n",
            " |                                                          *          ( )             | la\n",
            " |                           ( )                                  *                    | situation\n",
            " |                           ( )                                                       | présente\n",
            " |         ( )                                           ?                       ?     | est\n",
            " |                           ( )                         ?                       ?     | confuse\n",
            " |                                                                                 (*) | .\n",
            "  ------------------------------------------------------------------------------------\n",
            "   e  o  t  i  v  c  ,  b  t  l  b  t  t  i  e  m  c  w  m  t  w  s  f  m  p  u  c  . \n",
            "   a  f  h  s  e  o     u  h  i  e  h  w  s  v  o  o  h  a  h  h  i  o  o  e  n  o    \n",
            "   c     e     r  m     t  e  n  t  e  o     e  r  m  i  k  e  o  t  r  s  o  d  n    \n",
            "   h     m     y  p           k  w           n  e  p  c  e     l  u     t  p  e  f    \n",
            "                  l              e                 l  h  s     e  a        l  r  u    \n",
            "                  e              e                 e              t        e  s  s    \n",
            "                  x              n                 x              i           t  i    \n",
            "                                                                  o           a  n    \n",
            "                                                                  n           n  g    \n",
            "                                                                              d       \n",
            "                                                                              a       \n",
            "                                                                              b       \n",
            "                                                                              l       \n",
            "                                                                              y       \n",
            "\n",
            "Precision = 0.449376\n",
            "Recall = 0.594675\n",
            "AER = 0.504249\n"
          ]
        }
      ],
      "source": [
        "! cd ./jhu-mt-hw/hw2/ && python ../../em-align -n 1000 | python score-alignments -n 1"
      ]
    },
    {
      "cell_type": "code",
      "execution_count": 7,
      "metadata": {
        "colab": {
          "base_uri": "https://localhost:8080/"
        },
        "id": "HcNNCAfHH8q2",
        "outputId": "cafeebc1-dcb0-49bf-87f3-021eb3011eca"
      },
      "outputs": [
        {
          "output_type": "stream",
          "name": "stdout",
          "text": [
            "Training with Dice's coefficient.......................................\n",
            "  Alignment 0  KEY: ( ) = guessed, * = sure, ? = possible\n",
            "  ------------------------------------------------------------------------------------\n",
            " | *                                                                                   | chacun\n",
            " |    ?                                                                                | en\n",
            " |       ?                                                                             | lui\n",
            " |       ?                                                                             | -\n",
            " |       ?                                                                             | même\n",
            " |         (*)                           ( )                                           | est\n",
            " |             *                                                                       | très\n",
            " |               (*)         ( )            ( )   ( )            ( )         ( )( )    | complexe\n",
            " |                                                                                     | et\n",
            " |   ( )            ( )   (*)      ( )                     ( )                     ( ) | le\n",
            " |               ( )         (*)            ( )   ( )            ( )         ( )( )    | lien\n",
            " |                               *                                                     | entre\n",
            " |   ( )                  ( )      (*)                     ( )                     ( ) | les\n",
            " |                                    (*)                                              | deux\n",
            " |   ( )            ( )   ( )      ( )             ?       ( )                     ( ) | le\n",
            " |         ( )                           (*)                                           | est\n",
            " |                                           ?                                         | encore\n",
            " |                                          ( ) ?  ?                                   | davantage\n",
            " |   ( )            ( )   ( )      ( )                ?    ( )                     ( ) | de\n",
            " |                                                    ?                                | sorte\n",
            " |                                                    ?                                | que\n",
            " |                                                                   *                 | pour\n",
            " |                                                                      ?  ?           | beaucoup\n",
            " |                        ( )      ( )                     (*)                         | la\n",
            " |                                                                *                    | situation\n",
            " |               ( )         ( )            ( )   ( )            ( )         ( )( )    | présente\n",
            " |         ( )                           ( )             ?                       ?     | est\n",
            " |               ( )         ( )            ( )   ( )    ?       ( )         ( )(?)    | confuse\n",
            " |   ( )            ( )   ( )      ( )                     ( )                     (*) | .\n",
            "  ------------------------------------------------------------------------------------\n",
            "   e  o  t  i  v  c  ,  b  t  l  b  t  t  i  e  m  c  w  m  t  w  s  f  m  p  u  c  . \n",
            "   a  f  h  s  e  o     u  h  i  e  h  w  s  v  o  o  h  a  h  h  i  o  o  e  n  o    \n",
            "   c     e     r  m     t  e  n  t  e  o     e  r  m  i  k  e  o  t  r  s  o  d  n    \n",
            "   h     m     y  p           k  w           n  e  p  c  e     l  u     t  p  e  f    \n",
            "                  l              e                 l  h  s     e  a        l  r  u    \n",
            "                  e              e                 e              t        e  s  s    \n",
            "                  x              n                 x              i           t  i    \n",
            "                                                                  o           a  n    \n",
            "                                                                  n           n  g    \n",
            "                                                                              d       \n",
            "                                                                              a       \n",
            "                                                                              b       \n",
            "                                                                              l       \n",
            "                                                                              y       \n",
            "\n",
            "Precision = 0.247944\n",
            "Recall = 0.653846\n",
            "AER = 0.680563\n"
          ]
        }
      ],
      "source": [
        "! cd ./jhu-mt-hw/hw2/ && python align -n 1000 | python score-alignments -n 1"
      ]
    },
    {
      "cell_type": "code",
      "execution_count": 8,
      "metadata": {
        "colab": {
          "base_uri": "https://localhost:8080/"
        },
        "id": "1b0A7BVoH8q3",
        "outputId": "fa791f90-1ead-438c-aa01-c9abc94b9cdd"
      },
      "outputs": [
        {
          "output_type": "stream",
          "name": "stdout",
          "text": [
            "100% 100/100 [19:46<00:00, 11.86s/it]\n",
            "  Alignment 0  KEY: ( ) = guessed, * = sure, ? = possible\n",
            "  ------------------------------------------------------------------------------------\n",
            " | *                                                                         ( )       | chacun\n",
            " |    ?                                                 ( )                            | en\n",
            " |       ?                                                                   ( )       | lui\n",
            " |       ?                                                    ( )                      | -\n",
            " |       ?                                  ( )                                        | même\n",
            " |         (*)                                                                         | est\n",
            " |            (*)                                                                      | très\n",
            " |               (*)                                                                   | complexe\n",
            " |                              ( )                                                    | et\n",
            " |                        (*)                                                          | le\n",
            " |                            *                                              ( )       | lien\n",
            " |                              (*)                                                    | entre\n",
            " |      ( )                         *                                                  | les\n",
            " |                                    (*)                                              | deux\n",
            " |                        ( )                      ?                                   | le\n",
            " |         ( )                            *                                            | est\n",
            " |                                          (?)                                        | encore\n",
            " |                                              ?  ?    ( )                            | davantage\n",
            " |   ( )                                              ?                                | de\n",
            " |                                                    ?                      ( )       | sorte\n",
            " |               ( )                                  ?                                | que\n",
            " |                                                                  (*)                | pour\n",
            " |               ( )                                                    ?  ?           | beaucoup\n",
            " |                                                          *          ( )             | la\n",
            " |                                                               (*)                   | situation\n",
            " |                                                                           ( )       | présente\n",
            " |         ( )                                           ?                       ?     | est\n",
            " |                                                       ?                   ( ) ?     | confuse\n",
            " |                                                                                 (*) | .\n",
            "  ------------------------------------------------------------------------------------\n",
            "   e  o  t  i  v  c  ,  b  t  l  b  t  t  i  e  m  c  w  m  t  w  s  f  m  p  u  c  . \n",
            "   a  f  h  s  e  o     u  h  i  e  h  w  s  v  o  o  h  a  h  h  i  o  o  e  n  o    \n",
            "   c     e     r  m     t  e  n  t  e  o     e  r  m  i  k  e  o  t  r  s  o  d  n    \n",
            "   h     m     y  p           k  w           n  e  p  c  e     l  u     t  p  e  f    \n",
            "                  l              e                 l  h  s     e  a        l  r  u    \n",
            "                  e              e                 e              t        e  s  s    \n",
            "                  x              n                 x              i           t  i    \n",
            "                                                                  o           a  n    \n",
            "                                                                  n           n  g    \n",
            "                                                                              d       \n",
            "                                                                              a       \n",
            "                                                                              b       \n",
            "                                                                              l       \n",
            "                                                                              y       \n",
            "\n",
            "Precision = 0.535368\n",
            "Recall = 0.698225\n",
            "AER = 0.412653\n"
          ]
        }
      ],
      "source": [
        "! cd ./jhu-mt-hw/hw2/ && python ../../em-align -n 10000 | python score-alignments -n 1"
      ]
    },
    {
      "cell_type": "markdown",
      "metadata": {
        "id": "qlrmNyNL2cY9"
      },
      "source": [
        "## Results Analysis\n",
        "\n",
        "In addition to what is required in the JHU assignment, experiment also with an off-the-shelf aligner of your choice. GIZA++ used to be the standard, but is now hard to compile. Depending on your preference of programming language, you might try [MGIZA](https://github.com/moses-smt/mgiza), [fast align](https://github.com/clab/fast_align), or [the Berkeley aligner](https://github.com/mhajiloo/berkeleyaligner). Compare your IBM Model 1 to the implementation of Model 1 in the off-the-shelf aligner (if available) and another Model i > 1 of your choice."
      ]
    },
    {
      "cell_type": "markdown",
      "source": [
        "I have decided to use fast align. This tool requires data in one file with '|||' as separator:"
      ],
      "metadata": {
        "id": "yfxXAHSGJHEL"
      }
    },
    {
      "cell_type": "code",
      "source": [
        "import os\n",
        "from typing import List, Optional\n",
        "\n",
        "path_to_data = ['.', 'jhu-mt-hw', 'hw2', 'data']\n",
        "f_filename = 'hansards.f'\n",
        "e_filename = 'hansards.e'"
      ],
      "metadata": {
        "id": "nRA8e_y6JjPe"
      },
      "execution_count": 9,
      "outputs": []
    },
    {
      "cell_type": "code",
      "source": [
        "def prepare_data_for_fastalign(path_to_data: List[str],\n",
        "                               source_filename: str, target_filename: str,\n",
        "                               res_filename: Optional[str] = None,\n",
        "                               sentences_num: int = -1) -> str:\n",
        "    \"\"\"\n",
        "    Converts data to fast_align format.\n",
        "\n",
        "    Parameters\n",
        "    ----------\n",
        "    path_to_data : List[int]\n",
        "        Path to folder with training data.\n",
        "    source_filename : str\n",
        "        Filename of source file.\n",
        "    target_filename : str\n",
        "        Filename of target file.\n",
        "    res_filename : Optional[str]\n",
        "        Optional filename of the resulting file. \n",
        "        If not set, then 'fast_align_data.txt' default value is used.\n",
        "    sentences_num : int\n",
        "        Optional number of training sentences.\n",
        "        If not set, then all available data will be used.\n",
        "\n",
        "    Returns\n",
        "    -------\n",
        "    str\n",
        "        Path to resulting file in fast_align format.\n",
        "    \"\"\"\n",
        "    if res_filename is None:\n",
        "        res_filename = 'fast_align_data.txt'\n",
        "    \n",
        "    fast_align_separator = '|||'\n",
        "    path_to_target_data = os.path.join(*path_to_data, target_filename)\n",
        "    path_to_source_data = os.path.join(*path_to_data, source_filename)\n",
        "\n",
        "    with open(path_to_target_data, 'r') as target_file, \\\n",
        "         open(path_to_source_data, 'r') as source_file, \\\n",
        "         open(res_filename, 'w') as res_file:\n",
        "        for i, (source_sent, target_sent) in enumerate(zip(source_file, target_file)):\n",
        "            if sentences_num != -1 and i == sentences_num:\n",
        "                break\n",
        "\n",
        "            source_sent = source_sent.strip()\n",
        "            target_sent = target_sent.strip()\n",
        "            res_file.write(f'{source_sent} {fast_align_separator} {target_sent}\\n')\n",
        "    \n",
        "    return path_to_res_file"
      ],
      "metadata": {
        "id": "P1-BiLbwJTre"
      },
      "execution_count": 10,
      "outputs": []
    },
    {
      "cell_type": "code",
      "source": [
        "# source and target sides were chosen with respect to output format of fast_align\n",
        "# and requirements of the task ('each Foreign word is aligned to at most one English word').\n",
        "path_to_res_file = prepare_data_for_fastalign(path_to_data=path_to_data, \n",
        "                                              source_filename=f_filename,\n",
        "                                              target_filename=e_filename, \n",
        "                                              sentences_num=1000)"
      ],
      "metadata": {
        "colab": {
          "base_uri": "https://localhost:8080/"
        },
        "id": "DJBTgLX_MD4H",
        "outputId": "1162aa51-e8e0-42e4-9258-151afd909f35"
      },
      "execution_count": 11,
      "outputs": [
        {
          "output_type": "stream",
          "name": "stdout",
          "text": [
            "./fast_align_data.txt\n"
          ]
        }
      ]
    },
    {
      "cell_type": "code",
      "execution_count": 12,
      "metadata": {
        "id": "YFwjRxdN2uk2"
      },
      "outputs": [],
      "source": [
        "# install fast_align with dependencies and build it.\n",
        "%%capture\n",
        "! sudo apt-get install libgoogle-perftools-dev libsparsehash-dev\n",
        "! git clone https://github.com/clab/fast_align\n",
        "! cd fast_align && mkdir build && cd build && cmake .. && make"
      ]
    },
    {
      "cell_type": "code",
      "source": [
        "# runs fast_align based on data produced above\n",
        "# set of flag was chosen based on examples provided in fast_align README\n",
        "# please note, that we add here -r flag, which means 'reverse'\n",
        "! cd ./jhu-mt-hw/hw2/ && ../../fast_align/build/fast_align -i ../../$path_to_res_file -d -o -v -r 2>/dev/null | python score-alignments -n 1"
      ],
      "metadata": {
        "colab": {
          "base_uri": "https://localhost:8080/"
        },
        "id": "ioA_k-zrOQiM",
        "outputId": "4d65b966-f8e4-43a6-9af5-1873fc1b8bda"
      },
      "execution_count": 13,
      "outputs": [
        {
          "output_type": "stream",
          "name": "stdout",
          "text": [
            "  Alignment 0  KEY: ( ) = guessed, * = sure, ? = possible\n",
            "  ------------------------------------------------------------------------------------\n",
            " |(*)                                                                                  | chacun\n",
            " |    ? ( )                                                                            | en\n",
            " |       ?                                                                             | lui\n",
            " |       ?                                                                             | -\n",
            " |       ?          ( )                                                                | même\n",
            " |         (*)                                                                         | est\n",
            " |            (*)                                                                      | très\n",
            " |               (*)                                                                   | complexe\n",
            " |                  ( )                                                                | et\n",
            " |                        (*)                                                          | le\n",
            " |                           (*)                                                       | lien\n",
            " |                              (*)                                                    | entre\n",
            " |                                 (*)                                                 | les\n",
            " |                                    (*)                                              | deux\n",
            " |                                 ( )             ?                                   | le\n",
            " |                                       (*)                                           | est\n",
            " |                                          (?)                                        | encore\n",
            " |                                             (?) ?                                   | davantage\n",
            " |                                                    ?                                | de\n",
            " |                                                    ?    ( )                         | sorte\n",
            " |                                                    ?    ( )                         | que\n",
            " |                                                                  (*)                | pour\n",
            " |                                             ( )                      ?  ?           | beaucoup\n",
            " |                                                          *          ( )             | la\n",
            " |                                                                *                    | situation\n",
            " |                                                                           ( )       | présente\n",
            " |                                                       ?                ( )    ?     | est\n",
            " |                                                       ?                      (?)    | confuse\n",
            " |                                                                                 (*) | .\n",
            "  ------------------------------------------------------------------------------------\n",
            "   e  o  t  i  v  c  ,  b  t  l  b  t  t  i  e  m  c  w  m  t  w  s  f  m  p  u  c  . \n",
            "   a  f  h  s  e  o     u  h  i  e  h  w  s  v  o  o  h  a  h  h  i  o  o  e  n  o    \n",
            "   c     e     r  m     t  e  n  t  e  o     e  r  m  i  k  e  o  t  r  s  o  d  n    \n",
            "   h     m     y  p           k  w           n  e  p  c  e     l  u     t  p  e  f    \n",
            "                  l              e                 l  h  s     e  a        l  r  u    \n",
            "                  e              e                 e              t        e  s  s    \n",
            "                  x              n                 x              i           t  i    \n",
            "                                                                  o           a  n    \n",
            "                                                                  n           n  g    \n",
            "                                                                              d       \n",
            "                                                                              a       \n",
            "                                                                              b       \n",
            "                                                                              l       \n",
            "                                                                              y       \n",
            "\n",
            "Precision = 0.685157\n",
            "Recall = 0.736686\n",
            "AER = 0.297512\n"
          ]
        }
      ]
    },
    {
      "cell_type": "markdown",
      "metadata": {
        "id": "LXqibbTk2396"
      },
      "source": [
        "## Extra\n",
        "\n",
        "Implement an aligner that improves over your implementation of IBM Model 1. Some ideas are suggested in the JHU homework assignment:\n",
        "\n",
        "- Implement [a model that prefers to align words close to the diagonal](http://aclweb.org/anthology/N/N13/N13-1073.pdf).\n",
        "- Implement [an HMM alignment model](https://aclanthology.org/C96-2141.pdf).\n",
        "- Implement [a morphologically-aware alignment model](https://aclanthology.org/N13-1140.pdf).\n",
        "- [Use maximum a posteriori inference under a Bayesian prior](https://aclanthology.org/P11-2032.pdf).\n",
        "- Train a French-English model and an English-French model and [combine their predictions](https://aclanthology.org/N06-1014.pdf).\n",
        "- Train [a supervised discriminative alignment model](https://aclanthology.org/P06-1009.pdf) on the annotated development set.\n",
        "- Train [an unsupervised discriminative alignment model](https://aclanthology.org/P11-1042.pdf)."
      ]
    },
    {
      "cell_type": "code",
      "execution_count": 13,
      "metadata": {
        "id": "SY-FY7QB30kr"
      },
      "outputs": [],
      "source": [
        ""
      ]
    },
    {
      "cell_type": "markdown",
      "metadata": {
        "id": "QtXZCa-9306b"
      },
      "source": [
        "## Submissions\n",
        "\n",
        "Submit your code and document all your evaluation results. Submit at least one alignment visualization from your system in comparison to the baseline system and the off-the-shelf aligner so we can discuss it in class."
      ]
    }
  ],
  "metadata": {
    "colab": {
      "collapsed_sections": [],
      "name": "HW5_CL_word_alignment.ipynb",
      "provenance": []
    },
    "kernelspec": {
      "display_name": "Python 3",
      "name": "python3"
    },
    "language_info": {
      "codemirror_mode": {
        "name": "ipython",
        "version": 3
      },
      "file_extension": ".py",
      "mimetype": "text/x-python",
      "name": "python",
      "nbconvert_exporter": "python",
      "pygments_lexer": "ipython3",
      "version": "3.8.2"
    }
  },
  "nbformat": 4,
  "nbformat_minor": 0
}