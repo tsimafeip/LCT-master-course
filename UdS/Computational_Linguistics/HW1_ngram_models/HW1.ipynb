{
  "nbformat": 4,
  "nbformat_minor": 0,
  "metadata": {
    "colab": {
      "name": "HW1.ipynb",
      "provenance": []
    },
    "kernelspec": {
      "name": "python3",
      "display_name": "Python 3"
    },
    "language_info": {
      "name": "python"
    }
  },
  "cells": [
    {
      "cell_type": "markdown",
      "metadata": {
        "id": "geVXTsHYD8e8"
      },
      "source": [
        ">>> **1. Zipf ’s Law**\n",
        "\n",
        "\n",
        "Empirically verify Zipf’s law. \n",
        "\n",
        "Use the following freely available corpora: <br>\n",
        "• King James Bible (on Classroom)<br>\n",
        "• The Jungle Book (on Classroom) <br>\n",
        "• SETIMES Turkish-Bulgarian parallel newspaper text \n",
        "http://opus.lingfil.uu.se/download.php?f=SETIMES2/bg-tr.txt.zip <br>\n",
        "\n",
        "1) For each corpus, compute a list of unique words sorted by descending frequency. Feel free to tokenize however you like, e.g. by splitting at whitespace.\n",
        "\n",
        "2) Use the Python library matplotlib to plot the frequency curves for the corpora, i.e. x-axis is position in the frequency list, y-axis is frequency. Make\n",
        "sure to provide both a plot with linear axes and one with log-log axes (see\n",
        "methods matplotlib.pyplot.plot and matplotlib.pyplot.loglog) for\n",
        "each corpus.\n",
        "\n",
        "3) Provide a brief discussion of the findings, as well as the source code."
      ]
    },
    {
      "cell_type": "code",
      "metadata": {
        "id": "M2rL4ned6UHk"
      },
      "source": [
        "%matplotlib inline\n",
        "\n",
        "import os\n",
        "import string\n",
        "from typing import List, Tuple\n",
        "from collections import Counter\n",
        "from functools import wraps\n",
        "from timeit import default_timer as timer\n",
        "\n",
        "import nltk\n",
        "import matplotlib\n",
        "import matplotlib.pyplot as plt"
      ],
      "execution_count": 1,
      "outputs": []
    },
    {
      "cell_type": "code",
      "metadata": {
        "id": "SOBCCrxzDz75"
      },
      "source": [
        "%%capture\n",
        "# Data loading\n",
        "\n",
        "if not os.path.exists(\"/content/junglebook.txt\"):\n",
        "    !wget https://raw.githubusercontent.com/tsimafeip/LCT-master-course/main/UdS/Computational_Linguistics/HW1_ngram_models/junglebook.txt\n",
        "\n",
        "if not os.path.exists(\"/content/kingjamesbible_tokenized.txt\"):\n",
        "    !wget https://raw.githubusercontent.com/tsimafeip/LCT-master-course/main/UdS/Computational_Linguistics/HW1_ngram_models/kingjamesbible_tokenized.txt\n",
        "\n",
        "if not os.path.exists(\"/content/SETIMES.bg-tr.tr\") or not os.path.exists(\"/content/SETIMES.bg-tr.bg\"):\n",
        "    !wget http://opus.lingfil.uu.se/download.php?f=SETIMES2/bg-tr.txt.zip -O tr-bg-corpora.zip\n",
        "    !unzip tr-bg-corpora.zip\n",
        "    !rm tr-bg-corpora.zip LICENSE README SETIMES.bg-tr.ids"
      ],
      "execution_count": 2,
      "outputs": []
    },
    {
      "cell_type": "code",
      "metadata": {
        "id": "YEKS5CIvD4bd",
        "colab": {
          "base_uri": "https://localhost:8080/"
        },
        "outputId": "d29e7f30-db4a-4a0c-fa24-2c1a7055bf9b"
      },
      "source": [
        "# It is expected to see here the following files: \n",
        "# - junglebook.txt\n",
        "# - kingjamesbible_tokenized.txt\n",
        "# - SETIMES.bg-tr.bg\n",
        "# - SETIMES.bg-tr.tr\n",
        "! ls"
      ],
      "execution_count": 3,
      "outputs": [
        {
          "output_type": "stream",
          "name": "stdout",
          "text": [
            "junglebook.txt\t\t      sample_data\tSETIMES.bg-tr.tr\n",
            "kingjamesbible_tokenized.txt  SETIMES.bg-tr.bg\n"
          ]
        }
      ]
    },
    {
      "cell_type": "code",
      "metadata": {
        "id": "fDoZR9q--E4u"
      },
      "source": [
        "%%capture\n",
        "\n",
        "# initial preparation\n",
        "\n",
        "# downloading data for nltk tokenization and some literary texts for the 2d task\n",
        "nltk.download('punkt')\n",
        "nltk.download('gutenberg')\n",
        "\n",
        "# creating set of punctuations to exclude them from list of tokens\n",
        "punctuation = set(string.punctuation)\n",
        "punctuation.update([\"''\", '``', '—'])"
      ],
      "execution_count": 4,
      "outputs": []
    },
    {
      "cell_type": "code",
      "metadata": {
        "id": "2pBIg99AGhN4"
      },
      "source": [
        "def timing(f):\n",
        "    \"\"\"Simple decorator to measure execution time for the function\"\"\"\n",
        "    @wraps(f)\n",
        "    def wrap(*args, **kw):\n",
        "        start = timer()\n",
        "        result = f(*args, **kw)\n",
        "        end = timer()\n",
        "        print(f\"Time elapsed: {end-start}\")\n",
        "        return result\n",
        "    return wrap"
      ],
      "execution_count": 5,
      "outputs": []
    },
    {
      "cell_type": "code",
      "metadata": {
        "id": "CwrJCe6J6Opr"
      },
      "source": [
        "@timing\n",
        "def read_data_and_return_tokens(filename: str, encoding: str = 'utf-8-sig', tokenize: bool = True,\n",
        "                                exclude_punctuation: bool = True) -> List[str]:\n",
        "    \"\"\"\n",
        "    Reads data from the provided filepath and returns list of tokens.\n",
        "\n",
        "    By default following parameters are applied:\n",
        "      - 'utf-8-sig' encoding\n",
        "      - tokenization (separation) of punctuation from actual words\n",
        "      - exclusion of punctuation tokens from word list\n",
        "    \"\"\"\n",
        "    print(f\"Processing the following file: {filename}...\")\n",
        "    tokens = []\n",
        "    with open(filename, 'r', encoding=encoding) as f:\n",
        "      for line in f:\n",
        "        tokenized_line = nltk.word_tokenize(line.strip()) if tokenize else line.strip().split()\n",
        "        if exclude_punctuation:\n",
        "            tokenized_line = [token for token in tokenized_line if token not in punctuation]\n",
        "        tokens.extend(tokenized_line)\n",
        "\n",
        "    return tokens"
      ],
      "execution_count": 6,
      "outputs": []
    },
    {
      "cell_type": "code",
      "metadata": {
        "id": "EQvZM3pK_d71"
      },
      "source": [
        "def discover_data_and_return_ordered_frequencies(tokens: List[str]) -> List[int]:\n",
        "    \"\"\"Gives some insights about provided tokens and returns list of reversed tokens' frequencies.\"\"\"\n",
        "    print(\"First ten tokens: \", tokens[:10])\n",
        "    tokens_counter = Counter(tokens)\n",
        "    print(\"Top-10 tokens by frequency: \", tokens_counter.most_common(10))\n",
        "\n",
        "    ordered_frequencies = sorted(tokens_counter.values(), reverse=True)\n",
        "\n",
        "    return ordered_frequencies"
      ],
      "execution_count": 7,
      "outputs": []
    },
    {
      "cell_type": "code",
      "metadata": {
        "id": "MYqvfqb1M7JG"
      },
      "source": [
        "def plot_frequencies(frequency_data: List[int], loglog: bool = False):\n",
        "    if loglog:\n",
        "        plt.loglog(range(1, len(frequency_data)+1), frequency_data)\n",
        "        plt.title('Log frequency plot')\n",
        "    else:\n",
        "        plt.plot(range(1, len(frequency_data)+1), frequency_data)\n",
        "        plt.title('Basic frequency plot')"
      ],
      "execution_count": 8,
      "outputs": []
    },
    {
      "cell_type": "code",
      "metadata": {
        "colab": {
          "base_uri": "https://localhost:8080/"
        },
        "id": "RPh5S6NcMavA",
        "outputId": "1fe9f4d9-b51b-4ddb-b033-1394a90e5fdc"
      },
      "source": [
        "# using a new cell to distguish data loading from data exploring\n",
        "data_jungle = read_data_and_return_tokens('junglebook.txt')"
      ],
      "execution_count": 9,
      "outputs": [
        {
          "output_type": "stream",
          "name": "stdout",
          "text": [
            "Processing the following file: junglebook.txt...\n",
            "Time elapsed: 0.8658486499999754\n"
          ]
        }
      ]
    },
    {
      "cell_type": "code",
      "metadata": {
        "colab": {
          "base_uri": "https://localhost:8080/",
          "height": 336
        },
        "id": "jrDXOHGcM4ht",
        "outputId": "9fca974a-f762-488f-dfbc-5af63956a5cb"
      },
      "source": [
        "frequency_data = discover_data_and_return_ordered_frequencies(data_jungle)\n",
        "plot_frequencies(frequency_data)"
      ],
      "execution_count": 10,
      "outputs": [
        {
          "output_type": "stream",
          "name": "stdout",
          "text": [
            "First ten tokens:  ['The', 'Project', 'Gutenberg', 'EBook', 'of', 'The', 'jungle', 'book', 'by', 'Rudyard']\n",
            "Top-10 tokens by frequency:  [('the', 3397), ('and', 2259), ('of', 1298), ('to', 1232), ('a', 1122), ('he', 875), ('in', 720), ('I', 648), ('his', 638), ('that', 611)]\n"
          ]
        },
        {
          "output_type": "display_data",
          "data": {
            "image/png": "[encoded data removed]",
            "text/plain": [
              "<Figure size 432x288 with 1 Axes>"
            ]
          },
          "metadata": {
            "needs_background": "light"
          }
        }
      ]
    },
    {
      "cell_type": "code",
      "metadata": {
        "colab": {
          "base_uri": "https://localhost:8080/",
          "height": 305
        },
        "id": "QGAt7EG3MnJS",
        "outputId": "a387ed36-c57f-46b0-b7da-78ff99566699"
      },
      "source": [
        "plot_frequencies(frequency_data, loglog=True)"
      ],
      "execution_count": 11,
      "outputs": [
        {
          "output_type": "display_data",
          "data": {
            "image/png": "[encoded data removed]",
            "text/plain": [
              "<Figure size 432x288 with 1 Axes>"
            ]
          },
          "metadata": {
            "needs_background": "light"
          }
        }
      ]
    },
    {
      "cell_type": "code",
      "metadata": {
        "colab": {
          "base_uri": "https://localhost:8080/"
        },
        "id": "m-ZyxDWuNwuH",
        "outputId": "2d73134c-4883-48eb-bef3-81dbe4c98c84"
      },
      "source": [
        "data_bible = read_data_and_return_tokens('kingjamesbible_tokenized.txt')"
      ],
      "execution_count": 12,
      "outputs": [
        {
          "output_type": "stream",
          "name": "stdout",
          "text": [
            "Processing the following file: kingjamesbible_tokenized.txt...\n",
            "Time elapsed: 5.833581856999984\n"
          ]
        }
      ]
    },
    {
      "cell_type": "code",
      "metadata": {
        "colab": {
          "base_uri": "https://localhost:8080/",
          "height": 336
        },
        "id": "EESWcUP8CbmE",
        "outputId": "f09cf3d2-70fb-4707-a0c1-acfc6f08a94a"
      },
      "source": [
        "frequency_data = discover_data_and_return_ordered_frequencies(data_bible)\n",
        "plot_frequencies(frequency_data)"
      ],
      "execution_count": 13,
      "outputs": [
        {
          "output_type": "stream",
          "name": "stdout",
          "text": [
            "First ten tokens:  ['In', 'the', 'beginning', 'God', 'created', 'the', 'heaven', 'and', 'the', 'earth']\n",
            "Top-10 tokens by frequency:  [('the', 62064), ('and', 38846), ('of', 34427), ('to', 13378), ('And', 12847), ('that', 12576), ('in', 12331), ('shall', 9760), ('he', 9666), ('unto', 8940)]\n"
          ]
        },
        {
          "output_type": "display_data",
          "data": {
            "image/png": "[encoded data removed]",
            "text/plain": [
              "<Figure size 432x288 with 1 Axes>"
            ]
          },
          "metadata": {
            "needs_background": "light"
          }
        }
      ]
    },
    {
      "cell_type": "code",
      "metadata": {
        "colab": {
          "base_uri": "https://localhost:8080/",
          "height": 305
        },
        "id": "S3phswwIKO07",
        "outputId": "80a1e020-f282-47fb-fa15-15d97de296d6"
      },
      "source": [
        "plot_frequencies(frequency_data, loglog=True)"
      ],
      "execution_count": 14,
      "outputs": [
        {
          "output_type": "display_data",
          "data": {
            "image/png": "[encoded data removed]",
            "text/plain": [
              "<Figure size 432x288 with 1 Axes>"
            ]
          },
          "metadata": {
            "needs_background": "light"
          }
        }
      ]
    },
    {
      "cell_type": "code",
      "metadata": {
        "colab": {
          "base_uri": "https://localhost:8080/"
        },
        "id": "mkz4nWsfN4C8",
        "outputId": "591618d8-5f77-4a79-be54-11a38957e926"
      },
      "source": [
        "data_tr = read_data_and_return_tokens('SETIMES.bg-tr.tr')"
      ],
      "execution_count": 15,
      "outputs": [
        {
          "output_type": "stream",
          "name": "stdout",
          "text": [
            "Processing the following file: SETIMES.bg-tr.tr...\n",
            "Time elapsed: 43.316295688\n"
          ]
        }
      ]
    },
    {
      "cell_type": "code",
      "metadata": {
        "colab": {
          "base_uri": "https://localhost:8080/",
          "height": 336
        },
        "id": "ZhElUa2tCb04",
        "outputId": "b917667a-0565-4368-aaa2-6ddca565a3d0"
      },
      "source": [
        "frequency_data = discover_data_and_return_ordered_frequencies(data_tr)\n",
        "plot_frequencies(frequency_data)"
      ],
      "execution_count": 16,
      "outputs": [
        {
          "output_type": "stream",
          "name": "stdout",
          "text": [
            "First ten tokens:  ['Hırvat', 'yerel', 'seçimleri', 'ikinci', 'tura', 'kaldı', 'Sonuçlar', 'başta', 'büyük', 'şehirler']\n",
            "Top-10 tokens by frequency:  [('ve', 99241), ('bir', 76150), ('için', 27414), ('bu', 21551), ('da', 20733), ('de', 20605), ('ile', 15097), ('günü', 14579), ('olarak', 14088), ('olan', 12688)]\n"
          ]
        },
        {
          "output_type": "display_data",
          "data": {
            "image/png": "[encoded data removed]",
            "text/plain": [
              "<Figure size 432x288 with 1 Axes>"
            ]
          },
          "metadata": {
            "needs_background": "light"
          }
        }
      ]
    },
    {
      "cell_type": "code",
      "metadata": {
        "colab": {
          "base_uri": "https://localhost:8080/",
          "height": 305
        },
        "id": "jarOBGMrKSlo",
        "outputId": "119c12e8-db87-4425-922b-0eb3958681c6"
      },
      "source": [
        "plot_frequencies(frequency_data, loglog=True)"
      ],
      "execution_count": 17,
      "outputs": [
        {
          "output_type": "display_data",
          "data": {
            "image/png": "[encoded data removed]",
            "text/plain": [
              "<Figure size 432x288 with 1 Axes>"
            ]
          },
          "metadata": {
            "needs_background": "light"
          }
        }
      ]
    },
    {
      "cell_type": "code",
      "metadata": {
        "colab": {
          "base_uri": "https://localhost:8080/"
        },
        "id": "3Ki0b_e2N98p",
        "outputId": "c85365ac-aded-49c9-af17-7df75dffcb65"
      },
      "source": [
        "data_bg = read_data_and_return_tokens('SETIMES.bg-tr.bg')"
      ],
      "execution_count": 18,
      "outputs": [
        {
          "output_type": "stream",
          "name": "stdout",
          "text": [
            "Processing the following file: SETIMES.bg-tr.bg...\n",
            "Time elapsed: 42.69243774199998\n"
          ]
        }
      ]
    },
    {
      "cell_type": "code",
      "metadata": {
        "colab": {
          "base_uri": "https://localhost:8080/",
          "height": 336
        },
        "id": "Z1CfuWOUCb3h",
        "outputId": "a8f718d3-a0ea-4d1a-83a0-ff64700ed306"
      },
      "source": [
        "frequency_data = discover_data_and_return_ordered_frequencies(data_bg)\n",
        "plot_frequencies(frequency_data)"
      ],
      "execution_count": 19,
      "outputs": [
        {
          "output_type": "stream",
          "name": "stdout",
          "text": [
            "First ten tokens:  ['Местните', 'избори', 'в', 'Хърватия', 'вървят', 'към', 'втори', 'тур', 'Резултатите', 'показаха']\n",
            "Top-10 tokens by frequency:  [('на', 271026), ('в', 130818), ('и', 123536), ('за', 108269), ('да', 91104), ('от', 86940), ('се', 60088), ('е', 52169), ('че', 47390), ('с', 39177)]\n"
          ]
        },
        {
          "output_type": "display_data",
          "data": {
            "image/png": "[encoded data removed]",
            "text/plain": [
              "<Figure size 432x288 with 1 Axes>"
            ]
          },
          "metadata": {
            "needs_background": "light"
          }
        }
      ]
    },
    {
      "cell_type": "code",
      "metadata": {
        "colab": {
          "base_uri": "https://localhost:8080/",
          "height": 305
        },
        "id": "vCbCTldhKWWb",
        "outputId": "82c51286-5efc-476a-809c-8ca2d45b492a"
      },
      "source": [
        "plot_frequencies(frequency_data, loglog=True)"
      ],
      "execution_count": 20,
      "outputs": [
        {
          "output_type": "display_data",
          "data": {
            "image/png": "[encoded data removed]",
            "text/plain": [
              "<Figure size 432x288 with 1 Axes>"
            ]
          },
          "metadata": {
            "needs_background": "light"
          }
        }
      ]
    },
    {
      "cell_type": "markdown",
      "metadata": {
        "id": "doxv2RkqOdtg"
      },
      "source": [
        "**Conclusion**\n",
        "\n",
        "\n",
        "Let's take a simple definition of Zipf's law from wikipedia.\n",
        "\n",
        "\n",
        "Zipf's law states that given a large sample of words used, the frequency of any word is inversely proportional to its rank in the frequency table. So word number n has a frequency proportional to 1/n.\n",
        "\n",
        "Then, we expect to see 1/x lines for usual order-to-frequency graphics. Also, according to the lecture, log(absolute frequency) falls linearly with log(rank)\n",
        "i.e., most words are really rare. We observe both phenomena empirically.\n",
        "\n",
        "Finally, we see that plots above prove the idea that even across languages Zipf's law works well, since all plots have almost the same line on them."
      ]
    },
    {
      "cell_type": "markdown",
      "metadata": {
        "id": "v4OQQRou_b7N"
      },
      "source": [
        "Also, I wanted to test Zipf's law on my own corpora (Russian and Belarusian languages). Data is available via Google Storage (link below). "
      ]
    },
    {
      "cell_type": "code",
      "metadata": {
        "colab": {
          "base_uri": "https://localhost:8080/"
        },
        "id": "kOBTvZMB_u6s",
        "outputId": "475b50fd-6d27-4386-fb0b-b05ca032ddea"
      },
      "source": [
        "import os\n",
        "\n",
        "if not os.path.isdir(\"/content/Separate Corpuses/\"):\n",
        "    !gsutil -m cp -r \"gs://mytranslator-298419-vcm/RuBeCorpus_BelapanNews/Separate Corpuses/\" ."
      ],
      "execution_count": 21,
      "outputs": [
        {
          "output_type": "stream",
          "name": "stdout",
          "text": [
            "Copying gs://mytranslator-298419-vcm/RuBeCorpus_BelapanNews/Separate Corpuses/FullCorpus/Corpus_Rus.txt_tc.model...\n",
            "/ [0/16 files][    0.0 B/691.8 MiB]   0% Done                                   \rCopying gs://mytranslator-298419-vcm/RuBeCorpus_BelapanNews/Separate Corpuses/FullCorpus/Corpus_Bel.txt_tc.model...\n",
            "/ [0/16 files][    0.0 B/691.8 MiB]   0% Done                                   \rCopying gs://mytranslator-298419-vcm/RuBeCorpus_BelapanNews/Separate Corpuses/FullCorpus/Corpus_Rus.txt_tok.txt...\n",
            "Copying gs://mytranslator-298419-vcm/RuBeCorpus_BelapanNews/Separate Corpuses/FullCorpus/Corpus_Bel.txt_tok.txt_true.txt...\n",
            "/ [0/16 files][    0.0 B/691.8 MiB]   0% Done                                   \rCopying gs://mytranslator-298419-vcm/RuBeCorpus_BelapanNews/Separate Corpuses/FullCorpus/Corpus_Rus.txt_tok.txt_true.txt...\n",
            "/ [0/16 files][    0.0 B/691.8 MiB]   0% Done                                   \r/ [0/16 files][    0.0 B/691.8 MiB]   0% Done                                   \rCopying gs://mytranslator-298419-vcm/RuBeCorpus_BelapanNews/Separate Corpuses/FullCorpus/Corpus_Bel.txt...\n",
            "/ [0/16 files][    0.0 B/691.8 MiB]   0% Done                                   \rCopying gs://mytranslator-298419-vcm/RuBeCorpus_BelapanNews/Separate Corpuses/FullCorpus/Corpus_Bel.txt_tok.txt...\n",
            "Copying gs://mytranslator-298419-vcm/RuBeCorpus_BelapanNews/Separate Corpuses/MiddleSent/MiddleSentCorpus_Bel.txt...\n",
            "/ [0/16 files][    0.0 B/691.8 MiB]   0% Done                                   \r/ [0/16 files][    0.0 B/691.8 MiB]   0% Done                                   \rCopying gs://mytranslator-298419-vcm/RuBeCorpus_BelapanNews/Separate Corpuses/FullCorpus/Corpus_Rus.txt...\n",
            "Copying gs://mytranslator-298419-vcm/RuBeCorpus_BelapanNews/Separate Corpuses/MiddleSent/MiddleSentCorpus_Bel.txt_tc.model...\n",
            "Copying gs://mytranslator-298419-vcm/RuBeCorpus_BelapanNews/Separate Corpuses/MiddleSent/MiddleSentCorpus_Bel.txt_tok.txt...\n",
            "Copying gs://mytranslator-298419-vcm/RuBeCorpus_BelapanNews/Separate Corpuses/MiddleSent/MiddleSentCorpus_Rus.txt...\n",
            "Copying gs://mytranslator-298419-vcm/RuBeCorpus_BelapanNews/Separate Corpuses/MiddleSent/MiddleSentCorpus_Bel.txt_tok.txt_true.txt...\n",
            "Copying gs://mytranslator-298419-vcm/RuBeCorpus_BelapanNews/Separate Corpuses/MiddleSent/MiddleSentCorpus_Rus.txt_tc.model...\n",
            "Copying gs://mytranslator-298419-vcm/RuBeCorpus_BelapanNews/Separate Corpuses/MiddleSent/MiddleSentCorpus_Rus.txt_tok.txt...\n",
            "Copying gs://mytranslator-298419-vcm/RuBeCorpus_BelapanNews/Separate Corpuses/MiddleSent/MiddleSentCorpus_Rus.txt_tok.txt_true.txt...\n",
            "/ [16/16 files][691.8 MiB/691.8 MiB] 100% Done                                  \n",
            "Operation completed over 16 objects/691.8 MiB.                                   \n"
          ]
        }
      ]
    },
    {
      "cell_type": "code",
      "metadata": {
        "id": "HSUpKT7NAAKm"
      },
      "source": [
        "# it takes 100 second to load full corpus to memory (~420k sentences)\n",
        "# data_be_full = read_data_and_return_tokens(os.path.join('Separate Corpuses', 'FullCorpus', 'Corpus_Bel.txt'))"
      ],
      "execution_count": 22,
      "outputs": []
    },
    {
      "cell_type": "code",
      "metadata": {
        "id": "K86Gk7M2Em6G"
      },
      "source": [
        "# data_ru_full = read_data_and_return_tokens(os.path.join('Separate Corpuses', 'FullCorpus', 'Corpus_Rus.txt'))"
      ],
      "execution_count": 23,
      "outputs": []
    },
    {
      "cell_type": "code",
      "metadata": {
        "colab": {
          "base_uri": "https://localhost:8080/"
        },
        "id": "iBj-VSxREe0A",
        "outputId": "b46971fe-48c6-43ef-9d78-3db14c0a442e"
      },
      "source": [
        "data_be_small = read_data_and_return_tokens(os.path.join('Separate Corpuses', 'MiddleSent', 'MiddleSentCorpus_Bel.txt'))"
      ],
      "execution_count": 24,
      "outputs": [
        {
          "output_type": "stream",
          "name": "stdout",
          "text": [
            "Processing the following file: Separate Corpuses/MiddleSent/MiddleSentCorpus_Bel.txt...\n",
            "Time elapsed: 8.29226990699999\n"
          ]
        }
      ]
    },
    {
      "cell_type": "code",
      "metadata": {
        "colab": {
          "base_uri": "https://localhost:8080/"
        },
        "id": "alqwcJgmErU3",
        "outputId": "4a301947-25e9-483f-c8da-23a68eb61856"
      },
      "source": [
        "data_ru_small = read_data_and_return_tokens(os.path.join('Separate Corpuses', 'MiddleSent', 'MiddleSentCorpus_Rus.txt'))"
      ],
      "execution_count": 25,
      "outputs": [
        {
          "output_type": "stream",
          "name": "stdout",
          "text": [
            "Processing the following file: Separate Corpuses/MiddleSent/MiddleSentCorpus_Rus.txt...\n",
            "Time elapsed: 8.233295575999989\n"
          ]
        }
      ]
    },
    {
      "cell_type": "code",
      "metadata": {
        "colab": {
          "base_uri": "https://localhost:8080/",
          "height": 336
        },
        "id": "5GW7KVu_ARg4",
        "outputId": "abacf569-fac1-43c5-de21-57a9ef77a0ae"
      },
      "source": [
        "frequency_data = discover_data_and_return_ordered_frequencies(data_be_small)\n",
        "plot_frequencies(frequency_data)"
      ],
      "execution_count": 26,
      "outputs": [
        {
          "output_type": "stream",
          "name": "stdout",
          "text": [
            "First ten tokens:  ['Аналіз', 'рынкаў', 'збыту', 'Стратэгія', 'маркетынгу', 'і', 'Інвестыцыйны', 'і', 'інавацыйны', 'план']\n",
            "Top-10 tokens by frequency:  [('ў', 11152), ('і', 8681), ('не', 7668), ('на', 7406), ('з', 5639), ('У', 5423), ('у', 5287), ('гэта', 4027), ('што', 3804), ('да', 2393)]\n"
          ]
        },
        {
          "output_type": "display_data",
          "data": {
            "image/png": "[encoded data removed]",
            "text/plain": [
              "<Figure size 432x288 with 1 Axes>"
            ]
          },
          "metadata": {
            "needs_background": "light"
          }
        }
      ]
    },
    {
      "cell_type": "code",
      "metadata": {
        "colab": {
          "base_uri": "https://localhost:8080/",
          "height": 305
        },
        "id": "7-UoBq6dAXOC",
        "outputId": "5a5e9f40-3cc6-49d7-9765-5e795c660b16"
      },
      "source": [
        "plot_frequencies(frequency_data, loglog=True)"
      ],
      "execution_count": 27,
      "outputs": [
        {
          "output_type": "display_data",
          "data": {
            "image/png": "[encoded data removed]",
            "text/plain": [
              "<Figure size 432x288 with 1 Axes>"
            ]
          },
          "metadata": {
            "needs_background": "light"
          }
        }
      ]
    },
    {
      "cell_type": "markdown",
      "metadata": {
        "id": "1yQnvO-yM-_-"
      },
      "source": [
        "**2 Random Text Generation**\n",
        "\n",
        "In this assignment, you will reimplement the “Dissociated Press” system that was developed by MIT students in the 1970s (see [Wikipedia](https://en.wikipedia.org/wiki/Dissociated_press)). The purpose of this system is to generate random text from an n-gram model over a corpus.\n",
        "\n",
        "a) Train an instance of the n-gram class on Classroom using a corpus of your choice (from Problem 1 or elsewhere), and name it ngram. You can then use ngram[context] to determine the probability distribution for the next word given the previous n − 1 words. Given this distribution, you can use the method generate from the NLTK class ProbDistI to generate the next random word.\n",
        "\n",
        "b) Use your system to produce a number of text samples, 100 words in length per each. Vary n from 2 to 4. \n",
        "\n",
        "c) Submit a few interesting texts that your system generates for each n, and discuss how the quality (and creativity) of the generated outputs changes with n. Also submit your source code, and document any dependencies, such as links to the selected corpora."
      ]
    },
    {
      "cell_type": "code",
      "metadata": {
        "id": "18nagpFuNYca"
      },
      "source": [
        "# Copy-pasted from the provided file (ngram.py).\n",
        "\n",
        "from nltk.probability import (FreqDist, ConditionalFreqDist, ConditionalProbDist, MLEProbDist, SimpleGoodTuringProbDist)\n",
        "from nltk.util import ngrams\n",
        "\n",
        "\n",
        "def ml_estimator(freqdist):\n",
        "    return MLEProbDist(freqdist)\n",
        "\n",
        "def goodturing_estimator(freqdist):\n",
        "    return SimpleGoodTuringProbDist(freqdist)\n",
        "\n",
        "class BasicNgram(ConditionalProbDist):\n",
        "    \"\"\"\n",
        "    Define and train an Ngram Model over the corpus represented by the list words. \n",
        "    Given an BasicNgram instance ngram and a (n-1)-gram context (i.e., a tuple of n-1 strings), \n",
        "    a call to ngram[context] returns a nltk.probability.ProbDistI object representing the Probability distribution P(.|context) over possible values for the next word. \n",
        "    Be aware that context has to be a tuple, even if context is a unigram (see example below)\n",
        "    \n",
        "    >>> corpus=['a','b','b','a']\n",
        "    >>> bigram=BasicNgram(2,corpus)\n",
        "    >>> bigram.contexts()\n",
        "    [('<$>',), ('a',), ('b',)]\n",
        "    >>> p_b=bigram[('b',)] #not bigram['b']!!!\n",
        "    >>> p_b.prob('a')\n",
        "    0.5\n",
        "    >>> p_b.prob('b')\n",
        "    0.5\n",
        "    \n",
        "    :param n: the dimension of the n-grams (i.e. the size of the context+1).\n",
        "    :type n: int\n",
        "    :param corpus: \n",
        "    :type corpus: list(Str)\n",
        "    \n",
        "    other parameters are optional and may be omitted. They define whether to add artificial symbols before or after the word list, \n",
        "    and whether to use another estimation methods than maximum likelihood.\n",
        "    \"\"\"\n",
        "    def __init__(self, n, words, start_symbol=\"<$>\", end_symbol=\"</$>\", pad_left=True, pad_right=False, estimator=ml_estimator):\n",
        "        assert (n > 0)\n",
        "        self._n=n\n",
        "        self._words=words\n",
        "        self._counter=ConditionalFreqDist()\n",
        "        self._start_symbol=start_symbol\n",
        "        self._end_symbol=end_symbol\n",
        "        self._pad_left=pad_left\n",
        "        self._pad_right=pad_right\n",
        "        self._train()\n",
        "        super().__init__(self._counter, estimator)\n",
        "        \n",
        "        \n",
        "    def _train(self):       \n",
        "        _ngrams=self.generate_ngrams()        \n",
        "        for ngram in _ngrams:\n",
        "            context=ngram[0:-1]\n",
        "            outcome=ngram[-1]\n",
        "            self._counter[context][outcome]+=1\n",
        "            \n",
        "\n",
        "    def generate_ngrams(self):\n",
        "      \"\"\" Returns a generator over the ngrams of the word corpus.\"\"\"\n",
        "      return ngrams(self._words, self._n, self._pad_left, self._pad_right,\n",
        "                    left_pad_symbol=self._start_symbol,\n",
        "                    right_pad_symbol=self._end_symbol)\n",
        "\n",
        "\n",
        "    def contexts(self):\n",
        "        \"\"\"Return the list of contexts\"\"\"\n",
        "        return list(self.conditions())"
      ],
      "execution_count": 28,
      "outputs": []
    },
    {
      "cell_type": "code",
      "metadata": {
        "colab": {
          "base_uri": "https://localhost:8080/"
        },
        "id": "-fh2mPHjlheQ",
        "outputId": "abdcd176-515a-46e5-f7d0-a8e081a05007"
      },
      "source": [
        "# demo to check functions usage\n",
        "bigram = BasicNgram(2, data_bible)\n",
        "\n",
        "ngram_generator = bigram.generate_ngrams()\n",
        "for i in range(10):\n",
        "    print(next(ngram_generator))\n",
        "\n",
        "corpus=['b','b','c','a', 'b', 'c']\n",
        "bigram=BasicNgram(2,corpus)\n",
        "print(bigram.contexts())\n",
        "\n",
        "p_b=bigram[('b',)]\n",
        "print(p_b)\n",
        "print(dir(p_b))\n",
        "\n",
        "print(p_b.discount())\n",
        "print(p_b.freqdist())\n",
        "print(p_b.generate())\n",
        "print(p_b.logprob(sample='a'))\n",
        "print(p_b.max())\n",
        "print(p_b.prob(sample='a'))\n",
        "print(p_b.samples())\n",
        "print(p_b.unicode_repr)\n",
        "\n",
        "print(p_b.generate())\n",
        "print('a', p_b.prob('a'))\n",
        "print('b', p_b.prob('b'))\n",
        "print('c', p_b.prob('c'))"
      ],
      "execution_count": 29,
      "outputs": [
        {
          "output_type": "stream",
          "name": "stdout",
          "text": [
            "('<$>', 'In')\n",
            "('In', 'the')\n",
            "('the', 'beginning')\n",
            "('beginning', 'God')\n",
            "('God', 'created')\n",
            "('created', 'the')\n",
            "('the', 'heaven')\n",
            "('heaven', 'and')\n",
            "('and', 'the')\n",
            "('the', 'earth')\n",
            "[('<$>',), ('b',), ('c',), ('a',)]\n",
            "<MLEProbDist based on 3 samples>\n",
            "['SUM_TO_ONE', '__abstractmethods__', '__class__', '__delattr__', '__dict__', '__dir__', '__doc__', '__eq__', '__format__', '__ge__', '__getattribute__', '__gt__', '__hash__', '__init__', '__init_subclass__', '__le__', '__lt__', '__module__', '__ne__', '__new__', '__reduce__', '__reduce_ex__', '__repr__', '__setattr__', '__sizeof__', '__str__', '__subclasshook__', '__unicode__', '__weakref__', '_abc_impl', '_freqdist', 'discount', 'freqdist', 'generate', 'logprob', 'max', 'prob', 'samples', 'unicode_repr']\n",
            "0.0\n",
            "<FreqDist with 2 samples and 3 outcomes>\n",
            "b\n",
            "-1e+300\n",
            "c\n",
            "0.0\n",
            "dict_keys(['b', 'c'])\n",
            "<bound method MLEProbDist.__repr__ of <MLEProbDist based on 3 samples>>\n",
            "c\n",
            "a 0.0\n",
            "b 0.3333333333333333\n",
            "c 0.6666666666666666\n"
          ]
        }
      ]
    },
    {
      "cell_type": "code",
      "metadata": {
        "id": "RBLJNSZul2nm"
      },
      "source": [
        "TEXT_WORD_LIMIT = 100"
      ],
      "execution_count": 30,
      "outputs": []
    },
    {
      "cell_type": "code",
      "metadata": {
        "colab": {
          "base_uri": "https://localhost:8080/"
        },
        "id": "C3DR2LB-m--g",
        "outputId": "b772b5e0-4a75-47b9-b81d-7d8de37c65c6"
      },
      "source": [
        "# it is better to generate sentences with enabled punctuation\n",
        "data_bible_with_punctuation = read_data_and_return_tokens('kingjamesbible_tokenized.txt', exclude_punctuation=False)\n",
        "print(len(data_bible_with_punctuation))"
      ],
      "execution_count": 31,
      "outputs": [
        {
          "output_type": "stream",
          "name": "stdout",
          "text": [
            "Processing the following file: kingjamesbible_tokenized.txt...\n",
            "Time elapsed: 5.66558834600005\n",
            "915494\n"
          ]
        }
      ]
    },
    {
      "cell_type": "code",
      "metadata": {
        "id": "8RdhNKjKo3ey"
      },
      "source": [
        "# setup models\n",
        "four_gram = BasicNgram(4, data_bible_with_punctuation)\n",
        "trigram = BasicNgram(3, data_bible_with_punctuation)\n",
        "bigram = BasicNgram(2, data_bible_with_punctuation)"
      ],
      "execution_count": 32,
      "outputs": []
    },
    {
      "cell_type": "code",
      "metadata": {
        "id": "njtucBMqnR8T"
      },
      "source": [
        "import re\n",
        "\n",
        "def create_result_text_from_tokens(tokens: List[str]):\n",
        "    \"\"\"Creates output text by joining tokens and removing extra spaces before punctuation.\"\"\"\n",
        "    text = \" \".join(tokens)\n",
        "    # regex to join punctuation back to text\n",
        "    # link to the source https://stackoverflow.com/questions/18878936/how-to-strip-whitespace-from-before-but-not-after-punctuation-in-python\n",
        "    text = re.sub(r'\\s([?.!:,;\"](?:\\s|$))', r'\\1', text)\n",
        "    return text"
      ],
      "execution_count": 33,
      "outputs": []
    },
    {
      "cell_type": "code",
      "metadata": {
        "id": "hy7jBTPMpdO6"
      },
      "source": [
        "def generate_text(model: BasicNgram, context: Tuple, word_limit: int = TEXT_WORD_LIMIT):\n",
        "    \"\"\"Generates text based on input model and passed start context.\"\"\"\n",
        "    \n",
        "    # to avoid later exceptions\n",
        "    if model._n != len(context) + 1:\n",
        "        raise Exception(f\"Model level {model._n} does not match passed start context {context}.\")\n",
        "    \n",
        "    text_tokens = list(context)\n",
        "\n",
        "    while len(text_tokens) != word_limit:\n",
        "        next_token_model=model[context]\n",
        "        next_token = next_token_model.generate()\n",
        "        text_tokens.append(next_token)\n",
        "        context = (*context[1:], next_token)\n",
        "\n",
        "    return create_result_text_from_tokens(text_tokens)"
      ],
      "execution_count": 34,
      "outputs": []
    },
    {
      "cell_type": "code",
      "metadata": {
        "colab": {
          "base_uri": "https://localhost:8080/",
          "height": 110
        },
        "id": "g-sIxCiROXJt",
        "outputId": "f49ac190-c510-4784-9cd1-57cd610577df"
      },
      "source": [
        "# Generating text for 4gram model\n",
        "generate_text(four_gram, context=('God', 'said', 'to'))"
      ],
      "execution_count": 35,
      "outputs": [
        {
          "output_type": "execute_result",
          "data": {
            "application/vnd.google.colaboratory.intrinsic+json": {
              "type": "string"
            },
            "text/plain": [
              "'God said to Solomon, to hear his voice, and that the smoke of their torment ascendeth up for ever and ever. Amen. Timotheus my workfellow, and Lucius of Cyrene, Simon by name: him they compelled to bear his cross, and follow me. And he said unto him, Follow me, and have not sought the LORD went forth, and saw corruption: But he shall let him go; And answered them after the same manner also he took the people, and for your liberal distribution unto them'"
            ]
          },
          "metadata": {},
          "execution_count": 35
        }
      ]
    },
    {
      "cell_type": "code",
      "metadata": {
        "colab": {
          "base_uri": "https://localhost:8080/",
          "height": 110
        },
        "id": "0IEW8SairPEb",
        "outputId": "6e10e133-7b38-4bd1-fd4c-68267726e2cb"
      },
      "source": [
        "# Generating text for 3gram model\n",
        "generate_text(trigram, context=('God', 'said'))"
      ],
      "execution_count": 36,
      "outputs": [
        {
          "output_type": "execute_result",
          "data": {
            "application/vnd.google.colaboratory.intrinsic+json": {
              "type": "string"
            },
            "text/plain": [
              "\"God said, We have drunken of her virginity, and of him that had eaten were about me for thy son 's mandrakes also? For when he began to speak, until ye were healed: forsake not the congregation of the sea, tossed with waves: for it is near, and they know not the apple tree, the son of Joel, the son of Jesse liveth upon the children of Israel: and now also the Levites, for an offering made by fire; it shall consume with the filthiness of the\""
            ]
          },
          "metadata": {},
          "execution_count": 36
        }
      ]
    },
    {
      "cell_type": "code",
      "metadata": {
        "colab": {
          "base_uri": "https://localhost:8080/",
          "height": 110
        },
        "id": "DNYJKcpErkSV",
        "outputId": "2a7563d9-aafa-487f-f50c-e03d8291b338"
      },
      "source": [
        "# Generating text for 2gram model\n",
        "generate_text(bigram, context=('God',))"
      ],
      "execution_count": 37,
      "outputs": [
        {
          "output_type": "execute_result",
          "data": {
            "application/vnd.google.colaboratory.intrinsic+json": {
              "type": "string"
            },
            "text/plain": [
              "\"God, and many angels of an earthen vessel, Lord Jesus said unto Caesar 's wife, which I say, and where is my mouth of Elkanah her little chambers of God spake, which the Canaanites, saying, jewels; lo, until they smote of Ahikam the promises of his enemies. Sow to seek after these are profound to Jerusalem. But your God. Two wagons which be not know that they said to Caesar: the men live after those places of the name be an idol, keep his dominion is\""
            ]
          },
          "metadata": {},
          "execution_count": 37
        }
      ]
    },
    {
      "cell_type": "code",
      "metadata": {
        "colab": {
          "base_uri": "https://localhost:8080/"
        },
        "id": "cv5Bri5bsf-v",
        "outputId": "f61e82dd-d5ea-48d1-80bd-629217212346"
      },
      "source": [
        "# I've decided to check another estimator either\n",
        "four_gram_turing = BasicNgram(4, data_bible_with_punctuation, estimator=goodturing_estimator)\n",
        "trigram_turing = BasicNgram(3, data_bible_with_punctuation, estimator=goodturing_estimator)\n",
        "bigram_turing = BasicNgram(2, data_bible_with_punctuation, estimator=goodturing_estimator)"
      ],
      "execution_count": 38,
      "outputs": [
        {
          "output_type": "stream",
          "name": "stderr",
          "text": [
            "/usr/local/lib/python3.7/dist-packages/nltk/probability.py:1364: UserWarning: SimpleGoodTuring did not find a proper best fit line for smoothing probabilities of occurrences. The probability estimates are likely to be unreliable.\n",
            "  warnings.warn('SimpleGoodTuring did not find a proper best fit '\n"
          ]
        }
      ]
    },
    {
      "cell_type": "code",
      "metadata": {
        "colab": {
          "base_uri": "https://localhost:8080/",
          "height": 128
        },
        "id": "pPv3aerasy-X",
        "outputId": "2b4d7a5d-59d1-4a71-ee4a-5fa0f414f011"
      },
      "source": [
        "# Generating text for 4gram model\n",
        "generate_text(four_gram, context=('God', 'said', 'to'))"
      ],
      "execution_count": 39,
      "outputs": [
        {
          "output_type": "execute_result",
          "data": {
            "application/vnd.google.colaboratory.intrinsic+json": {
              "type": "string"
            },
            "text/plain": [
              "\"God said to Jonah, Doest thou well to be angry for ever? wilt thou not depart from their service; for their wickedness. Whoso stoppeth his ears from hearing of blood, until he hath done, do unto her: ye will surely accomplish your vows, and beside the chains that were about their camels ' necks. And Gideon made an ephod thereof, and eastward Naaran, and westward Gezer, with the meat offering that remaineth of the offerings of the children of Ammon, and of the fat, and the\""
            ]
          },
          "metadata": {},
          "execution_count": 39
        }
      ]
    },
    {
      "cell_type": "code",
      "metadata": {
        "colab": {
          "base_uri": "https://localhost:8080/",
          "height": 110
        },
        "id": "Go7odDLNs2xX",
        "outputId": "53480cb5-5dfa-4b50-ea28-300b47e0604f"
      },
      "source": [
        "# Generating text for 4gram model\n",
        "generate_text(trigram, context=('God', 'said',))"
      ],
      "execution_count": 40,
      "outputs": [
        {
          "output_type": "execute_result",
          "data": {
            "application/vnd.google.colaboratory.intrinsic+json": {
              "type": "string"
            },
            "text/plain": [
              "'God said, What will ye not: for all the prophets? And they told Shimei, The LORD God walking in craftiness, nor be raised the third time, and their mighty ones are in thy hot displeasure, wherewith a man in vile raiment; but we have brought about the tabernacle of the finger of God: but the wife, and the waters cover the sea upon the mitre of fine twined linen: and as we are judged, and that night; that I might not defile himself for us, as'"
            ]
          },
          "metadata": {},
          "execution_count": 40
        }
      ]
    },
    {
      "cell_type": "markdown",
      "metadata": {
        "id": "uVwcaCJ-z5QI"
      },
      "source": [
        "Additionally, I've decided to check other corpora.\n",
        "[Here](https://www.nltk.org/book/ch02.html) is a good overview of nltk corpora."
      ]
    },
    {
      "cell_type": "code",
      "metadata": {
        "colab": {
          "base_uri": "https://localhost:8080/"
        },
        "id": "6yHm2X0It4Rp",
        "outputId": "79c4ebab-fc12-4c5c-ad5b-efd65ebfd1fb"
      },
      "source": [
        "from nltk.corpus import gutenberg\n",
        "\n",
        "print(gutenberg.fileids())"
      ],
      "execution_count": 41,
      "outputs": [
        {
          "output_type": "stream",
          "name": "stdout",
          "text": [
            "['austen-emma.txt', 'austen-persuasion.txt', 'austen-sense.txt', 'bible-kjv.txt', 'blake-poems.txt', 'bryant-stories.txt', 'burgess-busterbrown.txt', 'carroll-alice.txt', 'chesterton-ball.txt', 'chesterton-brown.txt', 'chesterton-thursday.txt', 'edgeworth-parents.txt', 'melville-moby_dick.txt', 'milton-paradise.txt', 'shakespeare-caesar.txt', 'shakespeare-hamlet.txt', 'shakespeare-macbeth.txt', 'whitman-leaves.txt']\n"
          ]
        }
      ]
    },
    {
      "cell_type": "code",
      "metadata": {
        "colab": {
          "base_uri": "https://localhost:8080/"
        },
        "id": "-xq5DLNtu2sI",
        "outputId": "7e5d33ee-b151-4c0d-ec53-0d384a098c7d"
      },
      "source": [
        "for file_id in gutenberg.fileids():\n",
        "    print(file_id, len(gutenberg.words(file_id)))"
      ],
      "execution_count": 42,
      "outputs": [
        {
          "output_type": "stream",
          "name": "stdout",
          "text": [
            "austen-emma.txt 192427\n",
            "austen-persuasion.txt 98171\n",
            "austen-sense.txt 141576\n",
            "bible-kjv.txt 1010654\n",
            "blake-poems.txt 8354\n",
            "bryant-stories.txt 55563\n",
            "burgess-busterbrown.txt 18963\n",
            "carroll-alice.txt 34110\n",
            "chesterton-ball.txt 96996\n",
            "chesterton-brown.txt 86063\n",
            "chesterton-thursday.txt 69213\n",
            "edgeworth-parents.txt 210663\n",
            "melville-moby_dick.txt 260819\n",
            "milton-paradise.txt 96825\n",
            "shakespeare-caesar.txt 25833\n",
            "shakespeare-hamlet.txt 37360\n",
            "shakespeare-macbeth.txt 23140\n",
            "whitman-leaves.txt 154883\n"
          ]
        }
      ]
    },
    {
      "cell_type": "code",
      "metadata": {
        "id": "TysbPI76z4l3"
      },
      "source": [
        "source_corpus = nltk.corpus.gutenberg.words('austen-sense.txt')\n",
        "\n",
        "four_gram = BasicNgram(4, source_corpus)\n",
        "trigram = BasicNgram(3, source_corpus)\n",
        "bigram = BasicNgram(2, source_corpus)"
      ],
      "execution_count": 43,
      "outputs": []
    },
    {
      "cell_type": "code",
      "metadata": {
        "colab": {
          "base_uri": "https://localhost:8080/"
        },
        "id": "i7gAgJKj3aYp",
        "outputId": "764c0f3f-d472-4e75-a086-10db8c5dac1f"
      },
      "source": [
        "print(source_corpus[:100])"
      ],
      "execution_count": 44,
      "outputs": [
        {
          "output_type": "stream",
          "name": "stdout",
          "text": [
            "['[', 'Sense', 'and', 'Sensibility', 'by', 'Jane', 'Austen', '1811', ']', 'CHAPTER', '1', 'The', 'family', 'of', 'Dashwood', 'had', 'long', 'been', 'settled', 'in', 'Sussex', '.', 'Their', 'estate', 'was', 'large', ',', 'and', 'their', 'residence', 'was', 'at', 'Norland', 'Park', ',', 'in', 'the', 'centre', 'of', 'their', 'property', ',', 'where', ',', 'for', 'many', 'generations', ',', 'they', 'had', 'lived', 'in', 'so', 'respectable', 'a', 'manner', 'as', 'to', 'engage', 'the', 'general', 'good', 'opinion', 'of', 'their', 'surrounding', 'acquaintance', '.', 'The', 'late', 'owner', 'of', 'this', 'estate', 'was', 'a', 'single', 'man', ',', 'who', 'lived', 'to', 'a', 'very', 'advanced', 'age', ',', 'and', 'who', 'for', 'many', 'years', 'of', 'his', 'life', ',', 'had', 'a', 'constant', 'companion']\n"
          ]
        }
      ]
    },
    {
      "cell_type": "code",
      "metadata": {
        "colab": {
          "base_uri": "https://localhost:8080/",
          "height": 110
        },
        "id": "tzWEQFJd2V27",
        "outputId": "e66faa0e-8637-413b-9031-59f4706868d3"
      },
      "source": [
        "generate_text(four_gram, context=('she', 'said', 'to'))"
      ],
      "execution_count": 45,
      "outputs": [
        {
          "output_type": "execute_result",
          "data": {
            "application/vnd.google.colaboratory.intrinsic+json": {
              "type": "string"
            },
            "text/plain": [
              "'she said to Elinor, when it came to the point. It would be impossible to go to - morrow .\"\" Ay, so do, Sir John was rather puzzled. \" Upon my word ,\" replied Elinor, in spite of the ALMOST impossibility of their being really invited to become such, while Mrs. Jennings are to be the remains of the lovely, blooming, healthful girl, on whom I had once known, as resembling, in some measure quieted it, and was too intent on what he said to'"
            ]
          },
          "metadata": {},
          "execution_count": 45
        }
      ]
    },
    {
      "cell_type": "code",
      "metadata": {
        "colab": {
          "base_uri": "https://localhost:8080/",
          "height": 110
        },
        "id": "f4lWwao12nBN",
        "outputId": "0f5746e0-ff9a-4bc8-c487-688ec3d963d2"
      },
      "source": [
        "generate_text(bigram, context=('she',))"
      ],
      "execution_count": 46,
      "outputs": [
        {
          "output_type": "execute_result",
          "data": {
            "application/vnd.google.colaboratory.intrinsic+json": {
              "type": "string"
            },
            "text/plain": [
              "'she did not being farther than when you know young ladies the benevolence of her cousins away, I never was to see Marianne, nor desire for Edward himself, \" And she did or himself. They had been, by mutual regard, who then heard was not help looking at a better income, merry, how I should have nothing in your judgment, would be wrong in case, as soon as Mrs. Palmer, you under the first evening of Mrs. Scarcely a widower. Jennings, was given by a'"
            ]
          },
          "metadata": {},
          "execution_count": 46
        }
      ]
    },
    {
      "cell_type": "code",
      "metadata": {
        "colab": {
          "base_uri": "https://localhost:8080/",
          "height": 110
        },
        "id": "oNlnMkLm2ou8",
        "outputId": "8e6c7391-e7c2-4ce1-e1a0-6f9066db2e8a"
      },
      "source": [
        "generate_text(bigram, context=('she',))"
      ],
      "execution_count": 47,
      "outputs": [
        {
          "output_type": "execute_result",
          "data": {
            "application/vnd.google.colaboratory.intrinsic+json": {
              "type": "string"
            },
            "text/plain": [
              "'she was not heard. Marianne, his heart, his looks, to be offended them .\"\" I had really so very urgent with Sir John Dashwood, if he would spoil, Miss Grey is HE in the world .\"\" Well ,\" said, the Miss Marianne, of wretchedness of her mother; and of her brother had passed between this persuasion and scarcely able to return her mother had received most pointed out of it. Why, and Lucy was to be kept back, talked of three together every subject than it'"
            ]
          },
          "metadata": {},
          "execution_count": 47
        }
      ]
    },
    {
      "cell_type": "code",
      "metadata": {
        "colab": {
          "base_uri": "https://localhost:8080/",
          "height": 110
        },
        "id": "GbQn0LvL2q2x",
        "outputId": "0ae03794-7d8c-4ac2-8df2-b4ccda77dde2"
      },
      "source": [
        "generate_text(bigram, context=('she',))"
      ],
      "execution_count": 48,
      "outputs": [
        {
          "output_type": "execute_result",
          "data": {
            "application/vnd.google.colaboratory.intrinsic+json": {
              "type": "string"
            },
            "text/plain": [
              "'she had not come out, and forbearance could ask my life of his own coach full of the tithes, \" My love with rather favourable symptom more if Edward! how it !-- But there were waiting on the air altogether so ridiculous. Don \\' s puppies! I have it is so very morning in a village. Mrs. Mrs. But though she cried Mr. Her mind. \" that want me particulars in an entrance was heard by Mrs. Her flattery which child, however; but it. Of his'"
            ]
          },
          "metadata": {},
          "execution_count": 48
        }
      ]
    },
    {
      "cell_type": "markdown",
      "metadata": {
        "id": "6I0pEwjP0cgQ"
      },
      "source": [
        "Here are key takeaways:\n",
        "\n",
        "1) Size of the corpus is very important. Small number of tokens limits the variety of output text.\n",
        "\n",
        "2) We should know at least some tokens from text to start generation. For instance, it is almost impossible to guess valid 4gram start context. I was starting with bigram model and later added words to upper-level models one by one."
      ]
    },
    {
      "cell_type": "markdown",
      "metadata": {
        "id": "V-cn2jP6P7SH"
      },
      "source": [
        "**Conclusion**\n",
        "\n",
        "Finally, the most creative option is a bigram model with a common word as a start context. However, the coherency of the output is really low.\n",
        "\n",
        "On the other hand, upper-level models (4gram) with specific start context has low variety of outputs, but the coherency is very good. This fact could be explained, since we are taking almost ready pieces from the text.\n",
        "\n"
      ]
    },
    {
      "cell_type": "markdown",
      "metadata": {
        "id": "GACK5HIBbdjl"
      },
      "source": [
        "**3. Statistical dependence**\n",
        "\n",
        "In statistical NLP we frequently make independence assumptions about relevant events which are not actually correct in reality. We are asking you to test the independence assumptions of unigram language models."
      ]
    },
    {
      "cell_type": "markdown",
      "metadata": {
        "id": "Rlw6v2NwbGqk"
      },
      "source": [
        "![Screenshot 2021-10-29 at 21.00.58.png](data:image/png;base64,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)"
      ]
    },
    {
      "cell_type": "markdown",
      "metadata": {
        "id": "SOzKSNYrbbJ4"
      },
      "source": [
        "is a measure of statistical dependence of the events Xt = w1 and Xt+1 =\n",
        "w2; C(w) is the absolute frequency and N is the size of the corpus. If the\n",
        "probability of the next word in the corpus being w2 is unaffected by the\n",
        "probability of the previous word being w1, then pmi(w1, w2) = 0; otherwise\n",
        "the pmi is positive or negative.\n",
        "\n",
        "Calculate the pmi for all successive pairs (w1, w2) of words in a corpus of\n",
        "your choice. Words (not word pairs!) that occur in the corpus less than 10\n",
        "times should be ignored. List the 20 word pairs with the highest pmi value\n",
        "and the 20 word pairs with the lowest pmi value.\n",
        "\n",
        "Document and submit your observations and code. Discuss the validity of\n",
        "the independence assumption for unigram models."
      ]
    },
    {
      "cell_type": "code",
      "metadata": {
        "id": "iB6pFQhpdw_l"
      },
      "source": [
        "import math\n",
        "from collections import defaultdict"
      ],
      "execution_count": 49,
      "outputs": []
    },
    {
      "cell_type": "code",
      "metadata": {
        "colab": {
          "base_uri": "https://localhost:8080/"
        },
        "id": "cZgexZyKb4EV",
        "outputId": "10488125-70c6-4d3c-a980-339925400e8a"
      },
      "source": [
        "_ = discover_data_and_return_ordered_frequencies(data_bible)"
      ],
      "execution_count": 50,
      "outputs": [
        {
          "output_type": "stream",
          "name": "stdout",
          "text": [
            "First ten tokens:  ['In', 'the', 'beginning', 'God', 'created', 'the', 'heaven', 'and', 'the', 'earth']\n",
            "Top-10 tokens by frequency:  [('the', 62064), ('and', 38846), ('of', 34427), ('to', 13378), ('And', 12847), ('that', 12576), ('in', 12331), ('shall', 9760), ('he', 9666), ('unto', 8940)]\n"
          ]
        }
      ]
    },
    {
      "cell_type": "code",
      "metadata": {
        "id": "nukMD3R_hkca"
      },
      "source": [
        "def report_pmi(tokens: List[str]):\n",
        "    # at first we need to get absolute frequencies of each word\n",
        "    # and exclude words with absolute frequency less than 10\n",
        "    unigram_counter = {word: word_count for word, word_count in Counter(tokens).items() if word_count >= 10}\n",
        "    bigram_counter = defaultdict(int)\n",
        "\n",
        "    # counting bigram absolute frequencies with respect to filtered unigram corpus\n",
        "    for i in range(1, len(tokens)):\n",
        "        prev_word, cur_word = tokens[i-1:i+1]\n",
        "        if prev_word not in unigram_counter or cur_word not in unigram_counter:\n",
        "            continue\n",
        "        bigram_counter[(prev_word, cur_word)]+=1\n",
        "\n",
        "    # calculating PMI with formula from task description\n",
        "    N = len(unigram_counter)\n",
        "    pmi = []\n",
        "    for (prev_word, cur_word), bigram_count in bigram_counter.items():\n",
        "        numerator = bigram_count*N\n",
        "        denominator = unigram_counter[prev_word] * unigram_counter[cur_word]\n",
        "        pmi.append((math.log(numerator/denominator), (prev_word, cur_word)))\n",
        "\n",
        "    pmi.sort()\n",
        "\n",
        "    # report most popular bigrams to compare this list with best/worst bigrams according to PMI\n",
        "    print(\"Most popular bigrams:\", sorted(bigram_counter, key=bigram_counter.get, reverse=True)[:10])\n",
        "    print(\"Best bigrams ever:\", pmi[:-20:-1])\n",
        "    print(\"Worst bigrams ever:\", pmi[:20])"
      ],
      "execution_count": 51,
      "outputs": []
    },
    {
      "cell_type": "code",
      "metadata": {
        "colab": {
          "base_uri": "https://localhost:8080/"
        },
        "id": "Oa2ZwDBghHxR",
        "outputId": "da792c51-6242-478d-88f8-ca169e4361b7"
      },
      "source": [
        "report_pmi(data_bible)"
      ],
      "execution_count": 52,
      "outputs": [
        {
          "output_type": "stream",
          "name": "stdout",
          "text": [
            "Most popular bigrams: [('of', 'the'), ('the', 'LORD'), ('in', 'the'), ('and', 'the'), ('shall', 'be'), ('And', 'the'), ('to', 'the'), ('all', 'the'), ('unto', 'the'), ('I', 'will')]\n",
            "Best bigrams ever: [(5.4505996353152675, ('Shadrach', 'Meshach')), (4.975480905402762, ('badgers', 'skins')), (4.672294646415015, ('ill', 'favoured')), (4.530464450975797, ('Judas', 'Iscariot')), (4.443453073986168, ('Jonas', 'lovest')), (4.366912996863833, ('curious', 'girdle')), (4.363410366312631, ('brook', 'Kidron')), (4.315619702476283, ('poureth', 'contempt')), (4.279150022694892, ('measuring', 'reed')), (4.266829538306851, ('divers', 'colours')), (4.220309522671958, ('persecution', 'ariseth')), (4.151647284350525, ('Mary', 'Magdalene')), (4.124999342867633, ('precept', 'precept')), (4.037987965878004, ('overflowing', 'scourge')), (3.9935362033071695, ('sharp', 'sickle')), (3.9579452582044667, ('throughly', 'purge')), (3.9475103809118877, ('Shem', 'Ham')), (3.923577614700259, ('wreathen', 'chains')), (3.9222271756023876, ('committeth', 'adultery'))]\n",
            "Worst bigrams ever: [(-12.665550130540113, ('of', 'of')), (-11.842478356032629, ('his', 'the')), (-11.720320556996196, ('of', 'to')), (-11.395323563722872, ('of', 'he')), (-11.101077539975694, ('the', 'said')), (-11.048326446786248, ('of', 'is')), (-10.994554632481865, ('of', 'and')), (-10.711854210165034, ('shall', 'of')), (-10.693595833644455, ('to', 'in')), (-10.66149506993139, ('the', 'Israel')), (-10.540213118520263, ('of', 'in')), (-10.46355046770034, ('of', 'will')), (-10.401792422083869, ('from', 'of')), (-10.378276667373239, ('in', 'shall')), (-10.3393962619871, ('unto', 'and')), (-10.310193674932119, ('that', 'unto')), (-10.29824958061012, (\"'s\", 'the')), (-10.22642866222341, ('his', 'in')), (-10.192889064952293, ('the', 'he')), (-10.131010599496848, ('upon', 'of'))]\n"
          ]
        }
      ]
    },
    {
      "cell_type": "code",
      "metadata": {
        "colab": {
          "base_uri": "https://localhost:8080/"
        },
        "id": "EmQamAaOje7B",
        "outputId": "86875c62-4b66-40f7-9c60-0eb1e3005b80"
      },
      "source": [
        "report_pmi(data_jungle)"
      ],
      "execution_count": 53,
      "outputs": [
        {
          "output_type": "stream",
          "name": "stdout",
          "text": [
            "Most popular bigrams: [('of', 'the'), ('in', 'the'), ('and', 'the'), ('to', 'the'), ('on', 'the'), ('he', 'was'), ('and', 'he'), ('with', 'the'), ('for', 'the'), ('of', 'a')]\n",
            "Best bigrams ever: [(4.3067641501733345, ('United', 'States')), (4.21145397036901, ('Machua', 'Appa')), (4.044399885705844, ('Literary', 'Archive')), (3.8059888622608455, ('Black', 'Panther')), (3.5648268054439574, ('LITTLE', 'TOOMAI')), (3.431295412819435, ('Archive', 'Foundation')), (3.384775397184542, ('Of', 'course')), (3.3135123771630512, ('Gutenberg', 'Literary')), (3.2653102753451737, ('Once', 'twice')), (3.2420534131809062, ('Two', 'Tails')), (3.102791345847399, ('TIGER', 'TIGER')), (3.054001181677967, ('Petersen', 'Sahib')), (3.0258303047112705, ('SAID', 'LITTLE')), (3.0081307276118694, ('Council', 'Rock')), (2.985008310191015, ('Black', 'Snake')), (2.9717630834409947, ('Gray', 'Brother')), (2.902770211954043, ('hind', 'legs')), (2.8251596092491194, ('twenty', 'yoke')), (2.8251596092491194, ('fore', 'paws'))]\n",
            "Worst bigrams ever: [(-8.295522611350817, ('he', 'the')), (-7.588760990004713, ('of', 'and')), (-7.5872189696528975, ('I', 'and')), (-7.3824245570068845, ('was', 'and')), (-7.281268787283699, ('to', 'he')), (-7.251398507966778, ('it', 'the')), (-7.211402555466863, ('and', 'is')), (-7.211402555466863, ('is', 'and')), (-7.202373148747469, ('for', 'and')), (-7.1807809407528245, ('had', 'the')), (-7.163061728532581, ('with', 'and')), (-7.138481866106756, ('of', 'in')), (-7.138069822659775, ('they', 'the')), (-6.98093559727836, ('to', 'I')), (-6.896577132677368, ('I', 'the')), (-6.895613809444767, ('and', 'of')), (-6.835278051912273, ('that', 'and')), (-6.7623025114618285, ('at', 'and')), (-6.744125855200335, ('he', 'in')), (-6.697448457567033, ('one', 'the'))]\n"
          ]
        }
      ]
    },
    {
      "cell_type": "code",
      "metadata": {
        "colab": {
          "base_uri": "https://localhost:8080/"
        },
        "id": "RFCMpA4HjMeM",
        "outputId": "18da0de3-6484-49cf-8776-590ceeee4d62"
      },
      "source": [
        "report_pmi(data_bg)"
      ],
      "execution_count": 54,
      "outputs": [
        {
          "output_type": "stream",
          "name": "stdout",
          "text": [
            "Most popular bigrams: [('да', 'се'), ('трябва', 'да'), ('за', 'да'), ('може', 'да'), ('на', 'ЕС'), ('време', 'на'), ('да', 'бъде'), ('и', 'да'), ('ще', 'бъде'), ('Southeast', 'European')]\n",
            "Best bigrams ever: [(7.688496999792292, ('Шуто', 'Оризари')), (7.688496999792292, ('Мерил', 'Линч')), (7.601485622802663, ('Цецка', 'Цачева')), (7.583136484134466, ('Есра', 'Ердуран')), (7.560663628282408, ('Мелина', 'Меркури')), (7.521442915129127, ('Портал', 'Аналитика')), (7.521442915129127, ('Андрис', 'Пиебалгс')), (7.447334942975405, ('Орест', 'Ерзени')), (7.447334942975405, ('Джалал', 'Талабани')), (7.4271322356578855, ('Газменд', 'Окета')), (7.419164066008708, ('почетния', 'караул')), (7.378342071488453, ('Сантяго', 'Калатрава')), (7.378342071488453, ('Санкт', 'Петербург')), (7.378342071488453, ('Кристин', 'Лагард')), (7.378342071488453, ('Зенун', 'Паязити')), (7.378342071488453, ('Ертугрул', 'Гюнай')), (7.370043268673758, ('въглероден', 'диоксид')), (7.367292235301869, ('Нася', 'Ненова')), (7.35438883046596, ('Берислав', 'Рончевич'))]\n",
            "Worst bigrams ever: [(-14.205140086844647, ('в', 'на')), (-14.015951913721997, ('за', 'на')), (-14.015951913721997, ('на', 'за')), (-13.427143196994392, ('на', 'се')), (-13.287544200718893, ('в', 'за')), (-13.114927040703204, ('в', 'да')), (-13.106527798176538, ('на', 'в')), (-13.068143555168223, ('в', 'от')), (-12.999422882517061, ('на', 'с')), (-12.783585193281597, ('в', 'в')), (-12.509547310868637, ('за', 'се')), (-12.405208847036297, ('за', 'за')), (-12.374996374608278, ('от', 'в')), (-12.232591687020609, ('да', 'за')), (-12.160959077607972, ('на', 'на')), (-12.027229390549039, ('ще', 'и')), (-11.959040319367588, ('да', 'и')), (-11.909209836375618, ('да', 'с')), (-11.895315650093895, ('за', 'ще')), (-11.862426350840636, ('с', 'от'))]\n"
          ]
        }
      ]
    },
    {
      "cell_type": "code",
      "metadata": {
        "id": "upIez0bA_KVG"
      },
      "source": [
        "# report_pmi(data_be_full)\n",
        "# report_pmi(data_ru_full)"
      ],
      "execution_count": 55,
      "outputs": []
    },
    {
      "cell_type": "code",
      "metadata": {
        "colab": {
          "base_uri": "https://localhost:8080/"
        },
        "id": "rpRp_ui-IXeX",
        "outputId": "2782c411-978d-4c43-9f11-098c8f4d268b"
      },
      "source": [
        "report_pmi(data_be_small)"
      ],
      "execution_count": 56,
      "outputs": [
        {
          "output_type": "stream",
          "name": "stdout",
          "text": [
            "Most popular bigrams: [('Пра', 'гэта'), ('ў', 'Беларусі'), ('ў', 'Мінску'), ('сказаў', 'ён'), ('яго', 'слоў'), ('Пры', 'гэтым'), ('Паводле', 'яго'), ('Аб', 'гэтым'), ('У', 'нас'), ('Аляксандр', 'Лукашэнка')]\n",
            "Best bigrams ever: [(6.2178336599316655, ('вязнем', 'сумлення')), (6.2178336599316655, ('Комсомольская', 'правда')), (6.143725687777944, ('маладзёжнага', 'крыла')), (6.137790952258129, ('масавым', 'стартам')), (6.11247314427384, ('устанавіла', 'дыпламатычныя')), (6.074732816290992, ('Удзельная', 'вага')), (6.069617715624222, ('дробным', 'хуліганстве')), (6.010194295153421, ('смяротнай', 'кары')), (5.9495696733369865, ('правда', 'в')), (5.943054992315792, ('ФІФА', 'апублікуе')), (5.914884115349096, ('Вялікай', 'Айчыннай')), (5.787050743839211, ('аналагічны', 'леташні')), (5.787050743839211, ('Сярэдняя', 'выніковасць')), (5.787050743839211, ('Міжнародная', 'амністыя')), (5.7588798668725145, ('калійных', 'угнаенняў')), (5.741930308558742, ('в', 'Белоруссии')), (5.738260579669779, ('ізаляцыі', 'правапарушальнікаў')), (5.738260579669779, ('трэнераў', 'цытаты')), (5.738260579669779, ('дзелавых', 'колаў'))]\n",
            "Worst bigrams ever: [(-9.481402219772638, ('ў', 'не')), (-9.072073848245891, ('на', 'не')), (-8.884513437839667, ('і', 'У')), (-8.537772914604195, ('не', 'і')), (-8.413692010377922, ('не', 'не')), (-8.405836510437613, ('не', 'што')), (-8.116398390299313, ('У', 'гэта')), (-8.116398390299313, ('гэта', 'У')), (-8.059429853113139, ('У', 'што')), (-7.656458301803898, ('не', 'Мы')), (-7.589279042235406, ('і', 'На')), (-7.564792547665107, ('ў', 'гэтага')), (-7.527840923981805, ('сказаў', 'не')), (-7.492433298616735, ('не', 'Лукашэнка')), (-7.4167934451329085, ('будзе', 'у')), (-7.397853019133756, ('у', 'гэта')), (-7.340884481947583, ('у', 'што')), (-7.340884481947583, ('што', 'у')), (-7.31431042305661, ('і', 'гэтага')), (-7.284653453873814, ('Мы', 'у'))]\n"
          ]
        }
      ]
    },
    {
      "cell_type": "code",
      "metadata": {
        "colab": {
          "base_uri": "https://localhost:8080/"
        },
        "id": "xyV2jYrwIkdq",
        "outputId": "675b819c-8f62-4e76-dbac-e2aa7521e79a"
      },
      "source": [
        "report_pmi(data_ru_small)"
      ],
      "execution_count": 57,
      "outputs": [
        {
          "output_type": "stream",
          "name": "stdout",
          "text": [
            "Most popular bigrams: [('Об', 'этом'), ('в', 'Беларуси'), ('в', 'Минске'), ('По', 'его'), ('у', 'нас'), ('сказал', 'он'), ('его', 'словам'), ('При', 'этом'), ('в', 'этом'), ('У', 'нас')]\n",
            "Best bigrams ever: [(6.396778128585051, ('сельском', 'хозяйстве')), (6.309766751595421, ('молодежного', 'крыла')), (6.229724043921885, ('узником', 'совести')), (6.229724043921885, ('базовых', 'величин')), (6.2144565717910965, ('Великой', 'Отечественной')), (6.155616071768163, ('мелком', 'хулиганстве')), (6.155616071768163, ('Будзьма', 'беларусамі')), (6.068604694778533, ('световозвращающими', 'элементами')), (6.006580492607675, ('массовым', 'стартом')), (5.9673597794543936, ('установила', 'дипломатические')), (5.954945376306012, ('ФИФА', 'опубликует')), (5.953091807656689, ('Любовь', 'Ковалева')), (5.904301643487257, ('правовом', 'интернет-портале')), (5.904301643487257, ('оформлены', 'нарушителями')), (5.904301643487257, ('Удельный', 'вес')), (5.82425893581372, ('дай', 'бог')), (5.798941127829431, ('награждены', 'медалью')), (5.798941127829431, ('Южной', 'Осетии')), (5.798941127829431, ('Международная', 'амнистия'))]\n",
            "Worst bigrams ever: [(-10.581578881944525, ('в', 'в')), (-9.136998248208812, ('в', 'не')), (-9.00365288479141, ('на', 'не')), (-8.868931247023834, ('В', 'и')), (-8.382120499461717, ('В', 'В')), (-8.334589758256957, ('не', 'что')), (-8.188509156743182, ('к', 'в')), (-8.024833389367302, ('с', 'В')), (-7.763506152078677, ('в', 'уже')), (-7.735730357529005, ('это', 'В')), (-7.704697118881845, ('в', 'Лукашенко')), (-7.6798049508148925, ('этом', 'В')), (-7.571351755464444, ('на', 'Лукашенко')), (-7.561680988697955, ('сказал', 'в')), (-7.549943609664382, ('не', 'из')), (-7.482636885903943, ('и', 'В')), (-7.467132907241197, ('очень', 'в')), (-7.435930598497999, ('и', 'На')), (-7.32478382221403, ('более', 'в')), (-7.283978471544497, ('этом', 'что'))]\n"
          ]
        }
      ]
    },
    {
      "cell_type": "markdown",
      "metadata": {
        "id": "pMbZ4daRJDXm"
      },
      "source": [
        "**Conclusion**\n",
        "\n",
        "It is clear from data above that ngram models cannot be considered as independent. For instance, word 'of' is very popular, but it is almost impossible to meet bigram 'of of' in the corpus. On the other side, named entities ('Judas Iskariot, 'Unites States') are quire rare in text, but they are strongly interconnected according to reported PMIs. The same pattern remains relevant for non-English languages also. Here is an interesting moment: even in parallel corpora due to linguistic pecularities same bigrams have ranks according to PMI."
      ]
    },
    {
      "cell_type": "markdown",
      "metadata": {
        "id": "LBwRvuRtKMNm"
      },
      "source": [
        "I had some ideas about stopwords elimination, lemmatization and truecasing, but it looks like there is no sense to apply this processing to ngram models. However, all above-mentioned techniques are highly relevant for more complicated NLP applications."
      ]
    },
    {
      "cell_type": "markdown",
      "metadata": {
        "id": "B7aQ5P0hK3yT"
      },
      "source": [
        "Here are some articles that I have read during HW preparation:\n",
        "\n",
        "1) [Truecasing](https://towardsdatascience.com/truecasing-in-natural-language-processing-12c4df086c21)\n",
        "\n",
        "2) [StanfordNLP](https://www.analyticsvidhya.com/blog/2019/02/stanfordnlp-nlp-library-python/)"
      ]
    }
  ]
}