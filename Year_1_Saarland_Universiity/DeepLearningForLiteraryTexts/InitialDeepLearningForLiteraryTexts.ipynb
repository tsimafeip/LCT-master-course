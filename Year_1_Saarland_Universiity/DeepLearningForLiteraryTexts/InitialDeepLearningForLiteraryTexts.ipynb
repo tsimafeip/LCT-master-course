{
  "nbformat": 4,
  "nbformat_minor": 0,
  "metadata": {
    "colab": {
      "name": "SampleDeepLearningForLiteraryTexts.ipynb",
      "provenance": []
    },
    "kernelspec": {
      "name": "python3",
      "display_name": "Python 3"
    },
    "language_info": {
      "name": "python"
    }
  },
  "cells": [
    {
      "cell_type": "code",
      "metadata": {
        "colab": {
          "base_uri": "https://localhost:8080/"
        },
        "id": "M9d6G6KosOBZ",
        "outputId": "6cce3dc4-6833-47af-aba9-0b853befc2f4"
      },
      "source": [
        "print('Hello group!')"
      ],
      "execution_count": 1,
      "outputs": [
        {
          "output_type": "stream",
          "name": "stdout",
          "text": [
            "Hello group!\n"
          ]
        }
      ]
    }
  ]
}