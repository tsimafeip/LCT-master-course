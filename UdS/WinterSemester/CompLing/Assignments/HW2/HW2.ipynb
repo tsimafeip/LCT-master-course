{
  "nbformat": 4,
  "nbformat_minor": 0,
  "metadata": {
    "colab": {
      "name": "HW2.ipynb",
      "provenance": [],
      "collapsed_sections": []
    },
    "kernelspec": {
      "name": "python3",
      "display_name": "Python 3"
    },
    "language_info": {
      "name": "python"
    }
  },
  "cells": [
    {
      "cell_type": "markdown",
      "metadata": {
        "id": "KK9w99ZNMp0a"
      },
      "source": [
        "\n",
        "##Part-of-speech tagging with HMMs##\n",
        "Implement a bigram part-of-speech (POS) tagger based on Hidden Markov Models from scratch. Using NLTK is disallowed, except for the modules explicitly listed below. For this, you will need to develop and/or utilize the following modules:\n",
        "\n",
        "1. Corpus reader and writer (10 points)\n",
        "2. Training procedure (30 points)\n",
        "3. Viterbi tagging, including unknown word handling (50 points) \n",
        "4. Evaluation (10 points)\n",
        "\n",
        "The task is mostly very straightforward, but each step requires careful design. Thus, we suggest you proceed in the following way."
      ]
    },
    {
      "cell_type": "markdown",
      "metadata": {
        "id": "kQMN4_SuM2ox"
      },
      "source": [
        "\n",
        "##Viterbi algorithm.##\n",
        "\n",
        "First, implement the Viterbi algorithm for finding the optimal state (tag) sequence given the sequence of observations (words). We suggest you test your implementation on a small example for which you know the correct tag sequence, such as the Eisner’s Ice Cream HMM from the lecture.\n",
        "Make sure your Viterbi algorithm runs properly on the example before you proceed to the next step. Submit the best state sequence x that your Viterbi implementation finds for y = 3, 1, 3 and its joint probability P (x, y).\n",
        "There are plenty of other detailed illustrations for the Viterbi algorithm on the Web from which you can take example HMMs. Please resist the temptation to copy Python code from those websites; that would be plagiarism."
      ]
    },
    {
      "cell_type": "code",
      "metadata": {
        "id": "V8V11XF2PzWs"
      },
      "source": [
        "import os\n",
        "from tqdm import tqdm\n",
        "from nltk.corpus.reader.conll import ConllCorpusReader\n",
        "from typing import List, Any, Dict, Tuple\n",
        "import numpy as np\n",
        "from collections import deque, defaultdict"
      ],
      "execution_count": 1,
      "outputs": []
    },
    {
      "cell_type": "code",
      "metadata": {
        "id": "EUxKQxoyzk9v",
        "cellView": "code"
      },
      "source": [
        "# @title HMM\n",
        "class HMM:\n",
        "    def __init__(\n",
        "            self,\n",
        "            states: List[Any],\n",
        "            state_transition_probs: List[List[float]],\n",
        "            initial_probs: List[float],\n",
        "            emission_probs: List[Dict[Any, float]],\n",
        "    ):\n",
        "        \"\"\"Initializes Hidden Markov Model.\"\"\"\n",
        "\n",
        "        assert len(states) == len(initial_probs)\n",
        "        assert len(states) == len(state_transition_probs)\n",
        "        assert len(states) == len(emission_probs)\n",
        "\n",
        "        self.states = np.asarray(states)\n",
        "        self.state_transition_probs = np.asarray(state_transition_probs)\n",
        "        self.initial_probs = np.asarray(initial_probs)\n",
        "        self.emission_probs = np.asarray(emission_probs)\n",
        "        self._vocab = set()\n",
        "        for emission_dict in self.emission_probs:\n",
        "            for word in emission_dict:\n",
        "                self._vocab.add(word)\n",
        "\n",
        "    def viterbi(self, observations: List[Any]) -> Tuple[List[Any], float]:\n",
        "        \"\"\"Accepts list of observations (words) and returns the optimal state (tag) sequence and its probability.\"\"\"\n",
        "        if not observations:\n",
        "            return [], 0\n",
        "\n",
        "        n, m = len(self.states), len(observations)\n",
        "\n",
        "        backpointers_matrix = np.zeros((n, m), 'int')\n",
        "        viterbi_matrix = np.zeros((n, m))\n",
        "        initial_emissions_vector = \\\n",
        "            [self.emission_probs[state_i][observations[0]] for state_i in range(n)] \\\n",
        "                if observations[0] in self._vocab \\\n",
        "                else [1] * n\n",
        "\n",
        "        viterbi_matrix[:, 0] = self.initial_probs * initial_emissions_vector\n",
        "\n",
        "        for t in range(1, m):\n",
        "            for state_j in range(n):\n",
        "                cur_token_prob = self.emission_probs[state_j][observations[t]] if observations[t] in self._vocab else 1\n",
        "                state_i_to_j_probs = cur_token_prob * viterbi_matrix[:, t - 1] * self.state_transition_probs[:, state_j]\n",
        "\n",
        "                max_index = np.argmax(state_i_to_j_probs)\n",
        "                backpointers_matrix[state_j, t] = max_index\n",
        "                viterbi_matrix[state_j, t] = state_i_to_j_probs[max_index]\n",
        "\n",
        "        last_col_viterbi = viterbi_matrix[:, m - 1]\n",
        "        max_prob_index = np.argmax(last_col_viterbi)\n",
        "        max_prob_value = last_col_viterbi[max_prob_index]\n",
        "\n",
        "        # Deque is used to avoid extra list reversal using appendleft method\n",
        "        path = deque([max_prob_index, ])\n",
        "        for t in range(len(observations) - 2, -1, -1):\n",
        "            path.appendleft(backpointers_matrix[path[0]][t])\n",
        "\n",
        "        return [self.states[state_i] for state_i in path], max_prob_value"
      ],
      "execution_count": 2,
      "outputs": []
    },
    {
      "cell_type": "code",
      "metadata": {
        "id": "yDdPGKYJ0ch_",
        "colab": {
          "base_uri": "https://localhost:8080/"
        },
        "outputId": "e7333610-5f6b-4fe6-eca8-8651b7d5f21b"
      },
      "source": [
        "model_np = HMM(states=[\"H\", \"C\"],\n",
        "            state_transition_probs=[[0.7, 0.3], [0.4, 0.6]],\n",
        "            initial_probs=[0.8, 0.2],\n",
        "            emission_probs=[\n",
        "                {1: 0.2, 2: 0.4, 3: 0.4},\n",
        "                {1: 0.5, 2: 0.4, 3: 0.1},\n",
        "            ])\n",
        "\n",
        "print(model_np.viterbi(observations=[3, 1, 3]))"
      ],
      "execution_count": 3,
      "outputs": [
        {
          "output_type": "stream",
          "name": "stdout",
          "text": [
            "(['H', 'H', 'H'], 0.012544000000000001)\n"
          ]
        }
      ]
    },
    {
      "cell_type": "markdown",
      "metadata": {
        "id": "rLsmq6s-M-b4"
      },
      "source": [
        "##Training.##\n",
        "\n",
        "Second, learn the parameters of your HMM from data, i.e. the initial, transition, and emission probabilities. Implement a maximum likelihood training procedure for supervised learning of HMMs.\n",
        "You can get a corpus at http://www.coli.uni-saarland.de/~koller/materials/anlp/de-utb.zip. It contains a training set, a test set, and an evaluation set. The training set (de-train.tt) and the evaluation set (de-eval.tt) are written in the commonly used CoNLL format. They are text files with two colums; the first column contains the words, the POS tags are in the second column, and empty lines delimit sentences. The test set (de-test.t) is a copy of the evaluation set with tags stripped, as you should tag the test set using your tagger and then compare your results with the gold-standard ones in the evaluation set. The corpus uses the 12-tag universal POS tagset by Petrov et al. (2012). Feel free to use the NLTK module nltk.corpus.reader (and submodules) for reading the corpus."
      ]
    },
    {
      "cell_type": "code",
      "metadata": {
        "id": "1PLNBFA3NN_g"
      },
      "source": [
        "%%capture\n",
        "if not os.path.isfile('de-train.tt'):\n",
        "    ! wget http://www.coli.uni-saarland.de/~koller/materials/anlp/de-utb.zip\n",
        "    ! unzip de-utb.zip\n",
        "    ! rm de-utb.zip"
      ],
      "execution_count": 4,
      "outputs": []
    },
    {
      "cell_type": "code",
      "metadata": {
        "id": "kDnd565xNOCH",
        "colab": {
          "base_uri": "https://localhost:8080/"
        },
        "outputId": "277365ae-cc95-43b2-d068-b4a976b6a117"
      },
      "source": [
        "train_corpus = ConllCorpusReader(root='.', fileids=['de-train.tt'], columntypes=['words', 'pos'])\n",
        "print(train_corpus.words())\n",
        "print(train_corpus.tagged_words())\n",
        "print(train_corpus.tagged_sents()[0])"
      ],
      "execution_count": 5,
      "outputs": [
        {
          "output_type": "stream",
          "name": "stdout",
          "text": [
            "['Sehr', 'gute', 'Beratung', ',', 'schnelle', ...]\n",
            "[('Sehr', 'ADV'), ('gute', 'ADJ'), ...]\n",
            "[('Sehr', 'ADV'), ('gute', 'ADJ'), ('Beratung', 'NOUN'), (',', '.'), ('schnelle', 'ADJ'), ('Behebung', 'NOUN'), ('der', 'DET'), ('Probleme', 'NOUN'), (',', '.'), ('so', 'ADV'), ('stelle', 'VERB'), ('ich', 'PRON'), ('mir', 'PRON'), ('Kundenservice', 'NOUN'), ('vor', 'PRT'), ('.', '.')]\n"
          ]
        }
      ]
    },
    {
      "cell_type": "markdown",
      "metadata": {
        "id": "da6L9y2cYAAZ"
      },
      "source": [
        "We need to know the set of hidden states. Here is an excerpt from Petrov's article:\n",
        "\n",
        "\"Our universal POS tagset unifies this previous work and defines the following twelve POS tags: NOUN (nouns), VERB (verbs), ADJ (adjectives), ADV (adverbs), PRON (pronouns), DET (determiners and articles), ADP (prepositions and postpositions), NUM (numerals), CONJ (conjunctions), PRT (particles), ‘.’ (punctuation marks) and X (a catch-all for other categories such as abbreviations or foreign words).\""
      ]
    },
    {
      "cell_type": "code",
      "metadata": {
        "id": "XuFzzNayYH9h"
      },
      "source": [
        "states = ['NOUN', 'VERB', 'ADJ', 'ADV', 'PRON', 'DET', 'ADP', 'NUM', 'CONJ', 'PRT', '.', 'X']"
      ],
      "execution_count": 6,
      "outputs": []
    },
    {
      "cell_type": "markdown",
      "metadata": {
        "id": "k86SVCl9i6Jd"
      },
      "source": [
        "Here is the theory from Jurafski and Martin book on supervised training for HMM:\n",
        "\n",
        "X: sequence of hidden states / tags $q_1, ... , q_t$ <br>\n",
        "Y: the corresponding sequence of observations / words $o_1, ... ,o_t$\n",
        "\n",
        "initial probabilities: $c_j = \\frac{\\text{#sentences with } X_1=q_j}{\\text{#sentences}}$ <br>\n",
        "\n",
        "\n",
        "transition probabilities: $a_{ij}$ = $\\frac{C(X_t = q_i, X_{t+1} = q_j)}{C(X_t = q_i)}$ <br>\n",
        "\n",
        "emission probabilities: $b_j(o) = \\frac{C(X_t = q_j, Y_t = o)}{C(X_t = q_j)}$ <br>"
      ]
    },
    {
      "cell_type": "code",
      "metadata": {
        "id": "YxhcYSAlgZFN",
        "cellView": "code"
      },
      "source": [
        "#@title HMM training\n",
        "def train_HMM_params(states: List[Any], corpus: ConllCorpusReader) -> Tuple[\n",
        "    List[List[float]], List[float], List[Dict[Any, float]]]:\n",
        "    n = len(states)\n",
        "    state_to_index = {state: i for i, state in enumerate(states)}\n",
        "\n",
        "    state_occurence = np.zeros(n)\n",
        "    state_occurence_with_transition = np.zeros(n)\n",
        "    state_cooccurence_matrix = np.zeros((n, n))\n",
        "    state_to_word_counter = [defaultdict(int) for _ in range(n)]\n",
        "    states_for_sentence_start = np.zeros(n)\n",
        "\n",
        "    for tagged_sentence in tqdm(corpus.tagged_sents()):\n",
        "        for i, (observed_word, word_state) in enumerate(tagged_sentence):\n",
        "            state_index = state_to_index[word_state]\n",
        "            if i == 0:\n",
        "                states_for_sentence_start[state_index] += 1\n",
        "            if i != len(tagged_sentence) - 1:\n",
        "                # we have a transition to the next tag (current state is the first item in bigram)\n",
        "                state_occurence_with_transition[state_index] += 1\n",
        "                next_state = tagged_sentence[i + 1][1]\n",
        "                next_state_index = state_to_index[next_state]\n",
        "                state_cooccurence_matrix[state_index][next_state_index] += 1\n",
        "            state_to_word_counter[state_index][observed_word] += 1\n",
        "            state_occurence[state_index] += 1\n",
        "\n",
        "    # it is just a smart way to divide each row by the correspoding vector element\n",
        "    state_transition_probs = state_cooccurence_matrix / state_occurence_with_transition[:, None]\n",
        "\n",
        "    initial_probs = states_for_sentence_start / len(corpus.tagged_sents())\n",
        "\n",
        "    emission_probs = [defaultdict(int) for _ in range(n)]\n",
        "    for state_i, counted_words in enumerate(state_to_word_counter):\n",
        "        for word, word_count in counted_words.items():\n",
        "            emission_probs[state_i][word] = word_count / state_occurence[state_i]\n",
        "\n",
        "    return state_transition_probs, initial_probs, emission_probs"
      ],
      "execution_count": 7,
      "outputs": []
    },
    {
      "cell_type": "code",
      "metadata": {
        "colab": {
          "base_uri": "https://localhost:8080/"
        },
        "id": "8B2WDdkzhH56",
        "outputId": "55c37c83-fff2-4121-f82c-5a5f8767ef3a"
      },
      "source": [
        "trained_state_transition_probs, trained_initial_probs, trained_emission_probs = train_HMM_params(states, train_corpus)"
      ],
      "execution_count": 8,
      "outputs": [
        {
          "output_type": "stream",
          "name": "stderr",
          "text": [
            "100%|██████████| 14118/14118 [00:02<00:00, 7055.78it/s]\n"
          ]
        }
      ]
    },
    {
      "cell_type": "markdown",
      "metadata": {
        "id": "kyiINXb7NOUh"
      },
      "source": [
        "##Evaluation.##\n",
        "\n",
        "Once you have trained a model, evaluate it on the unseen data from the test set. Run the Viterbi algorithm with each of your models, and output a tagged corpus in the two-column CoNLL format (*.tt). We will provide an evaluation script on Classroom. Run it on the output of your tagger and the evaluation set and report your results.\n",
        "Note that your tagger will initially fail to produce output for sentences that contain words you haven’t seen in training. If you have such a word w appear at sentence position t, you will have bj(w) = 0 for all states/tags j, and therefore Vt(j) = 0 for all j. Adapt your tagger by implementing the following crude approach to unknown words. Whenever you get Vt(j) = 0 for all j because of an unknown word w at position t, pretend that bj(w) = 1 for all j. This will basically set Vt(j) = maxi Vt−1(i) · aij, and allow you to interpolate the missing POS tag based on the transition probabilities alone."
      ]
    },
    {
      "cell_type": "code",
      "metadata": {
        "colab": {
          "base_uri": "https://localhost:8080/"
        },
        "id": "oHEN8JCzlLks",
        "outputId": "f7a89fcd-6993-45b6-da52-716474f5ecdd"
      },
      "source": [
        "test_corpus = ConllCorpusReader(root='.', fileids=['de-test.t'], columntypes=['words'])\n",
        "print(test_corpus.sents()[0])"
      ],
      "execution_count": 9,
      "outputs": [
        {
          "output_type": "stream",
          "name": "stdout",
          "text": [
            "['Der', 'Hauptgang', 'war', 'in', 'Ordnung', ',', 'aber', 'alles', 'andere', 'als', 'umwerfend', '.']\n"
          ]
        }
      ]
    },
    {
      "cell_type": "code",
      "metadata": {
        "id": "jG49ExXKlB-_"
      },
      "source": [
        "model = HMM(states=states,\n",
        "            state_transition_probs=trained_state_transition_probs,\n",
        "            initial_probs=trained_initial_probs,\n",
        "            emission_probs=trained_emission_probs)"
      ],
      "execution_count": 10,
      "outputs": []
    },
    {
      "cell_type": "code",
      "metadata": {
        "id": "sg3idcOosacH"
      },
      "source": [
        "%%capture\n",
        "! wget https://raw.githubusercontent.com/tsimafeip/LCT-master-course/4f62678c2121e28353371630f5c6850ebe68d061/UdS/WinterSemester/CompLing/Assignments/HW2/eval.py"
      ],
      "execution_count": 11,
      "outputs": []
    },
    {
      "cell_type": "code",
      "metadata": {
        "colab": {
          "base_uri": "https://localhost:8080/"
        },
        "id": "3hep5sfovjGc",
        "outputId": "b8421cec-5a9f-4c60-ec9d-bdad6ee00be4"
      },
      "source": [
        "# with open('de-train-res.tt', 'w') as f:\n",
        "#     for sentence in tqdm(train_corpus.sents()):\n",
        "#         predicted_tags, max_prob_value = model.viterbi(observations=sentence)\n",
        "    \n",
        "#         for tag, word in zip(predicted_tags, sentence):\n",
        "#             f.write(f\"{word}\\t{tag}\\n\")\n",
        "#         f.write('\\n')"
      ],
      "execution_count": 12,
      "outputs": [
        {
          "output_type": "stream",
          "name": "stderr",
          "text": [
            "100%|██████████| 14118/14118 [00:29<00:00, 485.78it/s]\n"
          ]
        }
      ]
    },
    {
      "cell_type": "code",
      "metadata": {
        "colab": {
          "base_uri": "https://localhost:8080/"
        },
        "id": "h03JWaTvvuM9",
        "outputId": "8b973e89-67b6-4cfb-860e-a0f7ef88bb2d"
      },
      "source": [
        "# ! python eval.py de-train.tt de-train-res.tt"
      ],
      "execution_count": 13,
      "outputs": [
        {
          "output_type": "stream",
          "name": "stdout",
          "text": [
            "\n",
            "Comparing gold file \"de-train.tt\" and system file \"de-train-res.tt\"\n",
            "\n",
            "Precision, recall, and F1 score:\n",
            "\n",
            " NOUN 0.2033 0.2543 0.2260\n",
            "  ADV 0.1204 0.1113 0.1157\n",
            "  ADJ 0.0794 0.0661 0.0721\n",
            "    . 0.4481 0.4268 0.4372\n",
            "  DET 0.0013 0.0012 0.0012\n",
            " VERB 0.0526 0.0388 0.0447\n",
            " PRON 0.0813 0.0730 0.0769\n",
            "  PRT 0.0171 0.0095 0.0122\n",
            "  ADP 0.0112 0.0108 0.0110\n",
            " CONJ 0.0035 0.0032 0.0033\n",
            "  NUM 0.0069 0.0061 0.0065\n",
            "    X 0.1236 0.1059 0.1141\n",
            "\n",
            "Accuracy: 0.1515\n",
            "\n"
          ]
        }
      ]
    },
    {
      "cell_type": "code",
      "metadata": {
        "id": "4IBhd7fFmLj7",
        "outputId": "98a99d1b-a56e-4b78-d6a0-9c19489404b0",
        "colab": {
          "base_uri": "https://localhost:8080/"
        }
      },
      "source": [
        "with open('de-test-res.tt', 'w') as f:\n",
        "    for sentence in tqdm(test_corpus.sents()):\n",
        "        predicted_tags, max_prob_value = model.viterbi(observations=sentence)\n",
        "    \n",
        "        for tag, word in zip(predicted_tags, sentence):\n",
        "            f.write(f\"{word}\\t{tag}\\n\")\n",
        "        f.write('\\n')"
      ],
      "execution_count": 14,
      "outputs": [
        {
          "output_type": "stream",
          "name": "stderr",
          "text": [
            "100%|██████████| 1000/1000 [00:01<00:00, 587.00it/s]\n"
          ]
        }
      ]
    },
    {
      "cell_type": "code",
      "metadata": {
        "colab": {
          "base_uri": "https://localhost:8080/"
        },
        "id": "Q9eArQp8r83W",
        "outputId": "4bafcb3c-99a8-45b7-ecac-c8d5b420cfe8"
      },
      "source": [
        "! python eval.py de-eval.tt de-test-res.tt"
      ],
      "execution_count": 15,
      "outputs": [
        {
          "output_type": "stream",
          "name": "stdout",
          "text": [
            "\n",
            "Comparing gold file \"de-eval.tt\" and system file \"de-test-res.tt\"\n",
            "\n",
            "Precision, recall, and F1 score:\n",
            "\n",
            " NOUN 0.1742 0.2319 0.1989\n",
            "  DET 0.0018 0.0020 0.0019\n",
            " VERB 0.0611 0.0436 0.0509\n",
            "  ADP 0.0078 0.0077 0.0077\n",
            "    . 0.4353 0.4256 0.4304\n",
            " CONJ 0.0105 0.0092 0.0098\n",
            "  ADV 0.1933 0.1452 0.1658\n",
            " PRON 0.0895 0.0799 0.0844\n",
            "  ADJ 0.0536 0.0421 0.0472\n",
            "  NUM 0.0798 0.0556 0.0655\n",
            "  PRT 0.0190 0.0130 0.0155\n",
            "    X 0.2857 0.0909 0.1379\n",
            "\n",
            "Accuracy: 0.1488\n",
            "\n"
          ]
        }
      ]
    },
    {
      "cell_type": "markdown",
      "metadata": {
        "id": "gvWWy8XUcBmX"
      },
      "source": [
        "I am disappointed why the accuracy is so low, although the code looks correct for me, I cannot find a bug."
      ]
    },
    {
      "cell_type": "markdown",
      "metadata": {
        "id": "UcTZCCzwNYXQ"
      },
      "source": [
        "##Extra credit.##\n",
        "\n",
        "The task is challenging as it stands. However, feel free to go further for extra credit, e.g. by doing one of the following: implement better unknown word handling, use a trigram tagger, plot a learning curve for your tagger (accuracy as a function of training data size), plot a speed vs. sentence length curve."
      ]
    },
    {
      "cell_type": "code",
      "metadata": {
        "id": "fY9hgA2ZNc2M"
      },
      "source": [
        ""
      ],
      "execution_count": 15,
      "outputs": []
    },
    {
      "cell_type": "markdown",
      "metadata": {
        "id": "nm1-RTTANdP3"
      },
      "source": [
        "Please submit your code, instructions for running your tagger and tagging output(s). Document any additional data you submit. With this, you will have implemented your first POS tagger! Well done!"
      ]
    }
  ]
}