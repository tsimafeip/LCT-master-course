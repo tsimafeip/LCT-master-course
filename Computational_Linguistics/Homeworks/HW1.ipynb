{
  "nbformat": 4,
  "nbformat_minor": 0,
  "metadata": {
    "colab": {
      "name": "HW1.ipynb",
      "provenance": [],
      "authorship_tag": "ABX9TyMfVNcmXbubcZtaM2jn6gx1"
    },
    "kernelspec": {
      "name": "python3",
      "display_name": "Python 3"
    },
    "language_info": {
      "name": "python"
    }
  },
  "cells": [
    {
      "cell_type": "markdown",
      "metadata": {
        "id": "geVXTsHYD8e8"
      },
      "source": [
        ">>> **1. Zipf ’s Law**\n",
        "\n",
        "\n",
        "Empirically verify Zipf’s law. \n",
        "\n",
        "Use the following freely available corpora: <br>\n",
        "• King James Bible (on Classroom)<br>\n",
        "• The Jungle Book (on Classroom) <br>\n",
        "• SETIMES Turkish-Bulgarian parallel newspaper text \n",
        "http://opus.lingfil.uu.se/download.php?f=SETIMES2/bg-tr.txt.zip <br>\n",
        "\n",
        "1) For each corpus, compute a list of unique words sorted by descending fre\n",
        "quency. Feel free to tokenize however you like, e.g. by splitting at whitespace.\n",
        "\n",
        "2) Use the Python library matplotlib to plot the frequency curves for the cor-\n",
        "pora, i.e. x-axis is position in the frequency list, y-axis is frequency. Make\n",
        "sure to provide both a plot with linear axes and one with log-log axes (see\n",
        "methods matplotlib.pyplot.plot and matplotlib.pyplot.loglog) for\n",
        "each corpus.\n",
        "\n",
        "3) Provide a brief discussion of the findings, as well as the source code."
      ]
    },
    {
      "cell_type": "code",
      "metadata": {
        "id": "YEKS5CIvD4bd"
      },
      "source": [
        ""
      ],
      "execution_count": null,
      "outputs": []
    }
  ]
}