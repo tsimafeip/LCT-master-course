{
  "nbformat": 4,
  "nbformat_minor": 0,
  "metadata": {
    "colab": {
      "name": "assignment_0.ipynb",
      "provenance": [],
      "collapsed_sections": []
    },
    "kernelspec": {
      "display_name": "Python 3",
      "language": "python",
      "name": "python3"
    },
    "language_info": {
      "codemirror_mode": {
        "name": "ipython",
        "version": 3
      },
      "file_extension": ".py",
      "mimetype": "text/x-python",
      "name": "python",
      "nbconvert_exporter": "python",
      "pygments_lexer": "ipython3",
      "version": "3.8.3"
    }
  },
  "cells": [
    {
      "cell_type": "markdown",
      "metadata": {
        "id": "P8-mDbypBWwf"
      },
      "source": [
        ""
      ]
    },
    {
      "cell_type": "markdown",
      "metadata": {
        "id": "ZT_S_io_85jk"
      },
      "source": [
        "# NNIA Assignment 0\n",
        "\n",
        "**DEADLINE: 10.11.2021 0800 CET**\n",
        "\n",
        "- Trevor Atkins & trat00001 (Teams username: trat00001@uni-saarland.de): \n",
        "- Tsimafei Prakapenka & tspr00001 (Teams username: tspr00001@uni-saarland.de):\n",
        "- Hours of work per person: Tsimafei: 1.5h Trevor: 45min\n",
        "\n",
        "# Submission Instructions\n",
        "\n",
        "**IMPORTANT** Please make sure you read the following instructions carefully. If you are unclear about any part of the assignment, ask questions **before** the assignment deadline. All course-related questions can be addressed on the course **[Piazza Platform](https://piazza.com/class/kvc3vzhsvh55rt)**\n",
        "\n",
        "* Assignments are to be submitted in a **team of 2**.\n",
        "* Please include your **names**, **ID's**, **Teams usernames**, and **approximate total time spent per person** at the beginning of the Notebook in the space provided\n",
        "* Make sure you appropriately comment your code wherever required. \n",
        "* Your final submission should contain this completed Jupyter Notebook, including the bonus question (if you attempt it), and any necessary Python files.\n",
        "* Do **not** submit any data or cache files (e.g. `__pycache__`).\n",
        "* Upload the **zipped** folder (*.zip* is the only accepted extension) in **Teams**.\n",
        "* Only **one member** of the group should make the submisssion.\n",
        "* **Important** please name the submitted zip folder as: `Name1_id1_Name2_id2.zip`. The Jupyter Notebook should also be named: `Name1_id1_Name2_id2.ipynb`. This is **very important** for our internal organization repeatedly students fail to do this.\n",
        "\n",
        "<font color=\"red\">Failure to follow the above instructions will result in point penalties at the discretion of the instructors.</font>\n",
        "\n",
        "This zeroth assignment is special in that you will not receive any points from it (nor will you have points deduced).\n",
        "We will nevertheless provide feedback to help you with your later submissions."
      ]
    },
    {
      "cell_type": "markdown",
      "metadata": {
        "id": "VunknDAZ9Q-x"
      },
      "source": [
        "# Exercise 1: Course Organization and Resources (0 points)\n",
        "\n",
        "Course orientation and assignment instructions. Please carefully orient yourself with the course organizational sites (Teams Channels and Piazza) and the instructions on how to use Jupyter Notebooks and how to hand in the assignments.\n"
      ]
    },
    {
      "cell_type": "markdown",
      "metadata": {
        "id": "5MVVGTFi2t_j"
      },
      "source": [
        "## 1.1 Course Organization Resources\n",
        "\n",
        "* If I have questions about the assignments, grading, etc. and need to get in touch with the tutor(s), how should I do that?\n",
        "* I have a few questions about the course contents... Where should I ask them? \n",
        "\n",
        "\n",
        "\n",
        "\n",
        "\n"
      ]
    },
    {
      "cell_type": "markdown",
      "metadata": {
        "id": "lw0mAJdb7ZKP"
      },
      "source": [
        "## 1.2 Assignment Submission Instructions\n",
        "\n",
        "\n"
      ]
    },
    {
      "cell_type": "markdown",
      "metadata": {
        "id": "t-Z6CFq0r7LN"
      },
      "source": [
        "*   Where and how assignements are to be submitted? \n",
        "*   What should and should not be included in your submission?\n",
        "\n"
      ]
    },
    {
      "cell_type": "markdown",
      "metadata": {
        "id": "UleFs523sMMX"
      },
      "source": [
        "## <font color=\"green\"> 1.1 DONE </font>\n",
        "Questions about the assignments, grading, etc. and to get in touch with the tutor(s) can be asked through Microsoft Teams or e-mail. \n",
        "Questions about course content can be asked on the Piazza forum, with a label as to whether it is for NNTI or NNIA.\n",
        "## <font color=\"green\">1.2 DONE</font>\n",
        "Assignments are to be submitted on Microsoft Teams according to the instructions provided. What should be included in the submission are: Names, ID, Team usernames, approximate time spent per person, all the files as a zipped folder with Name, ID as the file names. What should not be included are data and cache files and not more than one member submitting. \n"
      ]
    },
    {
      "cell_type": "markdown",
      "metadata": {
        "id": "42NTEfaa3b5x"
      },
      "source": [
        "## 1.3 Using Jupyter Notebooks\n",
        "\n",
        "Since all assignments unless otherwise instructed are to be submitted via Jupyter Notebooks, please familiarize yourself with how to use them by reading the **\"Instructions for using Jupyter Notebooks and Assignments\"** PDF file provided in the assignment folder.\n",
        "If you feel that you already know all this, you can skip reading it at your own risk.\n",
        "\n",
        "Below are some additional links to a few resources on how to use Jupyter Notebooks you may find useful:\n",
        "\n",
        "* [DataCamp Jupyter Notebook Tutorial](https://www.datacamp.com/community/tutorials/tutorial-jupyter-notebook)\n",
        "* [Markdown Formatting Cheatsheet](https://www.markdownguide.org/basic-syntax/)\n",
        "* [How to import Python modules to Jupyter Notebook](https://youtu.be/BW_8UAnO9Og)\n",
        "\n",
        "After consulting the above resources (and/or elsewhere if you prefer), please perform the following:\n",
        "1.   Write a Python script containing *a function* that prints a message to the standard output. e.g. a simple function printing \"Hello World!\" is acceptable.\n",
        "2.   Import this function to the cell in this notebook below\n",
        "3.   Execute the cell to verify that you have successfully done so. You should see the message written in the function in the .py file you have imported in the notebook.\n",
        "\n"
      ]
    },
    {
      "cell_type": "code",
      "metadata": {
        "colab": {
          "base_uri": "https://localhost:8080/"
        },
        "id": "GS11dPBjFgPr",
        "outputId": "529a8fe3-bea6-480e-c589-c3bd7189ca1e"
      },
      "source": [
        "from google.colab import drive\n",
        "drive.mount('/content/drive')"
      ],
      "execution_count": null,
      "outputs": [
        {
          "output_type": "stream",
          "name": "stdout",
          "text": [
            "Drive already mounted at /content/drive; to attempt to forcibly remount, call drive.mount(\"/content/drive\", force_remount=True).\n"
          ]
        }
      ]
    },
    {
      "cell_type": "code",
      "metadata": {
        "id": "z06yiWz47KJp",
        "colab": {
          "base_uri": "https://localhost:8080/"
        },
        "outputId": "a0527f1b-13f6-4dd1-99e3-b0c9e0d9def7"
      },
      "source": [
        "# TODO\n",
        "# import your function from your .py file here and run this cell when you're done!\n",
        "import sys\n",
        "sys.path.append('/content/drive/MyDrive/Neural Networks/assignment0_rev1')\n",
        "from importlib import reload\n",
        "import assign0_func1\n",
        "assign0_func1 = reload(assign0_func1)\n",
        "assign0_func1.printHelloWorld()"
      ],
      "execution_count": null,
      "outputs": [
        {
          "output_type": "stream",
          "name": "stdout",
          "text": [
            "Hello World\n"
          ]
        }
      ]
    },
    {
      "cell_type": "markdown",
      "metadata": {
        "id": "gv7_dC3q9XQl"
      },
      "source": [
        "# Exercise 2: Linear Algebra Basics (0 points)\n",
        "\n",
        "\n",
        "## 2.1\n",
        "\n",
        "- Multiply the following matrices.\n",
        "- What conclusion can you infer about commutativity of matrix multiplication?\n",
        "\n",
        "$$\n",
        "X = \\begin{pmatrix}\n",
        "1 & 2 \\\\\n",
        "3 & 4 \n",
        "\\end{pmatrix}\n",
        "\\times \n",
        "\\begin{pmatrix}\n",
        "-1 & 5 \\\\\n",
        "4 & 0 \n",
        "\\end{pmatrix}\n",
        "$$\n",
        "\n",
        "$$\n",
        "Y =\n",
        "\\begin{pmatrix}\n",
        "-1 & 5 \\\\\n",
        "4 & 0 \n",
        "\\end{pmatrix}\n",
        "\\times \n",
        "\\begin{pmatrix}\n",
        "1 & 2 \\\\\n",
        "3 & 4 \n",
        "\\end{pmatrix}\n",
        "$$\n",
        "\n",
        "## 2.2\n",
        "\n",
        "- What is a transpose of a matrix?\n",
        "\n",
        "- What is an identity matrix?\n",
        "\n",
        "- What is a symmetric matrix?\n",
        "\n",
        "- What is a matrix inverse?\n",
        "\n",
        "\n",
        "## 2.3\n",
        "\n",
        "- Find the inverse of the following matricies:\n",
        "\n",
        "$$\n",
        "A =\n",
        "\\begin{pmatrix}\n",
        "1 & 2 \\\\\n",
        "3 & 4 \n",
        "\\end{pmatrix}\n",
        "\\qquad\n",
        "B =\n",
        "\\begin{pmatrix}\n",
        "1 & 2 \\\\\n",
        "2 & 4  \n",
        "\\end{pmatrix}\n",
        "\\qquad\n",
        "C =\n",
        "\\begin{pmatrix}\n",
        "1 & 2 & 0 \\\\\n",
        "3 & 4 & 1 \n",
        "\\end{pmatrix}\n",
        "$$\n"
      ]
    },
    {
      "cell_type": "markdown",
      "metadata": {
        "id": "wwAVFmVusHfl"
      },
      "source": [
        "## <font color=\"green\">2.1 DONE</font>\n",
        "Matrix multiplication is an apparently non-commucative operation.\n",
        "$$\n",
        "X = \\begin{pmatrix}\n",
        "7 & 5 \\\\\n",
        "13 & 15 \n",
        "\\end{pmatrix}\n",
        "$$\n",
        "\n",
        "$$\n",
        "Y =\n",
        "\\begin{pmatrix}\n",
        "14 & 18 \\\\\n",
        "4 & 8 \n",
        "\\end{pmatrix}\n",
        "$$\n",
        "\n",
        "\n",
        "\n",
        "\n",
        "## <font color=\"green\">2.2 DONE</font>\n",
        "\n",
        "- A transpose of a matrix switches the row and column indices of the matrix.\n",
        "\n",
        "- An identity matrix is when a matrix of size *n* is a *nxn* square matrix where the main diagonal of the matrix has ones and zeroes everywhere else. \n",
        "\n",
        "- A symmetric matrix is a square matrix that is equal to its transpose.\n",
        "\n",
        "- A matrix inverse is a matrix such that if it is multiplied with the original matrix, the product is the identity matrix.\n",
        "\n",
        "\n",
        "## <font color=\"green\">2.3 DONE</font>\n",
        "It is impossible to invert non-square matrices and matrices with a zero determiner. Then, matrices B ($det(B) = 1*4 - 2*2 = 0$) and C (non-square) are not invertible. Let's find the inverse of A with a non-zero determiner ($det(A) = 1*4 - 2*3 = -2$).\n",
        "\n"
      ]
    },
    {
      "cell_type": "markdown",
      "metadata": {
        "id": "rqqOuzhD3pJy"
      },
      "source": [
        "$$A ^{-1} = \\begin{pmatrix}\n",
        "1 & 2 \\\\\n",
        "3 & 4\n",
        "\\end{pmatrix} ^ {-1} =  \\begin{pmatrix}\n",
        "a & b \\\\\n",
        "c & d \n",
        "\\end{pmatrix} ^{-1} = \\frac{1}{det(A)} * \\begin{pmatrix}\n",
        "d & -b \\\\\n",
        "-c & a\n",
        "\\end{pmatrix} = \\frac{1} {-2} * \\begin{pmatrix}\n",
        "4 & -2 \\\\\n",
        "-3 & 1 \n",
        "\\end{pmatrix} = \\begin{pmatrix}\n",
        "2 & -1 \\\\\n",
        "-1.5 & 0.5 \n",
        "\\end{pmatrix}$$"
      ]
    },
    {
      "cell_type": "markdown",
      "metadata": {
        "id": "ViCFvnS19abO"
      },
      "source": [
        "\n",
        "# Exercise 3: Working with Numpy (0 points)\n",
        "\n",
        "You may be wondering why skip the second exercise and not simply use the results you find with Numpy.\n",
        "The exercises are meant mostly for you to help you prepare for the exam where you can expect exercises similar to the second one.\n",
        "Programming exercises should help you become better practicioners of learned material.\n",
        "\n",
        "## 3.1\n",
        "\n",
        "Use Numpy to:\n",
        "- Find the dot product $X$ and $Y$\n",
        "- Find the sum of $X$ and $(-6 \\cdot Y)$\n",
        "- Find the inverses of matricies $A$, $B$ and $C$.\n",
        "- Show the difference between the dot product of $X$ and $Y$ and the elementwise product (Hadamard product) of $X \\odot Y$\n",
        "\n",
        "## 3.2\n",
        "\n",
        "With Numpy:\n",
        "- Generate two rectangular random matricies $K$ and $L$ of shape such that they are multiplicable with $L \\times K$\n",
        "- Validate that $(K^T \\times L^T)^T = L \\times K$"
      ]
    },
    {
      "cell_type": "markdown",
      "metadata": {
        "id": "LOK7yFNDsTyj"
      },
      "source": [
        "## <font color=\"green\">3.1 DONE</font>\n"
      ]
    },
    {
      "cell_type": "code",
      "metadata": {
        "id": "0QfmPY3QtYEN"
      },
      "source": [
        "import numpy as np\n",
        "import torch # just to check mm in torch vs numpy"
      ],
      "execution_count": null,
      "outputs": []
    },
    {
      "cell_type": "code",
      "metadata": {
        "id": "BBjTfAmovB5Y"
      },
      "source": [
        "m1 = np.array([[1, 2], [3, 4]])\n",
        "m2 = np.array([[-1, 5], [4, 0]])"
      ],
      "execution_count": null,
      "outputs": []
    },
    {
      "cell_type": "code",
      "metadata": {
        "colab": {
          "base_uri": "https://localhost:8080/"
        },
        "id": "YnfL7pfuttjx",
        "outputId": "e5e0f5f1-9647-47ee-f0a9-831e162155a8"
      },
      "source": [
        "# this matmul will work even with ordinary python 2d lists, \n",
        "# but I converted it to ndarrays to check other options for matrix multiplications\n",
        "x = np.matmul(m1, m2)\n",
        "x"
      ],
      "execution_count": null,
      "outputs": [
        {
          "output_type": "execute_result",
          "data": {
            "text/plain": [
              "array([[ 7,  5],\n",
              "       [13, 15]])"
            ]
          },
          "metadata": {},
          "execution_count": 43
        }
      ]
    },
    {
      "cell_type": "code",
      "metadata": {
        "colab": {
          "base_uri": "https://localhost:8080/"
        },
        "id": "Y_k5W2IIvSOw",
        "outputId": "d5aa32f2-e88e-4994-a6d8-10ae94d5c69f"
      },
      "source": [
        "m1 @ m2"
      ],
      "execution_count": null,
      "outputs": [
        {
          "output_type": "execute_result",
          "data": {
            "text/plain": [
              "array([[ 7,  5],\n",
              "       [13, 15]])"
            ]
          },
          "metadata": {},
          "execution_count": 10
        }
      ]
    },
    {
      "cell_type": "code",
      "metadata": {
        "colab": {
          "base_uri": "https://localhost:8080/"
        },
        "id": "VAx5vfZhvYSv",
        "outputId": "5de46260-cc10-4391-a3cb-b43e0100e7cb"
      },
      "source": [
        "torch.mm(torch.from_numpy(m1), torch.from_numpy(m2))"
      ],
      "execution_count": null,
      "outputs": [
        {
          "output_type": "execute_result",
          "data": {
            "text/plain": [
              "tensor([[ 7,  5],\n",
              "        [13, 15]])"
            ]
          },
          "metadata": {},
          "execution_count": 12
        }
      ]
    },
    {
      "cell_type": "code",
      "metadata": {
        "colab": {
          "base_uri": "https://localhost:8080/"
        },
        "id": "JIxc52Rzt5dT",
        "outputId": "49e2ef87-5ff7-4f12-dd7d-1d43834aeb2e"
      },
      "source": [
        "y = np.matmul(m2, m1)\n",
        "y"
      ],
      "execution_count": null,
      "outputs": [
        {
          "output_type": "execute_result",
          "data": {
            "text/plain": [
              "array([[14, 18],\n",
              "       [ 4,  8]])"
            ]
          },
          "metadata": {},
          "execution_count": 13
        }
      ]
    },
    {
      "cell_type": "markdown",
      "metadata": {
        "id": "fl5V2nGaiO3z"
      },
      "source": [
        "- find the dot product $X$ and $Y$"
      ]
    },
    {
      "cell_type": "code",
      "metadata": {
        "id": "AY890jf-a3kn",
        "colab": {
          "base_uri": "https://localhost:8080/"
        },
        "outputId": "0fb36101-8ba5-4f7a-aff9-dbc847483a68"
      },
      "source": [
        "np.dot(x, y)"
      ],
      "execution_count": null,
      "outputs": [
        {
          "output_type": "execute_result",
          "data": {
            "text/plain": [
              "array([[118, 166],\n",
              "       [242, 354]])"
            ]
          },
          "metadata": {},
          "execution_count": 14
        }
      ]
    },
    {
      "cell_type": "code",
      "metadata": {
        "colab": {
          "base_uri": "https://localhost:8080/"
        },
        "id": "1Du3QIW0wTEf",
        "outputId": "ee4ab4a9-7822-40a9-9bf1-70f193ba74d4"
      },
      "source": [
        "np.dot(y, x)"
      ],
      "execution_count": null,
      "outputs": [
        {
          "output_type": "execute_result",
          "data": {
            "text/plain": [
              "array([[332, 340],\n",
              "       [132, 140]])"
            ]
          },
          "metadata": {},
          "execution_count": 15
        }
      ]
    },
    {
      "cell_type": "code",
      "metadata": {
        "colab": {
          "base_uri": "https://localhost:8080/"
        },
        "id": "__OXxwnAwW_f",
        "outputId": "0f16fa4c-e989-4215-bede-427520abaa36"
      },
      "source": [
        "v1 = [1, 2, 3]\n",
        "v2 = [11, 12, 13]\n",
        "\n",
        "print(np.dot(v1, v2))\n",
        "print(np.dot(v2, v1))"
      ],
      "execution_count": null,
      "outputs": [
        {
          "output_type": "stream",
          "name": "stdout",
          "text": [
            "74\n",
            "74\n"
          ]
        }
      ]
    },
    {
      "cell_type": "markdown",
      "metadata": {
        "id": "J_HvaB5YiW7e"
      },
      "source": [
        "- find the sum of $X$ and $(-6 \\cdot Y)$"
      ]
    },
    {
      "cell_type": "code",
      "metadata": {
        "id": "goEoMXyrbBUy",
        "colab": {
          "base_uri": "https://localhost:8080/"
        },
        "outputId": "6a4bac0d-ebd9-4bcb-c38f-0a984764740a"
      },
      "source": [
        "x + y*(-6)"
      ],
      "execution_count": null,
      "outputs": [
        {
          "output_type": "execute_result",
          "data": {
            "text/plain": [
              "array([[ -77, -103],\n",
              "       [ -11,  -33]])"
            ]
          },
          "metadata": {},
          "execution_count": 17
        }
      ]
    },
    {
      "cell_type": "markdown",
      "metadata": {
        "id": "fmGMYfELjRYI"
      },
      "source": [
        "- find the inverses of matricies $A$, $B$ and $C$.\n",
        "\n",
        "$$\n",
        "A =\n",
        "\\begin{pmatrix}\n",
        "1 & 2 \\\\\n",
        "3 & 4 \n",
        "\\end{pmatrix}\n",
        "\\qquad\n",
        "B =\n",
        "\\begin{pmatrix}\n",
        "1 & 2 \\\\\n",
        "2 & 4  \n",
        "\\end{pmatrix}\n",
        "\\qquad\n",
        "C =\n",
        "\\begin{pmatrix}\n",
        "1 & 2 & 0 \\\\\n",
        "3 & 4 & 1 \n",
        "\\end{pmatrix}\n",
        "$$"
      ]
    },
    {
      "cell_type": "code",
      "metadata": {
        "id": "28Vx99J5w3zk"
      },
      "source": [
        "A = [[1, 2], [3, 4]]\n",
        "B = [[1, 2], [2, 4]]\n",
        "C = [[1, 2, 0], [3, 4, 1]]"
      ],
      "execution_count": null,
      "outputs": []
    },
    {
      "cell_type": "code",
      "metadata": {
        "id": "sd43MK0WbDDy",
        "colab": {
          "base_uri": "https://localhost:8080/"
        },
        "outputId": "e74a9c1b-93a0-428d-ccbc-c8ecc3925de3"
      },
      "source": [
        "# B and C matrices are non-invertible (explained in task 2).\n",
        "print(\"A inverse: \\n\", np.linalg.inv(A))"
      ],
      "execution_count": null,
      "outputs": [
        {
          "output_type": "stream",
          "name": "stdout",
          "text": [
            "A inverse: \n",
            " [[-2.   1. ]\n",
            " [ 1.5 -0.5]]\n"
          ]
        }
      ]
    },
    {
      "cell_type": "markdown",
      "metadata": {
        "id": "Las9GrlRkG8a"
      },
      "source": [
        "- Show the difference between the dot product of $X$ and $Y$ and the elementwise product (Hadamard product) of $X \\odot Y$"
      ]
    },
    {
      "cell_type": "code",
      "metadata": {
        "id": "ZcGJ3_RtbJG9",
        "colab": {
          "base_uri": "https://localhost:8080/"
        },
        "outputId": "d740814f-1246-4c0c-b8bf-4c176ec0a678"
      },
      "source": [
        "# Hadamard product is commutative operation, whereas dot product is not.\n",
        "print('Hadamard product of X and Y:\\n', x * y)\n",
        "print('Hadamard product of Y and X:\\n', y * x)\n",
        "print('Dot product of X and Y:\\n', np.dot(x, y))\n",
        "print('Dot product of Y and X:\\n', np.dot(y, x))"
      ],
      "execution_count": null,
      "outputs": [
        {
          "output_type": "stream",
          "name": "stdout",
          "text": [
            "Hadamard product of X and Y:\n",
            " [[ 98  90]\n",
            " [ 52 120]]\n",
            "Hadamard product of Y and X:\n",
            " [[ 98  90]\n",
            " [ 52 120]]\n",
            "Dot product of X and Y:\n",
            " [[118 166]\n",
            " [242 354]]\n",
            "Dot product of Y and X:\n",
            " [[332 340]\n",
            " [132 140]]\n"
          ]
        }
      ]
    },
    {
      "cell_type": "markdown",
      "metadata": {
        "id": "3AHr6rAWh7yx"
      },
      "source": [
        "## <font color=\"green\">3.2 DONE</font>\n",
        "\n",
        "- generate two rectangular random matricies $K$ and $L$ of shape such that they are multiplicable with $L \\times K$\n",
        "- validate that $(K^T \\times L^T)^T = L \\times K$\n"
      ]
    },
    {
      "cell_type": "code",
      "metadata": {
        "id": "rg22I3heyjBv"
      },
      "source": [
        "n = 7\n",
        "m = 5\n",
        "q = 3"
      ],
      "execution_count": null,
      "outputs": []
    },
    {
      "cell_type": "code",
      "metadata": {
        "colab": {
          "base_uri": "https://localhost:8080/"
        },
        "id": "8SYT9ytBydJv",
        "outputId": "42801f4a-1fe5-4b60-fb97-480894c0a5fc"
      },
      "source": [
        "L = np.random.rand(n, m)\n",
        "K = np.random.rand(m, q)\n",
        "\n",
        "print(\"L matrix: \\n\", L)\n",
        "print(\"K matrix: \\n\", K)"
      ],
      "execution_count": null,
      "outputs": [
        {
          "output_type": "stream",
          "name": "stdout",
          "text": [
            "L matrix: \n",
            " [[0.01518385 0.27625822 0.04523711 0.07448166 0.79076523]\n",
            " [0.04636351 0.11973256 0.37486421 0.18739813 0.19969758]\n",
            " [0.16173536 0.820347   0.23188437 0.73140621 0.22857341]\n",
            " [0.91473459 0.40587186 0.33735231 0.99305241 0.43541645]\n",
            " [0.18922376 0.81452074 0.98174972 0.18008688 0.05833631]\n",
            " [0.34347099 0.71527745 0.93418182 0.83794465 0.54412458]\n",
            " [0.04864881 0.61945753 0.39935141 0.39396894 0.17117286]]\n",
            "K matrix: \n",
            " [[0.9187775  0.20441508 0.29963352]\n",
            " [0.70485767 0.16354991 0.21663839]\n",
            " [0.49086761 0.15272914 0.85492659]\n",
            " [0.50812896 0.7730483  0.16016774]\n",
            " [0.39934387 0.30284142 0.69500844]]\n"
          ]
        }
      ]
    },
    {
      "cell_type": "code",
      "metadata": {
        "colab": {
          "base_uri": "https://localhost:8080/"
        },
        "id": "jkdoNl-my6-d",
        "outputId": "d0547d85-2943-4463-8035-ff7375c6a8f2"
      },
      "source": [
        "right_res = L @ K\n",
        "print(right_res, type(right_res))"
      ],
      "execution_count": null,
      "outputs": [
        {
          "output_type": "stream",
          "name": "stdout",
          "text": [
            "[[0.58451227 0.35224923 0.6645902 ]\n",
            " [0.48597128 0.29165684 0.52911875]\n",
            " [1.30357928 0.83727815 0.70043223]\n",
            " [1.97059435 1.20442899 1.1120971 ]\n",
            " [1.34468847 0.47871928 1.14186651]\n",
            " [1.92137858 1.14242615 1.56891173]\n",
            " [0.94589935 0.52864463 0.67225893]] <class 'numpy.ndarray'>\n"
          ]
        }
      ]
    },
    {
      "cell_type": "code",
      "metadata": {
        "colab": {
          "base_uri": "https://localhost:8080/"
        },
        "id": "v1gUFAcOy9qV",
        "outputId": "e4f7d0a9-7157-4075-9251-6683e4d58555"
      },
      "source": [
        "L_t = np.transpose(L)\n",
        "K_t = np.transpose(K)\n",
        "\n",
        "left_res = np.transpose(K_t @ L_t)\n",
        "\n",
        "print(left_res, type(left_res))"
      ],
      "execution_count": null,
      "outputs": [
        {
          "output_type": "stream",
          "name": "stdout",
          "text": [
            "[[0.58451227 0.35224923 0.6645902 ]\n",
            " [0.48597128 0.29165684 0.52911875]\n",
            " [1.30357928 0.83727815 0.70043223]\n",
            " [1.97059435 1.20442899 1.1120971 ]\n",
            " [1.34468847 0.47871928 1.14186651]\n",
            " [1.92137858 1.14242615 1.56891173]\n",
            " [0.94589935 0.52864463 0.67225893]] <class 'numpy.ndarray'>\n"
          ]
        }
      ]
    },
    {
      "cell_type": "code",
      "metadata": {
        "id": "2q8b3ky8zbm1"
      },
      "source": [
        "assert (left_res == right_res).all() == True"
      ],
      "execution_count": null,
      "outputs": []
    },
    {
      "cell_type": "markdown",
      "metadata": {
        "id": "FN0qLzNkUbDb"
      },
      "source": [
        "# Exercise 4 (0 points)\n",
        "\n",
        "We also provide you with the zeroth exercise for the CS track.\n",
        "You are of course not required to work through that sheet but we advise you to do so (despite the investment in time and energy) because of the following points:\n",
        "- it is very well made and interactive \"read-only\"\n",
        "- it clearly shows the standard which we expect you to have in your assignments and therefore having this knowledge will increase your chances of better grades on your assignments\n",
        "- it will make you a better programmer in data/scientific Python which is a highly marketable skill"
      ]
    },
    {
      "cell_type": "markdown",
      "metadata": {
        "id": "S1_ZaGXU9c_B"
      },
      "source": [
        "# Bonus (0 points)\n",
        "\n",
        "**Network Design Intuition**\n",
        "\n",
        "One day, a friend of yours buys a bag of iris flower seeds, and plants them. There are supposed to be three different species of flowers included, but your friend doesn’t know how to identify them, and after the flowers bloom they come to you for help. Fortunately, you have access to a set of data on a large number of flowers of these species. Each flower has its species listed, and includes four measurements for each flower: its sepal length, sepal width, petal length, and petal width. Eager to put your new skills to use, you figure you can use machine learning to help your friend identify which of the three species each of their plants are.\n",
        "\n",
        "\n",
        "\n",
        "1.   Would this problem involve supervised learning or unsupervised learning? Why?\n",
        "2.   Could we design a neural network to solve this problem? If not, why not? If so, give a basic description of the network’s properties, such as the size and type of the input and output, along with a brief justification of your choices. (If you use outside sources, please cite accordingly.)\n",
        "\n"
      ]
    },
    {
      "cell_type": "markdown",
      "metadata": {
        "id": "pdC849-psXB0"
      },
      "source": [
        "## <font color=\"green\">Bonus Answer: DONE</font>\n",
        "\n",
        "\n",
        "\n",
        "\n",
        "\n"
      ]
    },
    {
      "cell_type": "markdown",
      "metadata": {
        "id": "01ggVNHmCAwy"
      },
      "source": [
        "1. This is definitely supervised learning, since we have target labels in training data ('Each flower has its species listed').\n",
        "2. We could definitely design a neural network to solve this task. The setup is similar to a lot of problems for NNs: we have training data with labels and features ('Each flower has its species listed, and includes four measurements for each flower: its sepal length, sepal width, petal length, and petal width.') and the goal of inference is to predict target label given input features ('sepal length, sepal width, petal length, and petal width'). Input size is 4, since we have 4 features in training data. Output size is 3 because we are choosing between 3 target labels ('three different species of flowers included'). I expect the resulting vector to be a probability vector of each label, and the answer is the biggest probability amongst vector elements."
      ]
    },
    {
      "cell_type": "markdown",
      "metadata": {
        "id": "cQ_hkI6ZFk0i"
      },
      "source": [
        "I am sure that actual coding is not required. However, I am attending 'ML in Cybersecurity', and we had today the same example about Fisher's Iris dataset. Wanted to add it here for the full picture and to deepen my understanding."
      ]
    },
    {
      "cell_type": "code",
      "metadata": {
        "id": "OebD_VSUEx5v"
      },
      "source": [
        "import random\n",
        "\n",
        "from sklearn.datasets import load_iris\n",
        "from sklearn.model_selection import train_test_split\n",
        "from sklearn.preprocessing import StandardScaler"
      ],
      "execution_count": 53,
      "outputs": []
    },
    {
      "cell_type": "code",
      "metadata": {
        "id": "QS_wI39XFMDi"
      },
      "source": [
        "import torch\n",
        "import torch.nn as nn\n",
        "import torch.optim as optim"
      ],
      "execution_count": 57,
      "outputs": []
    },
    {
      "cell_type": "code",
      "metadata": {
        "colab": {
          "base_uri": "https://localhost:8080/"
        },
        "id": "pfRiWt_QE7V7",
        "outputId": "00aa9ed9-e4a8-4618-a97d-33a9df734afd"
      },
      "source": [
        "# Fix seeds for random number generators\n",
        "seed = 1001\n",
        "random.seed(seed)\n",
        "np.random.seed(seed)\n",
        "torch.manual_seed(seed)"
      ],
      "execution_count": 54,
      "outputs": [
        {
          "output_type": "execute_result",
          "data": {
            "text/plain": [
              "<torch._C.Generator at 0x7f4603c4daf0>"
            ]
          },
          "metadata": {},
          "execution_count": 54
        }
      ]
    },
    {
      "cell_type": "code",
      "metadata": {
        "colab": {
          "base_uri": "https://localhost:8080/"
        },
        "id": "Hv_GtRNhEnkx",
        "outputId": "b3b9e951-1a12-4ce9-a906-ed2700500606"
      },
      "source": [
        "iris_data = load_iris()\n",
        "X = iris_data['data']\n",
        "y = iris_data['target']\n",
        "\n",
        "# Standardize features to mean 0 var 1\n",
        "scalar = StandardScaler()\n",
        "X = scalar.fit_transform(X)\n",
        "\n",
        "X_train, X_test, y_train, y_test = train_test_split(X, y, test_size=0.2, random_state=seed)\n",
        "X_train, X_val, y_train, y_val = train_test_split(X_train, y_train, test_size=0.2, random_state=seed)\n",
        "\n",
        "print(f\"Shape of training features: {X_train.shape}\")\n",
        "print(f\"Shape of validation features: {X_val.shape}\")\n",
        "print(f\"Shape of testing features: {X_test.shape}\")\n",
        "print(f\"Shape of testing labels: {y_test.shape}\")\n",
        "\n",
        "num_features = X.shape[1]\n",
        "num_labels = np.max(y) + 1\n",
        "\n",
        "print(f\"Number of features: {num_features}\")\n",
        "print(f\"Number of labels: {num_labels}\")\n",
        "\n",
        "# Wrap it in a PyTorch data loader\n",
        "def wrap_data(X, y):\n",
        "  dataset = torch.utils.data.TensorDataset(torch.from_numpy(X).float(), torch.from_numpy(y))\n",
        "  return torch.utils.data.DataLoader(dataset=dataset, batch_size=16, shuffle=True)\n",
        "\n",
        "train_loader = wrap_data(X_train, y_train)\n",
        "val_loader = wrap_data(X_val, y_val)\n",
        "test_loader = wrap_data(X_test, y_test)"
      ],
      "execution_count": 55,
      "outputs": [
        {
          "output_type": "stream",
          "name": "stdout",
          "text": [
            "Shape of training features: (96, 4)\n",
            "Shape of validation features: (24, 4)\n",
            "Shape of testing features: (30, 4)\n",
            "Shape of testing labels: (30,)\n",
            "Number of features: 4\n",
            "Number of labels: 3\n"
          ]
        }
      ]
    },
    {
      "cell_type": "code",
      "metadata": {
        "id": "5H_WMIQzFHDj"
      },
      "source": [
        "# Simple fully connected feed-forward network. \n",
        "# Hidden parameters were chosen almost randomly and, actually, it is a subject to research for more complicated tasks.\n",
        "class FullyConnected(nn.Module):\n",
        "\n",
        "  def __init__(self):\n",
        "    super(FullyConnected, self).__init__()\n",
        "    self.layers = nn.Sequential(\n",
        "        nn.Linear(in_features=num_features, out_features=50),\n",
        "        nn.ReLU(),\n",
        "\n",
        "        nn.Linear(in_features=50, out_features=25),\n",
        "        nn.ReLU(),\n",
        "\n",
        "        nn.Linear(in_features=25, out_features=num_labels),\n",
        "    )\n",
        "\n",
        "  def forward(self, x):\n",
        "    return self.layers(x)"
      ],
      "execution_count": 58,
      "outputs": []
    },
    {
      "cell_type": "code",
      "metadata": {
        "colab": {
          "base_uri": "https://localhost:8080/"
        },
        "id": "N9eBQ_tAFSXZ",
        "outputId": "d02bdb15-f66a-4678-88d1-7038b61f3155"
      },
      "source": [
        "model = FullyConnected()\n",
        "optimizer = optim.Adam(model.parameters(), lr=0.0002)\n",
        "loss_function = nn.CrossEntropyLoss()\n",
        "\n",
        "print(model)"
      ],
      "execution_count": 74,
      "outputs": [
        {
          "output_type": "stream",
          "name": "stdout",
          "text": [
            "FullyConnected(\n",
            "  (layers): Sequential(\n",
            "    (0): Linear(in_features=4, out_features=50, bias=True)\n",
            "    (1): ReLU()\n",
            "    (2): Linear(in_features=50, out_features=25, bias=True)\n",
            "    (3): ReLU()\n",
            "    (4): Linear(in_features=25, out_features=3, bias=True)\n",
            "  )\n",
            ")\n"
          ]
        }
      ]
    },
    {
      "cell_type": "code",
      "metadata": {
        "colab": {
          "base_uri": "https://localhost:8080/"
        },
        "id": "qw1nWAjlFU9Y",
        "outputId": "29c512b6-5283-4820-8794-ae03a3bdeeb7"
      },
      "source": [
        "EPOCHS = 300\n",
        "\n",
        "for epoch in range(EPOCHS):\n",
        "  model.train() # puts model into training mode\n",
        "  for (X_batch, y_batch) in train_loader:\n",
        "\n",
        "    prediction = model(X_batch)\n",
        "    loss = loss_function(prediction, y_batch)\n",
        "\n",
        "    # we are calling zero_grad to calculate backprop only for current step discarding previous values\n",
        "    # https://stackoverflow.com/questions/48001598/why-do-we-need-to-call-zero-grad-in-pytorch\n",
        "    optimizer.zero_grad()\n",
        "    loss.backward()\n",
        "    optimizer.step()\n",
        "\n",
        "  if epoch % 10 == 9:\n",
        "    # we do not want to compute gradients during inference\n",
        "    # https://pytorch.org/docs/stable/generated/torch.no_grad.html\n",
        "    with torch.no_grad():\n",
        "      model.eval()\n",
        "      predictions = model(torch.from_numpy(X_val).float())\n",
        "      accuracy = (torch.argmax(predictions, -1) == torch.from_numpy(y_val)).float().mean()\n",
        "      print(f\"Validation Accuracy: {accuracy}\")"
      ],
      "execution_count": 75,
      "outputs": [
        {
          "output_type": "stream",
          "name": "stdout",
          "text": [
            "Validation Accuracy: 0.875\n",
            "Validation Accuracy: 0.7916666865348816\n",
            "Validation Accuracy: 0.7916666865348816\n",
            "Validation Accuracy: 0.7916666865348816\n",
            "Validation Accuracy: 0.8333333134651184\n",
            "Validation Accuracy: 0.8333333134651184\n",
            "Validation Accuracy: 0.875\n",
            "Validation Accuracy: 0.875\n",
            "Validation Accuracy: 0.875\n",
            "Validation Accuracy: 0.9166666865348816\n",
            "Validation Accuracy: 0.9166666865348816\n",
            "Validation Accuracy: 0.9166666865348816\n",
            "Validation Accuracy: 0.9166666865348816\n",
            "Validation Accuracy: 0.9166666865348816\n",
            "Validation Accuracy: 0.9583333134651184\n",
            "Validation Accuracy: 0.9583333134651184\n",
            "Validation Accuracy: 0.9583333134651184\n",
            "Validation Accuracy: 1.0\n",
            "Validation Accuracy: 1.0\n",
            "Validation Accuracy: 1.0\n",
            "Validation Accuracy: 1.0\n",
            "Validation Accuracy: 1.0\n",
            "Validation Accuracy: 1.0\n",
            "Validation Accuracy: 1.0\n",
            "Validation Accuracy: 1.0\n",
            "Validation Accuracy: 1.0\n",
            "Validation Accuracy: 1.0\n",
            "Validation Accuracy: 1.0\n",
            "Validation Accuracy: 1.0\n",
            "Validation Accuracy: 1.0\n"
          ]
        }
      ]
    },
    {
      "cell_type": "code",
      "metadata": {
        "colab": {
          "base_uri": "https://localhost:8080/"
        },
        "id": "faNbplw-FZWS",
        "outputId": "67dd5042-486b-4b30-b182-d80175bf24c2"
      },
      "source": [
        "model.eval()\n",
        "\n",
        "with torch.no_grad():\n",
        "  model.eval()\n",
        "  predictions = model(torch.from_numpy(X_test).float())\n",
        "  accuracy = (torch.argmax(predictions, -1) == torch.from_numpy(y_test)).float().mean()\n",
        "  print(f\"Test Accuracy: {accuracy}\")"
      ],
      "execution_count": 76,
      "outputs": [
        {
          "output_type": "stream",
          "name": "stdout",
          "text": [
            "Test Accuracy: 0.9666666388511658\n"
          ]
        }
      ]
    }
  ]
}