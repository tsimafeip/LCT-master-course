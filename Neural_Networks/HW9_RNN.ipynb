{
  "cells": [
    {
      "cell_type": "markdown",
      "id": "13935de6-9e28-4f76-83da-6f72218e3bef",
      "metadata": {
        "id": "13935de6-9e28-4f76-83da-6f72218e3bef"
      },
      "source": [
        "# NNIA Assignment 9\n",
        "\n",
        "**DEADLINE: 26. 1. 2022 08:00 CET**\n",
        "Submission more than 10 minutes past the deadline will **not** be graded!\n",
        "\n",
        "- Trevor Atkins & trat00001@uni-saarland.de:\n",
        "- Tsimafei Prakapenka & tspr00001@uni-saarland.de:\n",
        "- Hours of work per person: Prakapenka ~6.5h\n",
        "- Group nickname:\n",
        "\n",
        "# Submission Instructions\n",
        "\n",
        "**IMPORTANT** Please make sure you read the following instructions carefully. If you are unclear about any part of the assignment, ask questions **before** the assignment deadline. All course-related questions can be addressed on the course **[Piazza Platform](https://piazza.com/class/kvc3vzhsvh55rt)**.\n",
        "\n",
        "* Assignments are to be submitted in a **team of 2**.\n",
        "* Please include your **names**, **ID's**, **Teams usernames**, and **approximate total time spent per person** at the beginning of the Notebook in the space provided\n",
        "* Make sure you appropriately comment your code wherever required.\n",
        "* Your final submission should contain this completed Jupyter Notebook, including the bonus question (if you attempt it), and any necessary Python files.\n",
        "* Do **not** submit any data or cache files (e.g. `__pycache__`).\n",
        "* Upload the **zipped** folder (*.zip* is the only accepted extension) in **Teams**.\n",
        "* Only **one member** of the group should make the submisssion.\n",
        "* **Important** please name the submitted zip folder as: `Name1_id1_Name2_id2.zip`. The Jupyter Notebook should also be named: `Name1_id1_Name2_id2.ipynb`. This is **very important** for our internal organization epeatedly students fail to do this."
      ]
    },
    {
      "cell_type": "code",
      "execution_count": 1,
      "id": "feef094d-d753-4e3d-b5ef-d720810dae31",
      "metadata": {
        "id": "feef094d-d753-4e3d-b5ef-d720810dae31"
      },
      "outputs": [],
      "source": [
        "%load_ext autoreload\n",
        "%autoreload 2\n",
        "%matplotlib inline"
      ]
    },
    {
      "cell_type": "markdown",
      "id": "c30bb375-058c-4253-aa17-7adfa4ea2ab6",
      "metadata": {
        "id": "c30bb375-058c-4253-aa17-7adfa4ea2ab6"
      },
      "source": [
        "# 1 Diacritization (9 points)\n",
        "\n",
        "The English alphabet has 26 letters. This is not the case for Czech (and many more European languages), which has many more extra letters, namely those with a simple accent (čárka, lit. \"short line segment\"): `áéíýúó`, those with a little hook (háček): `ěčšžř` and those with a circle (kroužek) `ů`.\n",
        "They change the pronounciations of the words (mostly palatalization) and also distinguish words (there are many words which differ only by diacritics). \n",
        "Typing words without these accents is considered to be rude (and annoying to read).\n",
        "Imagine you've been tasked by a telecommunication company to come up with a system to automatically add all the accents correctly given a word without accents.\n",
        "Each line in the input contains two words: with and without accents, e.g.: `cerveneho červeného`.\n",
        "We provide the train/dev split for you (in separate files) and also a test file without correct answers.\n",
        "\n",
        "Your task is to create two neural networks character-level models that add the diacritization back to the word."
      ]
    },
    {
      "cell_type": "markdown",
      "id": "54ae1d3a",
      "metadata": {
        "id": "54ae1d3a"
      },
      "source": [
        "## 1.1 Baseline (1 points)\n",
        "\n",
        "- Plot the distribution of classes (there are 4)\n",
        "- Evaluate the accuracy of most common class classifier"
      ]
    },
    {
      "cell_type": "code",
      "execution_count": 2,
      "id": "2c8b7e43",
      "metadata": {
        "colab": {
          "base_uri": "https://localhost:8080/"
        },
        "id": "2c8b7e43",
        "outputId": "35dd53a2-4725-4241-b725-0ebbf4ca0692"
      },
      "outputs": [
        {
          "output_type": "stream",
          "name": "stdout",
          "text": [
            "Collecting wget\n",
            "  Downloading wget-3.2.zip (10 kB)\n",
            "Building wheels for collected packages: wget\n",
            "  Building wheel for wget (setup.py) ... \u001b[?25l\u001b[?25hdone\n",
            "  Created wheel for wget: filename=wget-3.2-py3-none-any.whl size=9675 sha256=0c541db081f17c5e82beebd39d34f99e02c101644604e234ed1f23caa6d5c745\n",
            "  Stored in directory: /root/.cache/pip/wheels/a1/b6/7c/0e63e34eb06634181c63adacca38b79ff8f35c37e3c13e3c02\n",
            "Successfully built wget\n",
            "Installing collected packages: wget\n",
            "Successfully installed wget-3.2\n"
          ]
        }
      ],
      "source": [
        "! pip install wget"
      ]
    },
    {
      "cell_type": "code",
      "execution_count": 3,
      "id": "eab3e779",
      "metadata": {
        "id": "eab3e779"
      },
      "outputs": [],
      "source": [
        "import os\n",
        "import wget\n",
        "\n",
        "import torch\n",
        "from torch import nn\n",
        "\n",
        "from typing import List, Tuple, Generator, Union, Dict\n",
        "from tqdm import tqdm\n",
        "import numpy as np\n",
        "import matplotlib.pyplot as plt\n",
        "\n",
        "from collections import Counter, defaultdict"
      ]
    },
    {
      "cell_type": "code",
      "source": [
        "if not os.path.isfile('solution.py'):\n",
        "    wget.download('https://raw.githubusercontent.com/tsimafeip/LCT-master-course/main/Neural_Networks/HW9_solution.py', 'solution.py')"
      ],
      "metadata": {
        "id": "LXWvFr7EvW_j"
      },
      "id": "LXWvFr7EvW_j",
      "execution_count": 4,
      "outputs": []
    },
    {
      "cell_type": "code",
      "execution_count": 5,
      "id": "6050e91f",
      "metadata": {
        "id": "6050e91f"
      },
      "outputs": [],
      "source": [
        "from solution import download_data_files\n",
        "\n",
        "train_filename = 'words_random_train.txt'\n",
        "dev_filename = 'words_random_dev.txt'\n",
        "test_filename = 'words_random_test_blind.txt'\n",
        "\n",
        "download_data_files([train_filename, dev_filename, test_filename])"
      ]
    },
    {
      "cell_type": "code",
      "execution_count": 6,
      "id": "d62a8930",
      "metadata": {
        "colab": {
          "base_uri": "https://localhost:8080/"
        },
        "id": "d62a8930",
        "outputId": "21eb1267-cca4-4d46-dd24-e7702bbcf6f0"
      },
      "outputs": [
        {
          "output_type": "stream",
          "name": "stdout",
          "text": [
            "['nájemřidiči', 'najemridici'] ['neodmyslitelné', 'neodmyslitelne'] transvestite\n"
          ]
        }
      ],
      "source": [
        "with open(train_filename, \"r\") as f:\n",
        "    train_data = list(map(str.split, f.readlines()))\n",
        "\n",
        "with open(dev_filename, \"r\") as f:\n",
        "    dev_data = list(map(str.split, f.readlines()))\n",
        "\n",
        "with open(test_filename, \"r\") as f:\n",
        "    test_data = [line.strip() for line in f.readlines()]\n",
        "\n",
        "print(train_data[1], dev_data[1], test_data[1])"
      ]
    },
    {
      "cell_type": "code",
      "execution_count": 7,
      "id": "eb910f12",
      "metadata": {
        "colab": {
          "base_uri": "https://localhost:8080/"
        },
        "id": "eb910f12",
        "outputId": "d040fd91-5361-4f0b-a6d3-b517ec5c8cb4"
      },
      "outputs": [
        {
          "output_type": "stream",
          "name": "stdout",
          "text": [
            "defaultdict(<class 'int'>, {'á': 1, 'é': 1, 'í': 1, 'ý': 1, 'ú': 1, 'ó': 1, 'ě': 2, 'č': 2, 'š': 2, 'ž': 2, 'ř': 2, 'ů': 3})\n"
          ]
        }
      ],
      "source": [
        "classlabel_to_classname = {0: 'nothing', 1: 'čárka', 2: 'háček', 3: 'kroužek'}\n",
        "classlabel_to_char = {1: ['á','é','í','ý','ú','ó'], 2: ['ě','č','š','ž','ř'], 3: ['ů']}\n",
        "\n",
        "# I use defaultdict to handle 0-class more smoothly\n",
        "char_to_classlabel = defaultdict(int)\n",
        "char_to_classlabel.update({\n",
        "    class_char: class_label \n",
        "    for class_label, class_chars in classlabel_to_char.items() \n",
        "    for class_char in class_chars\n",
        "})\n",
        "print(char_to_classlabel)"
      ]
    },
    {
      "cell_type": "code",
      "execution_count": 8,
      "id": "04aacd5b",
      "metadata": {
        "colab": {
          "base_uri": "https://localhost:8080/",
          "height": 349
        },
        "id": "04aacd5b",
        "outputId": "ef00f177-2fd7-44fe-f269-961713a1f97b"
      },
      "outputs": [
        {
          "output_type": "display_data",
          "data": {
            "image/png": "[encoded data removed]",
            "text/plain": [
              "<Figure size 432x288 with 1 Axes>"
            ]
          },
          "metadata": {
            "needs_background": "light"
          }
        },
        {
          "output_type": "stream",
          "name": "stdout",
          "text": [
            "{'nothing': 1021576, 'čárka': 78545, 'háček': 42728, 'kroužek': 2601}\n",
            "{'nothing': 0.8918556026015976, 'čárka': 0.06857130385438037, 'háček': 0.03730237024750098, 'kroužek': 0.002270723296521018}\n"
          ]
        }
      ],
      "source": [
        "from solution import distribution\n",
        "\n",
        "classname_to_count = distribution(\n",
        "    train_data=train_data, \n",
        "    classlabel_to_classname=classlabel_to_classname, \n",
        "    char_to_classlabel=char_to_classlabel,\n",
        ")\n",
        "print(classname_to_count)\n",
        "\n",
        "all_count = sum(classname_to_count.values())\n",
        "classname_to_percentage = {\n",
        "    class_name: class_count/all_count \n",
        "    for class_name, class_count in classname_to_count.items()\n",
        "}\n",
        "print(classname_to_percentage)"
      ]
    },
    {
      "cell_type": "markdown",
      "id": "989c3fa0",
      "metadata": {
        "id": "989c3fa0"
      },
      "source": [
        "So, defaulting to nothing class will give us ~0.89 accuracy. Definitely not bad for a start."
      ]
    },
    {
      "cell_type": "markdown",
      "id": "6769e4c5",
      "metadata": {
        "id": "6769e4c5"
      },
      "source": [
        "## 1.2 Sliding windows (3 points)\n",
        "\n",
        "The first model is based on sliding windows, e.g. it considers the current character and two characters to the left and two characters to the right for context.\n",
        "You should also add padding tokens to the left and to the right so that you can classify the corner characters as well:\n",
        "\n",
        "```\n",
        "__Cer -> HOOK\n",
        "_cErv -> NOTHING\n",
        "ceRve -> NOTHING\n",
        "erVen -> NOTHING\n",
        "rvEne -> NOTHING\n",
        "veNeh -> NOTHING\n",
        "enEho -> SIMPLE ACCENT\n",
        "neHo_ -> NOTHING\n",
        "ehO__ -> NOTHING\n",
        "```\n",
        "\n",
        "\n",
        "Build a sliding-window neural network with the best architecture and hyperparameters and report your accuracies on train and dev datasets.\n",
        "Additionally, provide the output for the test file."
      ]
    },
    {
      "cell_type": "code",
      "execution_count": 9,
      "id": "LV4GxxxnCDeR",
      "metadata": {
        "id": "LV4GxxxnCDeR"
      },
      "outputs": [],
      "source": [
        "BATCH_SIZE = 128\n",
        "INPUT_SIZE = 130\n",
        "HIDDEN_SIZE = 32\n",
        "NUM_CLASSES = 4\n",
        "\n",
        "DROPOUT = 0.25"
      ]
    },
    {
      "cell_type": "code",
      "execution_count": 10,
      "id": "tw4azp968ZXz",
      "metadata": {
        "id": "tw4azp968ZXz"
      },
      "outputs": [],
      "source": [
        "from solution import prepare_sliding_data\n",
        "\n",
        "X_train, y_train = prepare_sliding_data(train_data, char_to_classlabel)\n",
        "X_dev, y_dev = prepare_sliding_data(dev_data, char_to_classlabel)\n",
        "X_test = prepare_sliding_data(test_data, char_to_classlabel)"
      ]
    },
    {
      "cell_type": "code",
      "execution_count": 11,
      "id": "ba638fd4",
      "metadata": {
        "colab": {
          "base_uri": "https://localhost:8080/"
        },
        "id": "ba638fd4",
        "outputId": "1ee3b61d-33a7-4d59-a1c9-e68c8ce4fe6b"
      },
      "outputs": [
        {
          "output_type": "execute_result",
          "data": {
            "text/plain": [
              "('__nei', 0, 1145450, 190499)"
            ]
          },
          "metadata": {},
          "execution_count": 11
        }
      ],
      "source": [
        "X_train[0], y_train[0], len(X_train), len(X_dev)"
      ]
    },
    {
      "cell_type": "code",
      "execution_count": 12,
      "id": "e948567d",
      "metadata": {
        "colab": {
          "base_uri": "https://localhost:8080/"
        },
        "id": "e948567d",
        "outputId": "a7529cd4-2941-4160-f46c-f06a75f5810e"
      },
      "outputs": [
        {
          "output_type": "stream",
          "name": "stdout",
          "text": [
            "[0, 0, 0, 0, 0, 0, 0, 0, 0, 0, 0, 0, 0, 0, 0, 0, 0, 0, 0, 0, 0, 0, 0, 0, 0, 0, 0, 0, 0, 0, 0, 0, 0, 0, 0, 0, 0, 0, 0, 0, 0, 0, 0, 0, 0, 0, 0, 0, 0, 0, 0, 0, 0, 0, 0, 0, 0, 0, 0, 0, 0, 0, 0, 0, 0, 1, 0, 0, 0, 0, 0, 0, 0, 0, 0, 0, 0, 0, 0, 0, 0, 0, 1, 0, 0, 0, 0, 0, 0, 0, 0, 0, 0, 0, 0, 0, 0, 0, 0, 0, 0, 0, 0, 0, 0, 0, 0, 0, 0, 0, 0, 0, 1, 0, 0, 0, 0, 0, 0, 0, 0, 0, 0, 0, 0, 0, 0, 0, 0, 0] __nei 130\n"
          ]
        }
      ],
      "source": [
        "from solution import encode_sliding_data\n",
        "\n",
        "sample_encoding = encode_sliding_data(X_train[0])\n",
        "print(X_train[0], len(sample_encoding))"
      ]
    },
    {
      "cell_type": "code",
      "execution_count": 13,
      "id": "80728d95",
      "metadata": {
        "id": "80728d95"
      },
      "outputs": [],
      "source": [
        "from solution import CustomSlidingDataset\n",
        "from torch.utils.data import DataLoader\n",
        "\n",
        "train_dataset = CustomSlidingDataset(X_train, y_train)\n",
        "validation_dataset = CustomSlidingDataset(X_dev, y_dev)\n",
        "\n",
        "train_dataloader = DataLoader(train_dataset, batch_size=BATCH_SIZE, shuffle=True)\n",
        "validation_dataloader = DataLoader(validation_dataset, batch_size=BATCH_SIZE*4, shuffle=True)"
      ]
    },
    {
      "cell_type": "code",
      "source": [
        "import torch.nn.functional as F\n",
        "\n",
        "class DiacriticFFNN(nn.Module):\n",
        "    def __init__(self):\n",
        "        super().__init__()\n",
        "\n",
        "        self.linear1 = nn.Linear(130, 72)\n",
        "        self.bn1 = nn.BatchNorm1d(num_features=72)\n",
        "        self.linear2 = nn.Linear(72, 4)\n",
        "\n",
        "        self.dropout = nn.Dropout(0.2)\n",
        "\n",
        "    def forward(self, input: torch.Tensor):  # Input is a 1D tensor\n",
        "        y = self.dropout(F.relu(self.bn1(self.linear1(input))))\n",
        "        y = self.linear2(y)\n",
        "        return y"
      ],
      "metadata": {
        "id": "QyV0OKhk3lWr"
      },
      "id": "QyV0OKhk3lWr",
      "execution_count": 18,
      "outputs": []
    },
    {
      "cell_type": "code",
      "source": [
        "from solution import run_train_and_val\n",
        "\n",
        "model = DiacriticFFNN()\n",
        "best_val_loss, best_metrics = run_train_and_val(model, train_dataloader, validation_dataloder, epochs=50)"
      ],
      "metadata": {
        "colab": {
          "base_uri": "https://localhost:8080/"
        },
        "id": "CGtODtRQ6C4j",
        "outputId": "d5486b9c-d528-4ffa-ca6e-37400a512905"
      },
      "id": "CGtODtRQ6C4j",
      "execution_count": 20,
      "outputs": [
        {
          "output_type": "stream",
          "name": "stdout",
          "text": [
            "0 "
          ]
        },
        {
          "output_type": "stream",
          "name": "stderr",
          "text": [
            "100%|██████████| 8949/8949 [00:22<00:00, 395.28it/s]\n",
            "100%|██████████| 373/373 [00:01<00:00, 224.36it/s]\n"
          ]
        },
        {
          "output_type": "stream",
          "name": "stdout",
          "text": [
            "1 "
          ]
        },
        {
          "output_type": "stream",
          "name": "stderr",
          "text": [
            "100%|██████████| 8949/8949 [00:22<00:00, 395.93it/s]\n",
            "100%|██████████| 373/373 [00:01<00:00, 209.89it/s]\n"
          ]
        },
        {
          "output_type": "stream",
          "name": "stdout",
          "text": [
            "\n",
            "Epoch 2\n",
            "-------------------------------\n",
            "Train metrics:  {'loss': 0.23229829478558914, 'accuracy': 0.9220288969400672, 'predicted_labels': defaultdict(<class 'int'>, {0: 1091008, 1: 50816, 2: 3626}), 'gold_labels': defaultdict(<class 'int'>, {0: 1021576, 1: 78545, 2: 42728, 3: 2601})}\n",
            "Validation metrics:  {'loss': 0.20327837683320366, 'accuracy': 0.9286295466117932, 'predicted_labels': defaultdict(<class 'int'>, {0: 179644, 1: 9270, 2: 1585}), 'gold_labels': defaultdict(<class 'int'>, {0: 170148, 1: 12887, 2: 7002, 3: 462})}\n",
            "\n",
            "-------------------------------\n",
            "2 "
          ]
        },
        {
          "output_type": "stream",
          "name": "stderr",
          "text": [
            "100%|██████████| 8949/8949 [00:22<00:00, 395.05it/s]\n",
            "100%|██████████| 373/373 [00:01<00:00, 227.10it/s]\n"
          ]
        },
        {
          "output_type": "stream",
          "name": "stdout",
          "text": [
            "3 "
          ]
        },
        {
          "output_type": "stream",
          "name": "stderr",
          "text": [
            "100%|██████████| 8949/8949 [00:22<00:00, 396.04it/s]\n",
            "100%|██████████| 373/373 [00:01<00:00, 226.62it/s]\n"
          ]
        },
        {
          "output_type": "stream",
          "name": "stdout",
          "text": [
            "\n",
            "Epoch 4\n",
            "-------------------------------\n",
            "Train metrics:  {'loss': 0.1793436402231638, 'accuracy': 0.9334113230608058, 'predicted_labels': defaultdict(<class 'int'>, {0: 1067272, 1: 60379, 2: 17799}), 'gold_labels': defaultdict(<class 'int'>, {0: 1021576, 1: 78545, 2: 42728, 3: 2601})}\n",
            "Validation metrics:  {'loss': 0.1715506498998995, 'accuracy': 0.9363041275807222, 'predicted_labels': defaultdict(<class 'int'>, {0: 176991, 1: 10201, 2: 3307}), 'gold_labels': defaultdict(<class 'int'>, {0: 170148, 2: 7002, 1: 12887, 3: 462})}\n",
            "\n",
            "-------------------------------\n",
            "4 "
          ]
        },
        {
          "output_type": "stream",
          "name": "stderr",
          "text": [
            "100%|██████████| 8949/8949 [00:22<00:00, 399.18it/s]\n",
            "100%|██████████| 373/373 [00:01<00:00, 213.57it/s]\n"
          ]
        },
        {
          "output_type": "stream",
          "name": "stdout",
          "text": [
            "5 "
          ]
        },
        {
          "output_type": "stream",
          "name": "stderr",
          "text": [
            "100%|██████████| 8949/8949 [00:22<00:00, 395.29it/s]\n",
            "100%|██████████| 373/373 [00:01<00:00, 229.47it/s]\n"
          ]
        },
        {
          "output_type": "stream",
          "name": "stdout",
          "text": [
            "\n",
            "Epoch 6\n",
            "-------------------------------\n",
            "Train metrics:  {'loss': 0.16417306526897607, 'accuracy': 0.9380854685931294, 'predicted_labels': defaultdict(<class 'int'>, {0: 1060896, 2: 21981, 1: 62569, 3: 4}), 'gold_labels': defaultdict(<class 'int'>, {0: 1021576, 2: 42728, 1: 78545, 3: 2601})}\n",
            "Validation metrics:  {'loss': 0.15905953803906173, 'accuracy': 0.9402306573787789, 'predicted_labels': defaultdict(<class 'int'>, {0: 176296, 2: 3941, 1: 10260, 3: 2}), 'gold_labels': defaultdict(<class 'int'>, {0: 170148, 2: 7002, 1: 12887, 3: 462})}\n",
            "\n",
            "-------------------------------\n",
            "6 "
          ]
        },
        {
          "output_type": "stream",
          "name": "stderr",
          "text": [
            "100%|██████████| 8949/8949 [00:22<00:00, 398.82it/s]\n",
            "100%|██████████| 373/373 [00:01<00:00, 226.83it/s]\n"
          ]
        },
        {
          "output_type": "stream",
          "name": "stdout",
          "text": [
            "7 "
          ]
        },
        {
          "output_type": "stream",
          "name": "stderr",
          "text": [
            "100%|██████████| 8949/8949 [00:22<00:00, 396.53it/s]\n",
            "100%|██████████| 373/373 [00:01<00:00, 211.98it/s]\n"
          ]
        },
        {
          "output_type": "stream",
          "name": "stdout",
          "text": [
            "\n",
            "Epoch 8\n",
            "-------------------------------\n",
            "Train metrics:  {'loss': 0.1557097856272984, 'accuracy': 0.9406399231742983, 'predicted_labels': defaultdict(<class 'int'>, {0: 1057202, 1: 63780, 2: 24402, 3: 66}), 'gold_labels': defaultdict(<class 'int'>, {0: 1021576, 1: 78545, 2: 42728, 3: 2601})}\n",
            "Validation metrics:  {'loss': 0.15144204328350983, 'accuracy': 0.942577126389115, 'predicted_labels': defaultdict(<class 'int'>, {1: 10496, 0: 175775, 2: 4216, 3: 12}), 'gold_labels': defaultdict(<class 'int'>, {1: 12887, 0: 170148, 2: 7002, 3: 462})}\n",
            "\n",
            "-------------------------------\n",
            "8 "
          ]
        },
        {
          "output_type": "stream",
          "name": "stderr",
          "text": [
            "100%|██████████| 8949/8949 [00:22<00:00, 398.53it/s]\n",
            "100%|██████████| 373/373 [00:01<00:00, 227.44it/s]\n"
          ]
        },
        {
          "output_type": "stream",
          "name": "stdout",
          "text": [
            "9 "
          ]
        },
        {
          "output_type": "stream",
          "name": "stderr",
          "text": [
            "100%|██████████| 8949/8949 [00:22<00:00, 398.00it/s]\n",
            "100%|██████████| 373/373 [00:01<00:00, 228.55it/s]\n"
          ]
        },
        {
          "output_type": "stream",
          "name": "stdout",
          "text": [
            "\n",
            "Epoch 10\n",
            "-------------------------------\n",
            "Train metrics:  {'loss': 0.14998485957118224, 'accuracy': 0.9427019948491859, 'predicted_labels': defaultdict(<class 'int'>, {0: 1054753, 1: 64375, 2: 26097, 3: 225}), 'gold_labels': defaultdict(<class 'int'>, {0: 1021576, 2: 42728, 1: 78545, 3: 2601})}\n",
            "Validation metrics:  {'loss': 0.14600290224235754, 'accuracy': 0.943983957921039, 'predicted_labels': defaultdict(<class 'int'>, {0: 175484, 1: 10548, 2: 4428, 3: 39}), 'gold_labels': defaultdict(<class 'int'>, {0: 170148, 1: 12887, 2: 7002, 3: 462})}\n",
            "\n",
            "-------------------------------\n",
            "10 "
          ]
        },
        {
          "output_type": "stream",
          "name": "stderr",
          "text": [
            "100%|██████████| 8949/8949 [00:22<00:00, 397.82it/s]\n",
            "100%|██████████| 373/373 [00:01<00:00, 226.29it/s]\n"
          ]
        },
        {
          "output_type": "stream",
          "name": "stdout",
          "text": [
            "11 "
          ]
        },
        {
          "output_type": "stream",
          "name": "stderr",
          "text": [
            "100%|██████████| 8949/8949 [00:22<00:00, 399.67it/s]\n",
            "100%|██████████| 373/373 [00:01<00:00, 209.21it/s]\n"
          ]
        },
        {
          "output_type": "stream",
          "name": "stdout",
          "text": [
            "\n",
            "Epoch 12\n",
            "-------------------------------\n",
            "Train metrics:  {'loss': 0.14566947851679302, 'accuracy': 0.9440438255707364, 'predicted_labels': defaultdict(<class 'int'>, {0: 1052999, 2: 27255, 1: 64804, 3: 392}), 'gold_labels': defaultdict(<class 'int'>, {0: 1021576, 2: 42728, 1: 78545, 3: 2601})}\n",
            "Validation metrics:  {'loss': 0.14308388193634816, 'accuracy': 0.9457372479645563, 'predicted_labels': defaultdict(<class 'int'>, {0: 175084, 1: 10717, 2: 4613, 3: 85}), 'gold_labels': defaultdict(<class 'int'>, {0: 170148, 1: 12887, 2: 7002, 3: 462})}\n",
            "\n",
            "-------------------------------\n",
            "12 "
          ]
        },
        {
          "output_type": "stream",
          "name": "stderr",
          "text": [
            "100%|██████████| 8949/8949 [00:22<00:00, 399.29it/s]\n",
            "100%|██████████| 373/373 [00:01<00:00, 230.32it/s]\n"
          ]
        },
        {
          "output_type": "stream",
          "name": "stdout",
          "text": [
            "13 "
          ]
        },
        {
          "output_type": "stream",
          "name": "stderr",
          "text": [
            "100%|██████████| 8949/8949 [00:22<00:00, 391.14it/s]\n",
            "100%|██████████| 373/373 [00:01<00:00, 225.99it/s]\n"
          ]
        },
        {
          "output_type": "stream",
          "name": "stdout",
          "text": [
            "\n",
            "Epoch 14\n",
            "-------------------------------\n",
            "Train metrics:  {'loss': 0.14246063294647418, 'accuracy': 0.9453777991182505, 'predicted_labels': defaultdict(<class 'int'>, {0: 1051378, 2: 28282, 1: 65206, 3: 584}), 'gold_labels': defaultdict(<class 'int'>, {0: 1021576, 2: 42728, 1: 78545, 3: 2601})}\n",
            "Validation metrics:  {'loss': 0.13914577892654384, 'accuracy': 0.9461991926466805, 'predicted_labels': defaultdict(<class 'int'>, {0: 174909, 2: 4854, 1: 10650, 3: 86}), 'gold_labels': defaultdict(<class 'int'>, {0: 170148, 2: 7002, 1: 12887, 3: 462})}\n",
            "\n",
            "-------------------------------\n",
            "14 "
          ]
        },
        {
          "output_type": "stream",
          "name": "stderr",
          "text": [
            "100%|██████████| 8949/8949 [00:22<00:00, 399.45it/s]\n",
            "100%|██████████| 373/373 [00:01<00:00, 216.61it/s]\n"
          ]
        },
        {
          "output_type": "stream",
          "name": "stdout",
          "text": [
            "15 "
          ]
        },
        {
          "output_type": "stream",
          "name": "stderr",
          "text": [
            "100%|██████████| 8949/8949 [00:22<00:00, 399.88it/s]\n",
            "100%|██████████| 373/373 [00:01<00:00, 227.33it/s]\n"
          ]
        },
        {
          "output_type": "stream",
          "name": "stdout",
          "text": [
            "\n",
            "Epoch 16\n",
            "-------------------------------\n",
            "Train metrics:  {'loss': 0.13981524162041914, 'accuracy': 0.9464516129032258, 'predicted_labels': defaultdict(<class 'int'>, {0: 1050131, 1: 65607, 2: 28973, 3: 739}), 'gold_labels': defaultdict(<class 'int'>, {0: 1021576, 2: 42728, 1: 78545, 3: 2601})}\n",
            "Validation metrics:  {'loss': 0.13710701273849119, 'accuracy': 0.9474852886366858, 'predicted_labels': defaultdict(<class 'int'>, {0: 174652, 2: 4946, 1: 10784, 3: 117}), 'gold_labels': defaultdict(<class 'int'>, {0: 170148, 2: 7002, 1: 12887, 3: 462})}\n",
            "\n",
            "-------------------------------\n",
            "16 "
          ]
        },
        {
          "output_type": "stream",
          "name": "stderr",
          "text": [
            "100%|██████████| 8949/8949 [00:22<00:00, 400.43it/s]\n",
            "100%|██████████| 373/373 [00:01<00:00, 227.60it/s]\n"
          ]
        },
        {
          "output_type": "stream",
          "name": "stdout",
          "text": [
            "17 "
          ]
        },
        {
          "output_type": "stream",
          "name": "stderr",
          "text": [
            "100%|██████████| 8949/8949 [00:22<00:00, 397.49it/s]\n",
            "100%|██████████| 373/373 [00:01<00:00, 217.11it/s]\n"
          ]
        },
        {
          "output_type": "stream",
          "name": "stdout",
          "text": [
            "\n",
            "Epoch 18\n",
            "-------------------------------\n",
            "Train metrics:  {'loss': 0.13740512585823783, 'accuracy': 0.9472870924090968, 'predicted_labels': defaultdict(<class 'int'>, {0: 1048941, 1: 65880, 2: 29754, 3: 875}), 'gold_labels': defaultdict(<class 'int'>, {0: 1021576, 1: 78545, 2: 42728, 3: 2601})}\n",
            "Validation metrics:  {'loss': 0.1347821473715772, 'accuracy': 0.94808896634628, 'predicted_labels': defaultdict(<class 'int'>, {0: 174562, 1: 10794, 2: 5003, 3: 140}), 'gold_labels': defaultdict(<class 'int'>, {0: 170148, 1: 12887, 3: 462, 2: 7002})}\n",
            "\n",
            "-------------------------------\n",
            "18 "
          ]
        },
        {
          "output_type": "stream",
          "name": "stderr",
          "text": [
            "100%|██████████| 8949/8949 [00:22<00:00, 398.26it/s]\n",
            "100%|██████████| 373/373 [00:01<00:00, 226.16it/s]\n"
          ]
        },
        {
          "output_type": "stream",
          "name": "stdout",
          "text": [
            "19 "
          ]
        },
        {
          "output_type": "stream",
          "name": "stderr",
          "text": [
            "100%|██████████| 8949/8949 [00:22<00:00, 396.91it/s]\n",
            "100%|██████████| 373/373 [00:01<00:00, 229.43it/s]\n"
          ]
        },
        {
          "output_type": "stream",
          "name": "stdout",
          "text": [
            "\n",
            "Epoch 20\n",
            "-------------------------------\n",
            "Train metrics:  {'loss': 0.135636412452314, 'accuracy': 0.9478117770308613, 'predicted_labels': defaultdict(<class 'int'>, {0: 1048245, 2: 30258, 1: 66013, 3: 934}), 'gold_labels': defaultdict(<class 'int'>, {0: 1021576, 2: 42728, 1: 78545, 3: 2601})}\n",
            "Validation metrics:  {'loss': 0.13272615649984607, 'accuracy': 0.9492280799374275, 'predicted_labels': defaultdict(<class 'int'>, {0: 174203, 1: 10938, 2: 5191, 3: 167}), 'gold_labels': defaultdict(<class 'int'>, {0: 170148, 1: 12887, 2: 7002, 3: 462})}\n",
            "\n",
            "-------------------------------\n",
            "20 "
          ]
        },
        {
          "output_type": "stream",
          "name": "stderr",
          "text": [
            "100%|██████████| 8949/8949 [00:22<00:00, 397.06it/s]\n",
            "100%|██████████| 373/373 [00:01<00:00, 211.11it/s]\n"
          ]
        },
        {
          "output_type": "stream",
          "name": "stdout",
          "text": [
            "21 "
          ]
        },
        {
          "output_type": "stream",
          "name": "stderr",
          "text": [
            "100%|██████████| 8949/8949 [00:22<00:00, 395.64it/s]\n",
            "100%|██████████| 373/373 [00:01<00:00, 225.25it/s]\n"
          ]
        },
        {
          "output_type": "stream",
          "name": "stdout",
          "text": [
            "\n",
            "Epoch 22\n",
            "-------------------------------\n",
            "Train metrics:  {'loss': 0.13379305808885375, 'accuracy': 0.9484420969924484, 'predicted_labels': defaultdict(<class 'int'>, {0: 1047556, 1: 66212, 2: 30659, 3: 1023}), 'gold_labels': defaultdict(<class 'int'>, {0: 1021576, 1: 78545, 2: 42728, 3: 2601})}\n",
            "Validation metrics:  {'loss': 0.1311983488120598, 'accuracy': 0.9497267702192662, 'predicted_labels': defaultdict(<class 'int'>, {0: 174250, 2: 5130, 1: 10948, 3: 171}), 'gold_labels': defaultdict(<class 'int'>, {0: 170148, 1: 12887, 2: 7002, 3: 462})}\n",
            "\n",
            "-------------------------------\n",
            "22 "
          ]
        },
        {
          "output_type": "stream",
          "name": "stderr",
          "text": [
            "100%|██████████| 8949/8949 [00:22<00:00, 397.45it/s]\n",
            "100%|██████████| 373/373 [00:01<00:00, 228.74it/s]\n"
          ]
        },
        {
          "output_type": "stream",
          "name": "stdout",
          "text": [
            "23 "
          ]
        },
        {
          "output_type": "stream",
          "name": "stderr",
          "text": [
            "100%|██████████| 8949/8949 [00:22<00:00, 398.34it/s]\n",
            "100%|██████████| 373/373 [00:01<00:00, 225.14it/s]\n"
          ]
        },
        {
          "output_type": "stream",
          "name": "stdout",
          "text": [
            "\n",
            "Epoch 24\n",
            "-------------------------------\n",
            "Train metrics:  {'loss': 0.13241156163034407, 'accuracy': 0.9490811471474093, 'predicted_labels': defaultdict(<class 'int'>, {0: 1046630, 1: 66573, 2: 31171, 3: 1076}), 'gold_labels': defaultdict(<class 'int'>, {0: 1021576, 2: 42728, 1: 78545, 3: 2601})}\n",
            "Validation metrics:  {'loss': 0.13012031803342036, 'accuracy': 0.9498580045039606, 'predicted_labels': defaultdict(<class 'int'>, {0: 174196, 3: 189, 1: 10939, 2: 5175}), 'gold_labels': defaultdict(<class 'int'>, {0: 170148, 2: 7002, 3: 462, 1: 12887})}\n",
            "\n",
            "-------------------------------\n",
            "24 "
          ]
        },
        {
          "output_type": "stream",
          "name": "stderr",
          "text": [
            "100%|██████████| 8949/8949 [00:22<00:00, 395.70it/s]\n",
            "100%|██████████| 373/373 [00:01<00:00, 210.02it/s]\n"
          ]
        },
        {
          "output_type": "stream",
          "name": "stdout",
          "text": [
            "25 "
          ]
        },
        {
          "output_type": "stream",
          "name": "stderr",
          "text": [
            "100%|██████████| 8949/8949 [00:22<00:00, 398.71it/s]\n",
            "100%|██████████| 373/373 [00:01<00:00, 228.36it/s]\n"
          ]
        },
        {
          "output_type": "stream",
          "name": "stdout",
          "text": [
            "\n",
            "Epoch 26\n",
            "-------------------------------\n",
            "Train metrics:  {'loss': 0.13119678056215772, 'accuracy': 0.949585752324414, 'predicted_labels': defaultdict(<class 'int'>, {1: 66782, 0: 1046062, 2: 31483, 3: 1123}), 'gold_labels': defaultdict(<class 'int'>, {1: 78545, 0: 1021576, 2: 42728, 3: 2601})}\n",
            "Validation metrics:  {'loss': 0.1286320160005751, 'accuracy': 0.9508973800387404, 'predicted_labels': defaultdict(<class 'int'>, {0: 174185, 1: 10833, 2: 5279, 3: 202}), 'gold_labels': defaultdict(<class 'int'>, {0: 170148, 1: 12887, 2: 7002, 3: 462})}\n",
            "\n",
            "-------------------------------\n",
            "26 "
          ]
        },
        {
          "output_type": "stream",
          "name": "stderr",
          "text": [
            "100%|██████████| 8949/8949 [00:22<00:00, 395.21it/s]\n",
            "100%|██████████| 373/373 [00:01<00:00, 225.05it/s]\n"
          ]
        },
        {
          "output_type": "stream",
          "name": "stdout",
          "text": [
            "27 "
          ]
        },
        {
          "output_type": "stream",
          "name": "stderr",
          "text": [
            "100%|██████████| 8949/8949 [00:22<00:00, 398.99it/s]\n",
            "100%|██████████| 373/373 [00:01<00:00, 211.81it/s]\n"
          ]
        },
        {
          "output_type": "stream",
          "name": "stdout",
          "text": [
            "\n",
            "Epoch 28\n",
            "-------------------------------\n",
            "Train metrics:  {'loss': 0.13027920656831174, 'accuracy': 0.950033611244489, 'predicted_labels': defaultdict(<class 'int'>, {0: 1045514, 1: 66885, 2: 31842, 3: 1209}), 'gold_labels': defaultdict(<class 'int'>, {0: 1021576, 1: 78545, 2: 42728, 3: 2601})}\n",
            "Validation metrics:  {'loss': 0.12783061852803498, 'accuracy': 0.9515797983191513, 'predicted_labels': defaultdict(<class 'int'>, {0: 173819, 1: 11048, 2: 5426, 3: 206}), 'gold_labels': defaultdict(<class 'int'>, {0: 170148, 1: 12887, 2: 7002, 3: 462})}\n",
            "\n",
            "-------------------------------\n",
            "28 "
          ]
        },
        {
          "output_type": "stream",
          "name": "stderr",
          "text": [
            "100%|██████████| 8949/8949 [00:22<00:00, 397.73it/s]\n",
            "100%|██████████| 373/373 [00:01<00:00, 226.39it/s]\n"
          ]
        },
        {
          "output_type": "stream",
          "name": "stdout",
          "text": [
            "29 "
          ]
        },
        {
          "output_type": "stream",
          "name": "stderr",
          "text": [
            "100%|██████████| 8949/8949 [00:22<00:00, 395.74it/s]\n",
            "100%|██████████| 373/373 [00:01<00:00, 227.83it/s]\n"
          ]
        },
        {
          "output_type": "stream",
          "name": "stdout",
          "text": [
            "\n",
            "Epoch 30\n",
            "-------------------------------\n",
            "Train metrics:  {'loss': 0.1291351167095688, 'accuracy': 0.9504500414684185, 'predicted_labels': defaultdict(<class 'int'>, {0: 1045047, 2: 31951, 1: 67232, 3: 1220}), 'gold_labels': defaultdict(<class 'int'>, {0: 1021576, 2: 42728, 1: 78545, 3: 2601})}\n",
            "Validation metrics:  {'loss': 0.12662074541118765, 'accuracy': 0.9513855715778036, 'predicted_labels': defaultdict(<class 'int'>, {0: 173891, 2: 5407, 1: 10970, 3: 231}), 'gold_labels': defaultdict(<class 'int'>, {0: 170148, 2: 7002, 1: 12887, 3: 462})}\n",
            "\n",
            "-------------------------------\n",
            "30 "
          ]
        },
        {
          "output_type": "stream",
          "name": "stderr",
          "text": [
            "100%|██████████| 8949/8949 [00:22<00:00, 398.29it/s]\n",
            "100%|██████████| 373/373 [00:01<00:00, 228.83it/s]\n"
          ]
        },
        {
          "output_type": "stream",
          "name": "stdout",
          "text": [
            "31 "
          ]
        },
        {
          "output_type": "stream",
          "name": "stderr",
          "text": [
            "100%|██████████| 8949/8949 [00:22<00:00, 398.19it/s]\n",
            "100%|██████████| 373/373 [00:01<00:00, 213.23it/s]\n"
          ]
        },
        {
          "output_type": "stream",
          "name": "stdout",
          "text": [
            "\n",
            "Epoch 32\n",
            "-------------------------------\n",
            "Train metrics:  {'loss': 0.12813504056892444, 'accuracy': 0.95090575756253, 'predicted_labels': defaultdict(<class 'int'>, {0: 1044668, 1: 67244, 2: 32269, 3: 1269}), 'gold_labels': defaultdict(<class 'int'>, {0: 1021576, 1: 78545, 2: 42728, 3: 2601})}\n",
            "Validation metrics:  {'loss': 0.12611189271865197, 'accuracy': 0.9519157580879689, 'predicted_labels': defaultdict(<class 'int'>, {0: 173626, 1: 11130, 2: 5507, 3: 236}), 'gold_labels': defaultdict(<class 'int'>, {0: 170148, 2: 7002, 1: 12887, 3: 462})}\n",
            "\n",
            "-------------------------------\n",
            "32 "
          ]
        },
        {
          "output_type": "stream",
          "name": "stderr",
          "text": [
            "100%|██████████| 8949/8949 [00:22<00:00, 397.79it/s]\n",
            "100%|██████████| 373/373 [00:01<00:00, 226.76it/s]\n"
          ]
        },
        {
          "output_type": "stream",
          "name": "stdout",
          "text": [
            "33 "
          ]
        },
        {
          "output_type": "stream",
          "name": "stderr",
          "text": [
            "100%|██████████| 8949/8949 [00:22<00:00, 396.69it/s]\n",
            "100%|██████████| 373/373 [00:01<00:00, 229.13it/s]\n"
          ]
        },
        {
          "output_type": "stream",
          "name": "stdout",
          "text": [
            "\n",
            "Epoch 34\n",
            "-------------------------------\n",
            "Train metrics:  {'loss': 0.12719984583499205, 'accuracy': 0.951311711554411, 'predicted_labels': defaultdict(<class 'int'>, {0: 1043957, 2: 32556, 1: 67640, 3: 1297}), 'gold_labels': defaultdict(<class 'int'>, {0: 1021576, 1: 78545, 2: 42728, 3: 2601})}\n",
            "Validation metrics:  {'loss': 0.12545789015197242, 'accuracy': 0.9524669420836854, 'predicted_labels': defaultdict(<class 'int'>, {0: 173603, 1: 11184, 2: 5489, 3: 223}), 'gold_labels': defaultdict(<class 'int'>, {0: 170148, 1: 12887, 2: 7002, 3: 462})}\n",
            "\n",
            "-------------------------------\n",
            "34 "
          ]
        },
        {
          "output_type": "stream",
          "name": "stderr",
          "text": [
            "100%|██████████| 8949/8949 [00:22<00:00, 399.25it/s]\n",
            "100%|██████████| 373/373 [00:01<00:00, 226.95it/s]\n"
          ]
        },
        {
          "output_type": "stream",
          "name": "stdout",
          "text": [
            "35 "
          ]
        },
        {
          "output_type": "stream",
          "name": "stderr",
          "text": [
            "100%|██████████| 8949/8949 [00:22<00:00, 398.13it/s]\n",
            "100%|██████████| 373/373 [00:01<00:00, 215.55it/s]\n"
          ]
        },
        {
          "output_type": "stream",
          "name": "stdout",
          "text": [
            "\n",
            "Epoch 36\n",
            "-------------------------------\n",
            "Train metrics:  {'loss': 0.1268027475153065, 'accuracy': 0.9515159980793575, 'predicted_labels': defaultdict(<class 'int'>, {0: 1043559, 2: 32813, 1: 67740, 3: 1338}), 'gold_labels': defaultdict(<class 'int'>, {0: 1021576, 1: 78545, 2: 42728, 3: 2601})}\n",
            "Validation metrics:  {'loss': 0.12480977629049214, 'accuracy': 0.9524669420836854, 'predicted_labels': defaultdict(<class 'int'>, {0: 173514, 2: 5532, 1: 11221, 3: 232}), 'gold_labels': defaultdict(<class 'int'>, {0: 170148, 2: 7002, 1: 12887, 3: 462})}\n",
            "\n",
            "-------------------------------\n",
            "36 "
          ]
        },
        {
          "output_type": "stream",
          "name": "stderr",
          "text": [
            "100%|██████████| 8949/8949 [00:22<00:00, 397.89it/s]\n",
            "100%|██████████| 373/373 [00:01<00:00, 229.31it/s]\n"
          ]
        },
        {
          "output_type": "stream",
          "name": "stdout",
          "text": [
            "37 "
          ]
        },
        {
          "output_type": "stream",
          "name": "stderr",
          "text": [
            "100%|██████████| 8949/8949 [00:22<00:00, 396.76it/s]\n",
            "100%|██████████| 373/373 [00:01<00:00, 226.44it/s]\n"
          ]
        },
        {
          "output_type": "stream",
          "name": "stdout",
          "text": [
            "\n",
            "Epoch 38\n",
            "-------------------------------\n",
            "Train metrics:  {'loss': 0.12559237048206404, 'accuracy': 0.9520782225326291, 'predicted_labels': defaultdict(<class 'int'>, {0: 1043256, 2: 33001, 1: 67824, 3: 1369}), 'gold_labels': defaultdict(<class 'int'>, {0: 1021576, 1: 78545, 2: 42728, 3: 2601})}\n",
            "Validation metrics:  {'loss': 0.1237928317235558, 'accuracy': 0.9526979144247476, 'predicted_labels': defaultdict(<class 'int'>, {0: 173539, 1: 11163, 2: 5563, 3: 234}), 'gold_labels': defaultdict(<class 'int'>, {0: 170148, 1: 12887, 2: 7002, 3: 462})}\n",
            "\n",
            "-------------------------------\n",
            "38 "
          ]
        },
        {
          "output_type": "stream",
          "name": "stderr",
          "text": [
            "100%|██████████| 8949/8949 [00:22<00:00, 398.54it/s]\n",
            "100%|██████████| 373/373 [00:01<00:00, 224.75it/s]\n"
          ]
        },
        {
          "output_type": "stream",
          "name": "stdout",
          "text": [
            "39 "
          ]
        },
        {
          "output_type": "stream",
          "name": "stderr",
          "text": [
            "100%|██████████| 8949/8949 [00:22<00:00, 393.84it/s]\n",
            "100%|██████████| 373/373 [00:01<00:00, 215.01it/s]\n"
          ]
        },
        {
          "output_type": "stream",
          "name": "stdout",
          "text": [
            "\n",
            "Epoch 40\n",
            "-------------------------------\n",
            "Train metrics:  {'loss': 0.1251786167999062, 'accuracy': 0.9521140163254616, 'predicted_labels': defaultdict(<class 'int'>, {0: 1043202, 1: 67821, 2: 33079, 3: 1348}), 'gold_labels': defaultdict(<class 'int'>, {0: 1021576, 1: 78545, 2: 42728, 3: 2601})}\n",
            "Validation metrics:  {'loss': 0.12369438256798737, 'accuracy': 0.9527189119102988, 'predicted_labels': defaultdict(<class 'int'>, {0: 173288, 1: 11324, 3: 263, 2: 5624}), 'gold_labels': defaultdict(<class 'int'>, {0: 170148, 1: 12887, 3: 462, 2: 7002})}\n",
            "\n",
            "-------------------------------\n",
            "40 "
          ]
        },
        {
          "output_type": "stream",
          "name": "stderr",
          "text": [
            "100%|██████████| 8949/8949 [00:22<00:00, 399.13it/s]\n",
            "100%|██████████| 373/373 [00:01<00:00, 227.03it/s]\n"
          ]
        },
        {
          "output_type": "stream",
          "name": "stdout",
          "text": [
            "41 "
          ]
        },
        {
          "output_type": "stream",
          "name": "stderr",
          "text": [
            "100%|██████████| 8949/8949 [00:22<00:00, 399.89it/s]\n",
            "100%|██████████| 373/373 [00:01<00:00, 223.43it/s]\n"
          ]
        },
        {
          "output_type": "stream",
          "name": "stdout",
          "text": [
            "\n",
            "Epoch 42\n",
            "-------------------------------\n",
            "Train metrics:  {'loss': 0.12458816952841058, 'accuracy': 0.9523855253393863, 'predicted_labels': defaultdict(<class 'int'>, {1: 68047, 0: 1042636, 2: 33384, 3: 1383}), 'gold_labels': defaultdict(<class 'int'>, {1: 78545, 0: 1021576, 2: 42728, 3: 2601})}\n",
            "Validation metrics:  {'loss': 0.12259340641805377, 'accuracy': 0.9535063176184652, 'predicted_labels': defaultdict(<class 'int'>, {0: 173452, 1: 11215, 2: 5576, 3: 256}), 'gold_labels': defaultdict(<class 'int'>, {0: 170148, 2: 7002, 1: 12887, 3: 462})}\n",
            "\n",
            "-------------------------------\n",
            "42 "
          ]
        },
        {
          "output_type": "stream",
          "name": "stderr",
          "text": [
            "100%|██████████| 8949/8949 [00:22<00:00, 396.32it/s]\n",
            "100%|██████████| 373/373 [00:01<00:00, 218.26it/s]\n"
          ]
        },
        {
          "output_type": "stream",
          "name": "stdout",
          "text": [
            "43 "
          ]
        },
        {
          "output_type": "stream",
          "name": "stderr",
          "text": [
            "100%|██████████| 8949/8949 [00:22<00:00, 398.44it/s]\n",
            "100%|██████████| 373/373 [00:01<00:00, 230.76it/s]\n"
          ]
        },
        {
          "output_type": "stream",
          "name": "stdout",
          "text": [
            "\n",
            "Epoch 44\n",
            "-------------------------------\n",
            "Train metrics:  {'loss': 0.1241305366996041, 'accuracy': 0.952523462394692, 'predicted_labels': defaultdict(<class 'int'>, {0: 1042443, 2: 33423, 1: 68136, 3: 1448}), 'gold_labels': defaultdict(<class 'int'>, {1: 78545, 0: 1021576, 2: 42728, 3: 2601})}\n",
            "Validation metrics:  {'loss': 0.12259720064120382, 'accuracy': 0.9536428012745474, 'predicted_labels': defaultdict(<class 'int'>, {1: 11418, 0: 173127, 2: 5710, 3: 244}), 'gold_labels': defaultdict(<class 'int'>, {1: 12887, 0: 170148, 2: 7002, 3: 462})}\n",
            "\n",
            "-------------------------------\n",
            "44 "
          ]
        },
        {
          "output_type": "stream",
          "name": "stderr",
          "text": [
            "100%|██████████| 8949/8949 [00:22<00:00, 396.56it/s]\n",
            "100%|██████████| 373/373 [00:01<00:00, 226.80it/s]\n"
          ]
        },
        {
          "output_type": "stream",
          "name": "stdout",
          "text": [
            "45 "
          ]
        },
        {
          "output_type": "stream",
          "name": "stderr",
          "text": [
            "100%|██████████| 8949/8949 [00:22<00:00, 399.11it/s]\n",
            "100%|██████████| 373/373 [00:01<00:00, 213.10it/s]\n"
          ]
        },
        {
          "output_type": "stream",
          "name": "stdout",
          "text": [
            "\n",
            "Epoch 46\n",
            "-------------------------------\n",
            "Train metrics:  {'loss': 0.12384688247197939, 'accuracy': 0.9525653673228862, 'predicted_labels': defaultdict(<class 'int'>, {0: 1042099, 1: 68319, 2: 33613, 3: 1419}), 'gold_labels': defaultdict(<class 'int'>, {0: 1021576, 2: 42728, 1: 78545, 3: 2601})}\n",
            "Validation metrics:  {'loss': 0.122071800279074, 'accuracy': 0.9536480506459352, 'predicted_labels': defaultdict(<class 'int'>, {0: 173475, 1: 11150, 2: 5626, 3: 248}), 'gold_labels': defaultdict(<class 'int'>, {0: 170148, 1: 12887, 2: 7002, 3: 462})}\n",
            "\n",
            "-------------------------------\n",
            "46 "
          ]
        },
        {
          "output_type": "stream",
          "name": "stderr",
          "text": [
            "100%|██████████| 8949/8949 [00:22<00:00, 397.24it/s]\n",
            "100%|██████████| 373/373 [00:01<00:00, 228.03it/s]\n"
          ]
        },
        {
          "output_type": "stream",
          "name": "stdout",
          "text": [
            "47 "
          ]
        },
        {
          "output_type": "stream",
          "name": "stderr",
          "text": [
            "100%|██████████| 8949/8949 [00:22<00:00, 398.40it/s]\n",
            "100%|██████████| 373/373 [00:01<00:00, 227.61it/s]\n"
          ]
        },
        {
          "output_type": "stream",
          "name": "stdout",
          "text": [
            "\n",
            "Epoch 48\n",
            "-------------------------------\n",
            "Train metrics:  {'loss': 0.1230273249849772, 'accuracy': 0.9529599720633812, 'predicted_labels': defaultdict(<class 'int'>, {0: 1041719, 1: 68491, 2: 33787, 3: 1453}), 'gold_labels': defaultdict(<class 'int'>, {0: 1021576, 1: 78545, 2: 42728, 3: 2601})}\n",
            "Validation metrics:  {'loss': 0.12108424817269353, 'accuracy': 0.9536218037889963, 'predicted_labels': defaultdict(<class 'int'>, {0: 173482, 2: 5613, 3: 254, 1: 11150}), 'gold_labels': defaultdict(<class 'int'>, {0: 170148, 3: 462, 1: 12887, 2: 7002})}\n",
            "\n",
            "-------------------------------\n",
            "48 "
          ]
        },
        {
          "output_type": "stream",
          "name": "stderr",
          "text": [
            "100%|██████████| 8949/8949 [00:22<00:00, 397.47it/s]\n",
            "100%|██████████| 373/373 [00:01<00:00, 226.61it/s]\n"
          ]
        },
        {
          "output_type": "stream",
          "name": "stdout",
          "text": [
            "49 "
          ]
        },
        {
          "output_type": "stream",
          "name": "stderr",
          "text": [
            "100%|██████████| 8949/8949 [00:22<00:00, 398.07it/s]\n",
            "100%|██████████| 373/373 [00:01<00:00, 210.09it/s]"
          ]
        },
        {
          "output_type": "stream",
          "name": "stdout",
          "text": [
            "\n",
            "Epoch 50\n",
            "-------------------------------\n",
            "Train metrics:  {'loss': 0.12246514986278438, 'accuracy': 0.9530638613645293, 'predicted_labels': defaultdict(<class 'int'>, {1: 68460, 0: 1041603, 2: 33942, 3: 1445}), 'gold_labels': defaultdict(<class 'int'>, {1: 78545, 0: 1021576, 2: 42728, 3: 2601})}\n",
            "Validation metrics:  {'loss': 0.12096434895538453, 'accuracy': 0.9540102572716918, 'predicted_labels': defaultdict(<class 'int'>, {0: 173386, 2: 5729, 1: 11139, 3: 245}), 'gold_labels': defaultdict(<class 'int'>, {1: 12887, 0: 170148, 2: 7002, 3: 462})}\n",
            "\n",
            "-------------------------------\n",
            "Done!\n"
          ]
        },
        {
          "output_type": "stream",
          "name": "stderr",
          "text": [
            "\n"
          ]
        }
      ]
    },
    {
      "cell_type": "code",
      "source": [
        "import torch.nn.functional as F\n",
        "\n",
        "class DiacriticFFNN(nn.Module):\n",
        "    def __init__(self):\n",
        "        super().__init__()\n",
        "\n",
        "        self.linear1 = nn.Linear(130, 78)\n",
        "        self.bn1 = nn.BatchNorm1d(num_features=78)\n",
        "        self.linear2 = nn.Linear(78, 26)\n",
        "        self.bn2 = nn.BatchNorm1d(num_features=26)\n",
        "        self.linear3 = nn.Linear(26, 4)\n",
        "\n",
        "        self.dropout = nn.Dropout(0.2)\n",
        "\n",
        "    def forward(self, input: torch.Tensor):  # Input is a 1D tensor\n",
        "        y = self.dropout(F.relu(self.bn1(self.linear1(input))))\n",
        "        y = self.dropout(F.relu(self.bn2(self.linear2(y))))\n",
        "        y = self.linear3(y)\n",
        "        return y"
      ],
      "metadata": {
        "id": "L-a_3KZC_xrS"
      },
      "id": "L-a_3KZC_xrS",
      "execution_count": 35,
      "outputs": []
    },
    {
      "cell_type": "code",
      "source": [
        "from solution import run_train_and_val\n",
        "\n",
        "model = DiacriticFFNN()\n",
        "best_val_loss, best_metrics = run_train_and_val(model, train_dataloader, validation_dataloader, epochs=50)"
      ],
      "metadata": {
        "colab": {
          "base_uri": "https://localhost:8080/"
        },
        "id": "sDMtdNn1_9fM",
        "outputId": "d636f4f0-6d2c-4522-f153-3f2bbc62f137"
      },
      "id": "sDMtdNn1_9fM",
      "execution_count": null,
      "outputs": [
        {
          "output_type": "stream",
          "name": "stdout",
          "text": [
            "0 "
          ]
        },
        {
          "output_type": "stream",
          "name": "stderr",
          "text": [
            "100%|██████████| 8949/8949 [00:27<00:00, 319.73it/s]\n",
            "100%|██████████| 373/373 [00:01<00:00, 221.95it/s]\n"
          ]
        },
        {
          "output_type": "stream",
          "name": "stdout",
          "text": [
            "1 "
          ]
        },
        {
          "output_type": "stream",
          "name": "stderr",
          "text": [
            "100%|██████████| 8949/8949 [00:27<00:00, 325.45it/s]\n",
            "100%|██████████| 373/373 [00:01<00:00, 211.24it/s]\n"
          ]
        },
        {
          "output_type": "stream",
          "name": "stdout",
          "text": [
            "\n",
            "Epoch 2\n",
            "-------------------------------\n",
            "Train metrics:  {'loss': 0.34536900994817377, 'accuracy': 0.9115823475489983, 'predicted_labels': defaultdict(<class 'int'>, {0: 1101928, 1: 42903, 2: 591, 3: 28}), 'gold_labels': defaultdict(<class 'int'>, {0: 1021576, 1: 78545, 2: 42728, 3: 2601})}\n",
            "Validation metrics:  {'loss': 0.2674701850232106, 'accuracy': 0.9154903700281891, 'predicted_labels': defaultdict(<class 'int'>, {0: 182849, 1: 7614, 2: 33, 3: 3}), 'gold_labels': defaultdict(<class 'int'>, {0: 170148, 1: 12887, 2: 7002, 3: 462})}\n",
            "\n",
            "-------------------------------\n",
            "2 "
          ]
        },
        {
          "output_type": "stream",
          "name": "stderr",
          "text": [
            "100%|██████████| 8949/8949 [00:28<00:00, 319.10it/s]\n",
            "100%|██████████| 373/373 [00:01<00:00, 219.25it/s]\n"
          ]
        },
        {
          "output_type": "stream",
          "name": "stdout",
          "text": [
            "3 "
          ]
        },
        {
          "output_type": "stream",
          "name": "stderr",
          "text": [
            "100%|██████████| 8949/8949 [00:28<00:00, 319.45it/s]\n",
            "100%|██████████| 373/373 [00:01<00:00, 220.22it/s]\n"
          ]
        },
        {
          "output_type": "stream",
          "name": "stdout",
          "text": [
            "\n",
            "Epoch 4\n",
            "-------------------------------\n",
            "Train metrics:  {'loss': 0.2123989954196164, 'accuracy': 0.9237679514601248, 'predicted_labels': defaultdict(<class 'int'>, {1: 58325, 0: 1075732, 2: 11393}), 'gold_labels': defaultdict(<class 'int'>, {1: 78545, 0: 1021576, 2: 42728, 3: 2601})}\n",
            "Validation metrics:  {'loss': 0.20059354279699657, 'accuracy': 0.9276846597619935, 'predicted_labels': defaultdict(<class 'int'>, {0: 177972, 2: 2572, 1: 9955}), 'gold_labels': defaultdict(<class 'int'>, {0: 170148, 2: 7002, 1: 12887, 3: 462})}\n",
            "\n",
            "-------------------------------\n",
            "4 "
          ]
        },
        {
          "output_type": "stream",
          "name": "stderr",
          "text": [
            "100%|██████████| 8949/8949 [00:27<00:00, 321.82it/s]\n",
            "100%|██████████| 373/373 [00:01<00:00, 207.91it/s]\n"
          ]
        },
        {
          "output_type": "stream",
          "name": "stdout",
          "text": [
            "5 "
          ]
        },
        {
          "output_type": "stream",
          "name": "stderr",
          "text": [
            "100%|██████████| 8949/8949 [00:28<00:00, 319.53it/s]\n",
            "100%|██████████| 373/373 [00:01<00:00, 222.98it/s]\n"
          ]
        },
        {
          "output_type": "stream",
          "name": "stdout",
          "text": [
            "\n",
            "Epoch 6\n",
            "-------------------------------\n",
            "Train metrics:  {'loss': 0.19006872418566462, 'accuracy': 0.9295874983630887, 'predicted_labels': defaultdict(<class 'int'>, {0: 1063550, 1: 62133, 2: 19767}), 'gold_labels': defaultdict(<class 'int'>, {0: 1021576, 1: 78545, 2: 42728, 3: 2601})}\n",
            "Validation metrics:  {'loss': 0.18335691182287384, 'accuracy': 0.9318999049863779, 'predicted_labels': defaultdict(<class 'int'>, {0: 176701, 1: 10331, 2: 3467}), 'gold_labels': defaultdict(<class 'int'>, {0: 170148, 1: 12887, 2: 7002, 3: 462})}\n",
            "\n",
            "-------------------------------\n",
            "6 "
          ]
        },
        {
          "output_type": "stream",
          "name": "stderr",
          "text": [
            "100%|██████████| 8949/8949 [00:27<00:00, 321.08it/s]\n",
            "100%|██████████| 373/373 [00:01<00:00, 217.97it/s]\n"
          ]
        },
        {
          "output_type": "stream",
          "name": "stdout",
          "text": [
            "7 "
          ]
        },
        {
          "output_type": "stream",
          "name": "stderr",
          "text": [
            "100%|██████████| 8949/8949 [00:28<00:00, 318.04it/s]\n",
            "100%|██████████| 373/373 [00:01<00:00, 218.89it/s]\n"
          ]
        },
        {
          "output_type": "stream",
          "name": "stdout",
          "text": [
            "\n",
            "Epoch 8\n",
            "-------------------------------\n",
            "Train metrics:  {'loss': 0.1786067528036776, 'accuracy': 0.9328674320136191, 'predicted_labels': defaultdict(<class 'int'>, {0: 1059321, 1: 63316, 2: 22813}), 'gold_labels': defaultdict(<class 'int'>, {0: 1021576, 2: 42728, 1: 78545, 3: 2601})}\n",
            "Validation metrics:  {'loss': 0.17321280346079743, 'accuracy': 0.9347713111354915, 'predicted_labels': defaultdict(<class 'int'>, {0: 176115, 1: 10538, 2: 3846}), 'gold_labels': defaultdict(<class 'int'>, {0: 170148, 1: 12887, 2: 7002, 3: 462})}\n",
            "\n",
            "-------------------------------\n",
            "8 "
          ]
        },
        {
          "output_type": "stream",
          "name": "stderr",
          "text": [
            "100%|██████████| 8949/8949 [00:27<00:00, 321.40it/s]\n",
            "100%|██████████| 373/373 [00:01<00:00, 206.47it/s]\n"
          ]
        },
        {
          "output_type": "stream",
          "name": "stdout",
          "text": [
            "9 "
          ]
        },
        {
          "output_type": "stream",
          "name": "stderr",
          "text": [
            "100%|██████████| 8949/8949 [00:27<00:00, 321.61it/s]\n",
            "100%|██████████| 373/373 [00:01<00:00, 219.59it/s]\n"
          ]
        },
        {
          "output_type": "stream",
          "name": "stdout",
          "text": [
            "\n",
            "Epoch 10\n",
            "-------------------------------\n",
            "Train metrics:  {'loss': 0.17045209241693998, 'accuracy': 0.935382600724606, 'predicted_labels': defaultdict(<class 'int'>, {0: 1056660, 1: 64217, 2: 24573}), 'gold_labels': defaultdict(<class 'int'>, {0: 1021576, 1: 78545, 2: 42728, 3: 2601})}\n",
            "Validation metrics:  {'loss': 0.16559578210674725, 'accuracy': 0.9375954729421152, 'predicted_labels': defaultdict(<class 'int'>, {0: 175672, 1: 10667, 2: 4160}), 'gold_labels': defaultdict(<class 'int'>, {0: 170148, 1: 12887, 2: 7002, 3: 462})}\n",
            "\n",
            "-------------------------------\n",
            "10 "
          ]
        },
        {
          "output_type": "stream",
          "name": "stderr",
          "text": [
            "100%|██████████| 8949/8949 [00:27<00:00, 320.10it/s]\n",
            "100%|██████████| 373/373 [00:01<00:00, 217.94it/s]\n"
          ]
        },
        {
          "output_type": "stream",
          "name": "stdout",
          "text": [
            "11 "
          ]
        },
        {
          "output_type": "stream",
          "name": "stderr",
          "text": [
            "100%|██████████| 8949/8949 [00:28<00:00, 319.40it/s]\n",
            "100%|██████████| 373/373 [00:01<00:00, 208.34it/s]\n"
          ]
        },
        {
          "output_type": "stream",
          "name": "stdout",
          "text": [
            "\n",
            "Epoch 12\n",
            "-------------------------------\n",
            "Train metrics:  {'loss': 0.16421171814013438, 'accuracy': 0.9373887991619014, 'predicted_labels': defaultdict(<class 'int'>, {0: 1054799, 2: 25713, 1: 64938}), 'gold_labels': defaultdict(<class 'int'>, {0: 1021576, 2: 42728, 1: 78545, 3: 2601})}\n",
            "Validation metrics:  {'loss': 0.159549353609296, 'accuracy': 0.9394275035564491, 'predicted_labels': defaultdict(<class 'int'>, {0: 175364, 1: 10688, 2: 4447}), 'gold_labels': defaultdict(<class 'int'>, {0: 170148, 2: 7002, 1: 12887, 3: 462})}\n",
            "\n",
            "-------------------------------\n",
            "12 "
          ]
        },
        {
          "output_type": "stream",
          "name": "stderr",
          "text": [
            "100%|██████████| 8949/8949 [00:27<00:00, 320.24it/s]\n",
            "100%|██████████| 373/373 [00:01<00:00, 219.82it/s]\n"
          ]
        },
        {
          "output_type": "stream",
          "name": "stdout",
          "text": [
            "13 "
          ]
        },
        {
          "output_type": "stream",
          "name": "stderr",
          "text": [
            "100%|██████████| 8949/8949 [00:28<00:00, 318.60it/s]\n",
            "100%|██████████| 373/373 [00:01<00:00, 221.07it/s]\n"
          ]
        },
        {
          "output_type": "stream",
          "name": "stdout",
          "text": [
            "\n",
            "Epoch 14\n",
            "-------------------------------\n",
            "Train metrics:  {'loss': 0.1598528398365092, 'accuracy': 0.9387201536514034, 'predicted_labels': defaultdict(<class 'int'>, {0: 1053391, 2: 26698, 1: 65359, 3: 2}), 'gold_labels': defaultdict(<class 'int'>, {0: 1021576, 2: 42728, 1: 78545, 3: 2601})}\n",
            "Validation metrics:  {'loss': 0.1562072850424227, 'accuracy': 0.9403881385204121, 'predicted_labels': defaultdict(<class 'int'>, {0: 175179, 1: 10833, 2: 4486, 3: 1}), 'gold_labels': defaultdict(<class 'int'>, {2: 7002, 0: 170148, 1: 12887, 3: 462})}\n",
            "\n",
            "-------------------------------\n",
            "14 "
          ]
        },
        {
          "output_type": "stream",
          "name": "stderr",
          "text": [
            "100%|██████████| 8949/8949 [00:27<00:00, 320.32it/s]\n",
            "100%|██████████| 373/373 [00:01<00:00, 209.54it/s]\n"
          ]
        },
        {
          "output_type": "stream",
          "name": "stdout",
          "text": [
            "15 "
          ]
        },
        {
          "output_type": "stream",
          "name": "stderr",
          "text": [
            "100%|██████████| 8949/8949 [00:28<00:00, 319.26it/s]\n",
            "100%|██████████| 373/373 [00:01<00:00, 219.98it/s]\n"
          ]
        },
        {
          "output_type": "stream",
          "name": "stdout",
          "text": [
            "\n",
            "Epoch 16\n",
            "-------------------------------\n",
            "Train metrics:  {'loss': 0.15630750441277463, 'accuracy': 0.9400977781657863, 'predicted_labels': defaultdict(<class 'int'>, {0: 1052288, 1: 65769, 2: 27351, 3: 42}), 'gold_labels': defaultdict(<class 'int'>, {0: 1021576, 2: 42728, 1: 78545, 3: 2601})}\n",
            "Validation metrics:  {'loss': 0.15248491251516597, 'accuracy': 0.9418579625089896, 'predicted_labels': defaultdict(<class 'int'>, {0: 174800, 2: 4750, 1: 10941, 3: 8}), 'gold_labels': defaultdict(<class 'int'>, {0: 170148, 2: 7002, 1: 12887, 3: 462})}\n",
            "\n",
            "-------------------------------\n",
            "16 "
          ]
        },
        {
          "output_type": "stream",
          "name": "stderr",
          "text": [
            "100%|██████████| 8949/8949 [00:27<00:00, 321.21it/s]\n",
            "100%|██████████| 373/373 [00:01<00:00, 222.95it/s]\n"
          ]
        },
        {
          "output_type": "stream",
          "name": "stdout",
          "text": [
            "17 "
          ]
        },
        {
          "output_type": "stream",
          "name": "stderr",
          "text": [
            "100%|██████████| 8949/8949 [00:27<00:00, 320.25it/s]\n",
            "100%|██████████| 373/373 [00:01<00:00, 209.59it/s]\n"
          ]
        },
        {
          "output_type": "stream",
          "name": "stdout",
          "text": [
            "\n",
            "Epoch 18\n",
            "-------------------------------\n",
            "Train metrics:  {'loss': 0.1528935863487926, 'accuracy': 0.9413357195861888, 'predicted_labels': defaultdict(<class 'int'>, {0: 1050800, 1: 66300, 2: 28238, 3: 112}), 'gold_labels': defaultdict(<class 'int'>, {0: 1021576, 1: 78545, 2: 42728, 3: 2601})}\n",
            "Validation metrics:  {'loss': 0.14845517185833754, 'accuracy': 0.9430810660423414, 'predicted_labels': defaultdict(<class 'int'>, {0: 174854, 1: 10847, 2: 4771, 3: 27}), 'gold_labels': defaultdict(<class 'int'>, {0: 170148, 1: 12887, 2: 7002, 3: 462})}\n",
            "\n",
            "-------------------------------\n",
            "18 "
          ]
        },
        {
          "output_type": "stream",
          "name": "stderr",
          "text": [
            "100%|██████████| 8949/8949 [00:28<00:00, 319.57it/s]\n",
            "100%|██████████| 373/373 [00:01<00:00, 220.49it/s]\n"
          ]
        },
        {
          "output_type": "stream",
          "name": "stdout",
          "text": [
            "19 "
          ]
        },
        {
          "output_type": "stream",
          "name": "stderr",
          "text": [
            "  4%|▍         | 398/8949 [00:01<00:27, 313.71it/s]"
          ]
        }
      ]
    },
    {
      "cell_type": "markdown",
      "id": "d6CU8aAW3NRs",
      "metadata": {
        "id": "d6CU8aAW3NRs"
      },
      "source": [
        "TODO:\n",
        "1. Trevor. Predict symbol class on inference and write resulting test file for FFNN\n",
        "2. Trevor. Prepare data for RNN input.\n",
        "3. Trevor/Tsimafei. Train RNN.\n",
        "4. Trevor. Expand answers for theory question.\n",
        "\n",
        "Later\n",
        "4. Write output file for RNN.\n",
        "5. Optional. Introduce batching (easy for FFNN, harder for RNN) or understand how to accumulate gradients.\n",
        "6. Optional. Introduce better embeddings for RNN.\n",
        "7. Optional. Make FFNN more complex if needed."
      ]
    },
    {
      "cell_type": "markdown",
      "id": "5b2d1ba1",
      "metadata": {
        "id": "5b2d1ba1"
      },
      "source": [
        "## 1.3 RNN (5 points)\n",
        "\n",
        "Secondly, build a character-level recurrent neural network many (n) to many (n) which performs the classification:\n",
        "```\n",
        "cerveny -> HNNNNNANN\n",
        "```\n",
        "\n",
        "Be careful, this will require you to either pad the input sequence (then you will also need to backpropagate only from the original sequence and disregard padded values) or use some other trick.\n",
        "\n",
        "You can use all the tricks you know for both models. For the RNN-based one, you can use non-vanilla RNN cells (such as LSTM or GRU). The recurrent part should be followed-up with a classification FFNN. Again, try to find the best architecture and hyperparameters, report train and dev results.\n",
        "\n",
        "In both cases, describe in text the architecture of your models.\n",
        "\n",
        "Provide also an output for the test file, one word per file, with diacritics (e.g. `červeného`). This is mandatory."
      ]
    },
    {
      "cell_type": "code",
      "execution_count": 16,
      "id": "e-kQdj2yLPfJ",
      "metadata": {
        "id": "e-kQdj2yLPfJ"
      },
      "outputs": [],
      "source": [
        "def prepare_rnn_data():\n",
        "    \"\"\"\n",
        "    Accepts str (test) or tuple of str (dev, train) and returns tuple:\n",
        "    (input_vector) of size len(input)*26\n",
        "    (label_vector) of size len(input)*NUM_CLASSES\n",
        "    \"\"\"\n",
        "    pass"
      ]
    },
    {
      "cell_type": "code",
      "execution_count": 17,
      "id": "7EwSlaDFKqWt",
      "metadata": {
        "id": "7EwSlaDFKqWt",
        "colab": {
          "base_uri": "https://localhost:8080/",
          "height": 130
        },
        "outputId": "68539e32-eb11-4b74-9a8c-34fb9c9f8888"
      },
      "outputs": [
        {
          "output_type": "error",
          "ename": "SyntaxError",
          "evalue": "ignored",
          "traceback": [
            "\u001b[0;36m  File \u001b[0;32m\"<ipython-input-17-084701996865>\"\u001b[0;36m, line \u001b[0;32m43\u001b[0m\n\u001b[0;31m    embedded_input = raw_input'''self.embedding(raw_input)'''.view(1, sequence_length, -1)\u001b[0m\n\u001b[0m                                                            ^\u001b[0m\n\u001b[0;31mSyntaxError\u001b[0m\u001b[0;31m:\u001b[0m invalid syntax\n"
          ]
        }
      ],
      "source": [
        "class DiacriticsRNN(nn.Module):\n",
        "    \"\"\"\n",
        "    \"\"\"\n",
        "\n",
        "    def __init__(self,\n",
        "                input_size: int,\n",
        "                hidden_size: int,\n",
        "                output_size: int,\n",
        "                lstm_layers_num: int = 1,\n",
        "                bidirectional: bool = True,\n",
        "                dropout: float = 0):\n",
        "        \"\"\"\n",
        "        \"\"\"\n",
        "        # Initializes internal Module state.\n",
        "        super().__init__()\n",
        "\n",
        "        # here we create LSTM layer that mostly defines the architecture of the whole RNN\n",
        "        self.lstm = nn.LSTM(input_size, hidden_size, \n",
        "                            batch_first=True,\n",
        "                            num_layers = lstm_layers_num, \n",
        "                            bidirectional = bidirectional)\n",
        "        \n",
        "        # final layer is used for transforming vector of hidden_size to the vector of the required output length\n",
        "        self.final_linear = nn.Linear(hidden_size * 2 if bidirectional else hidden_size, output_size)\n",
        "\n",
        "        # dropout layer to regulize training and avoid overfitting\n",
        "        self.dropout = nn.Dropout(dropout)\n",
        "\n",
        "\n",
        "    ## forward function\n",
        "    def forward(self, raw_input: torch.Tensor):\n",
        "        \"\"\"\n",
        "        Forward path of the model.\n",
        "\n",
        "        raw_input: torch.Tensor - tensor of shape (sequence_len,)\n",
        "        \"\"\"\n",
        "\n",
        "        sequence_length = raw_input.size(0)\n",
        "\n",
        "        # transform raw input to dense embedding vector of shape (sequence_len, embedding_size)\n",
        "        # and add dummy batch_size 1 as a first dimension \n",
        "        # resulting tensor has shape (1, sequence_len, embedding_size)\n",
        "        embedded_input = raw_input'''self.embedding(raw_input)'''.view(1, sequence_length, -1)\n",
        "\n",
        "        # lstm_output has two possible shapes:\n",
        "        # (1, sequence_len, hidden_size) for unidirectional LSTM model\n",
        "        # (1, sequence_len, 2*hidden_size) for bidirectional LSTM model\n",
        "        lstm_output, _ = self.lstm(embedded_input)\n",
        "\n",
        "        # predictions has shape (1, sequence_len, num_classes)\n",
        "        predictions = self.final_linear(self.dropout(lstm_output))\n",
        "\n",
        "        # reshaping to remove artificial batch dimension\n",
        "        return predictions.view(sequence_length, -1)\n",
        "\n",
        "model = DiacriticsRNN(input_size=INPUT_SIZE,\n",
        "                        hidden_size=HIDDEN_SIZE[0],\n",
        "                        output_size=NUM_CLASSES,\n",
        "                        dropout=DROPOUT)\n",
        "\n",
        "# check if forward path works\n",
        "for item in X_train:\n",
        "    tokens = item[0][0]\n",
        "    model.forward(tokens)\n",
        "    break"
      ]
    },
    {
      "cell_type": "code",
      "execution_count": null,
      "id": "72403c0d",
      "metadata": {
        "id": "72403c0d"
      },
      "outputs": [],
      "source": [
        "# run pseudo-batching, just count things and them run loss.backward() and optimizer.step(w)"
      ]
    },
    {
      "cell_type": "markdown",
      "id": "0bfbdf7d-6c39-4eba-8b18-8cf8b8d86d8b",
      "metadata": {
        "id": "0bfbdf7d-6c39-4eba-8b18-8cf8b8d86d8b"
      },
      "source": [
        "# 2 Theory (1 point)\n",
        "\n",
        "Find NLP tasks (apart form diacritization) that match the following RNN architecture and describe them in detail:\n",
        "- Many (n) to many (n)\n",
        "- Many (n) to many (m), m $\\neq$ n\n",
        "- Many (n) to one\n"
      ]
    },
    {
      "cell_type": "markdown",
      "id": "f64cd25f",
      "metadata": {
        "id": "f64cd25f"
      },
      "source": [
        "- Many (n) to many (n) - POS-tagging\n",
        "- Many (n) to many (m), m $\\neq$ n - Machine Translation\n",
        "- Many (n) to one - Sentiment Analysis"
      ]
    },
    {
      "cell_type": "markdown",
      "id": "6226bf7d-b8e9-4b3e-bf9f-d237b3ce8f41",
      "metadata": {
        "id": "6226bf7d-b8e9-4b3e-bf9f-d237b3ce8f41"
      },
      "source": [
        "# Final remarks\n",
        "\n",
        "## Accuracies\n",
        "\n",
        "It is important that your models perform well:\n",
        "\n",
        "||Dev accuracy|\n",
        "|-|-|\n",
        "|Minimum for full points on sliding windows|96.0%|\n",
        "|Minimum for full points on RNN|97.0%|\n",
        "|SoTA [Náplava et al. 2021](https://ufal.mff.cuni.cz/pbml/116/art-naplava-straka-strakova.pdf)|99.2% (different dataset)|\n",
        "|Best student solution from Charles University|99.1% (different dataset)|\n",
        "|A foreign student living in Prague for 5 years|92.0% (Vilém's personal feeling)|\n",
        "\n",
        "We will evaluate your test results and top 2 groups will get +2 points.\n",
        "The next 2 groups will get +1 point.\n",
        "\n",
        "## Runtime\n",
        "\n",
        "You don't need to use a GPU.\n",
        "The training on a 2019 high-end CPU takes 60 minutes.\n",
        "If you really need more compute power (you shouldn't need to need it) then you can use Google collab.\n",
        "Nevertheless, we suggest you to first work on a subset of data for a faster development loop."
      ]
    },
    {
      "cell_type": "code",
      "execution_count": null,
      "id": "234378ea",
      "metadata": {
        "id": "234378ea"
      },
      "outputs": [],
      "source": [
        "! rm $train_filename $dev_filename $test_filename"
      ]
    }
  ],
  "metadata": {
    "colab": {
      "collapsed_sections": [],
      "name": "assignment_9.ipynb",
      "provenance": []
    },
    "kernelspec": {
      "display_name": "Python 3 (ipykernel)",
      "language": "python",
      "name": "python3"
    },
    "language_info": {
      "codemirror_mode": {
        "name": "ipython",
        "version": 3
      },
      "file_extension": ".py",
      "mimetype": "text/x-python",
      "name": "python",
      "nbconvert_exporter": "python",
      "pygments_lexer": "ipython3",
      "version": "3.7.12"
    },
    "accelerator": "GPU"
  },
  "nbformat": 4,
  "nbformat_minor": 5
}