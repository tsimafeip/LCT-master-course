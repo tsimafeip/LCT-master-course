{
  "cells": [
    {
      "cell_type": "markdown",
      "metadata": {
        "id": "qrdTPbtobNVV",
        "pycharm": {
          "name": "#%% md\n"
        }
      },
      "source": [
        "# NNIA Assignment 5\n",
        "\n",
        "**DEADLINE: 15. 12. 2021 08:00 CET**\n",
        "Submission more than 10 minutes past the deadline will **not** be graded!\n",
        "\n",
        "- Trevor Atkins & trat00001 (Teams username e.g. trat00001@uni-saarland.de):\n",
        "- Tsimafei Prakapenka & tspr00001 (Teams username e.g. tspr00001@uni-saarland.de):\n",
        "- Hours of work per person:\n",
        "Trevor Atkins: ~4hr, Tsimafei Prakapenka ~7h\n",
        "\n",
        "# Submission Instructions\n",
        "\n",
        "**IMPORTANT** Please make sure you read the following instructions carefully. If you are unclear about any part of the assignment, ask questions **before** the assignment deadline. All course-related questions can be addressed on the course **[Piazza Platform](https://piazza.com/class/kvc3vzhsvh55rt)**.\n",
        "\n",
        "* Assignments are to be submitted in a **team of 2**.\n",
        "* Please include your **names**, **ID's**, **Teams usernames**, and **approximate total time spent per person** at the beginning of the Notebook in the space provided\n",
        "* Make sure you appropriately comment your code wherever required.\n",
        "* Your final submission should contain this completed Jupyter Notebook, including the bonus question (if you attempt it), and any necessary Python files.\n",
        "* Do **not** submit any **data or cache files** (e.g. `__pycache__`, the dataset PyTorch downloads, etc.). \n",
        "* Upload the **zipped** folder (*.zip* is the only accepted extension) in **Teams**.\n",
        "* Only **one member** of the group should make the submisssion.\n",
        "* **Important** please name the submitted zip folder as: `Name1_id1_Name2_id2.zip`. The Jupyter Notebook should also be named: `Name1_id1_Name2_id2.ipynb`. This is **very important** for our internal organization epeatedly students fail to do this."
      ]
    },
    {
      "cell_type": "markdown",
      "metadata": {
        "id": "2Q7w5ARlbNVi",
        "pycharm": {
          "name": "#%% md\n"
        }
      },
      "source": [
        "# Neural Network Implementation: Training, Forward Pass, and Backpropagation\n",
        "\n",
        "At this point you already got familiar with the basic architecture of neural networks: hidden layers, activation\n",
        "functions, loss functions, forward pass and back-propagation.\n",
        "\n",
        "It's time to put it all together!\n",
        "\n",
        "We have been playing around with PyTorch for a while. Although it is nice and convenient, we want to have a deeper understanding of what is really going on under the hood. For this purpose, we will create and train a simple 2-layer neural network from scratch using simple matrix operations and what we have learned so far.\n",
        "\n",
        "In this exercise, we will work with [the PyTorch Datasets Class](https://pytorch.org/vision/stable/datasets.html) to obtain\n",
        "[the CIFAR10 Dataset](https://www.cs.toronto.edu/~kriz/cifar.html). Our goal is to benchmark our simple neural network by classifying the images in this dataset into their proper classes."
      ]
    },
    {
      "cell_type": "markdown",
      "metadata": {
        "id": "3i4zUnH8bNVj"
      },
      "source": [
        "# Part 1: Forward Pass and Backpropagation\n",
        "\n",
        "This assignment will focus on the forward pass and backpropagation. We will continue to work with the same dataset in Part 2: Training and Fine-tuning in the next assignment.\n",
        "\n",
        "## 1: The CIFAR10 dataset (2 pts)\n",
        "\n",
        "### 1.1 Getting to know the Dataset (0.5 pts)\n",
        "Have a look at the [the CIFAR10 Dataset](https://www.cs.toronto.edu/~kriz/cifar.html) and answer the following\n",
        "questions:\n",
        "\n",
        "1. What is the size of the datatset? Is it already divided into train and test sets?\n",
        "2. What is the input? What shape does it have?\n",
        "3. What shape would the output have?\n",
        "4. What classes are represented in the dataset?\n",
        "\n",
        "\n",
        "### 1.2 Pre-Processing  (0.5 pts)\n",
        "\n",
        "Let's load the dataset into our workspace. We will do that by creating an instance of class [torchvision.datasets.CIFAR10](https://pytorch.org/vision/stable/datasets.html#cifar). Have a look at the parameters of the class:\n",
        "- root\n",
        "- train\n",
        "- download\n",
        "- transform\n",
        "- target_transform\n",
        "\n",
        "Make sure you understand what each of them means.\n",
        "\n",
        "The input data that we load with torchvision are PIL images. We need to do some preprocessing before we can use the data for training. We can do that by passing an argument to the parameter *transform*.\n",
        "\n",
        "1. We need to transform PIL images to tensors. **TODO**: find the corresponding function in *torchvision.transforms*.\n",
        "2. It is a good practice to normalize your data before feeding it into the network. **TODO**: find the corresponding function in *torchvision.transforms*.\n",
        "3. Right now each image has 3 dimensions: number of rows, number of columns and number of color channels (the latter is 3 in our case, as those are RGB images. If interested, you can read more about this in [Image Processing in Python Numpy](https://www.pythoninformer.com/python-libraries/numpy/numpy-and-images/)). We want to reshape each datapoint to be a flattened vector with size $= n_{row} \\cdot n_{col} \\cdot n_{channels}$. **TODO**: create a class that performs this function. \n",
        "\n",
        "### 1.3 (1 pt)\n",
        "Now we have our train and test sets.\n",
        "However, we would like to be able train different models with different hyperparameters in the future and compare them using a validation set (we will use the hold-out method).\n",
        "For that we need to split our train data.\n",
        "Let's use 10% of the data for validation."
      ]
    },
    {
      "cell_type": "markdown",
      "metadata": {
        "id": "pTeKxDgFbNVl"
      },
      "source": [
        "## <font color=\"green\">Answer</font>\n",
        "Make sure to cite your sources.\n",
        "\n",
        "### 1.1 \n",
        "\n",
        "\n",
        "1. The size of the dataset is 60000 images. The dataset is also already divided into five training batches and one test batch, each with 10000 images.\n",
        "\n",
        "2. The input are arrays of integer values of a 32x32 color image, where each row of an array (1024 entries each) is the red, green, and blue channels respectively. The input shape is 10000x3072 for batch and 1x3072 for an individual image.\n",
        "\n",
        "3. The output would have the shape 10000x10 for batch and 1x10 for an individual image.\n",
        "\n",
        "4. The 10 classes represented in the dataset are: airplane, automobile, bird, cat, deer, dog, frog, horse, ship, and truck.\n",
        "\n",
        "Source: \n",
        "https://www.cs.toronto.edu/~kriz/cifar.html"
      ]
    },
    {
      "cell_type": "markdown",
      "metadata": {
        "id": "wuDEyW1qbNVm"
      },
      "source": [
        "### 1.2 & 1.3\n",
        "\n",
        "For Tasks 1.2 - 1.3, Please **complete the functions** in `solution.py` and run the following cells. Do *not* change the code cells below."
      ]
    },
    {
      "cell_type": "code",
      "execution_count": 1,
      "metadata": {
        "id": "PEQiqUhSbNVo"
      },
      "outputs": [],
      "source": [
        "import os\n",
        "\n",
        "import numpy as np\n",
        "import matplotlib.pyplot as plt\n",
        "\n",
        "import torch\n",
        "import torchvision\n",
        "import torchvision.transforms as transforms\n",
        "from torch.utils.data import random_split\n",
        "from torchvision.utils import make_grid\n",
        "from torchvision.datasets import CIFAR10\n",
        "from sklearn.model_selection import train_test_split\n",
        "\n",
        "%matplotlib inline"
      ]
    },
    {
      "cell_type": "code",
      "execution_count": 2,
      "metadata": {
        "id": "Qo3w-hQOVRDm"
      },
      "outputs": [],
      "source": [
        "#Transform PIL images to Tensors\n",
        "class ReshapeTransform:\n",
        "    def __init__(self, new_size):\n",
        "        self.new_size = new_size\n",
        "\n",
        "    def __call__(self, img):\n",
        "        \"\"\"\n",
        "        Q1.2\n",
        "        TODO: implement the function to reshape images into a vector of 'new_size', change the return accordingly\n",
        "        :param img: original image Tensor of shape (C,H,W) or (H,W,C)\n",
        "        :return: flattened image Tensor in new_size\n",
        "        \"\"\"\n",
        "        return torch.reshape(img, self.new_size)"
      ]
    },
    {
      "cell_type": "code",
      "execution_count": 3,
      "metadata": {
        "id": "W-VgQvknVOrF"
      },
      "outputs": [],
      "source": [
        "def get_cifar10_dataset(batch_size=128):\n",
        "    transform = transforms.Compose(\n",
        "        [transforms.ToTensor(),\n",
        "         transforms.Normalize((0.5, 0.5, 0.5), (0.5, 0.5, 0.5)),\n",
        "         ReshapeTransform((3072,))])\n",
        "\n",
        "    cifar10_dataset = CIFAR10(root='./data', download=True, transform=transform)\n",
        "\n",
        "    trainset, valset = train_test_split(cifar10_dataset, test_size=0.1, shuffle=False)\n",
        "\n",
        "    train_loader = torch.utils.data.DataLoader(trainset, batch_size=batch_size,\n",
        "                                               shuffle=False, num_workers=2)\n",
        "\n",
        "    val_loader = torch.utils.data.DataLoader(valset, batch_size * 2, num_workers=4,\n",
        "                                             pin_memory=True, shuffle=False)\n",
        "\n",
        "    testset = torchvision.datasets.CIFAR10(root='./data', train=False,\n",
        "                                           download=True, transform=transform)\n",
        "    test_loader = torch.utils.data.DataLoader(testset, batch_size=batch_size,\n",
        "                                              shuffle=False, num_workers=2)\n",
        "\n",
        "    return train_loader, test_loader, val_loader, cifar10_dataset.classes"
      ]
    },
    {
      "cell_type": "code",
      "execution_count": 4,
      "metadata": {
        "colab": {
          "base_uri": "https://localhost:8080/"
        },
        "id": "QpLY95rYbNVq",
        "outputId": "a11b01a0-e74b-4d94-f484-772769bbc28d"
      },
      "outputs": [
        {
          "name": "stdout",
          "output_type": "stream",
          "text": [
            "Downloading https://www.cs.toronto.edu/~kriz/cifar-10-python.tar.gz to ./data/cifar-10-python.tar.gz\n"
          ]
        },
        {
          "name": "stderr",
          "output_type": "stream",
          "text": [
            "170499072it [01:07, 2541287.76it/s]                               \n"
          ]
        },
        {
          "name": "stdout",
          "output_type": "stream",
          "text": [
            "Extracting ./data/cifar-10-python.tar.gz to ./data\n",
            "Files already downloaded and verified\n"
          ]
        }
      ],
      "source": [
        "train_loader, test_loader, val_loader, classes = get_cifar10_dataset()"
      ]
    },
    {
      "cell_type": "markdown",
      "metadata": {
        "id": "SxNbv-ZJbNVs"
      },
      "source": [
        "### Verify the data are as expected\n",
        "\n",
        "The follow code cells are provided for your convenience. Do *not* change"
      ]
    },
    {
      "cell_type": "code",
      "execution_count": 5,
      "metadata": {
        "colab": {
          "base_uri": "https://localhost:8080/"
        },
        "id": "XX5mJ01gbNVt",
        "outputId": "9f65cdcf-c642-48ea-ef0e-c79b2a865f86"
      },
      "outputs": [
        {
          "name": "stdout",
          "output_type": "stream",
          "text": [
            "images.shape: torch.Size([128, 3072])\n",
            "labels.shape: torch.Size([128])\n"
          ]
        }
      ],
      "source": [
        "images, labels = next(iter(train_loader))\n",
        "\n",
        "print('images.shape:', images.shape)\n",
        "print('labels.shape:', labels.shape)"
      ]
    },
    {
      "cell_type": "markdown",
      "metadata": {
        "id": "-c9mpfQLbNVu"
      },
      "source": [
        "Note that in order to visualize the image, we have to reshape the Tensor back to the C,H,W format.\n",
        "Because of our manipulation, the image sample is not so clear. However, it's still possible to make out the correct class label for the sample."
      ]
    },
    {
      "cell_type": "code",
      "execution_count": 6,
      "metadata": {
        "colab": {
          "base_uri": "https://localhost:8080/",
          "height": 303
        },
        "id": "Ip5nPdWrbNVx",
        "outputId": "18a8dd02-f37b-4dc5-d5ba-70f3758f7fb6"
      },
      "outputs": [
        {
          "name": "stderr",
          "output_type": "stream",
          "text": [
            "Clipping input data to the valid range for imshow with RGB data ([0..1] for floats or [0..255] for integers).\n"
          ]
        },
        {
          "name": "stdout",
          "output_type": "stream",
          "text": [
            "label: dog\n"
          ]
        },
        {
          "data": {
            "image/png": "[encoded data removed]",
            "text/plain": [
              "<Figure size 432x288 with 1 Axes>"
            ]
          },
          "metadata": {
            "needs_background": "light"
          },
          "output_type": "display_data"
        }
      ],
      "source": [
        "np.random.seed(23)\n",
        "idx = np.random.randint(0, 128, 1)\n",
        "plt.axis('off')\n",
        "plt.imshow(images[idx].reshape((3, 32, 32)).permute((1,2,0)).numpy())\n",
        "print('label:', classes[labels[idx]])"
      ]
    },
    {
      "cell_type": "code",
      "execution_count": 7,
      "metadata": {
        "colab": {
          "base_uri": "https://localhost:8080/"
        },
        "id": "1MzKjJmcbNV0",
        "outputId": "c50213d1-3691-4b43-f194-001c6ae5d3f2"
      },
      "outputs": [],
      "source": [
        "val_images, val_labels = next(iter(val_loader))"
      ]
    },
    {
      "cell_type": "code",
      "execution_count": 8,
      "metadata": {
        "colab": {
          "base_uri": "https://localhost:8080/",
          "height": 338
        },
        "id": "ULpN2hgibNV1",
        "outputId": "e74a368e-0849-4530-ee4f-84051ef54cc1"
      },
      "outputs": [
        {
          "name": "stderr",
          "output_type": "stream",
          "text": [
            "Clipping input data to the valid range for imshow with RGB data ([0..1] for floats or [0..255] for integers).\n"
          ]
        },
        {
          "name": "stdout",
          "output_type": "stream",
          "text": [
            "images.shape: torch.Size([256, 3072])\n",
            "labels.shape: torch.Size([256])\n",
            "label: automobile\n"
          ]
        },
        {
          "data": {
            "image/png": "[encoded data removed]",
            "text/plain": [
              "<Figure size 432x288 with 1 Axes>"
            ]
          },
          "metadata": {
            "needs_background": "light"
          },
          "output_type": "display_data"
        }
      ],
      "source": [
        "print('images.shape:', val_images.shape)\n",
        "print('labels.shape:', val_labels.shape)\n",
        "plt.axis('off')\n",
        "plt.imshow(val_images[1].reshape((3, 32, 32)).permute((1,2,0)).numpy())\n",
        "print('label:', classes[val_labels[1]])"
      ]
    },
    {
      "cell_type": "markdown",
      "metadata": {
        "id": "eC2WkkpHbNV1"
      },
      "source": [
        "## 2: The Forward Pass Computational Graph and Implementation (4 pts)\n",
        "\n",
        "In this question we will implement a two-layered a neural network architecture as well as the loss function to train it. For this question, complete the required code in `solution.py`. Refer to the comments in the code to the exact places where you need to fill in the code.\n",
        "Load the code cell in this notebook to verify your answer.\n",
        "\n",
        "### The Model Architecture\n",
        "\n",
        "The diagram below shows the visualization of the model architecture. Please note that the diagram only shows the schematic of the layers, the number of units are *not* representative of the actual sizes of the input, output, and hidden layers.\n",
        "\n",
        "![Model Architecture](data:image/png;base64,iVBORw0KGgoAAAANSUhEUgAAAo0AAAElCAYAAACBCthTAAAAAXNSR0IArs4c6QAADSd0RVh0bXhmaWxlACUzQ214ZmlsZSUyMGhvc3QlM0QlMjJhcHAuZGlhZ3JhbXMubmV0JTIyJTIwbW9kaWZpZWQlM0QlMjIyMDIxLTEyLTA2VDA1JTNBNDYlM0EyMy43OTBaJTIyJTIwYWdlbnQlM0QlMjI1LjAlMjAoTWFjaW50b3NoJTNCJTIwSW50ZWwlMjBNYWMlMjBPUyUyMFglMjAxMF8xNV83KSUyMEFwcGxlV2ViS2l0JTJGNTM3LjM2JTIwKEtIVE1MJTJDJTIwbGlrZSUyMEdlY2tvKSUyMENocm9tZSUyRjk1LjAuNDYzOC42OSUyMFNhZmFyaSUyRjUzNy4zNiUyMiUyMGV0YWclM0QlMjJXcEg0aEJndTJwSGNQMF9qREhWNCUyMiUyMHZlcnNpb24lM0QlMjIxNS45LjElMjIlMjB0eXBlJTNEJTIyZ29vZ2xlJTIyJTNFJTNDZGlhZ3JhbSUyMGlkJTNEJTIyNXV4Vzc1Zm5fVTlHV2VpOTExeUElMjIlMjBuYW1lJTNEJTIyUGFnZS0xJTIyJTNFN1oxZGo5bzRGSVolMkZEZEwwb2lqJTJCeXNmbHdIUjNxJTJCMnFxeDJ0Mmw1VkdUQ1FiaUFvaE1MMDE2OU40aVIyd3BDQnhBWUdPcXFJUTB6eW5pZkh4OGV4NmFIaGZQdDc3QzluZjBWakd2YWdOZDcyMEVNUFFnJTJGYjdIOWU4SndXMkFDbkJkTTRHS2RGVmxId0dQeWlhU0VRcGV0Z1RGZFpXVnFVUkZHWUJFdTVjQlF0Rm5TVVNHViUyQkhFY2IlMkJXT1RLQnhMQlV0JTJGU2lzRmp5TSUyRnJKWiUyQkNjYkpMQzExaVZXVSUyRjBHRDZVeDhNN0N5UFhOZmZEaXJZalh6eDlHbWRNbm9RdzhONHloSzBuZno3WkNHWER0Wmw5JTJGMjdNMVBMS2FMcE1rQkgzOThSaiUyRiUyQiUyRlBaNGo3N2Z1NXQlMkZuMG5rdWUlMkJ6V243NjRUcTc0T3hrazJlaEFLdUZpYzAyQnB0WmtOREhwVCUyRmllemJNM0t4c2xzeER0Z1hZVzMlMkIxVEMwd0NiYVVmZWtncTV2R0NkM3VQV21RUzhFUW90R2NKdkV6JTJCNGc0Z0dTSFpQaEFrdUd6S1l5Qk1zVm5KVHVJTWo4eiUyRnpTdnVWQ0l2Y2xFZW9WZ3NFdkJKa0VZRHFNd2luY1ZvYkZQM2NtSWxhJTJCU09QcVBsdmJZSTVjJTJCVGE1VVluVDFFaVBoSkV4SmpLOWZZdEh3bUpLWVhMJTJGRXJtZFdZaEVqYU5GNDRvN29xRmJqSjVkZ0ZnJTJCMG9qRlRTJTJGRVV5TERHblVZSTU2R3hhVmNCZEFZVmhqUTI3aXZzcSUyRmZIR0puMkZjN1Zhd3lGUHpTbXNYdjF2Z0xhaHFOajRPblVtUEIlMkZ2RHhhSktYeTlGWEw5JTJCN1ZqdllJblZtOEFiWEdkT2VsdmVrNEJHcU45YzVMZTlQeGlaRDZEV3B2M045RG5Sa25QVzBxRnBjZ05IWWN3eHJyVERtWjBSaEIweHpyekRrWjB0ZzJIWjljWHolMkJTUVBmTWZNWDE5U05WamMzN0NwMzlTRU1hRyUyRmNWVGZxUmklMkZFOUg2Wm1XNHRvUVdWZDQyaTlHSE5CSDdnN1pUTEV6MSUyRkxHOSUyRjRScCUyQkl6WWR0ZWVmRHM5amFCc25YckViJTJCdm5RVTJ5b080aHZpbVBRODZiZ3lPSzRZZzExTHRJNUh0RUdybFBqeGxDWUhrYXlhdDJRJTJCVW1NJTJCVVJiVDBFJTJCQ24lMkZJSjE5azAlMkI0YSUyRm80QmRTaEdWZXA1RUQ3WWR1WXIwUXJPakNqSXFGV0dzVkFTVWlsSWhLaFh0RU1zdiUyQjRUaDB5WTk2TXVtemhRam1DalJDRHFTa1lxclVpdnFtcEVtUGYwYkkyMHdBajNRSiUyQjFRVWxOVjE1dzB5VXFjeWdrNFFFbnp0dWhnRTVPT3RKbENBN2pLZ0EwJTJCRWd5STVJcVFweG1MSmdtVGM4SGliS3h0Z1Q3eWpqUTRkTml4Q0hrdWRDRzBnS3UwUTQ3Vjl6emJ0b0FESE1kemRVY2NUWEk3Tnh5VWU5YTJPc01CZWtaeGFKS0d1dUdnNEFCd1Z6aEFGeG5Gb1VuRzdPUllVMk1NWWJTYnFuTERyTnNWTjhCempITFRKQXQ0THR5Y0RRNE82SVFGWkRsOXl5cnRSbnBaMEpKSnV6SVdrSHJEdHNVQ1FTWlp3TzNtdHk3T3FqWTYxcXB5WHBKWldLJTJGZGRPU2MzbTR1d2VyRzhXTmsxUEZqcU1QeEgweFV0b25OZVlXUDF4a3ZZQjBKcWtQeGd1RnhOOUg2SHliUzZoa2xFc3RFa21PakZtUzkyQXYyekVZdE9uSmtKb2s4RzQ5bXUzMjdJNmRHTEtNSTZjaXJtWFZxRnhaMElUR3JxRzNRUEdXM1hzNWFUdGk5QWFlRFR2QTRVa1ZZSmFwclc3ZWNaRE1jOHRoR29YRHN2T1hKZTAlMkJuRFBJb1V4UWN6YzFOa3ljRXUlMkI2dkd3WUtuNVdUY1ZGbkk0WUVta3oxWXgzcDNTc2NNZXlHQmNzMnlZS1ljTnR5aTJTOXdvRjBueVU2JTJGTkJzWnR2REQ4MGlrMHhpckxSUmFxamElMkZLRlpaVTVZdzhhT1llQSUyRmx6NjI1QjlZN1QlMkZoUEh1ZWY0JTJCclFKelcyQzdTOEliMDVTSk5uR09mMzZ6ZUhiRGg4NXVuWW8yQU9PbHV3VzQ1elhxaFlLT21ZQnNOSjlWcHR4Z2YyV2V0ekozMm12VlpYdyUyQjFuQmxHeE5PQWRNdDUyaVA2THpuU3dCelNUZk54ME9qWUFWSWNMRDQySkZZclF1cXdXRXRJVjZhelpsTXR1MFZheXdONE9zZFFEVHRTcGJIRjFwRlBaR0NnaGhwNk16ekVmUEx2SEdDQ0ptR0NSTzJRSERta2dNVE05SDBWZFExVHklMkJuQ3k0UXBYVHJxWEdES1o1bSUyRkhpYjhja1ZkdzlSeVF2QUtoNkNndWhxcmJSM2JUMFZpeHNhJTJCMGF5T3JTM1clMkYzbmJyc00wVG1wUWMydzdCTnlYSyUyQm9hcGdiNTQ0SVh6c2lCeFMzaUtHSENSZ3UyNlhHVHEydGJFT3FPY2E5bWJRc1hQcUcyMXN6Q1lpWnVudUNwcmxjR1lBMGV5TjVQd2ttTFc5andHbldHJTJCeHElMkJzczVZcTg3VkhOdGpORW5tJTJGcllpTjd2c1JOWlUxaXB6bkdWaHN5SSUyRkRLWmMlMkJCR1RpYkx5QVJjeEdQbmhmYlpqSG96SCUyRkd0cWpTaTczNUlkMzN0V1MlMkZpTEppSTNDNm1ZeGE2elNsZEx1OWpWTk5FJTJGOU5QNkRaa0VxdG01bWp0RnIwbnEwaHpzSExIZkl4OTZ6dUFPdk9zNUQ3c2Q3QnAyZSUyRmFacTMwYnJaaDVnc1gwRTUxd0dYQlI4ayUyQm1EQyUyQksyT0dUY0JmanpOaUJsTlV3eURKSzdPeklnUDB4OFlZOEtpSHNiSWRzR3hUYjdJOSUyRlBFNkcwWUpkZ0IlMkZzN0VqOVZiS2hxMFJRNEQlMkZ0cnRXU29XeUJCd0Rkdmh4R1lsSzlTUjFTSlVJOEd0czZFVTVkWEZrbUF1MklZT0R1b01qYzZ0MnY4dDUzTjFMYUpvV0E0cUVva2F3UVN3aEl6U3lxWWNYcGlwVnEyUGg1blN6WDdIdnZPU0hRRHJreVR6RjdOMDEyUW5BdUp0OFpLVDB5VEdZMDhSa3VkOXQzT1U4S1pUZU1Xc2JJZHZxT3NveFN6ZSUyRnFBQWp6cCUyRktrZnRNTFhhVFRTS29MakxueGhWJTJCQlJUdjBwZHcweWUwVVo0N0paRDNKcFRlSzJxVUlXbklhSlI5Q2tqd1IxdGxxMVEycWwlMkZsQlZYNWdtUjlZeXclMkI4OGRNRlA4aXhGWDZBYVg3cVJyRExVVSUyRkolMkYlMkZBJTJCeTUza2wyN3hUdnN1eHBYajR2ekJicW1Wc25VaVVwMUo5SEZ4TU5iaFlRNm53QmtFYyUyRjZybWV5VHpxMHoxWTFYY2Z0ZSUyQmVYS1RnYUJmQ0ZBbzVIT3ZoNzNsJTJCWXhpJTJCSE1TQXUyQXE2eVNpT28zdDY0V1BwTlN5N0VxUnZaTDF1bVFUUnclMkJaWkJ0cWRPeUlFMWEwSnJOMDdkU0RtM3hDdEMlMkZjczNEclNVNXhYRVlxY21MVk0zN0Z5MnpOdTRiVHpGTW5iMTl3RGFzd3piTEg0RE94MEVMSDVJSEgzNEh3JTNEJTNEJTNDJTJGZGlhZ3JhbSUzRSUzQyUyRm14ZmlsZSUzRYnUfYwAACAASURBVHhe7J0HdFTV1se3tNATEpokIEgVlBZQQEFUBESQLogVeKIigqgUFeuz8bCBClZsSBEBkfKkSQSkCKFJFwQl4VFMSOgBjN/6Hb4TJ8Mkc2fmzmRmcvZasyAz95577j733PM/u/z3JX///fffYsRowGjAaMBowGjAaMBowGjAaCAXDVxiQKN5PowGjAaMBowGjAaMBowGjAbcacCARncaMr8bDRgNGA0YDRgNGA0YDRgNiAGN5iEwGjAaMBowGjAaMBowGjAacKsBAxrdqig8Dkg6ckK27U2V3cnpcij1pBw7eVbO/5UphQoWkNIlikiF6BJSIzZS6laLlrhyJcPjps1dGA0YDRgNGA0YDRgN2KYBAxptU2VwNpS487AkbEiW9BMZUjU2RiqVi5SYqOJSsniEAowAxxOnMiQl7ZQcOJIu+5JTJLJkhLRuFCvxtcsH502ZXhkNGA0YDRgNGA0YDQRcAwY0BlzlgbkglsUZCXvkzLlMaVArVqpXjrF84T37U2TTrmQpWriAdG9d3VgeLWvOHGg0YDRgNGA0YDQQvhowoDEMx3b11oPy1cId0rpJdalfq5LXd7h51wFJWLdH7mxbR5rVq+h1O+ZEowGjAaMBowGjAaOB0NeAAY2hP4bZ7mDp+iTh07ZFHakQU8rnuzuUclwWrtwhNzSOUx8jRgNGA0YDRgNGA0YD+VMDBjSG0bhjYZy/ap90an2lRJUqZtudpR0/LXMStkiH5lWNxdE2rZqGjAaMBowGjAaMBkJLAwY0htZ45dhbYhhHT1onvdo1tMXC6HwhLI7TFmyUEXc1MTGOYfLMmNswGjAaMBowGjAa8EQDBjR6oq0gPnbs9E0SVzHapxhGd7dHjGPSwVQZ0rOBu0PN70YDRgNGA0YDRgNGA2GmAQMaw2BAodVZnJgs3W6q7/e7mblks7SJN3Q8fle0uYDRgNGA0YDRgNFAkGnAgMYgGxBvuvPG1A1Sr4ZntDreXIdzoOPZujtZHu/dyNsmzHlGA0YDRgNGA0YDRgMhqAEDGkNw0By7TCzjh7O3yN2dmgbsTr6cs1YGdL4yT2Ib169fLw0aNJCCBQu6vN82bdrIokWL5JJLLgmYPsyFjAaMBowGjAaMBvKDBgxoDPFRXvjzH5KUkiEtG18esDtZvv43iYuJkLZXVwnYNbnQ0aNHpXHjxrJ37175+++/5YUXXpDjx49LqVKl5Pnnn1d9ASx++umncs8990iBAgUC2j9zMaMBowGjAaMBo4Fw1oABjSE+uuNn/SKXV67gUcUXX28ZF/Vv+w/JwK5X+dqUR+d36dJFOnfuLH379lWg8Z133pHly5dLvXr1skAj3wMW//rrLwMaPdKuOdhowGjAaMBowGggdw0Y0BjiT8hzn6yWjtfby8voTiXwNs79cYu80L+Zu0Oz/Z6ZmanAnnYdA+74m+8dv9MnAfwQbTF0BQZ79uyZDTRyfPXq1eWzzz6Tli1betQ/c7DRgNGA0YDRgNGA0UDOGjCgMcSfjqHjlsmAHs2lUMHAuWLP/5UpH36zSt4a3Mqy9pYuXSp33XWXHDhwQJ0DSAQs3nDDDbJjxw45ePCg1K9fX95++231HZ+EhASpUqWKsiw+++yzCgzu2bMnmwUR0NiwYUN5+umns/oyYMAAufzyy2XkyJGW+2cONBowGjAaMBowGjAaMJbGsH4GHnkrQQb3CbxF7a57+8vUCc9JtWrVLOsXkEgCy/Dhw+W1117Lsi4+99xz8uKLL2ZzKWNlbN++vUpqQTj3pptukiVLllwEGnv06CG9evXK6se0adPkm2++kenTp1vumznQaMBowGjAaMBowGjAgMawfgbyytLYt//9UqeCKDewVdGgEUvgBx98kAUGdSa0YxwiQBAL4qhRo7KOq127tuzcudMtaCQp5uzZs/LKK69Y7Zo5zmjAaMBowGjAaMBowI0GjHs6xB+RvIppHDdhoiR8PUa+/PJLad26tSUtEr8YGRkpHTp0kKlTp6pzcFPfdttt8t1332VZGn/44QdlVXSMddQJLmROV61aVcVCAixxe5cvX15ZGsmmRtq1a6f+7tevn6V+mYOMBowGjAaMBowGjAbca8CARvc6Cuoj8ip7euzoUbIuYZbExcXJhg0bLOkIoFenTh0Vp7hw4UI5c+aMil3s1q2bjBgxQs6dO6esiFFRUTJx4kQFCh3l9ddfVxbEp556Sn1Ne44CAE1KSpLKlSub7GlLI2IOMhowGjAaMBowGrCuAQMaresqKI/MS57Go3tXyZ133qmsel999ZVb/WA5vPHGGxW34tq1a1V845o1a2T79u1y3333yf79+2Xu3Lny0EMPXQQIaZzzhw4dKm+99VaOdDpYIYcNGyYPP/yw2/6YA4wGjAaMBowGjAaMBqxrwIBG67oKyiPzuiIMFsGBAweqzOiPP/44Vx1hGezTp4/s2rVL3njjDZk3b56MGTNG/vvf/yqX9c8//yxXX321ypAm+9mVaBqenCrC4KImscaI0YDRgNGA0YDRgNGAvRowoNFefeZJa3lde5rqK9u2bVOWw08++USuvPLKHPXw2GOPqczm6OhoWb16tRQtWlQ2bdqkkl5IjiFb2mQ958ljZC5qNGA0YDRgNGA0kKsGDGgMgwckcedhWZyYLN1uqu/3u5m5ZLO0iY+V+Nrls661e/duFasIlyJUOlgcsSi6Ek2vM2PGDBXLiBw5ckQls+CWfu+990zdaL+PormA0YDRgNGA0YDRgOcaMKDRc50F5Rljp2+SuIrRUr9WJb/1b/OuA5J0MFWG9Gxw0TWeeeYZRdyN1fFf//qXSmJ59dVXLzoO0EjsIhZJXQVGU/Fgrbziiiv81n/TsNGA0YDRgNGA0YDRgPcaMKDRe90F1ZnENo6etE56tWsoFWJK2d63QynHZdqCjTLiriYSV67kRe2T+UwcIgkxuKcBjmQ6Aw4rVKiQdTwUOSSrOJKCE+vI92RSayBp+w2YBo0GjAaMBowGjAaMBnzSgAGNPqkvuE5evfWgzF+1Tzq1trcWNbWm5yRskQ7Nq0qzehVzvGnc0vAvLl68WB2DVRHyb76/+eab80xZW7ZskcOHD6vMbVeiSxoawJpnQ2QubDRgNGA0YDQQAhowoDEEBsmTLi5dnyR82raoY4vFEQvjwpU75IbGcerjTq677jp54IEH5O6771aHkvSC1ZF4R5Jg8kIgD4eqB0vm/Pnz5d///rciAKdyDPLEE0+obG7HijR50U9zTaMBowGjAaMBo4Fg1oABjcE8Ol72DYvjVwt3SOsm1X2KcSSGMWHdHrmzbZ1cLYyO3ST7GQqeX3/9NetrSv8BHGvUqKHc1RB4B0qoNAOvI+5vhGozy5YtU//XoFFXmzl//rzKADdiNGA0YDRgNGA0YDRwsQYMaAzTp4IYxxkJe+TMuUxpUCtWqleOsXyne/anyKZdyVK0cAHp3rq6yxjG3BqD8JuEFl03Wh8LmISLEXc1FDt2Csk0Gvw5upnbt2+vsrI7d+6cdTkNFvW//FC9enWVuHP77bfb2a2QbwsdaT3pso5av3xPqUYq/BjJXQPoinANdKcrGWk9wi0KzynPoBGjAaMBo4Fg1oABjcE8Ojb0DTqehA3Jkn4iQ6rGxkilcpESE1VcShaPkEIFC8j5vzLlxKkMSUk7JQeOpMu+5BSJLBkhrRtlp9XxpCuQd5MMA0k3Jf0cZcKECfLoo48q4Khd2J60ndOxegEmi/vFF19Uh7E4X3XVVfLtt98qK6cWV6BxwIABijNy3LhxdnQnLNrQAPrrr79WltpHHnlEtm7dqkAkAIgykNdcc40qIxlI63GoKZcSmdRM13pEf1i7b7nlFhUukZGRIddee63aUBk9htromv4aDeQvDRjQmE/GG8vjtr2psjs5XQ6lnpRjJ88qwAhwLF2iiFSILiE1YiOlbrVojy2LrlRIfWj4Fz/66KOLfl6xYoVyVxNr+J///MeWEcAKRh3sWbNmKSCDaCofZ7ezK9DIgg6puCEWvzAcxHcWKlRItO4GDx4sWG2xIJMlr+M/SXz66aef5J133rFlHEOpETYlVpKnOMZZjwBGACJzpGzZsuq5ffvtt+XHH38MJRWYvhoNGA3kMw0Y0JjPBjxQt4v1BHAxbdo0ITnGWdLT0xVwPHHihLI6xsbG+tS1xMRERRb+22+/ZcUlAhrr16+v4ig1kOQirkAj35FhPX78eJ/6ES4nr1q1SrC+/vLLL+qWcKFef/310rp1a0WXBFhEp1Tzwf2/cuVKv946Y+ksGrR5Yp3jHN2WBnyenK/7QBs8M9Rdr1evXo73jv5IuoLD1FmPJGZhsUWnSUlJ0qhRI/UM6n5FRUWpqkkQ5xsxGjAaMBoIBg0Y0BgMoxCmfaAsIJVfFi5cmOMd4kr+8MMPFXDEkuWtAAwBocSGlStXTtW0Jqmlb9++Eh8fL4MGDVJNE1eJSxCh3rUGicRh4lJ/8sknve1CWJ0H2Cfz3dnyCngELOn4xoMHD0rTpk3l999/96trFWAFKTybAq537NgxBbSw2BGSwObAneiY12bNmikw1rJlS/WM6CQpd+fr32lnyJAhKi6XmM7chGcfa7uzHnW9da1H2mTjxD1pEIv1myQuLLneAFur92OOMxowGjAasKoBAxqtasoc55UGWrRoIQ8//LAAynISXHMAvpEjR8qwYcM8vg4L7n333SdffPGFvPLKKwpU0Oa7774rn3/+uQKOOvlA/6svohMTWJQN5c4/qncFGgE+xDmiJ/QWSN0xblg3AWv/+9//FNjDegeIJRZw3bp1ljLfAWkVK1YUgCOxrt6AMcAcm5BDhw65dU+70qMOm3DWIzyiS5Ysydan5s2by0033aRooqy4wj2ePOYEowGjAaMBDzRgQKMHyjKHeq6B77//Xi300O7kJtSvBjiSiYvVsUiRIpYvxiJ82WWXKYDIwosVKjIyUtLS0qRUqVIKTOQGCEnMAYiwwBu5oAGsW1iBFyxYoP7GDY1lDT2+/vrrynoLmIFaCbe1dr/6S3+Axv79+6tkJcf65LqW+ebNm1XSkzvBUkmWMryhAE5PhWft3nvvlQYNGih+T3fC9Zo0aSKpqanqUG3tRI9YIYkbbdOmTdb32vKo29UA8+TJk1K8eHF3lzO/Gw0YDRgN+FUDBjT6Vb2mcTRwxx13qAWd5Bh3QoYuiTIAR4CJFcHSRHydTjbA9YiFxhFIzJkzRzp16uSyOWLLPHVRWulXKBwDKEE3JUqUUIBbW95wN2ONA0wjhA5oAMnf8F1qsnTcw8SU+lPoZ926dWX48OFZLmHGGyBLcg6AX/cdwDtlyhQpVqyYSrRytNBNnDhRgU+eGSzSzoLbmHhbLKq6PTY86AEXuXOCkOP5nEcyS/fu3VVfAd2AU8dNi7O18P3331dk+FhKOQ+9OwogEwYCdJ9b7KQ/dW/aNhowGjAa0BowoNE8C37XwPbt21WQPxQ8VhJeiHEk9hDgiNvZnYwdO1a5oqH6YVGG4gTQsG3bNilZ8uI62e7ayy+/YwXDuksiy+nTp+XTTz9VVkNiFh0tYoAnV2599IS+3VntcLk6n++sY9rBcpmTQPVDzCnWOQ3m6CeAEeDFdwBLXNgA2scff1z9H+DmeG2eJwAjpSWdXdPETAIkH3zwQQUSickFmBYuXFjWrl2rLIb6b2fLNX+zMYqIiJCNGzeq2wBAknXuGPqQkx7Z0DA3uBdnAaxyPzltevLL82ru02jAaCDvNWBAY96PQb7oAfGKR48eVQuxFSF7F0CDhYsSf7kJta4BPrhKU1JSlLsPFyqWMxMH5lpzAKy2bdtKx44dFW+mdoMSF6r5MwE/WCGxJLoSuAZJBCG0IDcBxLkTxgnLZU7CxoCkJe2aJhQBupp58+ZlgT9c1TxfWJhPnTolTz/9tALBZIEjALaaNWuqbH4sjs6gkT6cPXtW+vTpo6ysADWynwGStMfxgNcuXbpkbVB0f7FUc36rVq2UTrFYalczrnvAoOYPdb5HrUeeX1fPK5bRxo0bq9hgI0YDRgNGA3mpAQMa81L7+ejaLLrEkpFNTXKMFYGOB+BIPBhWx5wqj2jA06NHD5Xxi4WpZ8+eXiU5WOlXOBzDOKAv3KHoFfcyYBtrLdnnWnD74qp1BWaICQRQepNM4okOAXtkukNBM3nyZNUX7SbWbmaegauvvlrFsCYkJEh0dLQCfWTD676TuEISDMBSA0n6sXz5cnUO90L2Mu5gNiJYPgGicCdqUMixxDKyqXG+b/pAWASAEyujo8580SOWc2I5vYnB9ETP5lijAaMBowF3GjCg0Z2GzO+2aYBqMLNnzxaSYzyRl19+WbmfAY633nqry1NZsAFCxIX5G8R40vdgPfa1115T7mhCB9AXtDBY7WbOnJmVGW1X3wFeVtzTOYEiXMWVKlVS8Yk6ux6XNyBXgzu9caCiD5nN2r3ueA/cG8/H+vXrVbiEFizZWLSJGSQzGu5FndkMhRMgEqsslmtc2MTaQjXk+JxxfdzL9AkrqLZK2hGHiOUTC6kBjXY9kcHfjmPZSXrrSCRvyk4Gx/g5llh1NUaEk+AhCDcxoDHcRjTI7wcrDO7Q3r17e9TT7777Tu6//34ZOnSoouYx4psGSBahNjjgC8HlCjAh7pTvid+zS1wRc7tqOyewz9hTO5y+AtwQeDhJiuG7P//8U5HEY2FmU0G2PsJzlpycnMWRqDOtya7HIkm/sADi+sZyiGWQeFriYWmXOEYI43GJd+3aVQFJxDkbn3boFx9c04BMXOOQ2/v6rAIW4JOEsooQDCPhrwHHspM8W1jFebahEyNG1pSdzPtnwLHEKry/8ARDzF+1alX58ssvVTIdnpFwpHEzoDHvn7981QMmGG5DLFyeCvV7AY4VKlRQVkeyY414pwEWI6xr586dU65Z3LgkmQB0WKCCwVoLYAKIEbtILCFucxKk2OHzXfny5dX/P/vsMxVXSb+xDGJNxOqss6rJDCf2Upfow8oI0CT+lbAJncGMJrXbm/AGEqkQrq2Tffgd6wFWWcpWIhxLf4ifJG4RahwsorrykHcjdOEsnT3NGDnWT/elTXNu8GpAW8g1EwRWRWJdiTVms6JZC0zZSf+MoZXSoM4MCowRcxOWEMcNJRtYkujggw0nMaAxnEYzRO4F9x8LLztqbwRrI5YggCNxbEa80wDAkYQNXQcZLkYygIMBMOo70mX/NJE4L2UtxChCh0Nii+4zL3TiWrH4Ad70eY7ucUcuRH53vl8sBoA0rAlYJUmGufbaa7Oui9WPRUK7iwGjAEZk3759Ctzqa3s3Mv+cBTjFckEsZzCNi6/3Zc53rQHnspN640As7WOPPaYy/3kOXJWd9KdOmTNY3gFB0FyxSatVq5ZHl2QOMj9oi/j2YBMd4uLMlercT+cSq3qMAPRYghlDxog4aLwh6E1LOJQGNaAx2J5cP/VnyYpE+WHVVkk/GyFSuJRcUqioyCUFRP7OlL/PnxE5d1wii2TIjc3ryU3XWeNH9LarWG7ISIXyhcQEb4TsV5JkiMUju9SI0UCgNMCCqQm7/QnkdLb3Sy+95HE4R6B0Ya5jrwZclZ0EeBCOwSYZi7neCDmXnbS3JxdaA0BhKXv11VfVe3b06NEK+EFlhgvW6vPPs4yXgDZ49wN6Nf2aFeueP+7NsU1tPZw7d26OcfP6eFdVnoijZj0jjAbeVQTPGBta4qDDqTSoAY3+fhrzuP13Pv1Wdh7MlIjikVKneiWpXDFGYqKKS8niEVKoYAE5/1emnDiVISlpp2T/wRTZseeAZJxKl9oVC8gjfbv4rfe8CIlD07WfvbkQOziAI1QtZKsaMRoIhAZY5Kh1zbOn4yf9cV0SwKA8WrlypeXF2R/9MG0GTgM51XyHtolnjg0L1ioduuFcdtLunm7YsEF5IogN1lZ++khSI5Y1q6DxzJkziqUB8AlRvQ6BwRpHCIo7657d9+XcHvHChEzhYXAnOY2Rrjal4xiduW51u6FeGtSARndPSIj+jmVx1rLfpEzZCnJt4zpSvXKM5TvZsz9Fflq/Q47+eUi6trrcL5ZHACMuCpIcqObirUBKTZwjGbbsxKtVq+ZtU+Y8owHLGnCsH2114bTc+P8fiMWCeEvDNeqp5kL3eOeyk2yIiZXjHYeFjnhw/taAxN9gi1herkXtcy0AVcIm3nzzTcuKBmBSfhOKL8f5QnLajh07VPiFY+iJ5YZtOBAdws5AvL2VbGfnEqvMT2i8GCOAMfGmeCKIRYW2i3t2nMOhXhrUgEYbHrpga+L1D76R30+VldZNqkv9WpW87t7mXQckYd0euaz4n/LEAz28bienE8lKZaLyAvJVcJtA6E0W22233eZrc+Z8owGjAaMBv2kA4ECy1GWXXSaUTtWgQgMKHYNL5jSWOTwzxDNCkwXoyqnspJ0dpg/E9WKBY/NCRabIyEhljcO1rGMa6TMuWJ05rBNC6AttQGNFnDCUV1RbIpGR77HIQaVGHXdigrE4YnkkVpg4XoAcRgVCkFgnsHoSg032OElmzkAMuq2YmBgFqol11nRX9A8d0gcKF0CXNWnSJKVT5I8//lDcqtyDM3DFm8W1GSMsvIBAEu8cS6yio7S0NFm0aJFqT1saOc9VidVQLw1qQKOdsywI2nr+ra/keIGK0vXmeKkQU8rnHh1KOS6zFiVKqcyD8vzQO31uz7kBElkgS9YUBr5cgEmKy5DKGVCeGDEaMBowGgg2DQAqyPzHzUlsH7yeOZXvpO94ZTiudu3aWUApt7KT+n6tlO/kWLhFcxL6qOnRIMzv27ev4kt1TDzDIo7HBzBFSAVMAhgEtGCRJC5SV3zCIodXCDCHBRNgpcuRQvvFb4BCdMR9vvPOO8obReIbSZSAShgSNHCknTp16qj3PiT4WC1JRGM9AKDBqADPKjGYWAnRI3H1ZDcTYwkQfeuttxSwdASiVGpiXEj8QYhPxBJM3KNjaVB+I/mFcwGquo3cSqyGcmlQAxqD7Y3iQ3+wMP7vTBnpfes1ElXKPjqatOOnZeq8NXJp0aO2WxyZgHDZUQvYDmG3CHAsU6aMevmY2tN2aNW0YTRgNGCHBgA4ZEET44f1jr+JVQQ4AYgQX8tO6n5aKd8JqMqt5jttYeHEG0R5TsAfgFBzhpItDDUVVjaAlM4g5lgNLLkGlklc3VgatWDFa9eunXr3Y1XEIgmYQwBsOl4TF7bj3yQDnTx5UsVFIlhsAaqAb64FOKXaFckpxASTSLZmzRrVN5g3IPcHKPN/vFLEw9MH1gtHAZxybcaI+yT+XnPOUmIV6q6cihbQX0j5AfuuJJRLgxrQaMebIAjaIIbx27XHpVe7hrZYGJ1vCYvjtAUbpUvTUrbHOMJzh8VRV/uwQ51YLzXpKoHH7uT4vr1yZMN6Sdu2VU4kJUlGeppknjsnBQoXlojIKCkZFydRdetJuUaNpVRVEzfpTp+B+p1NAi98SMmJa8WaAPck1CC40i699FIVO4trDdJtI0YDeakBXb6TLOmbb75ZATKsaJqXUffNl7KTdtwfYEhXXdLt8R1xlRDj40YGGOJahhAf6yFCogsuZ8eMYThRoaFavXp1tvh1ABnfYelzBJiAPjhWSbbhmvDJwh+r/2YuQ3v11FNPKb5V2gZA6kpOxBXCa+kMhrke4NI5+RJQSalaVzGaOlwAC6pjSVLu1ZcxCuXSoAY02jHDgqCNQa9MlxtaNvMphtHdbRDjuHT5ann3qZ7uDvXod0z71KNm4cclYZew88TqyM7YsdawY/v/W7Fc/pg/RzJSUyWmRk2JiqssJcqXk4hSpaVAoUKSef68ZBw/JicPH5G0pP2SsvtXiYiOliodOsml17W0q6umHQ81gJWChQuQiEsIYAhABCgCGAGO/AaQ5LnCgsFvLEgsfEaMBvJCA5TvxN2qQRXWRspYEoMHCNOuUDv65kv5TsAarlk4SB1dtljw8N7giuY+iAtkjhHvB8DCFXz8+HEVi6jPI/sfnlNc2LiPEdqnnjzVjgB/xEnissUVDygl5hBgCJgmThGgx98aJHI816M91g6STQCLADmofXQMJQYJrsWH42A7IOYRgwLnw+cK4GQcnDOnNWDEykpf0UWrVq1sSUwL5dKgBjTaMTvzuA1odQ6fi5Z7Ov9DQOyvLn0x+ycpXzjVdjoeLIO4bNil2im4IgCOvLR4yWnBsrjj008k89RJiYtvKmVr17Z82T937pSkxLVSoHgJqdO3v7E8Wtac7wey2ELeffbsWbXIQEZuVdicsDAUKVJEua+M5dGq5sxxdmnAuXwnFYTY0BArR5IGpS/tEl/Kd+JyJjHFkWqHzRek9rqcZ2JioootpO9YClesWKGspyTOkBSjhaQWLJDcpwaSgEE2dwBl3Ma4j4lFxO2LhRAQXbZsWRUrqOMZAZMkOhJ/SCEC5i+/c5wu8UmcI79xDsAVY8HRo0fVu4KMZuIisUzSX8IA2GjSfyymEPk7JiQR+4g7nXsCnLKOwA/sa2UmAGwolwY1oNGuGZqH7Qx6daZ0vPk6j2h1vO0udDxzF62Qd5/s5m0TLs9jwuKCwFVhtyUIqxMTHlJaXjrF9v8uW8a/KzXbtZfYeO9rLCcnrpNfF3wvVw4cJLE33GSrPkxjF2sAiwXWYxYqgtK9FRY33IRQgGB9MGI0ECgN6PKdPINkTlPTHFc1ACyY6hR///33CnQx5woVKqSozNis6XKa6It7wXIHSKSkKyCQ+EAsfo7iyi2sXd3ENO7atUtZCAFyeIXQBe9pABwuY/qBV4G/AW0wZeA14FpkMWMRBRhikQSMAVIBhoBR+kz8oC7zp6nZiKMHyCKa2NuRX5E+k62NmxxidYS4zdyShqw+Qzp7OlRLgxrQaHWkg/Q4YhnnJ6bJg71bB6yH709NkA7xUbbHNmIJ5AVK8LI/BEqel154QV5v10Y6JPeWwAAAIABJREFU9+0npSt5T0ek+3fswAHZPme2VOl4m1TtaKh+/DFutLl48WK1cGCNcV6UvLkmNBssLrir7VgIvOmDOSd/agCwpUtPApQAZoAff/F9eqNlAJKOCSSrGPcvVjvnPgKAsP7jJSLz2dGVDU8hYSN4AwCbOtFH94fwETxBgD7Hdp0rxBCHCAjUQqUVALc+B31ixSRMhe/0dfm/Ll3I8QiWTEIAHK/H+XyHqx33OoL7Gpc0grGBdw73ZgdnaqiXBjWg0ZsZFUTnPD3mC6l6RVNp3dSzOqC+3ELC2l2yb/taeXnYPb404/Lc+Ph4FXCM+9BuSV66RKa8Pkb+9fgTUqxMGduaP330qGz+eqpU73WHsTjaptV/GmJR5UULtQeuKLuE+ChIeaHeMBZHu7Rq2jEauGCFZE5hScQFH0xWVFfjo2Ml/U2WHg6lQQ1oDPEZPujladKx3Q0BcU1rVSkX9YKl8u7TFygi7BRcEaNGjVKxLnYKMYwrhz0mje+zx8Lo3Dcsjus/mygtxrxpYhxtHDisGGQ3Qo9hh4XRuWtYHImR4pkzMY42DpxpKl9rQJc5xEKINV9T9ASrUugv5ONTpkxRLm1/STiUBjWg0V9PR4DaHfSf+XJvt1a28jK66zq8jZ/PXCbvDr9gvrdbunXrphJXKJlll6x9bpTEVK7sUwyju74Q45iyf780feEld4ea3y1qAECH28mXGEZ3lyK+DPcWwNSI0YDRgH0acHY129ey/S1hDYVsnHhGO9zQrnqIix/vhr/at18rF7doQGMgtOzHazzy5g8ysHdLKVSwgB+vkr3p839lyvipy+Wdx270yzXJfoPagGw9O9yRilZn9kxp2OdCvIo/ZePkSVKlc7eA0PHsS9kpa/ctlcPHD8iZsyfl1NkT/rw11XbxIiWlaOESUq5UJbm62g1SNcZ61rmnnYNWh2B2Snj5W4inJVvU7iQsf/fbtG80YDRgNBBIDRjQGEht++Faj7yVIIP7BJ4v8Nr4K2TC2FdVJqs/BKsPOz/qifoqa54aLnH1G3pEq+PtNRUdz+aNcs0r//G2CUvn7fjfevnv1mlStmQliY2uIRUj/6G4sNSADwcdTNsnB9J2y5/HD0j7er2kzqWNfWgt51MpV0aQvCe0Ot52BOoOkhN0PVpv2zHnGQ0YDRgNhLMGDGgM8dHNK0vjE6Nek6TEbxQnlj+EAvBQ8JDFR3KMt0Is44bXXpZrHnjI2yY8Pm/NBxOk0cin/RbbiIXx2w0TpUyJCtL08nYe98+uE37es0COnjokXRv1s93iSCwjhLuBrCFOvBG8bCa20a4nxLRjNGA0EG4aMKAxxEc0r2Iau7RrIUf271AVXLAEQZJasWLFbB/9HaSs3gg8XNCszJ4925vT1Tm/zZohp/fslho3tfG6DU9P3L1ksRSrXkMu7+ofK+zX6yZIxvmzEl8tcPeUkw7W71ssEQUjpGeTf2rKeqovV8fD1wn3WpcuXexozlIb1NWlZvktt9xi6Xg7D4J6BILhggULqmY1MbOmBtH8eKEcC2WnvkxbRgNGA3mjAQMa80bvtl01r7KnJ378kaxd8LGqGADfHQXkDx48mPWBRFX/zc1qQOkKXPKb/t55UaQo/DPPPCMkx3gj619+USpUrxEQ17TuHy7qQ3t2S+Onn/Wmy27PeW/ps3JFpWukYlTgXNI5depg+j7ZfmCNPNz6Rbf99uQAKgMRXxgI17TuFy5q4igHDRrkSVd9PhZw3LhxY4F/Tpcuo9ESJUrIRx99pMqeEZxPnC+ZqMHE5+fzzZsGjAaMBkJKAwY0htRwXdzZvORpHDWopwDqTp06peLBqBrgSqhF6ggicwKXfO8MLqkUQ1F7KgM4/mbVernsoQFSv2dPKVYmOmAjffpoqmyePl1aTfjQL9d8feHj0qFBP7+07U2j/900UR5v+4Y3p+Z4Dm5pu3kZ3XVQ8zbipg6kYE3t3Lmz9O3bV37++WcFELG0Pvzww2pu6eoY1NH9+uuvDWgM5OCYaxkNGA1k04ABjSH+QOR1RZjU1FSJjY1VZaQoYn/bbd5XRYGewRW4ZNEEJPLxxHoJyNzy+KPS8rHHpUChQgEb6czz52XFW2/IzZO/9ss1/z33AenedLBf2vam0Rlrx8kzHT/w5tQcz8HaB3ijNFmghHKTgFVP659jHXSkFtGVKByJgh2tg7pOrv6OfzX5MaXF2IABHPn/Cy+8oDLIscCTRc78ohauEaMBowGjgbzQgAGNeaF1m6+Z17Wn4dLDAkK5JRZ7u5MXiPeipBUUPNHRFyyGVq2XbaKj5ONJk2zWuPvmEl55SdpM/UaBAf05f/58rn9znPMxrr5bc3ZG0IHGH97Ype7NVf+9+Z74vmXLlrlXtM1HkLUPj5pVIeaW0mMHDhzIOgUAiRt5x44dapNTv359VSeX7/gABiEqx7JIrCKl1ni2nd3Ot99+u6p9C3BESAxik/bUU09Z6t6WLVvk8OHDikoIcY6TBIj6uwKGpY6ag4wGjAZCRgMGNIbMUOXc0Xc+/VYOn4uWezpf6/e7+WL2T1K+cKo80jd7ggK1O3GnTZ8+XQG7jz/+WEqWLGlbf4YMGaKsLSy+nsiiPrfLdUMDb2l8oF8/mbJjl0pscPwUKlToou/43dX3OX137aDLgg40tirVx9Z7ZbxDydLIGELX89prr2UR92ItdC6hBoBu3769YgXQQI4N0ZIlS7KBxieeeELeeOONbKAOiyOAdtq0aZamAFZJQLAGq82bN1fX6Nevn2Im0NcI9hJvlm7WHGQ0YDQQEA0Y0BgQNfv/IoNemS43tGwm9WtV8tvFNu86IEuXr5Z3n+p50TUowQSb/oYNG1Qll++//14BRxYqOwQLCwsdlh3iKK1KOMY05gf3dF7FNL733nsyevRoq49XFvADNOpqDxoM6kxoR1BGTXU2WJQt1MfVrl1bdu7cmQUasT5u375dWe+bNWumYnrZMD3//PNy5swZBUzdCeU48QAwX6AvAiACNsePH6/iJidOnKjaBERiHdZ9ddUutFVHNqyXtG1b5URSkmSkp0nmuXNSoHBhiYiMkpJxcRJVt56Ua9TYbzRT7u7X8XdFer8X0vtkOXPuVEBI74sVKSnFFOn9pXJ1tRttp6Cycv9JR07Itr2psjs5XQ6lnpRjJ88KhRgo/FC6RBGpEF1CasRGSt1q0RJXzr4NvZW+mWPCRwMGNIbJWBLb+O3a49KrXUOpEOMdxU1uqjiUclymLdgoXZqWkpuuc82bSDA/rjCsRMQ3/utf/1KLFIupHUIyzPLly2XWrFmWmwvH7On8ABrzKnv67rvvVlbfTp06SYsWLVQ5S3dViXBHR0ZGSocOHWTq1Knq2QSQYekDvGnQiKUQq6KjS5hzAW5kTletWlXFL3KMo3AM0q5dO+nVq5eyFGrR8ZS04cg8gDWTer/MSQQXt46TxC3+22+/qeNxjb/66quCK9xZVCWl+XMkIzVVYmrUlKi4ylKifDmJKFVaxQgTu5tx/JicPHxE0pL2S8ruXyUiOlqqdOgUkIpIrl4CmvQ+puSlEhddM+Ck98lHd0vKCf+S3jvfd+LOw5KwIVnST2RI1dgYqVQuUmKiikvJ4hEKMAIcT5zKkJS0U3LgSLrsS06RyJIR0rpRrMTXLm/5XWoONBpQ77a/9RvJ6CPkNfD6B9/I/86Ukd63XmNrLWpqTU+dt0YuLXpUnnigR456SkxMVEH6LEhRUVHC3wBH6gZTps0OIdaNBdAqf1848jTmB9CYVzyNu3btUm5xKh1BMP/TTz8pCzfgUX8Ad86grk6dOipOceHChcoaiEsYmqgRI0YICTaAOuYEFj6sjY7y+uuvy9mzZ1WsoqvXMeAuKSlJkY47u5J10g20VLjCEdqAqgjeyRo1amS7Fv2irxMmTFDfs6ErWrRotspLWBZ3fPqJZJ46KXHxTT2iq1IVkRLXSoHiJaRO3/4BtTxq0vvokhWlSbW2drxuvGpj7W8LJPWkf0jvHTuEZXFGwh45cy5TGtSKleqVYyz3d8/+FNm0K1mKFi4g3VtXN5ZHy5ozBxrQGGbPwPNvfSXHC1SUrjfH22JxxMI4a1GilMo8KM8PvdOttgYPHqwsNVgFERbM/v37yx9//KHc1c6LmNsGnQ6YMWOGvPLKKwqQWpFwrAiTH0BjXlaE2b17t7ISEj/Yp08f5c5duXKlApB8YAoAQGpLZL169ZSFneQseB5x9a5Zs0a5mO+77z7lHp47d66y/LkChVgLiT3EnZwTByNAddiwYSpu2FE4Ny4uTlnfr7nmGvWT5np0djtjTSTm2BF44gLnOz5I8tIlsmX8u1KzXXuJjW9iZYq5PCY5cZ38uuB7uXLgIIm9Ibvl1OtG3Zz49br35cy5M9Lk8rzPLk/cu1iKFo6QnvH2kt5rFazeelC+WrhDWjep7lNIEiFHCev2yJ1t60izehX9NTSm3TDSgAGNYTSY+lawOP5+qqxtL5TLiv+Zq4XRUYVw3eHyIvMVq6CWMWPGqFgsgGPXrl190joLOi483OBWJNxqT+cH0Mi45mXtacAhrl2eW9y5jgIY1AASMAk5d0REhDoEy+Lvv/+uzsNaissa0Hn11VerDGmslq5E0/DkFFsI7RSbL2dh84RFE+u+YzUZMrY5RwNJXNqffvqpAoyA3VWrVmXFSZJhTRjJvrnfyR9zv5MrOnWW0pV8j40+duCAbJ8zW6p0vE2qdvSeisvKHOeY4CO9Xy0Pt/631e5bPm7p+iTh07ZFHdsMAwtX7pAbGsepjxGjgdw0YEBjmD4fxDjOWvablClbQa5tXMdj18VP63fI0T8PSddWl+cYw5iT6sj6ZDHFKugoJMfgrsYlRrC/t7Ju3TqVgYpFCJefO1GxWbNnSsM+d7k71OffN06eJFU6d/NrTFd+AY1Y7Yjxg5/Q30L4BNZCqtBo4foAR2IBIRrPSXAdU7MafkUdYwgww6qOtXLcuHFqE6WteXbeC8CQOQXtT7ly5RRYBTwCdKnZDgUWcxErI9WbtOi4yjvvvFOuvPJKuafZ1bJn2hSpf3tvKVamjG1dPH30qGz+eqpU73WH3y2Obyx8XG4Jc9J7LIzzV+2TTq2vtD0EaU7CFunQvKqxONr29IdnQwY0hue4Zt0VdDw7D2ZKRPFIqVO9klSuGJNjkPT+gymyY88ByTiVLrUrFriIVscTVRFTRWyYM9k3fHZYTKDjwepIAoE3ApAoUqSIoiWxImufGyUxlSv75HJzdx1ccin790vTF15yd6hPv+cX0IiScNni/iUu1l+yYsUK2bp1q3IRO8umTZsUcIQRIDfwqul12CgBPrFELl68WFFE4XIGjGp3Nq5tiOd9FVzduL+/+OILFbLBNXBTk0T0+eefK+DIMTnFSeoknLQ9u2X1iCek8X39bLEwOt8XFsf1n02UFmPe9GuMY7jPC2IYR09a5/dkxxF3NTExjr5OzjA+34DGMB5cx1vD8vjDqq2SfjZCpHApuaRQUZFLCoj8nSl/nz8jcu64RBbJkBub1/PYsuhKhd98841yR2MVdCVw2pFZCnD0BhAcOXJEufpY8B3d4DkNJ7GNH/a9Vyb/75CsnDLZ9lEP1MJIx8N9cXQcHOIBX3rpJQXoSDSxW4i1BZhCgUOiiSuBpJvND9ZGwKMrATTSV13yj2N0bCEk2ykpKdlc2tRa14k1gMmaNWt6fGu0f9lllymACFCl5CabMBJ4qJ6ExTE3DsZHH31UVWB6ok7NsNhQhfu8GDt9k8RVjPYphtHdQ0aMY9LBVBnS85/QInfnmN/zlwYMaMxf4x3Qu+3YsaOiCcnJQjNp0iRldcQaQ5KAp0LWKRx2AFR3Qmbq+++9Jw80bigjnnkmZF1w+Q00cr+4V+fNm2d7LWpda/rWW29VVsDchJhBgCPu3CeffPKiQ+FDJFnFsf46ljy+J2PZkQ6Hk+Ez1XGR/Is4Zmhb4SIlVpKYRZ3wwlyAF3Xz5s0qexqZM2eOog9yJfA+PtDmprAJ3Qhn0AitzuLEZOl2U313rzqff5+5ZLO0iTd0PD4rMkwbMKAxTAc2GG6LmDASAUgAKF26tMsu4f4DOJIoQDC+p0I8FjxzOS2MuAghNiYxgHiv02vXhHSwf34Ejdwz4wgAg0fRDosjFsYvv/xSAbo2bdpYeuyIXcRVzbMG4LJTfv31VwUidZY2FkDHDG3+75wkM3bsWOWKhiYIUEoSzpQpU2Tbtm2WqzGFU5JYOIPGN6ZukHo1PKPV8fb5hI5n6+5keby39SIK3l7LnBd6GjCgMfTGLKR6DEUIFCVYBXMS3GwARxJbcFdTIcOqkFxAli0A1VFoU1fB4Np33HFH1s+hTCuSX0Ej9w2gwhULh6I3IQ36ASCkgdjDe++9162F0fk5JNMY4AjYJI7QX0LNascMbbKkHS2RWEYJ/cBCD+DE/Q345VnHVe1s2XTVz3CjowpX0Egs44ezt8jdnf5J0vLXc6fb/XLOWhnQ+UoT2+hvRYdg+wY0huCghVKXWWSJPYTiQ7vMcuo/sWUQdwMcnQmQc7tn3Iu33HKLyhRFcGUCGAEWLKKukm1ClcA4P4NG7p24QcIRIMNu3bq122fK8bn55ZdfJCEhQSVQ8XzlFMPobn4RMwhwJPEkt82Qu3Y8+f3EiRPZuCIB0FdccYWsX78+q9Qg1Wh69uyZI9ej8/XCjfg+XEHjwp//kKSUDGnZ2DVdkyfPkdVjl6//TeJiIqTt1fbHEVvtgzkuODVgQGNwjktY9UpbAq1QjuCGxOpIVigA0ooQ20X8JAkHnAO1D4u5FT7IUCyVFq6Lo5Wx1sdgWcZdnZ6errKr4QYluYQNQuHChRWpPL/h5iU8guxofsNC6Eir48k1HY89ffq0inEEuEGpkxcCcMRqCojet2+flClTJluGNn3LTcKtxGa4zovxs36RyytX8Ig2zdfnERf1b/sPycCuF2JjjRgNaA0Y0GiehYBogIV99OjRCty5k0OHDinuORZ/rI7R0dHuTlG8jSQCwFcHYKQ0mieC5fHIhvWStm2rnEhKkoz0NMmk/FvhwhIRGSUl4+Ikqm49KdeosV9pQ6z0OVwXRyv37nwMlkc2CwBDACJAEcDIswNIBEgCKIl99daymFO/yEzG4khFlvfff9+b7tt6DpZUR5c2wNYxQ5u4YUdZ9tAAqd+zpxQr435+2dXR00dTZfP06dJqwod2NZnVTrjOi+c+WS0dr7eXl9Gd8ikdO/fHLfJC/2buDjW/5zMNGNCYzwY8r2532rRpilMRq6BVIeMZ6yTA8frrr3d5Gq5CXNGQJ5PcQJwXACGcJVwXx1AdMyqyAFCpuBJMsnfv3mwubTLAHeMiD417S7o8PUoKFCoUsG5nnj8v7z05Uk62bG37NQvEH5DuTQfb3q63Dc5YO04yE32vrLMlpYy8OPIhKVSwgLdd8fi8839lyoffrJK3Brfy+FxzQnhrwIDG8B7foLo7MqmJP3Sun5tbJ8kGxeqIlVLHLOrjJ0+erAAj9YGxLuIGBzRSTzecxYDG4Bvd3r17q+zmr776Kvg69/89gmIIS+TMmTMVFU+Rsxny+/JlAe/vuKGPyqkbrGWse9K5cAWNmw5Hyuhn/V8VyVnX4yYvl3eG2g/uPRlTc2zwacCAxuAbk7DtEe5j3Hm4EqkIY1VwPwIcIfGmLBuZpYBFqEWg0aEOtZa6deuq7wCn4SoGNAbnyN5zzz2CS9hK7G5e3AGxjx999JGK74QI/L7aNWX0+PEBtzSueOsNuXmy/Ru7cJ0XQ8ctkwE9mhtLY15MGnPNizRgQKN5KAKqAShCqFaBVdBTuf/++1XyAxYTrJWUKXQW3OBvvvmmrFmzxtPmQ+b4cF0cQ2YAcukozyiMAbNnzw6K2yHGE6DIh/hOaIbgQ4WCqsmvO0xMox9HCff0Mx0/8PkKJqbRZxWaBmzUgAGNNirTNOVeA1gJoeAh+5XkGKvy+++/K+si7mcSZYgf69Wrl8vTod+BgHngwIFWmw+p4wxoDO7hYkODNZ0ymdD75IVAmq/BIgBxwIABKrMaSz8lCwnnMNnT/h0Zu0CjyZ727ziZ1j3TgAGNnunLHG2DBqhJTRk1rIJWZMKECQowjhw5Up555hllbcRdzWJIXWJnwQ3epUsXtXCXKFHCyiVC6hgDGoN/uKiVDXDD4ohlPVDC9QCLzC+snnxiY2PV5bHyY3kkFhgxPI3+HRW7QKPhafTvOJnWPdOAAY2e6cscbZMG4JAjm5rkmJxk586dCiweP35cWUaaNGmSdSguaoAj9X3Jri5Xrly2Zh588EGV0UoCTbiJAY2hMaKU9SPxBCAXExPjt04TR6mtigBUrIrwnDrKv//9b1myZIkiN9diKsL4bUhUw3aBRlMRxr/jZFr3TAMGNHqmL3O0TRogK5rauVgFXcnbb7+tACOl2oYPH57jVbE8krEKcKR8mhY4+3CDU36N5JhwEgMaQ2c0eT4XLFiggCMxhXbK9u3bs8Ai4RiARarkOAtzgxjiH3/88aI+mNrTdo5I9rbsAo20ampP+2+cTMueacCARs/0ZY62UQMQchNjhdtMy+bNmxVYLFCggLIuWuFchGIHqyPWlCFDhmS19eqrryoXIeXVwkkMaAyt0SSEgsxlgONll13mc+f/+9//KrC4fPnyLBd0tWrVXLY7f/58FfuLhTE+Pv6iY1RFpNkzpWGfu3zul7sGNk6eJFU6d5NLr2vp7lCvfg/neZG487AsTkyWbjfV90o3npw0c8lmaRMfK/G1y3tymjk2n2jAgMZ8MtC4OLbtTZXdyelyKPWkHDt5ViBwhTC2dIkiUiG6hNSIjZS61aIDVqSeMmjdu3dXsYfFixcXYh2fffZZRZnjCP6sDBFWF4Ajbm8sK1rq1Kkj1LQmOSZcJJwXx3AZI+f7wNJH8hbJMSSieCpUn9EuaDZUOl7xkksuybGpjRs3KlL8SZMmqcSwnGTtc6MkpnJliY3/J/zD0/65Oz45cZ2k7N8vTV+4OAbZ3blWfw/3eTF2+iaJqxgt9Wv5Thiek0437zogSQdTZUjPBlbVbo7LZxowoDHMB5wdasKGZEk/kSFVY2OkUrlIiYkqLiWLRyjACHA8cSpDUtJOyYEj6bIvOUUiS0ZI60aB2Wk+8MADkpGRIVSviIqKUtZFbxZVPYzEMpIEAHC86qqrVND/O++8I6tWrQqbkQ73xTFsBsrpRgi54FnE4mjFgs7pbKg0WKRuNi7otm3bulURtD8ARhJyOCc3IbZx5bDHpPF9/aR0JfsBybEDB2T9ZxOlxZg3/VqCM9znBRv/0ZPWSa92DaVCjP3JVYdSjsu0BRtlxF1NAmY4cPsgmwOCTgMGNAbdkNjTIV4wMxL2yJlzmdKgVqxHxe4pVr9pV7IULVxAureu7tcXCK5oEmKef/55ee6552y5+ffee0+5uD/55BNVLaZdu3bStWtXAVCGg4T74hgOY5TTPcCRSNgEwLFx48Y53ipJK4BFXNHaqli7dm3LqoHwvmXLlmpeWZHkpUtkz7QpUv/23lKsTBkrp1g65vTRo7L566lSvdcdEnvDPyT8lk728KD8MC9Wbz0o81ftk06t7a1FTa3pOQlbpEPzqtKsXkUPNW8Oz08aMKAxDEebF8tXC3dI6ybVfXJl4KpIWLdH7mxbx/YXCfFYALuqVauqz/79+7OoQOwYEmpR467G/Y1rrkePHspqU6xYMZfNY205smG9pG3bKieSkiQjPU0yz52TAoULS0RklJSMi5OouvWkXKPGfrWWWLn3/LA4WtEDx/DcUDGIsSX5CUqZc+fOSeHChVX2PMkn1atXV5a9ypUrW23Wr8dhBX/66acVcGzWrFm2a7HRASySEa3BYkREhEf9ufvuu9Vz/uGHH3p03r6538kfc7+TKzp1tsXiiIVx+5zZUqXjbVK1420e9cWbg/PLvFi6Pkn4tG1RxxaLIxbGhSt3yA2N49THiNFAbhowoDHMno9QeKE89dRTakHDFa2pQbCijBs3TlkF7ZKjR48q4HjmzBmJjo6WuLg4ZeVxFJUIMH+OZKSmSkyNmhIVV1lKlC8nEaVKq/JqmefPS8bxY3Ly8BFJS9ovKbt/lYjoaKnSoZPfAvrd3X9+WRxz0wPk8PB1AhIhiQcYAhABigBGgCO/ASQBlJTO4zdcvE2bNnWnYr///uWXX8rgwYMVcCSJRbugr776agUWO3bs6FUfoPnhXufOnevV+Vgct4x/V2q2a+9TjCMxjL8u+F6uHDjI7xZGfaP5aV6EgmHAqwfQzydlZmbKvn37pGjRolLJD6EYfu5+UDRvQGNQDIM9nQh218XixYuVdbF+/foKMJYv/092HrQ5uO7gtbNbcNGxKBPn9csvvwjJMVgWd3z6iWSeOilx8U2lrAeuvz937pSkxLVSoHgJqdO3f8Atj/lpcXR+FrAskol89uxZRS9D3KpVYezJIqZKC5bnvLY8vvDCCyrjv2DBgkJsL2DRk/txvm8orD7//HNFreMLoXiozo38Ni9CJQTJ6vz053Hw+ZJoidEA3l+EOULSJXPPncyaNUutW2xOvREqmv3888/Ss2dPb04PqnMMaAyq4fC+M8EcJM3uDrAINQ5gsXfv3i5vlAB/FnN3gfveaGnGjBly1113qezqOW+MCVlrCvee3xZHPd5k2wOKCDm47rrrvHkM1DkrVqwQngfqMFNaL9CClZFNzJEjR5R7mr+xON56661ed2X69OnyyCOPKMDoSexjbhcMNSt8fp0XwZ7s6PVDbeOJ8KWyqSIxEm8WaxKbT9YE2DUeffTRXK/WoEEDGTVqlNegb86cOeoaeD1CXQxoDPUR/P/+BysdA24yACNB+QBGXIQ5CYs5gJKJ5Wkcl3ObJ06ckF27dmX7wAFJ/Ntr7W+Wvg8PCsm4rfwKGrFS444mXq9KlSo+z9o//vhDgTVmSbXqAAAgAElEQVTc1W3atPG5PXcNUC9du6Ahm8eq2K1bN3XavHnzFF8pwI+ELU8F6zyZ0osWLVL3Y7eESrxvfgWNeryDkVbN7mfRm/YIUyI8iflHuJKjQPEGqwGhLH379lWcppqe7Z577hE+bMTgWiW8CdosPoBI6LN+/fVXRQ/35JNPyqlTp9T8+/bbb5XrmzWIghOUwb399tvlt99+UxtewOrMmTPVfOW3UBMDGkNtxFz0NxiJX5lAw4YNk++//16BRauLIYspbuuXX37Z0sjs3r37InAIWKTMYK1atbJ9yhw/JgeXLpaeAweFbIZofgSNWBgBVriRypYta+m5sHIQz8gHH3ygLHz+sjiuWbNGLVYsNDqxxRXJNqD4tttuU8excFkVqKoAjLjd7rzzTqunheVx+R00huWg2nBTVB1r3ry5sFF0DknBUIFBg00dYBGKKqyPCPN05MiRyi1NuVs8EwMHDpRrrrlGeQmoapaWlqaOp/IYrmto4wCHxCnzW5kyZYQ1Ci8b4BQ2BFgTOBdwOW3aNBvuMLBNGNAYWH375WrBVmIK1x/WRYL5AYyeWA2JWaP8H8H8gD6ECaqthtSjdrQgsvtzBof8TUa2o4QLF11+A408D+zyeZnbYWF0noAsJLincD3ZGePIYgBYBNRpsOiu/jQZ/1gcSQjDoupO4DcFMGK9YIOW38WAxvz+BLi+fzacrEXHjh27KNaXDem1116rgB6hUa5AI3GIju5pwCEbWF3elopmsbGxKjzEFWhMTk5WoNK4p83zGRQaCKZi9rgBAIvs7ACLnlRhYQHUYBDrDy7qChUqqO8QV8CQ78iCsyLhUvUiv4FGAB3Z0b7EMLp7PrA2sElhwfBFeP4BijADUC4QsJhT/G5O12HuAByxtDu70pzPwb3NddCRkfwb62vGPncNUOwB6x7uYOdQFCo1wTjA+oM10hE08t4hidIVaGTO4RlASKahbcJLHEEjnoxy5cqJAY3mCQ0qDSz8+Q9JSsmQlo0vD1i/lq//TeJiIqTt1f/ElpH9jLUDMm0AY05CFplzrCF/Y/EhgF+Dw4kTJ6o4EVxujlnW3txkONXXzU+gEVqdH374Qe3g/S1UaiH+yBs6HhYlHa+IhRCwyALkraxfv14BR55/3GGu5OGHH1YhGKHo3vJWL+7OM5ZGdxrKn78TW0imNOsTINFRSL6Enot4adzRvGuggSPbmnKduJVdgUaYD7QbmzXq/PnzarMIaCTOsUaNGqoyGWDVgMb8+dwF7V2Pn/WLXF65gkcVX3y9GSrG/Lb/kAzsepUcPHhQWRe3bdumwCILLxYXV8CQ7whIdrQaaqDIJHMUkhSYhJCA+yprnhoucfUbekSr4+01FR3P5o1yzSvZX07etufqvPyyOPKCx/3qCw2NVb1Dx0PAu3Y5WTmPmCSeUc7VLmi4Iu0QErYAjixizpmdWCGJFaa/LGxGLmggv8wLM96eawCQh9WQdQULISDv/fffVyT70HDxniFZhe8xWBBihaVfg0YAJaweuKVxT+OOXrBggezYsUOdy9rHO4BET3iImbckyEDWD2gEQPbr10/9v1ChQrJu3TqVlKl5ij2/o7w7w8Q05p3ubbnyc5+slo7X21tSyl3HVMmppZsl4vBSxX1FYDCBvxookgTjyp0MQCxZsqS75rN+pxTaHXfc4dZNl1uDxDJueO1lueaBhyxf19cD13wwQRqNfNpv/I35YXEkllG/1H0dD6vnA8YoNZlbbOPJkyezXNDEKLJQkGHpD8FiwQJHVqcGsyTK0E8WOuJ5jfyjgfwwL8x4e6cBwCDzxrGsJh4sQKSu5b5w4cKs4hJQYaWmpqp4aiyNAEGSzQCRJMewjsHGgRCC8sUXX6iiAi+++GJWOVy8DrQPUEQaNWqkLJHE5VM6F17iUKTgMaDRu2cwaM4aOm6ZDOjRXAoVDJzF4fxfmdIyvpacTDuozO9MMEeQyC7MDiExABcAE4sJ6Y38NmuGnN6zW2rc5H9aFd2/3UsWS7HqNeTyrt296bLbc/LD4kiWIRbrLl26uNWHXQdgOSTb0VUsLjGP2gVNLCFWCCwM/hbCObA4kuxCtRhYCACM/N9Idg3kh3lhxtw3DVAUAONG6dKlXSbWEdtI1jPx9M4CiMSSyFr37rvvqjmIG9uZ0QH6HsSZXg7gSnlQX4j3fbt7e842oNEePeZZK4+8lSCD+7QM+PWff/NL+Wr0fX6/LiZ9QCiVM7yR9S+/KBWq1wiIa1r3Dxf1oT27pfHTz3rTZbfn5IfFkZcy8YWBcE1rheNmJo5y0KBBWWMwf/585YJetWpVlgua5JNACqUQsYZA3TF16lQFIo1crIH8MC/MuOe9BnBP837yJNEz73ttXw9CEjSy+4ZShXgCu6ofOKrU15JB9g2P+5byytLY718PyJfjnlIBv/4UxhoKHkz63lxr2UMDpH7PnlKsTLQ/u5mt7dNHU2Xz9OnSasKHfrlmflgciTWym5fR3WBo3kZddhKwCF0ULmh3mczu2vbl95SUFJU9TsA+FsfRo0f70lzYnpsf5kXYDl4I3RjsHoROebMehdBt5tjVkASNFBwnhs5foNHXkkGBfDDyKqbx9k6tpXzpggJ5sb+FIGZc1MSNeCqL+twu1w19XAoUKuTpqV4fn3n+vKx46w25efLXXreR24n5YXHE2kcMkrdhCd4oHlDWsGFDlZUMmS9A8eabb/amKVvPwcpI3DBxjVgZeT8Zmp2LVZwf5oWtD5ZpzGjACw2EPGjEVdSqVStllXjzzTflzJkziqqCFz7BphQn37hxo3IvYU6GOJd4BrKWrJQMIiieVH0C0N2R83qhf59Pyavs6aU/LJFxz/VTvFfU1fS3YG0kpowdnieyoGdXaf3UKE9OseXYhFdeknbTZ9nSlnMjwbg4ZiZWUlxnxAzpfx3/7+q73H7HLU1Ma6CF6xYrVkwRyvO+4NO+fftcy1/6s4+8pwoWLKiyMBF0BnBkPrz33nv+vHTIte3tvFi3ep38L+mgdOrRMeuej6Ufk9HP/keefGmklCxlPXnPUWkz1o6TZzp+EHJ6NB02GshNAyEPGgF1JUqUUMGpcK2R3cQLloBTiDrJwCT+ADc2wHLw4MEqFZ4Ueislgw4fPqxS7XFZQ9QZbJKXPI1p+1YrnZIM8/HHHyvrr7/ks88+U8AdmhFPJC8tja0+/VIt8t4CqZzOi2x9XLo3HeyJGvx6LIvjX+suVa7cIkWKqI/+v6vvHH/P6djHH388TyyNuMV5X1DJhWQcqG34kPSiASS1owMhZGxC1UE/nAXgyPuIeWfkgga8BY1bN22V29v1kva3tZdn//OMbP9luwx7aLiUjiwtM3+Y4VFFKwMazdMY7hoIG9AICTDFwrEsYkncvn27jB07Vr38eekjBJETj6CJPK2UDAr2ByCvK8JAN0CWK4sbC5hmyfeH3hhfaAxIjrEqeRXT+NiIJ+Wrzb+4BFKegCpXoOtU7V1BBxrttqjkZUyjc91zrKQaPALgihcvngUg/eW+BrhiWWeTBE2HK4EKBKuoN2EbVucPx0FbdWTDeknbtlVOJCVJRnqaZJ47JwUKF5aIyCgpGRcnUXXrSblGjf1GM2Wlv96CRtpO+j1JnhrytOzYskNOnjgp/Qf1l4FPDJSiRSOsXNrlMYG2NLIWbNubKruT0+VQ6kk5dvKswHQBs0bpEkWkQnQJqREbKXWrRUtcOe+sp14rw5wYNhoIG9CoWdgZmUsuuUS5pLEy8oLHTY3owuWkvpMub6VkUCiMdF7WnkbvWHFJGnjmmWdU5ikLvj8EqhHcdcQ34rKzIiZ7+mIt/bLhF/lswucu1ffy2JekaDFrpRl1A/5YHIMle9qVkiDmBUQCICHo1RZI/nVF1WHlOXU8ZubMmcqCD2B0Z9WkGsVff/2lNsR2i6qkNH+OZKSmSkyNmhIVV1lKlC8nEaVKqxhhYnczjh+Tk4ePSFrSfknZ/atEREdLlQ6d5NLrAs/o4Ato3Lx+s4x69Bk5eOCgAo0PPvag3D/4/pAAjYk7D0vChmRJP5EhVWNjpFK5SImJKi4li0cowAhwPHEqQ1LSTsmBI+myLzlFIktGSOtGsRJfu7zdj41pL8w1EDagkYLj2j3qCBoJbtcuHP4F0Bw6dMhyyaBQGH9eGosTk6XbTfX93t2ZSzZLm/jsLxsIUOGxI6uTWFKqvqBrT4i8rXYc0EgcK8kxVsTwNF6spb179skP/12ifsjMzJRDBw7JDwuWSrkK5WTSnC89Tj7xB2gMNp7GnJ416HAc3dgkqWgQSdiGp8LGFlf4vHnzLqqTm1NbkH/DDQfYtEOwLO749BPJPHVS4uKbekRXpSoiJa6VAsVLSJ2+/QNqefQWNK5dtU7u63qfdOnVRUa+OEJ2bt8pwx8aIcWKF5MZS2Z4DRz9MS8cxxfL4oyEPXLmXKY0qBXrUVUwqnpt2pUsRQsXkO6tqxvLox0TJ5+0EfagkZrI8K+RhUmZIALIcedYLRnEokB9V8CQP0CQXc/Z2OmbJK5itNSvVcmuJi9qZ/OuA5J0MFWG9Gxw0W9XXnmlikEj1op4NCwxAEdfavC6uhHCDRhDrI38605MRRh3Grrw+9HUo9Lu6vayYttyFZPoifhjcQzWijDu9EJpMW2FJCbV0QpJ+bDchPrrAEY2RJ5WmaGSTVJSksyePduyFd5VX5KXLpEt49+Vmu3aS2x8E3e3m+PvyYnr5NcF38uVAwdJ7A2eJa95e1FvQeP6Nesl7Wia3Nj+xqxLnzh+Qsa88LoMf36YlChZwqsu+WNe6I6s3npQvlq4Q1o3qe7TO593esK6PXJn2zrSrF5Fr+7TnJS/NBCSoNGRp1EnwjhbGjdt2iQTJkwQYh1hgEfY+ZPpW6lSJbFaMgirFnQXvJDtqnTij0eMXefoSeukV7uGUiGmlO2XOJRyXKYt2Cgj7mricldKotBzzz2XVVqJxBWANqWSSCSyU7gOzwDXsCKm9rR7LaX+mSotr2wl3ybMkpp1aro/weEIfy2OwV572p2ScF1rALlixYpsANKZIByPSOvWraVTp06qTJk3QpIfsdzfffedinX0VPbN/U7+mPudXNGps5Su5Pvm89iBA7J9zmyp0vE2qdrxNk+74/Hx3oJGfSE2Tn+d/0v9SaWP/zz3Hxk6aqhUivNOF/6aF0vXJwmfti3q2PKu592+cOUOuaFxnPoYMRrITQMhCRqtDulDDz2kgsifffZZRaFRpUqVbKdaKRlkNXbOap/8eRy7z/mr9kmn1vbWola1phO2SIfmVXPdjUJhVL9+/ayYxsTERAUcISYms90uwaWKlZFsapJj3ImKzZo9Uxr2ucvdoT7/vnHyJKnSuZtfY7p8XRw3JW6Sj9+5QOGiZdf2XXLq5ClZnLjI42xRfy2OVGdh0/fII4/4PC7uGuD5vPHGG1UVGn8IyWIaQPIvoBEqHyyRLVq0kB49eqjNLJRgvsgTTzyhqtpgccwpgcZV+1gY90ybIvVv7y3FypTxpQvZzj199Khs/nqqVO91h98tjt7OC557sqUTFiZk63t02WhZsOZ7KV6iuFf68Me8yOt3vFeKMCeFlQbyBWik0Hh+kbzcheqkGP6l1BKCBaV///6C6w13tV0s+hMnTlTF4MmEtyJrnxslMZUr++Ryc3cdXHIp+/dL0xdecneoT797uzjqi6qYxu9/yNaHmLLR0uL6FlK+oueB8f5YHHXnILGuV6+e2nj4S7ACEpNLYlyghCQXnZHNfIE+B8sqQNLX2rRQ9TAvAI7ly7sfT0I4Vg57TBrf188WC6OzDrE4rv9sorQY86ZfYxy9nRerl6+WN158U15771W5o0Mf+WruJFn14ypJXJMoYyeO9fqRsHte5LU3yWtFmBPDSgNhDRoJUC9atKgla1Q4jWpexrtQIxoX2eTJk7OpdMyYMfLaa68p4Ni1a1db1E38F0kAJMe4k3BZGLlPbxfH3HR0+tRpGf/6eBk0YlDQWBrpL7GNJFoB6Jw9Be7G3MrvbGYApqNGjRJCXQItzAm4Ze+9914VMgOQhMYH8MinTp06XnWJUoiE4gAc4+JydzmGy4bK23kx5bOpsnPrTnl+zHNyf6/75aHHHpLG1zSWGxvdJJPnfSUVK3kX62c3aMzruHWvHkRzUthpIKxBY9iNlgc3lJeZdViGXnnlFZUU4ygsiLiriXEkZMBXWbJkiaoLTFIMGfPuJBxccP4CjakpR6VlvZayetdqKVXaMw43uxdH53FcuXKlyia2uxa1rjV96623KhdxoIWEPOJzsTpqQExRAkc3dmRkZJYbG/e5J4KHhURAYhxzShoLp9ANb0Hjlo1bpF+P/vL5rM/k++8WSHpaugwYcr90ad1VpsyfLNVrXfCaeCp2zou8Zsjw9N7N8eGrAQMaw3ds1Z3lBYeXc1KMo4oPHDig3NVkomN1ZFH0RcgyxRXO4mtFQj3YPz+CRu558eLFyuUKubsdFkcsjIQ3EBNLKcxAC/cDWAUwNmvWLMfL//zzz1mUPjt37swCkFghrVSogqOWggYAR1dWy3BKEvMWNGb+lSlffzldft/7u9xxX2/pcXNPxdV47Q3XyodTvC8DaCdozEsu3kDPDXO94NaAAY3BPT629S7Q1QJIioGzjvgqVzJ8+HC1kAEcfYlX2717t1oM+bdq1aq56ovYNRIFZrz6csjSiuRX0Mh9Y3H8/PPPpXv37j49MzwHM2bMUC7hvLAwbtu2TVHrAOa6detmeY4nJydnAUhCb5o0aZKVkd2wYcMc2yHJB/CIq5o5qSXc6Ki8BY3OiiMOmwox1Wr4VhbVLtCY11W/LD+g5kBbNUDC57JlyxSrghay+rVXjX85xoqXzc6OGdBopzZNW1kagOboiiuuEIL8c3KNTZo0SVkd3377bSHT3VuhEg0WTGqO5ySAV6rWvP766yoGMlQJjH0BjUl/JMux9HSXKko/mi7/uv3+oHRPO3aYGMdvvvlG1fPmZXrVVVdZfmzga6WqEDyUZCvnRQxjWlqaAoyEVVA9yRcBOGpicRYTHQdJRnaBAgWyNQ1Ahf8R4KgzxMON+N4X0LgyYaVKfDl+7EQ2vT32zGN5Tu698Oc/JCklQ1o2ds9L68vz5Hju8vW/SVxMhLS9OjvjiF3tm3bca4C4ZCi44uPjVWgO4SyU6Z0yZYqa3xhA2AxSEcp5vrtv3fsjDGj0XnfmTDcaePHFF2XHjh0XJcU4ngafJsCRso5wOnojWAYApoBQFmRHwQ3I5IIKiGQc5zJvoVYqzRfQOHzgCJk3c16uKg7GmEZXHYZWBnc1lVCIoSVE4dJLL1XhDhD580zwG+T8xLySHc1vuKP9Ratj5dkF0DVq1EjF/NopmzdvzgKQa9asyQYgNTiG15S5AHC89tprJdxKbHoLGiH3vrvzPYrcu1yFstmGZfgLI/IcNI6f9YtcXrmCRxVffH22qBjz2/5DMrCr9U2Zr9c05/+jgUWLFimCf95fbAgrVqwoUNhhjIF/evr06ep7wCJlkQNJDWhAo3lS/aoBFnQC8tkh5SSY2EmQwSqJu5pa1p4K51F/F5CI0CYLJNV8sC7ecccduTaJ5fHIhvWStm2rnEhKkoz0NMk8d04KFC4sEZFRUjIuTqLq1pNyjRr7lTbEyn17uzjCRweYyk0iozyPMbXLDWfl3p2PwfIIiTbAkBcsQJF7BDgCEgGSAEoqFuWFZdGxv2yOsApYJaX3Rh+ck5KSks2NDc2VrkxDEQSsFoSGFPx6itTv2VOKlYn29lIen3f6aKpsnj5dWk340ONz3Z3g7byY9vnXsmzJMnnvi3fdXcKj3+2aF899slo6Xm8v9667G4Gbd+6PW+SF/jnH27prw5+/M4/YKDHH3VUGYy3AagdrBxs2d8K6gbBu5JXwrqAYycMPP6y6wDuOd9hdd92lAKTuG+821lcq3AVKDGgMlKbz6XWoh4tbDIuiO4H6hGMBgLgPPRViI1kQqX3NxOdvJpevyTae9sPfx3u7ODr2C/fuih9WCJyNbW+9Wfbv2y/Nr2/uVXyMXYujv/WWl+0TQoEFEFqdQAsWWZ2RnZqaqmKAScB5rEljeX7cOCngpryhnf3NPH9eVrz1htw8+Ws7m1VteTsvoNvB0kj29BVXXWFbv+yaF0PHLZMBPZpLoYLZQw5s66iLhs7/lSkffrNK3hrcyp+X8aptbWHDGkfY0apVq3K1tLGeEPcHELMivBuJdSahM682mgBEPGc6VvnYsWNSq1Yt5SmBzk7HMcJEAq2gr0UBrOhFH2NAoyfaMsd6pQF2QezwnnzySbfnYylkchN3CID0RKBlufPOOyUmJkaBRbv4ID3pQyCO9XZx1H3DEnd/rwGybfM29dXYiW/LkH6PSpdeXeSpl92PkfM92rU4BkJ3eXEN3EnvvfeeAmo8m3kpuLcIA6GaUuaZ0/Ln6lUB707CKy9Ju+mzbL+ut/PizOkzcnu7XrJn1x5VZzqiaERW375f/d88rz39yFsJMrhPS9v15a7BcZOXyztD/0nCcHd8oH6HKgvmAKzlPMfEOOcU07dx40YZMWKEsrx7EvdH/CCGh0OHDnm1kfZFF7m5nQGHrJGEmAAc4XjFVc0nUGJAY6A0nY+vA1VI3bp1c02KcVQPExV3NS5GdolYDt0J2bBMcpIccEXjjghX8XZx1PpYsXSFPHDHg7J8yzJ5YfgLcs8D90i58uXkluYdZOHaBRJbOdYj1RnQmLO6eLlDQA9g9CRpx6MBsHAw7jwWWCopMb9YeO+pWV3+M2FCvrc0Lp63WJ4a8rQ8//rzUiY6Kps2r25xtRQsVNCChi8+xK55YSyN2XWr3/Wanze37GHWhNKlS3vMCwxwwz1MsYqOHTt6Nf7enoQ7nSRSLIokwcCaAEE/fcJr0K9fPxWOAwjGNU2Ijrf5AN700YBGb7RmzvFYAyTFAB4hG7YquB7YQQEcnRNcdBtko/JigI4F6yLxW5j2mVR55Vqwen/eHucraJz+5XRZumCpjJ80Xob0G6JAY+OrG0urq66XsZ+8rapheCJ2LY6eXDMUjoVjkQxv3Fzt2rXLky4TC6XBIq6tPn36qMpMWOTjd23Pk5jGx0Y8KZ+uS7RdHy/OGSDdmw72uF1A4+RPp8jEb3JmX/C4URFhXjzbyffYzetv+5eMeeMtiSpVzJtueHVOMMY0ApgOHz6s5lNERIRKFCEBxJGSxvFmAV8kWI4ePVpuuummrJ/4ng9UVFRfAqCNHDlSlfF0BKDED8Kh6ivLQU4DAAgk/hgQDEUdVFyaAgzvHIYWjB8cV6ZMGdVHwrwworz77ruqr2xIqWMfSCOJAY1eTSlzkjcaYBIwgaERsCrQC2B15DznyctODMDIQugYtPz000+rl8tHH31k9TIhdZyvoHH7L9sVgfG4T8fKjK9mSM+7e8rB/x2Sl0a+JD9tXyFRZbJbW9wpx4DGizWUlJSkFjOeRV7sgRZcdlgVN2zYoCwT9IENFQlpJJrBJGCypy+MyuGDh6XjdZ3UPLjuhmuzPf+169aWAl7GEto1L0z29IVxgpAfA8Ly5culVasLsZaALdYVR/5CPdfIKsZbBdUWhgSE43766acs8PXyyy+rWEHWFspuElevhYIRJ06cUGuLK2smFcloz524Kh7AefPnz1fXo33KmHJfsELQH/4PwwJudd1vXO0k9pEIo7/D2ogxhnMCJQY0BkrT5jpqR4W5n4ffE8FaAnCEmBi+uYMHDyqwyM6Mxc9xF0m7GRkZKqOOzGlfiMM96WMgj/UVNNLXKZ9OkZeefDlbt8e8P0Y6dLnF41uxa3H0+MJBegJWDCzj8CYCGgMluLEAilgWIboHKFJBRwtJYidPnlQB9ojhabygmYSFCfLwPa45M9f8ulpKlvKsrKbWt13zwvA0/jODmFt4kIgT1owcfOdIOaOBHGCKpC+seTrESccL8i8hG4UKFVKgcvDgwdKyZctscfRUjAJIso64Ao0//PCDpantqvwnaxeWfxg/+Je2evfurdY2gCD3RCEDAGdOHrNHH31UMUbQv0CKAY2B1La5lqIGsJoU46wuCJFxURCPBRUBu8ScBCJvrC15ka3q72G2AzTSR2rs7tl5oW539drVpVjxYuol6mmFAbsWR3/rLVDtY/0oW7asSn4JhBAYD1CEqQCgiGWRajGOQlIZcZWOC52pCHNBQyeOn5CTJ05JhUvLZ9MZzAJVLquc5zGNpiLMP8NC/B6WRcKSAIqAP55t3vWAPw24eIcRHnLNNdcI9dzJMHaWuXPnqvKz69atc/nOwxI4duxYj5No3M15+sz6heUUUEpfhwwZoqyfzE/HhB3WO0ClK+F7fg+0BCVoRKm8+ALtqw+08vPj9dj9wd0IJ2O1atbLdP3+++/KusgEJ5CfRZLFOTchPoTJSfxWOIkvoHHW1FnKshJ3WWW578F7ZfP6zZK4Zr2cOHZc1vz0s3yz6BspVdozy4oBjf88XUOHDhWeVQCcPwWLobYqch0NFkuUKHHRZdlA4QajGo4zuX1+rj391/m/ZO+evbJq2WpZvXy1DH360SzdZZzJkL7d+8nMH2ZKXBXPEsN0I3bOC1N7+oJWiXHnWcbFrMvowUgApRTrCaEX0ErxG3OkZMmSCpw5Wuuw4gHMHnnkEeW+fvPNNxX4BLQ5luPkOhQFYP64yrwGcLpzT9MPVywg5cuXF+L8H3zwQdVGlSpVFGsIbndXlkl/vks8bTsoQaM2G0O7AjgwEl4aYBIBGrWbzN3d4YoAMBIIDN8duyvc1WRJv/TSSzmevmDBAuV2AKiGk3gLGn9c9KMMvPthiW8WLylHUuRY+jFJ/TNVrmx4pdSoXUMiy0TKo08NURnonoidi6Mn1w22YwmVIAQDix6B+v4QNk06sQVKKTbXrmKm9LWxprBpok+u6lOrikizZ0rDPnf5o7vZ2tw4ef9ilcAAACAASURBVJJU6dxNLr3OP/Qxns6L1JSj0rJezn1hnsDd6Knl3R+gMXHnYVmcmCzdbqrv93GauWSztImPlfja2S2vfr+whQsMGzZMjh8/rtzTjAtuXowQVDgi25l1Beo1bXHE0khIE78hkNvj7WJeENbE+sE8oi24gR2pawB0sbGxas1xJYBPK+IMODmvc+fOwgYTgAhJOaFXq1evVvcBJZq3z5yV/vh6TFCCRm5KF+L2RXmugmN9VZg53x4NkLFGtlpuSTGAPcAiLwmChR1dbrioAY6MMcHR8Ha5EoAlVCdkYoeLeLo46vt+899vqsDuZ0c/q+ZXs1rNpfud3WX488N8ekkZ0CiKFQAeUsCZJxZ0q88kGywsi3v37s1KbIGGIzeh7BixlXC5dejQIcdD1z43SmIqV5bY+Owubat9s3JccuI6Sdm/X5q+kPMmz0o7uR3j6bzA0sj7Y81Pa2T18jXy6JNDsppn3fE2AcYfoJE2x07fJHEVo6V+rUq+qirH8zfvOiBJB1NlSM8GfruGtw3zzgJkEaakvUdUVyJphDVAZxxryx7HkyQJKNReKUAjVVTwYpJ8wnwii5r4QDKQNcDjuSCzmjWGWEO7hQxwvAOEanFN+gW9Di5nXQXG7mva1V5Qgkb8+gz4ihUrVMwBA8sHtw8vQUg9CWy99957Zd++fYrokoQHdtI6IJbveJBIomCnwABpAKr5jthpkJ3LLoQHCCoKEiiolwyo4Vpk7bJbcSW6jyR2DBw4UJmyScIgzd9I7hpwlxTz9ttvK8BIBtnw4cNzbIyxZcFmrF2Z9RlLngsoeNg1hoN4ujjqe6b2dIP4+nJn/wvu+gF3PCC39egkHbv7xkOW30Ejlm8WGAAjlgK7ZPfu3VlWRRYX3mE9e/a01DwB8ry/IDZ2VwmD2MaVwx6Txvf1k9KV7Ackxw4ckPWfTZQWY970awlOT+fF/b3ul/adb5Gy5cvKwjkL5eWx9gJau+cFsY2jJ62TXu0aSoWYUpaeA08OOpRyXKYt2Cgj7moiceU8C1Hx5DreHAsLANY4wiuwtgP6ENYGQCDzj3/xUjpa9oh7B0foLGTO0RZC8ACWSdaFYsWKZTvv6NGjCmNgnPAXIT995fq41JmvxF5yD8EuQQkaAYrbt29XtCm8kAGRZN0CGuFO6tatm4oTgLuI3bb+m2wqTW8B+AMIAvjYKQAQASI8KOzYcV0CNnip8oDQTtOmTZVrjqxHdh3EQfDCBZjqh1QPqDYxc23Y4wGtAE12QP580IL9gfKkfyyA7K5wO2vBVA9YZOJjXdRUCbm1iyWFHSHPCAHFzkL7jDFuinAQTxdHR9DYsEkD6dOvj/pq4F0DpWOPTl5lTDvq0e7FMZTGCGs44AxrhVVA5+7+cJ3xjtJEvrzTrMwDx3ah++Gdl5NrzbkPyUuXyJ5pU6T+7b2lWJky7rpo+ffTR4/K5q+nSvVed0jsDf9w5VluwIMDPZ0X1Jx+ccSLuV4hGLKnHTu4eutBmb9qn3RqbW8tangZ5yRskQ7Nq0qzehcoXYJFMMbw/JOYQuIIHIUaGH777bdZlb+gwHE2HOhQN0CZpqqxcl/UagdfQOtmJLsGghI00kWAIzt3XpwAvWeffVZZGNllkOHJ34A1duP6b308DxRAAhBHvAMPDmAQoIeVETQPMSjAkweNmCDiCLBSknYPnxkvbQSTN204B7PSJ8zkBMnSVx5KFg4AJ5lc/tqdePsAs0vdtjdVdieny6HUk3Ls5Fmhvij1TEuXKCIVoktIjdhIqVstOmC7TKyAuI4pbYZLD0sv40psmCvwl9u9s8kAODLmWB0dhR0cmwism5o81bktrC1HNqyXtG1b5URSkmSkp0nmuXNSoHBhiYiMkpJxcRJVt56Ua9TYr9YSK+Pr6eKo28TSeHmNasoljYx4eKTc3PFmaXPLP4s5VhdPQ0LyEjSSTYk3AUsyczA9PV3NZQLcqTkOrxnznUXHbrJ3wiYAjHg8PH1enccZWhCd2BIVFZWV2OJIJWLl2eAYQjJY8DytErFv7nfyx9zv5IpOnW2xOGJh3D5ntlTpeJtU7Xib1e57fZyn84K1IOn3JFn+w3JVh/2REY9cdO1g4Gl07tTS9UnCp22LOrZYHLEwLly5Q25oHKc+wSas2xh/KODAnHOuEAZGgK2AOe7q3QVGYF2gprSVdxvAFAMUPI/ezL9g05/d/Qkp0OgICgEXrv4mQ5AHA3M2lBeffPIPyz/gkd94yQNSAIJYMeFj0kXNeWHXr18/KyuK49mhAARdCQ808UJYA9xl89o9eFbaI4A6YUOypJ/IkKqxMVKpXKTERBWXksUjFGAEOJ44lSEpaafkwJF02ZecIpElI6R1o8AEQjMGBACfOnVK0D3WxZo1a1q5NZfHELzM2DOejmXb3n//fWFXSpado6hEgPlzJCM1VWJq1JSouMpSonw5iShVWpVXyzx/XjKOH5OTh49IWtJ+Sdn9q0RER0uVDp38FtDv7uY9XRwdQeO8mfNybX71rtUhkT0NCS6LBSCRTR3AEIAIUAQwAhz5DSAJoMRawW/EDOFRsEMoL8a1CWHxVnCd6cQWnQHtC7fo448/ru6XZ90bweK4Zfy7UrNde59iHIlh/HXB93LlwEF+tzDq+/R2Xpw/d149L0dTj8rvv/0ul9e8XCpcWsEb9WU7x5+bKSyOXy3cIa2bVPcpxpEYxoR1e+TOtnWCzsLoPAC+5CjAh4gByEr9aeYQhgsrx/r8kIRgAyEDGnGzLFu2TC0UDGZOoJHfCQAnrpCdOxZFgKSjNRG3tCPpLTsRFh0AIK5sFh3nzF7nHQoPMB9e0LCxa5c0nGm5ZTMG6hnBsjgjYY+cOZcpDWrFSvXKMZYvvWd/imzalSxFCxeQ7q2r+9XyCGiEeuChhx5Sbgc7hM0CLm42DARCa6EkFBYhLDFYFnd8+olknjopcfFNpWzt2pYv/efOnZKUuFYKFC8hdfr2D7jl0dvF8eCBg3L82PFc77N6reoevyz9uTg6dxbLIhs4rAa4YD2p5wyPG+8CvA5kSvpieRwwYICKQWLD6amwedVWRfjmNFj01TvBhovsTzbTrnjprPYzVOeGt/MCvYx+7j/yxQdfZKmoVt1aMnjEI3JDO9cceVZ06e95ESrveCu6MseEjgZCBjQSY8gLX5NZ4hLWIBJ167+xHAJCACM6KJZdBkCBGEcAJ+c99thjypUMGNQffiOrCfACzxqWCVymZEU68zHxoifWkXaptIApG2E3w6JmxQzur8ckFHahZLwB7KhcQRwKlkAshHYJY4y7unv37qqoO0IwNOO+ePy7IWtN4T58WRzt0q9jO/5eHPW1cE9RJYEx9cUah3WPUAU8DjmFK+SmJ95FPL+EtngiznWgocvBWmmHEHtFfDaAkVAMOyTUrPDezgs4Goc9NFze/2qCXHHlFXLs2DGZ+tk0eWf0O7J65yopFeld0kmg5kWwe5PseBZNG8GjgaAEjQBAXupwnZUqVUpZBeFTYlfO/7EukFXL32TGYk1y/HvRokXSvHlzZf0D2CEkXCAsOsTQkcCipVKlSgpgADSxNsLtB5u8dnPhPnU2VWNpYBHDNU1mNyARkAr3ki8Lmq+PRijEu0B/QywolhG4OBEsP1DqOCbF+KoLkl8Y1zNnziirI2EGHVu2lC4VYqRz3/4hGbeVX0EjFnw2jMx/iHB9FQh/sRLirvbEM6CJsgFnEPRakZzqQFs518ox/sre/r/2rgSsqmptvynmAIpCjoCpaI45gPMtw5znnM2x7GZlDtes7GZlVlr+pZZWpl1Ty8wprfRWml5JyymcCMdETQE1A8EZIfqfd3U394AHzj7n7H3G73seHpSz9hretfbZ7/5GbWxv8fd1lDQunrcYrP4y9a2Xc+FmOp6Yxm0xd9EcNG7WWM823NLGVaRRG9gT/dYdAk4u8mgEPJI0agErmgaQCGrmYO1vhf2fBE85OSclqahoLXM8++HfGAlNgqdpD2nSocZQ00xyfAZpsC0jEK05w7INHwYkOxRGPFJr4E4/CE+PrOODn9pF+oySMFo+dLWgGKYgoPbRSKFmiObAGWPHICzxmFdHiPojaeTLGRP2UqNPh3ejhC+VjKjv1q2bLo0jHeSZvaGgRNmW8+J3h+arSP9pahV5rdFiRvS20XN0VX+OksYN6zbgxQkvYfOeTblaxcRjiejZphfW/7ge1SMd+z5yNWl0Fc4yjn8j4JGk0cwtYamgTp06qSLfjHyk7NixQz00qIF0JgjDzHnb6tuTc3iRYJMsMqKdZLGgZKkkd/QRdcRPzBY+S+fNw+Pjx+PZ4cMw6cnRtprb/bmrctH5G2mkDyOtDNTgG6FhzL+x1DiyXBhdVwrzcaSfNH0o+b1RWKJsvhjxBYVuLiSKdGPJXwfa7sNVwAU0o/I7jGPQOuLv4ihppH/ssJ7DcfL4SbSOaY2sm1mq1Gbnnp3x1vw3HXY1EtLo7yfSN9fvd6SR2kVqAOgfSfMzTZiM2iWRYYJQd/oiOnPEPLVaADWwJIxMZUTCSD/RwqROnTqYOXOm0v44K8zzyahZ/mxZvAi//J6KY2fPIvWHrSpNk9HiiqoX/kYaSegYoWymywd9HHlGSEytiZYom4mE6e6QX+ypA23kmeM9Qlcd+l2LOOfry+jpb774FocTDqNcSDm07RSDWnUcz+LA/RDSKKfSFxHwO9KobaJm3ub/Lc3g3rjJnliXlCl0WCeUKW5IFlnKSY/QVYD+qfYExTB3l0YOGWyg/ZvRrczdVT00BBUuX0KHgYNQP7IG7jAweXH+NZldX9efSCPT6jCwbezYW/Pn6TlL9rRhjlUGZFlLx1NQomx760DbMx9bbUleSXTooy3yFwKOaBqvXb2GY4eO5fot7ti6A3t370PValXRpVdnBBRz/OVSSKOcTF9EwG9Joy9t5szl+1C/pn1pdRxdP9PxHDyejImDmhTYBYOYqF2kjycJIwOa7BH6ifLhzWhQS2GEOgmhJTHkv6kJojaKPySJ2r81c+au559FeMPGdqXVsWe+lm1VOp74/Wgx/f8c7cLmdY48HG126kQDsx6OrE1O86s9aXUcXQbT8dBXMX/JSgbZUTs+b9683K7pPkFrBYPstHQ5rixRyXRjdKlhwJ/I/xCw975ISUrB0B7DcP7seRw8l6CSfD8++AlUi6yGC+cvoGvvrnj5zSkOQ2zWfeHwhORCQcAABIQ0GgCiO7ugL+OCLxMwrIcxCYv1rOWTdT9hVK8Gt+RvpKmfZJHR5iSLLMXkiLC6C4NlmPqIJmZLkmhJCjWSyDyZBQkjP/e9MQ0tHnvCkak4dM2u+fPQ5LnJpuVvtPfh6NAi7LjIjIcjfRmZhmny5Ml2zMS5pqxTy+Twmm8jzzIDs1jHPn8daPorakFwzo1q39Ukr8xDSvcaI4OC7JuFZ7a2975Y9P5irF2+Fku+WKxM0k8OH6MW9u6SuTh14lcM7DQQO45sR9GAog4t2Iz7wqGJyEWCgIEICGk0EEx3dLVx92kkpWbi3ihjcrPpWcO2vScQHlocHZv/L/UJE6bTHE3NDAmjXmEggjXtIQvIBwUFqYhTS6Jory/iibWf43ricdRs117vlJxud3zzJpSMrIkavf8q12e02PtwNHr8/P2Z8XBkTk2+hDzwwANmTz+3f1ZRYfk9vuzMmjULn332mUoBxbPtTB1ooxZA8krNJjWirtC+GjVvV/Vj733xUJ+HcX/n+zF81DAwxU7D8EaY9eFMdOrRSU25U4vOmPXhLNRvWM+hJZhxXzg0EblIEDAQASGNBoLpjq7eX/szakRUtKvii7PzpIn6xJnzGN37bpw7d05pFw8dOqTIYv6C8dpYlkEpliSR5NCa9pCE0YigmL3TXkHFyJouMU1ra6WJ+nzicURNfslZqK1eb+/D0ZRJWHRqxsORWma6KLiSHNFETT9KulPwTJcvX16lhdKioN1Zh5bzoqmeUdnM/iByKwL23hejHnxM+S32HtQbCfsTMLDzIMQe2ILyFcurzpvXbIEFn833mjyNciYEAVcgIKTRFSibOMaUhTvR/b4GKFu6pImj5O06/fJ1rP8+AXfedkg9XEePHq3SolAKCkphgm3N19DS95AP5oKEQTGs5rJ3716H17b1iVFo2L8/SpYLcbgPey+8fjEN8atWoc28BfZeqqu9vQ9HXZ060cgM0kiztNF5GW0tUcvbyLyQpUqVUpWgzIzatjUf7XPmfCRhZClVLRm+3mv9qZ2998Waz9ZixZIVePqliVj0/iJcunQZS7/6ROXv/XLll5g8/gXsOLodZYLLOASjGfeFQxORiwQBAxEQ0mggmO7oasKcrRjVrxUCihZx2fDZf+SgZ5f2KIV0ZT5kFKemPdSCUvJrDx3NsceScS1atLglQEHvYr8bPAD3TJiIIiak2LE2h61xe7A1Lg5ndu5ArQGDVLJ3Rucb+ftE8Fb0beY5efn4cBxa/zmH12kNG9YIp48h60S7SniOGXzFcZ2tA23UnJnjlISRJnNWUhIpGAF7SeOljEv4xyMTsOuHXarThav+hZb3tsTQnsOwb/c+FQTTf1h/hyEX0ugwdHKhByMgpNGDN0fP1MbOjsW4wffqaWpom3ua1UdgwE00b948T+RyYUEpjkyAZu8mTZqoxOus5GOvbOjfGzHPv2DvZQ63f23+AqWpOLltK6r36afKUvL/Rv6uPSjQ40jj4vGbrK7R0XUzUp5km9o+V5KlNm3aqLytdLNgNSi+sLhTWMu+YsWKYEogkcIRsJc0ar2RPJYsVVLl7aUwipopd+6sYf/3jeUMhTTKifVFBIQ0evmuukvT+NRzr+DItqVgYmSz042wFjnre3/88cd275arNY2cYE52Nn6YPRMdlq20e756LnD04ainb0famPFwHDNmjNL4aQ9yR+Zl7zWappGpojZv3qxyRFJzTvKokcgaNVwXcPaPf/wDjCJnCisR2wj4w31hGwVpIQiYi4CQRnPxNb13d/k0PjNxAorfOA2W4GJkqdlSu3ZtVe6tsBJu1uYgPo1m74w5lS/c6dNIsqoJo/tJIDUSyehqjUCSTJYuXdoUgGfMmKFS/TBS2pXE2dpimLbqwr69SD90EFeSkpCZkY6crCwUKVYMxYPLIig8HGXr1Uf5JlGmpZnSA7K/k0amXzt0Mg3HkzNwPu0qLl29CboS0XWpTODtqBgSiJphwahXPeSWdGl68JU2ggARENLo5efAXdHTO3ftQvzmRUrTGBUVpSq/mCmsW80HKWsA2yMSPW0PWo61NUPT6M7oaWo5CxKeP41A8vff/va3XBLJfxshTB7OoBcSRkdcMoyYA/s4+8M2nP56HTLT0hBasxbKhkcgsEJ5FC9dRvkIU6OeefkSrv52AelJZ5B6/BcUDwlB1a49UPke17vM+CtpZEWw2H3JyLiSiWphoahSPhihZUshqFRxRRhJHK9cy0Rq+jWkXMjAqeRUBAcVR0yTMETXrmDUcZF+/AQBIY1evtHuztPIB9yjjz6KRo0aqYcpU+WYJX369EHLli3tCoqRPI1m7cb/+jWDNLo7T6Me1GjOtiSQdKGw1EI64t+7adMmVXedhJFn3R1CzeKRRQuRc+0qwqOb2ZWuSlVE2vMTipQKRJ2HH3Gp5tHfSCM1i5/HJuJGVg4a3WVfRTCmTTtwLBklihVB35hI0Ty640bz0jGFNHrpxmnT9oSKMHxYMliFUbDvvPMOhg0bZgqqWlAMq3TojcaWijCmbEWeTs0gjZ5QEcZe5FJSUvKQSOYg1Ugkf4eEFJ72ieebkdLz588HX5DcIclbNiPh/XdRq1NnhEU3dXgKyXvi8MuGb9Fg9BiEtW3ncD/2XOhPpHHnwXP4dOMRxDSNRMO7qtgDU5628cdSEBuXiCEd66Bl/UoO9yMX+g8CQhp9YK89ofY0Swcypx21K0zKzfyK9EM0Wlh399dff8WSJUt0dy21p3VD5VBDM0gjJ+IJtacdAuS/Fx04cEAF02g+kXTjoB8kf0gOLYXVb/i3UaNGoTDzuDPzsXXtqfVf4fT6r1C3Ry+UqeI4EdHGuZSSgsPrvkTV7j1RrXtPW8M7/bm/kMYte5PAn46t66BiqPM+tedTL2Pj9iNoGxWufkQEgcIQENLoA+eDPi2b9iSjT7uGpq9mzeZ4tI+27guzfPlyVUpwyJAhyv+QxJFl2IwWElNqNPXWtla+WV+uQePBQ42eyi397V+2FFV79THVp8tfHo6sgkLSNXbsWNP3jSltqA1kFRozhGmXLE3ZrK9uqYWcOHEioqOjVcS4O4QaxsQVn6HhgEEoWa6cYVO4fvEi4lcuR+TAB03XOPrDfUEN49c7TqFHjLEFHViwYV1sArq2qiYaR8NOv292JKTRR/b1nVUHEF4pxClThS0oaMpIOpeG8f0bFdj0jTfewNdff40PP/xQ5dhLTk5W5LGg8oK2xrT2+YoVK5QWyp6gmJ+mvIDQiAinTG625kqTXOqZM2g29a/qOGaJPzwcNewYMc8KQmZWZmEwF5PTT5gwwawtu6VfltXUtJB82aIMGjQol0iyfKGrhC4c2595ClEPjTREw5h/3tQ47l38EVq/OctUH0dfvy/oijRjaRwGdmpsiIYx/z5R47hiw35MGtpUfBxddfN54ThCGr1w06xN2ZO+UB5//HFcu3ZN5VVkoAzJY+/evRV5NCpQhj5frVq1UppNPeIrD0au1dcfjpb7Sd9GlqgkodPrx6rnPGhtmFKHxPSFF15ARESEPZca0paphfjyM3PmzFwSSTJZt27dPPkhmejcLPGVFypfvy88RTFg1jmUfr0DASGN3rFPumbpSaaLzp07q2oxr7zyCq5evarM1GvXrlXE0YhAGWqGaM5jUIzeh/3aOW9j8rTp2P7ZMq81wfkbaeR6WQv63//+t+G1qLVa04xWbt26ta57zMhG7733ngp6YaQ08z9aCv+m+UKy9rplgnFmKjBKfMl1w5dJo6e4IBl17qQf70VASKP37p3VmXuKkzQfyDQpPvvssxg5cqSaKzUo1DqygowRgTLMZUdNkZ6gGJaiW7BgAZ4bNgTNr1/1Wmd/fySNXDNT0TCJPF84jNA48txQC962bVu0b9/e5d8Ca9asUSSY5LBevXqFjp+WlpZHC3n9+vU8JLKKE0ErvhQk5suk0ROCHV1+k8iAHomAkEaP3BbnJuUp6Rji4uIUcaSPo6VPI/0eSR6NCJQpLCiGqYBefvllMIq1YcOGePPNN1UdX29OK+KvpFHTOPIFoW/fvk75ONKHkaX5RowY4RYNIzMNMFKa2lNHCCvrsFsG1VSvXj1Pfki9FWR8LR2Vr5JGT0ir5twTSa72JQSENPrSblqsxVMSv65evRrjxo1TlWMs6/YePXrUkEAZBsWQDJKgWkpOTo4iitQo0QT44IMP5vncWxMY+zNp5Nrp48gzxfKVMTExuPvuu3XfwT///DNiY2Nx++23o1+/frrdGnQPoKMh00WRML766quGuGlwyB9//DGXRPLflqZsunAUJL6W+N5XSaO7CzjoONbSxI8QENLo45vtCSWm3nrrLdAcR+LIBOCWYkSgDINsWMLt6aefVl1Tg/Pkk0+CJvJTp07hjjvuKHCXva1Umr+TRm0jmY6H5uqMjAwVXR0ZGYnKlSsjODhY1WpmtRZ+dvbsWSQmJqroaH5Gc7RZaXVsfZVwTiSMvXr1wqRJk2w1d+jzy5cv59FCMv+jZZUaS9O+r5XY9FXS6K5SsSfOnMfo3vpfyhw6sHKR1yEgpNHrtsyxCbu7mD0TFtM3a9myZbcs4MqVK0rr6GigTEJCApo2bQpqkt5++21VB7tMmTLKZ4yR3HqEmscL+/Yi/dBBXElKQmZGOnKyslCkWDEUDy6LoPBwlK1XH+WbRJmaNkTPXH314ahn7fnbUPPI/ScxJEEkUSQ5I3EkSSSRJKFs0KCBWzSLlvOlWZ1BWzyjrpITJ07kIZHEQyOR15cvQ4eRD6NkucIr1Rg51+sX0xC/ahXazFtgZLeqL1+9L6Ys3Inu9xmbl9EW+MzbuP77BEx9xD2lLG3NTz53HwJCGt2Hvd+N3L17d2Uynj59utW1OxMoQ3Pjhg0blJ8aU/HMmTMHu3bt8kmMffXh6JOb9d9FMUH5+fPnsXLlSrcuk/fEZ599pnw6Q29mYsf6dSgSEOCyOeVkZ+OH2TPRYZnxOPjqfTFhzlaM6tcKAUXzWmnM3LTsP3KwYPUOzB7XxsxhpG8vREBIoxdumrdOOT09XQUw0MeR5dIKEnsCZdgnzdJMy0It08KFC1XuRhLTHj16eCtUhc7bVx+OPrlZgDqL33zzjYqUzu+e4co1b926FUzzw5ez0aNHI/KnnRg4zfoLnJnz+vvQoVh66IjhQ7yybhT6NhtneL+Odsjymi/1cF6j2rzTCCxdstDRaTh83Zxl2zB3QozD18uFvomAkEbf3FePXdX+/fsVcaSPY8eOHQucp55AGZq6SRgHDx4M+k2ysgZT/ND5n6ZuXxUhjd6zs4sXL1ZBLySM4eHuqevLe+39999HUlKSIov8CQgIwHeDB+CeCRNF02jScTKqJrtoGk3aIOnWIQSENDoEm1zkDAJffPGF0jQyMIYpcwoTa4Ey586dU2Tx0KFDKnKa0aIUahpZfo0PRVb58FUR0ugdO0t3CQZpkTC6I/iGeUlJFlmFifcEX64sZesTo9Cwf3/xaTTpOBlFGsWn0aQNkm4dQkBIo0OwyUXOIkBSR98qEkemQClMLANlunbtqvyxGOAybdq0PJeRSLLWNUkpK8W4S7PjLDa2rhfSaAsh93/OoCxGSi9atEhFS7tK+OJEokgzNDXuJIudOnWyOrxET5u7K0aRRomeNnefpHf7EBDSaB9e0tpABMaPHw9qDZlr0ZYwv93w4cPBkmpRUVGqukvt2rVzL6PWkRHUfnbjEgAAIABJREFUjBZ99913FXnkA9sXRUijZ+8qUz0xhyTTPj3xxBMumSyjx0kW+UONIsliYTkaOSnJ02ju1hhFGiVPo7n7JL3bh4CQRvvwktYGI0AtTJ06dTBjxowCe543b54yR7N+NUsHWguU4YOSiZ6ZuufPP/9ErVq1FHlkDWxfEyGNnr2jHTp0UBH8rLtutuzevVtpFem3qPkr3nnnnbqGlYowumByuJFRpFEqwji8BXKhCQgIaTQBVOlSPwJMRszAGJqb82tlGAxDssg2DHShJlETy0AZptuh5pEmaU0YFDNz5kwwCbSviZBGz91Rpnxijsh//etfpk6SpTmpVWSOSo0s0nfRXpHa0/Yipr+9UaSRI0rtaf24S0tzERDSaC6+0rsOBOj/ReJIotelSxd1BRMgkzAyXQkjogsSBso8+uijuPfee5UvY2BgYG7TBx54QP194sSJOmbhPU2ENHrmXlETzrPMikRmyccff6zIYnZ2tiKLI0eOdGooVRHpyzVoPHioU/3ouXj/sqWo2qsPKt9zr57mdrfx5fuClb027UlGn3YN7cbF3gvWbI5H++gwRNeuYO+l0t4PEBDS6Aeb7A1LXLduHR566CGVZ5EPReazo3aRlTwKkyVLluDDDz9EkyZNbqkowwd4ixYtlAYyLCzMG2DQNUdffjjqAsADGzGZPH1oGSnNakRGyo0bN0AXDZqha9asqchiz549DRvipykvIDQiAmHR/9PkG9b5fztK3hOH1DNn0Gzqa0Z3ndufr98X76w6gPBKIWh4VxXTMIw/loKkc2kY37+RaWNIx96NgJBG794/n5o9H4Tr16/H//3f/+XWkba1QD5EP/jgA7Rv314lLaZPIwni66+/rgJlJk+ejJSUFJ8KivH1h6OtPfe0z1etWgVWfCFhtAzOcnaeDObSgluYNYBkkTXWjRb6Nm5/5ilEPTQSZaoYT0gupaRg7+KP0PrNWaaW4PT1+4K+jTOWxmFgp8aoGFra6GOA86mXsWLDfkwa2hTh5e13dTB8QtKhRyIgpNEjt8W/JkW/Q5qiy5Yti9DQUJVvkWl1bAlN1/Tpyl/P2jJQZtKkSSoohlqaglKP2BrH0z739Yejp+Fd2Hx+/PFHlVrnu+++Q9u2bQ2Z+oEDBxRZ/Oijj3L9FY0ko9YmmbxlMxJXfIaGAwahZLlyhqyDnVy/eBHxK5cjcuCDCGv7Vz5Vs8Qf7oudB8/h6x2n0CPG2FrUrDW9LjYBXVtVQ8v6lczaIunXBxAQ0ugDm6hnCXxLPXQyDceTM3A+7SouXb0J1hdlPdMygbejYkggaoYFo171EJe+ZU6dOlWZofnz2GOPqaX07dsX1apVU4EsBQlT9dSoUQN79uxB3bp1b2lmGSjDaNaNGzeCkaYFCbUtF/btRfqhg7iSlITMjHTkZGWhSLFiKB5cFkHh4Shbrz7KN4kyVVuiZy/94eGoBwe2OXPmjHpxYMqZs2fPqheOrKwsFYwSHByMypUrIzIyUrk5RERE6O1WVzumdyJhZOR//sTZujrI14iacpJFElEGhTFlD1+iXCWn1n+F0+u/Qt0evQzROFLDeHjdl6javSeqdTfOnF4QHv5yX2zZmwT+dGxdxxCNIzWMG7cfQduocPUjIggUhoCQRh8/H3Sgjt2XjIwrmagWFooq5YMRWrYUgkoVV4SRxPHKtUykpl9DyoUMnEpORXBQccQ0MdcRetu2bUq7SHJIwmj5QL9+/boKjKGPI81+1mTMmDEoWbKkqghTmGgVZZhAnAEzNF9bigoE+HodMtPSEFqzFsqGRyCwQnkUL11GlVfLyc5G5uVLuPrbBaQnnUHq8V9QPCQEVbv2MM2h39aR9JeHY2E4UDu9ZcsWRRLr16+viCEJIokiCSOJIz8jkSShPHjwoPqM2kAjqrPQz5CEsX///rpdKQpaz8qVKxVZZH5HLRLa1hkw63NqHBPefxe1OnV2yseRPoy/bPgWDUaPMV3DqGHhT/cFNY6fbjyCmKaRTvk40ocxNi4RQzrWEQ2jWTeVj/UrpNHHNlRbDjWLn8cm4kZWDhrdFYbICP0ai8QzqThwLBklihVB35hIwzWPzz//vEqRQ7JIYmhNDh8+rIgja/f26NEjTxMm+Kb2kJoeEgFbwooyLFvI6GxGZY8bNw7ULB5ZtBA5164iPLoZ7rBIFG6rv9+PHkXSnp9QpFQg6jz8iMs1j/70cMy/F9Qsrl69Gjdv3lQJtJmbU68wMCo2NlZVIGKaJmc0j4zMJ1EtTBtua16av+Idd9yhyOKAAQNsXeKSz7313vC3+8KTv+NdclBlELcgIKTRLbCbO6invoVu2rRJaWUaNmyoCCPrRBcm33zzDQYNGqRKDVqSA9bzbdOmDSZMmGAXkEOGDFG+Z03r1EbfUiXQtl8/r9OmcMH+9nDUNnn79u1gtDzdF/hC4ajwPNFnljkVW7dubXc3JHgXL15UZTDtldTU1NzgFo7NvrTa6fb2ZXZ7b9PCz9w4EV0aOZeCyEhMvznwESZ2LNjFxqixPNWaZNT6pB/PQkBIo2fth9Oz8UR/l5ycHEUWaYYjWSQR1CtMNcLoaD7oS5cuDabmYUR0fHy83i5y23Ee1cPC0KBsGdSPisarTzufv9HVflv+Shr5wkFz9LBhw1C1alW79z7/BadPnwZdF2iuZuS9Xnn11VexefNmpbG0R+hjq2kWmVuRZLFRI+9Ia+It/r7vxb6EulVaoFJwNXu2xpS259JP4XDKLjzZ1vyqQNoCPNVv3RSApVO3ISCk0W3QGz+wJ0bWMYUOCSOTbJMw6jEn50eGEdBHjhzBl19+iebNm6v+HDHl0V/r+wUfoOujj3lthKg/kkZqGJkwm4FSNOUaJfQhnD9/Prp166ZL48gcogx6YWod+k/qEQa1kCyygovmr+hLOUP1YOCqNivj5iEz+yaiq+t/CTBrbntPbcLtRYtjQNPHzRpC+hUE3IKAkEa3wG78oJ6Ww+vatWt45pln8O233yqySJOyM0KSyIc8/dHYp73iK7no/I000ofxtddeU64IRmgY858bahxnz56NF154oVAfR5I+nkESxujoaJvH76uvvlJk8fjx47lksUSJEjavkwaOI3Aq9SjW7vsIIYEV0axGJ8c7cvLK3YkbkH7tPB5oMhLVQms72ZtcLgh4FgJCGj1rPxyejSdVC6C/GLWB3bt3V4SxePHiDq9Lu5DBLEw/whrV77zzjt39+UrVC38jjSR0jI52xofR1mGh6wOjqwvykd2/f7+KlP7000/VmS5MmFuRZDEgIECRxeHDh9saXj43EIEjZ/fi24MrEBpUBWHlaqJSWdeZqs9lnELKxeO4cDkFXeoPRJ3KUQauTLoSBDwDASGNnrEPTs3CU+qSMjiAZHHnzp2KLGp1pJ1a3H8vfvHFF8GI6q1bt6rIa0av6hVfqq/rT6SRaXWYu7CgtEt6919Pu7lz5+L++++/JR3Pb7/9pggjCSUj8K0JX2hIFOl/S4JLssgKLiLuQYAax59OxuK3y8m4kXUV125eMX0ipW4PQonbA1EhqAqaVW8rGkbTEZcB3IWAkEZ3IW/guDOX70P9mval1XF0eKbjOXg8GRMHNcnTBbUwNEczyTEJo5Fy8uRJlcibKXZYR7pPnz4qMKZx48a6htn1/LMIb9jYrrQ6ujq20kil44nfjxbT/8/RLmxe5y/R0ywnScJmT1odm+AV0IDpeGh6fvbZZ/O0IJHkHKZMmXLLlb/++mtucAvPJMkia52LCAKCgCDgqwgIafTynaUv44IvEzCsRzOXreSTdT9hVK8GKn8jK7NQu3jo0CFFFvmQNVoeeeQRVU/6lVf+ikSkpnHOnDmKOLL0YGFCX8Z9b0xDi8eeMHpaBfa3a/48NHlusmn5G/2BNNKXkVHzjJR3lUybNk25P2j5G4cOHYrAwEAVLGMprEJEzSLLV2rBLczZKCIICAKCgK8jIKTRy3d44+7TSErNxL1RNVy2km17TyA8tDiSEv7Ku8gHJ4MVzBBGnw4cOFBpGRkEowkThDPtDqOzC5MTaz/H9cTjqNnOdRGVxzdvQsnImqjRu68ZkPhFnkbm6KS7gz1uCM6C/cUXX6BcuXLKrYJac6bJYUCLJhs2bFAm6Li4OFXij+fekWwAzs5TrhcEBAFBwF0ICGl0F/IGjfv+2p9RI6KiXRVfnB2aJuqHe7fCjStpytGfdXLr1KnjbLdWr+/cubMiDtQA5ReawkNCQvDuu+8WOPbeaa+gYmRNl5imtUnQRH0+8TiiJr9kCib+oGnknrLcnytM09om0URNP0qWIKS7Bc3V1DRSo0jNIn0XSRQL8m00ZbOlU0FAEBAEPAgBIY0etBmOTGXKwp3ofl8DlC1d0pHLHbom/fJ1fPjxanRuXEalv+EPE2+T4PGHJf6MEC0Z+O7du612x2TdjKqlPxk1ntZk6xOj0LB/f5QsF2LElHT1cf1iGuJXrUKbeQt0tbe3kT+QRpqljc7LaAtnpnQaP348eN6YwHvjxo2KLIaHhyuyyHMmIggIAoKAPyMgpNHLd3/CnK0Y1a8VAooWcdlKsv/IwYLVOzB7XJvcMamhIXmkCY9mY41AdurUSfkjOiLUMk2fPv2W2tOWfdFsTeJIH0fWE84v3w0egHsmTESRgABHpuDQNTnZ2fhh9kx0WLbSoettXeQP5dLGjBkD+hgWK1bMFhyGfU4NIyvEsMwlk4nTP5dmaJasFBEEBAFBQBAAhDR6+SkYOzsW4wbf6/JVzFm2DXMnxFgdl8ExJI+aFrJ27dq5JLJly5a65sr8fEyvs3btWpvtmZaFKU4YGNO0adM87Tf0742Y51+w2YfRDWKnv4ZOq2zP3ZFx39vyIuqGtfSYcmm7j25C5r6yyMzMxM2bN3N/W/5b+0zv53xh4P67WkgQGQFNzSLT54gIAoKAICAI/A8BIY1efho8RdNYGIwkdZoWkiZATQvJ3zRr55eMjAyVYue7775DVJS+BLlMqswULSSOlqXm3KlpbLPoE0Wi9BKlwtpa9hHU8CaqVK2Ce+r2cPvp3XbwK5xPPo+cxLIqiTuDlfij/dva3yw/L6jtxIkT3aJpfOqpp8BygSKCgCAgCAgCtyIgpNHLT4W7fBrXf5+AqY/o0xpaQsw8ixqB5G+aAGnCJoHUNDuMXL1+/XqhAS7Wtu2ll15S/miWZQbd5dP41KR/4tP4n60SKXtIlTXSVaRMFjKrnEOF4HC0rNXFbSf4pxMbcPGqOeXS3OXTyPQ6NIuLCAKCgCAgCAhp9Lkz4K7o6RNnzmN077udwvPGjRt5zNgkSM2bN8eKFSvAxMmVKlWyu39Gc5cqVUrl+KP4YvQ016WVSwsJrIzwkFouL5eWnHYcv18xr1yaO6On6U8pIggIAoKAICCk0efOgDvzNHZsXtVQPPfu3YuHH34Yly5dAsu3WQbTVK2qfyz6pdHH8bnnnoMv5mnUQGe5tN0nt6hat64ul1Y+qDKaV7/ftHJp7s7TaOjBls4EAUFAEPARBMQ87eUb6e6KMEbCt2nTJpXzkSbsCxcu5NFCVq9ePZdE/u1vfyt0WGopGVH95ptvolvLFj5XEcZIzD21L0+oCOOp2Mi8BAFBQBBwFwJCGt2FvIHjekLtaSOWwxq/I0eOxIgRI27pjomWNV/IlJSUPME01koJsn379u2xbds23PbVGp+qPW0E1t7QhyfUnvYGnGSOgoAgIAi4CgEhja5C2sRx9hz9DZv2JKNPu4YmjvJX12s2x6N9dBiia1cwdKwlS5aAEdAke7aEuRktU/pQq6gF0zDHnibsk+UNP5/5Fq5vi0XjwUNtde305/uXLUXVXn1Q+R7Xp0FyevIe1gFzfzLyfuzYsabPbO7cuSooi1VoRAQBQUAQEASsIyCk0UdOxjurDiC8Ugga3lXFtBXFH0tB0rk0jO/fyPAxatWqper6Ujtoj2RnZ+fmg6Qm8rbbbsujhSRpZBqe6a1bIDQiAmHRefM42jOWrbbJe+KQeuYMmk01pw63rfF98XPm62RUPV8MzBKej4MHD2LChAlmDSH9CgKCgCDgEwgIafSJbQTo2zhjaRwGdmqMiqG35j50dpnnUy9jxYb9mDS0KcLLBznbXZ7rWfUlISFB1fh1Vg4cOJCrhdy+fbsikAyqqRIaikdLBCDqoZEoU8V4Yn0pJQV7F3+E1m/OQulq1Z1dhlz/XwTo20jiT0JnTzCUXgBPnz4NEtMXXngBERERei+TdoKAICAI+CUCQhp9aNt3HjyHr3ecQo8YY2tRs9b0utgEdG1VDS3r258GpzCIWT2Gibzj4uJQr149Q3fj4sWLuVrI5cuXo1zp0mhQLhifzp2LshUrGjbW9YsXEb9yOSIHPoiwtu0M61c6+gsBkn+W9TO6FjUTzTMvY7du3dC6dWuBWxAQBAQBQcAGAkIafeyIbNmbBP50bF3HEI0jNYwbtx9B26hw9WO0MCdeyZIlVaSzmcKIapo5/8jKwvwHeqDL8BGGaBypYTy87ktU7d4T1br3NHMJft03I+u3bNmCYcOGGaJxpIbxk08+UbWm7XWJ8OuNkMULAoKAXyMgpNEHt58ax083HkFM00infBzpwxgbl4ghHesYrmEk7MzL2KFDBzCwJTg42LSd+Oqrr/D000+jbt26ijg+2aEdEt5/F7U6dXbKx5E+jL9s+BYNRo8RDaNpu/e/jqlxZHBT3759nfJxpA/j559/rqL0RcPogo2TIQQBQcBnEBDS6DNbmXch9HH8PDYRN7Jy0OiuMERGhOpeaeKZVBw4lowSxYqgb0yk4T6M2kR69+4NJuI2KwDh6tWriixSS/XWW2+hV69euRhcPnUSRxYtRM61qwiPboY7atfWjc/vR48iac9PKFIqEHUefkR8GHUj53xD+jiuXr1a1fOOiYnB3Xfrr0r0888/IzY2VtXG7tevn/gwOr8d0oMgIAj4GQJCGn18w5mOJ3ZfMjKuZKJaWCiqlA9GaNlSCCpVHAFFiyD7jxxcuZaJ1PRrSLmQgVPJqQgOKo6YJsan1bGEet26dXj++efBB7kZsmrVKkUYH3jgAUUYixUrZnWYsz9sw+mv1yEzLQ2hNWuhbHgEAiuUR/HSZVAkIAA52dnIvHwJV3+7gPSkM0g9/guKh4SgatceklbHjI3T2SfT8dBcnZGRobTHkZGRqFy5stJYc6+zsrLUZ2fPnkViYqKKjuZnNEdLWh2dIEszQUAQEATyISCk0U+OBDWPh06m4XhyBs6nXcWlqzcVYSRxLBN4OyqGBKJmWDDqVQ8xTbNoCTVrTJPUDRgwwNAdSE1NVf0ysIZ+koye1iPUPF7Ytxfphw7iSlISMjPSkZOVhSLFiqF4cFkEhYejbL36KN8kSjSLegB1URtqHhl5T2JIgkiiSMJI4kiSSCJJQtmgQQPRLLpoT2QYQUAQ8F0EhDT67t567Mo++OADfPHFFyqy2UhZunSpIozDhw8Hq4mICAKCgCAgCAgCgoBxCAhpNA5L6UkHAvRFY4qdFStWwFYNaR3dqSYsK0iyeOzYMWWKpq+biCAgCAgCgoAgIAgYi4CQRmPxlN5sIPDSSy8hOTkZCxcuNASrf/3rX4owjhs3Dq+88oohfUongoAgIAgIAoKAIHArAkIa5VS4DIGTJ08qLSNT7FSv7lzVFPbxzDPPgMnBqV1s1aqVy9YhAwkCgoAgIAgIAv6IgJBGf9x1N635kUceQZUqVfDqq686NYP33ntPaRdZ+m3y5MlO9SUXCwKCgCAgCAgCgoA+BIQ06sNJWjmJwI8//oiBAwcqLSPz5Dkihw8fVmTxxo0bSrvYpEkTR7qRawQBQUAQEAQEAUHAAQSENDoAmlxiPwJMfcOciY8//rj9FwOYOXOmIoxMo8PfIoKAICAICAKCgCDgWgSENLoWb78cbeXKlUozuHv3brvXv3//fkUSqZ1kH/Xq1bO7D7lAEPBUBBYtWoSHHnoIt912m5rin3/+qX7z/1OnTlX5JVk20ZMlJydHvRCyXKe2Bq6jSJEi6v/9+/fH8uXLUbRoUbuX8fLLL2PKlCkKD/Zp2S/xGTJkCGrWrGl3v85ewDX/8ccfuUUD+H+K5Zr5vaftq7PjyfWCgKcgIKTRU3bCh+fRsGFDTJs2DT169LBrldOnT1cR0SSLY8aMsetaaSwIeDoCrGjz7rvvqjrYJEMREREqs8CgQYPw6aefKsJBEpKdne0Q4XLV+jnPzz77TM2bJJfVdyhjx47FnDlzsHPnTrBCE60EGqnSM7dJkyaBwXMkX8Rq27Ztqu9u3bqpXKyZmZmqdjirA9nTr56xbbXhmn/55RdFWJkfdu3atSrI7+GHH1YvtqxvfurUKQwePNjlc7M1d/lcEHAGASGNzqAn19pEYPbs2di6dav6UtUrfMhQu1ihQgX1oGFFDxFBwNcQIPE4cuQIateurbSKrIu9efNmtGvXDkxNxZKHTzzxBFj1Zv369R65fJKje++9N1dDWqlSJUXsDhw4AAa+sVIPCR21hXfeeSdGjhypex3ERyPMTKlFF5cuXbqgWrVqikSSpPF75e2338b333+vu19nG3733XeKtLICEbWNd911F44fPw5qjT/55BO1h5z7s88+izfeeMOjCb+zWMj1/oeAkEb/23OXrZgl3fjFzi/ZqKgoXePy4cKHALWLjz76qK5rLE181kxY3mjiy79wamv37dvn0API0sSXv19PMvHlnxvNmr5q4qM5k+SQBEPTkv3222+KfDDp/fnz59VL06FDh3DfffeBn5ll6uRceN+wf+2H/+ffLf/G/eHf+MM584ckkGfzH//4h9o+nifew5oZWeuDmkhWgWJSfz3CmvSdOnVSifu1fokDE/eTTA8dOlSR0qSkJBUQZwY++deqzfvvf/+7GvPJJ5/Ms2aSfmoaGexH3ObOnavcah577DE9S5Y2goBXICCk0Su2yTsnyTyK169fVyY4W0JNAbWLNPeQMIaFhdm6RH1uaeLjlzxNV2XKlMk1YWkPL28y8ZHktWnTRpnm+SCi8G/bt29XpRftMcVZmvjYFzUjr732Gv7zn/+oB5unmPj4YkGtFefEtVJ82cRHMzTTRS1evDj3nHPd1ExRu053DM2Pj/vNfbNn33XdPIAieP/+97+xZ88eBAUFqXuQfyMx43mpX7++Iq88L7zXSBJpdqXw3iKx79evn8qMYClMh8WMCbyGQhJIskUrgh7yu3HjRnz44YfKrG0pO3bsUCZpjYxyDvyuIHk0Gh8SVH4vvfjii4oMa/PmSyhN0o0bN84zN2JWunTpXN9OEmS+6HFPRQQBX0FASKOv7KSHrYPpcaKjo9VbN01WhQmJDR+eJIvDhg2zayWWJj4+bPmQ69q1qzKFaSYsbzPxLViwQD0UWT+b+GnCtdL8RS2LXrE08c2fP19pZ4oVK5b70GU/7jbxcQ5ff/21ejDT/KiRRhICXzXxkagxMIxrtpQLFy6oM0zzbuXKlXM1dmaRRo5NQkitJ/eAJmCeGY4XEBCgzOSWc/z4449RokQJDBgwQE3bGmkkoeJ9bDlnnmcGwmiBPrbOLwnX6tWr85BG7QWQ/VpqREnWuAY9pJF9UHudn+Ramw/bVq1aVX0vWba3vKe064gHCa7lmjmnjz76SBFMEUHAVxAQ0ugrO2ljHUkXruDQyTQcT87A+bSruHT1JrL/yEFA0SIoE3g7KoYEomZYMOpVD0F4+SCnUaEDON/In3/++QL72rBhg9JskFzyi/mOO+6wa9z8Jj7t4aZpSjQTlreZ+AgCH5oMhtAiUvk3aqbS09PB5OZ6JL+Jj9doD29NU8O/eYKJj/No0aKF8g8jMdbEV018NEMzOIyuFZSePXsqwjZ69Gg0bdoU48ePV8Qrv5lXz77b20YjjcuWLcODDz6oLuce0G9vwoQJmDVrlvrb6dOn1d/4MqZp3fKTRp7XXr16KfLEe5upstiWmmRqzhnMokf4skQc0tLSVHNLwrh3717ExcWp9F324sNzz5cSPSVHmbmBZmh+f9StWzd32vRBJVb83qLQ35LnlGumFpTaUE1jTvM6XwJFBAFfQUBIo6/sZAHr2HP0N8TuS0bGlUxUCwtFlfLBCC1bCkGliivCSOJ45VomUtOvIeVCBk4lpyI4qDhimoQhunYFh9DZtGmT+kLng9Ga0FTMB8qaNWsUWdS0FvYOZs3Exz5oVqP2gSUGK1asaLq2xgwTnzVNC/3fnnvuOaWhctTEp5FGS42Ip5j4SBrpx2b5QPcFEx8xZxUkps5hZC3XRw0eNXZMVE8NGWuok0TyvuD5pdacAR8JCQlKC8izrGfP7b2H2J7Rx82bN1duJPTT43lo1KgRfv/9d3UfUVOmBXaQ2N5///25w9BPkaSIWkoKNXMM3NFEezkh+aR/34wZM/JMkZ+TtJII0p2FFgpilP+c5l8750xSSfJIXH/99VddS+e558uXHpMxtYRsR1xImOmvSG0pv684R00jXq5cOfUyl3/NTAfEF+d//vOfuuYmjQQBb0BASKM37JIDc6Rm8fPYRNzIykGju8IQGRGqu5fEM6k4cCwZJYoVQd+YSLs1j3RYp+/TiBEjbhmTmgg+GPngIWGkH5WjYs3Ep2keSDaoBXGFXxjnb7SJzxppNMLEZ03TSMw8wcSnPYS13xqu3mziI0kpWbKkMjlTc0VhoBe1UyQ71CjyfqFcuXJFRRszsEQjSUxTxetpUi1I+DKhx+zbvn17q11Q08x0PySz9N/j2ByPWlCSWr4E0jfvnXfewZIlS/KQV82MrY2ffx7aOvibfVj6AfIskoTyBXPXrl3qZYiaPWo2LTWLJNUF9Ut86NP4wQcf6Poa4ZgkxvPmzbPZnt8f9GmktYTkj1rgo0ePKl9NpgPTiLK1ueWfv83BpIEg4CUICGn0ko2yZ5o7D57DpxuPIKZpJBreVcWeS/O0jT/9GOIRAAAPOElEQVSWgti4RAzpWAct6xful6hdyIcKH/L5U2DwgUiySHJFLQpNWM5KfhOf9kVNzUf16tVV5CXNafaasByZl5EmPo5vjTTSxEetJgNi9Eh+Ex+vKYg08sFsabIurH8zTHwczxpp5N+82cSnBTIxsKl79+745ptvcnEmjhMnTgTTUlkTveeWZ0+PWGoILdtT808/V5I3uj60bNlSBawwewHJHN0cGAH81FNPoU6dOnmG4hpInkhsqRG1Joys5h5aEl9ex/7ow0k3DP6fZJmkVfMf5DUkgwWZkmmpIPmmZrMgLayWTUGbF8fhd0J+P8P8/pCaPyP9rRmUdOnSJQQHBysfY/pL83uOJJxku6A1MyWP3mhxPfsnbQQBT0BASKMn7IKBc9iyNwn86di6DiqGlna65/Opl7Fx+xG0jQpXP7akVq1a6i3eUqtBB3ESRlaNoHaRDyh7Jb+Jj/2xL0sTHzU3fJBoQoJF0uFtJj7OmRU0qNWgxpamSz4UnTXxkVzQ75N5M/kwpCmYGkZPMPFR+0PNMYXBMJomyBdMfDy7JGw0+VLLaElwmNOQpk5rpIeEk2RTT4CHvfeTZXvOj+SHpI++jLxfqBmlWZUvYAx+4YsKzecFCc+spYbYsp2Whsfyb0xozqhrRkl36NBBaRnpnpA/ywFJF83B1vBhv4zSLqzSDF9gGWRH30j+pKam4ubNmwgJCQHNyvwpVarULS+51Iq2atVKRYozkI8kmv+Pj4/H3XffrZZC307eP9akMDyc2Su5VhBwNwJCGt29AwaOTw3j1ztOoUdMA5QtXdKwntMvX8e62AR0bVWtUI3j66+/rrQSdBKn8Aua5I6khASPJMUR0WviK8yEJSa+v0q6aZoXLfqUfxMTnyOnUt81JGQMLqEJlfcACSCJIkmZUaLlRSysP+53/khtrT3PBP0Dy5cvr7Ro1O6xPfullo/3LckbNW1GCX0FGTxCX0GSPo7JoBm+KNGv0Sh88n8ncD/uueeeW7T1+UkpX7CoeeVcOD++ZDHXJP8fGBhoFAzSjyDgdQgIafS6LbM+Yfowzlgah4GdGhuiYcw/CjWOKzbsx6ShTa36ONJRn4m8SRCpOaHGgoSRdXXzO7/bC7m/mPj4kGa+PGvijImPZj8GNVgTMfHZexr1tydBITkiYaR2ito8BmHwPmFAk1HCcfRIQRpLzaeVJfvoVsIAHIpGGqmtYxCIkUK/QGoJ6Y9JIaFllDLNv8x6QK26GUKs6Cag+SMWNMbFixfV9xiD7YgPE65T00rNotmaXzPWLX0KAkYhIKTRKCTd3M87qw4gvFKIUz6MtpZAH8ekc2kY37/RLU3p90NTMb/sGQV57NgxpVlhglwjREx8f1XasBS9Jj76kmlBQfn3Qkx8RpxO630Qc5o+GezBYApWLeG9wchpTyIeGmns06eP8hHUhC971KwxIMboyG3ez3Q94Ng0h1PbzbyM9FM2MyclxyUBpk9iYaK1oy92VlaWKvVIPDxp38w7udKzIFAwAkIafeB0MK3Opj3J6NOuoemrWbM5Hu2j86bjYboM+iXRj4eO7Hzw6MmDpneyYuKzjlRhJj76XuWvWKEX7/ztxMTnGHLU2mmR0Qz4IIHkj9EEzLHZ5b2K/nmcqyUp4t+YsooaNzOE9zUjshlBznH5ckM/RzOJGcckcacp3JawLVP50GRv6c5h6zr5XBDwZQSENPrA7s5cvg/1a9qXVsfRZTMdz8HjyZg4qEluF/R5YqQgy/dRu8joS6NETHwFIykmPqNOmfTjTwgY7VPqT9jJWgUBIY1efgboy7jgywQM69HMZSv5ZN1PGNWrgfJtpLM4IyyZvJj+WkaLmPgKRlRMfEafNulPEBAEBAFBoDAEhDR6+fnYuPs0klIzcW9UDZetZNveE8i5dBprP56FH374QflrMbrQDBETX+GoionPjFMnfQoCgoAgIAhYQ0BIo5efi/fX/owaERXtqvji7JJpon73rZdRIvs3VcXi22+/dbZLud7LEBATn5dtmExXEBAEBAEDEBDSaACI7uxiysKd6H6fsXkZba2HeRu//M9+LH5lkMrfxnQUIoKAICAICAKCgCDg2wgIafTy/Z0wZytG9WuFgKJ/JW92hWT/kYOHR/4d9cMCsHDhQlcMKWMIAoKAICAICAKCgJsRENLo5g1wdvixs2MxbvC9znZj9/VDR/wdy+e9pGo8iwgCgoAgIAgIAoKA7yMgpNHL99hdmsYFq3dg9rg2Xo6eTF8QEAQEAUFAEBAE9CIgpFEvUh7azl0+jeu/T8DUR4zLx+ih8Mq0BAFBQBAQBAQBQeC/CAhp9PKj4K7o6RNnzmN077u9HD2ZviAgCAgCgoAgIAjoRUBIo16kPLSdu/I0hocWR8fmVT0UFZmWICAICAKCgCAgCBiNgJBGoxF1cX/urgjj4uXKcIKAICAICAKCgCDgJgSENLoJeCOHdXftaSPXIn0JAoKAICAICAKCgGciIKTRM/fFrlntOfobNu1JRp92De26zpHGazbHo310GKJrV3DkcrlGEBAEBAFBQBAQBLwUASGNXrpx+af9zqoDCK8UgoZ3VTFtRfHHUpB0Lg3j+zcybQzpWBAQBAQBQUAQEAQ8EwEhjZ65L3bPir6NM5bGYWCnxqgYWtru621dcD71MlZs2I9JQ5sivHyQrebyuSAgCAgCgoAgIAj4GAJCGn1oQ3cePIevd5xCjxhja1Gz1vS62AR0bVUNLetX8iHEZCmCgCAgCAgCgoAgoBcBIY16kfKSdlv2JoE/HVvXMUTjSA3jxu1H0DYqXP2ICAKCgCAgCAgCgoB/IiCk0Qf3nRrHTzceQUzTSKd8HOnDGBuXiCEd64iG0QfPiSxJEBAEBAFBQBCwBwEhjfag5UVt6eP4eWwibmTloNFdYYiMCNU9+8QzqThwLBklihVB35hI8WHUjZw0FAQEAUFAEBAEfBcBIY2+u7dqZUzHE7svGRlXMlEtLBRVygcjtGwpBJUqjoCiRZD9Rw6uXMtEavo1pFzIwKnkVAQHFUdME0mr4+NHQ5YnCAgCgoAgIAjYhYCQRrvg8t7G1DweOpmG48kZOJ92FZeu3lSEkcSxTODtqBgSiJphwahXPUQ0i967zTJzQUAQEAQEAUHANASENJoGrXQsCAgCgoAgIAgIAoKA7yAgpNF39lJWIggIAoKAICAICAKCgGkICGk0DVrpWBAQBAQBQUAQEAQEAd9BQEij7+ylrEQQEAQEAUFAEBAEBAHTEBDSaBq00rEgIAgIAoKAICAICAK+g4CQRt/ZS1mJICAICAKCgCAgCAgCpiEgpNE0aKVjQUAQEAQEAUFAEBAEfAcBIY1evpcrV65EhQoVEBMTc8tKYmNjsXPnTjz33HNevkqZviAgCAgCgoAgIAi4GwEhje7eASfGX7RoEUaOHIk///wTJIj8OXDgAD7//HMUKVJE9XzbbbchKSkJYWFhTowklwoCgoAgIAgIAoKAvyMgpNGLT0Dp0qWxfv163HfffdiyZQuOHTuGxx9/HH/88Ucuafz++++VFjInJ0cRSBFBQBAQBAQBQUAQEAQcQUBIoyOoecA1JIFFixbNQxCpcaSG0ZI0an/Lzs5W7UUEAUFAEBAEBAFBQBBwBAEhjY6g5gHXnDx5Em3atMGZM2dyZ1MQQQwJCcGePXtQvXp1D5i5TEEQEAQEAUFAEBAEvBEBIY3euGsAVqxYgdWrV2PVqlW3kEZLTSM/7N+/P/r164eBAwd66Wpl2oKAICAICAKCgCDgbgSENLp7Bxwc/9dff0V0dDR+//13m6SxS5cumDhxItq3b+/gaHKZICAICAKCgCAgCPg7AkIaPfwE0Hdx6tSpKvr50UcfxaFDh1C/fn0V2GLp08hAmClTpmDbtm2oXbs2Bg0ahJdffllFVtPP8fTp04iIiDBttWfPnlXm8gkTJmDUqFE4fPiwSvfDOYsIAoKAICAICAKCgPcjIKTRg/cwMTERNWvWVKZlEkUSw6CgIBUxzUjocuXKYf78+RgwYIBaBQkif/iZFinNzxlRzb8XJps2bcrzsdaP5R8rVqyIu++++5ZufvrpJzRv3hzLly/HBx98gHvuuQd169bFkCFDcPz4cURGRnowyjI1QUAQEAQEAUFAENCDgJBGPSi5oQ01iR07dkSzZs3w+uuvK9JHwsZE3UOHDlUzYptu3brhm2++sTpDTcuYkJCgSGdh8p///EcXabTWDwnq4sWLMXz4cKXdTE5OxsyZM/HAAw8ov8vQ0FA3IChDCgKCgCAgCAgCgoCRCAhpNBJNA/tigm5qGOm7WLVqVezevRstWrRAVlYWAgICckf6+eeflV9j27Ztbxmdyb5J6JjH0RVCEtu1a1c8+OCDGDFihCuGlDEEAUFAEBAEBAFBwEUICGl0EdD2DvPGG2+AFV/oG0ifRJp9qb07cuQI4uPj0aRJE3u7LLA9/SRpWrYl9erVU76S1oSEkaZo+lOeOHFCpfehLyb9LEUEAUFAEBAEBAFBwPsRENLooXvIlDr0R9R8DUnASO5q1aqF9PR0vP/++4bOnKTPllj6SmpteV27du2UNrNKlSqK3MbFxSnTeVRUlCprKJVobCErnwsCgoAgIAgIAp6PgJBGD90jRjv/85//xO233w4GmtA/cNq0acrHkUSyTJkyHjFzkkOm8mGQzqxZs7Bw4UIVBMO/T58+XWkeRQQBQUAQEAQEAUHA+xEQ0ujBe6jVi7YsD0itHc3VniSalpJzu3z5sgrMYUJxT5unJ2EmcxEEBAFBQBAQBLwNASGN3rZjMl9BQBAQBAQBQUAQEATcgICQRjeALkMKAoKAICAICAKCgCDgbQgIafS2HZP5CgKCgCAgCAgCgoAg4AYEhDS6AXQZUhAQBAQBQUAQEAQEAW9DQEijt+2YzFcQEAQEAUFAEBAEBAE3ICCk0Q2gy5CCgCAgCAgCgoAgIAh4GwJCGr1tx2S+goAgIAgIAoKAICAIuAEBIY1uAF2GFAQEAUFAEBAEBAFBwNsQENLobTsm8xUEBAFBQBAQBAQBQcANCAhpdAPoMqQgIAgIAoKAICAICALehoCQRm/bMZmvICAICAKCgCAgCAgCbkBASKMbQJchBQFBQBAQBAQBQUAQ8DYEhDR6247JfAUBQUAQEAQEAUFAEHADAkIa3QC6DCkICAKCgCAgCAgCgoC3IfD/7HPOX0UDVv0AAAAASUVORK5CYII=)\n",
        "\n",
        "Our 2-layer neural network has an input layer and two model layers: a hidden and an output layer. \n",
        "\n",
        "The hidden layer consists of 50 units. The input layer and the hidden layer are connected via linear weight matrix $W^{(1)}$ and the bias term $b^{(1)}$. The parameters $W^{(1)}$ and $b^{(1)}$ are to be learnt during training. A linear operation is performed, $W^{(1)}x + b^{(1)}$, resulting in a vector $z{(2)}$.\n",
        "\n",
        "It is then followed by a ReLU non-linear activation, applied element-wise on each unit, resulting in the activations $a^{(2)} = \\text{ReLU}(z^{(2)})$.\n",
        "As you know, the ReLU function has the following form:\n",
        "\n",
        "\n",
        "\\begin{align}\n",
        "\\tag{1}\n",
        "\\text{ReLU}(u) = \\begin{cases} \n",
        "          u, & u \\ge 0 \\\\\n",
        "          0, & u < 0\n",
        "       \\end{cases}\n",
        "\\end{align}\n",
        "\n",
        "A similar linear operation is performed on $a^{(2)}$, resulting in $z^{(3)} = W^{(2)}a^{(2)} + b^{(2)}$; it is followed by the softmax activation to result in $a^{(3)} =\\text{softmax}(z^{(3)})$. The softmax function is defined\n",
        "by:\n",
        "\n",
        "\\begin{align}\n",
        "\\tag{2}\n",
        "\\text{softmax}(u_{(i)}) = \\frac{\\exp^{u_{i}}}{\\sum_{j}\\exp^{u_{j}}}\n",
        "\\end{align}\n",
        "\n",
        "In equation form, our network is as described below:\n",
        "\n",
        "\\begin{align}\\tag{3}\n",
        "a^{(1)} &= x \\\\\n",
        "\\tag{4}\n",
        "z^{(2)} &= W^{(1)}a^{(1)} +b^{(1)}\\\\\n",
        "\\tag{5}\n",
        "a^{(2)} &=\\text{ReLu}(z^{(2)})\\\\\n",
        "\\tag{6}\n",
        "z^{(3)} &= W^{(2)}a^{(2)} +b^{(2)}\\\\\n",
        "\\tag{7}\n",
        "f_{\\theta}(x) &:= a^{(3)} =\\text{softmax}(z^{(3)})\n",
        "\\end{align}\n",
        "\n",
        "The network takes as input a flattened vector and outputs a vector where each entry in the output $f_{k}(x)$ representing the probability of image $x$ corresponding to the class $k$. We indicate all the network parameters by $θ = (W^{(1)},b^{(1)},W^{(2)},b^{(2)})$.\n",
        "\n",
        "\n",
        "### 2.1 (2 pts)\n",
        "Draw a computational graph of the forward pass of the neural network as described above. Make sure to include the dimensions for all the nodes. You may submit any legible digital format into the notebook of the graph as long as 1) we can *easily* see the nodes, operations, and data dimensions right in the notebook and 2) *all* parts of the computational graph are *clearly* labeled and symbols have an explanation legend accompanying them.\n",
        "The [graph drawing tool draw.io](https://draw.io/) is one of the options for you.\n",
        "\n",
        "### 2.2 (2 pts)\n",
        "For the neural network to learn the parameters $\\theta = (W^{(1)}, b^{(1)}, W^{(2)}, b^{(2)})$ to fit to the given data and label, we minimize the loss function. A popular choice of the loss function for training a neural network for a multi-class classification task is the cross-entropy loss. \n",
        "\n",
        "For a single input sample $x_{i}$, with label $y_{i}$, the loss function is defined as:\n",
        "\n",
        "\n",
        "\\begin{align}\n",
        "\\tag{8}\n",
        "J(\\theta, x_{i}, y_{i}) &= −\\log P(Y = y_{i}, X = x_{i})\\\\\n",
        "\\tag{9}\n",
        "&= − \\log f_{\\theta}(x_{i})_{y_{i}}\\\\\n",
        "\\tag{10}\n",
        "&= − \\log\\text{softmax}(z^{(3)})_{y_{i}}\\\\\n",
        "\\tag{11}\n",
        "J(\\theta, x_{i}, y_{i}) &= −\\log \\bigg[ \\frac{\\exp^{z^{(3)}_{y_{i}}}}{\\sum^{K}_{j}\\exp^{z^{(3)}_{j}}} \\bigg]\n",
        "\\end{align}\n",
        "\n",
        "\n",
        "Averaging over the whole training set, we get:\n",
        "\n",
        "\\begin{align}\n",
        "\\tag{12}\n",
        "J(\\theta, \\{x_{i}, y_{i}\\}^{N}_{i = 1}) &= \\frac{1}{N} \\sum^N_{i = 1} −\\log \\bigg[ \\frac{\\exp^{z^{(3)}_{y_{i}}}}{\\sum^{K}_{j}\\exp^{z^{(3)}_{j}}} \\bigg]\n",
        "\\end{align}\n",
        "\n",
        "\n",
        "where $K$ is the number of classes. Note that if the model has perfectly fitted to the data (i.e. $f_{\\theta}^{k}(x_{i}) = 1$ whenever $x_{i}$ belongs to class $k$ and $0$ otherwise), then $J$ attains the minimum of $0$.\n",
        "\n",
        "Apart from trying to correctly predict the label, we have to prevent overfitting the model to the current training data for better generalization to unseen data. We add an $L_{2}$ regularisation term over the model parameters $\\theta$. Specifically, the loss function is defined by:\n",
        "\n",
        "\n",
        "\\begin{align}\n",
        "\\tag{13}\n",
        "\\tilde{J}(\\theta) &= \\frac{1}{N} \\sum^N_{i = 1} −\\log \\bigg[ \\frac{\\exp^{z^{(3)}_{y_{i}}}}{\\sum^{K}_{j}\\exp^{z^{(3)}_{j}}} \\bigg]\n",
        "+ \\lambda \\big( \\Vert W^{(1)}\\Vert^{2}_{2} + \\Vert W^{(2)} \\Vert^{2}_{2} \\big)\n",
        "\\end{align}\n",
        "\n",
        "\n",
        "where $\\Vert \\cdot \\Vert^{2}_{2}$ is the squared $L_{2}$ norm. For example,\n",
        "\n",
        "\n",
        "\\begin{align}\n",
        "\\tag{14}\n",
        "\\Vert W^{(1)} \\Vert^{2}_{2} &= \\sum^{R}_{p=1}\\sum^{S}_{q=1}{W^{(1)}_{pq}}^{2}, \\text{where }R = \\text{hidden size},S = \\text{input size}\n",
        "\\end{align}\n",
        "\n",
        "\n",
        "**Implement the code in `solution.py`** for the *forward pass* of model up to the *loss function* as described above. You are required to implement **Eq. 3 to 7** as well as **Eq. 11 - 13**.\n",
        "\n",
        "To be able to train the above model on large datsets, with larger layer widths, the code has to be very efficient. To do this you should **avoid** using any python `for` loops in the forward pass and instead use matrix/vector multiplication in the *numpy* library."
      ]
    },
    {
      "cell_type": "markdown",
      "metadata": {
        "id": "0RaP0AaVbNV3"
      },
      "source": [
        "## 2.1 <font color=\"green\"> Answer </font>\n",
        "\n",
        "I was unable to embed computational graph directly to the notebook, here is the link to github.\n",
        "\n",
        "[Computational graph](https://github.com/tsimafeip/LCT-master-course/blob/main/UdS/Neural_Networks/HW5_comp_graph.png)"
      ]
    },
    {
      "cell_type": "markdown",
      "metadata": {
        "id": "Tcdcf7SJbNV4"
      },
      "source": [
        "## 2.2\n",
        "\n",
        "Run the cells below to verify your answer. Do not change any of the codes below. If you encounter errors, revise your work in `solution.py`."
      ]
    },
    {
      "cell_type": "code",
      "execution_count": 9,
      "metadata": {
        "id": "P-RzbfOKZwFE"
      },
      "outputs": [],
      "source": [
        "%%capture\n",
        "! pip install wget"
      ]
    },
    {
      "cell_type": "code",
      "execution_count": 10,
      "metadata": {
        "id": "oQdtCKu3Ws9r"
      },
      "outputs": [],
      "source": [
        "import wget\n",
        "path_to_source_utils_file = 'https://raw.githubusercontent.com/tsimafeip/LCT-master-course/main/UdS/Neural_Networks/HW5_utils.py'\n",
        "utils_localname = 'utils.py'\n",
        "\n",
        "if not os.path.isfile(utils_localname):\n",
        "   wget.download(path_to_source_utils_file, utils_localname)\n",
        "\n",
        "path_to_source_solution_file = 'https://raw.githubusercontent.com/tsimafeip/LCT-master-course/main/UdS/Neural_Networks/HW5_solution.py'\n",
        "utils_localname = 'solution.py'\n",
        "\n",
        "if not os.path.isfile(utils_localname):\n",
        "   wget.download(path_to_source_solution_file, utils_localname)"
      ]
    },
    {
      "cell_type": "code",
      "execution_count": 11,
      "metadata": {
        "colab": {
          "base_uri": "https://localhost:8080/"
        },
        "id": "s7G1Q1wwbNV5",
        "outputId": "017a7cda-07d0-4697-cc83-688fa8a36acc"
      },
      "outputs": [
        {
          "name": "stdout",
          "output_type": "stream",
          "text": [
            "Difference between your scores and correct scores:\n",
            "5.277891246727173e-06\n",
            "Scores difference < 1e-5: True\n",
            "\n"
          ]
        }
      ],
      "source": [
        "%load_ext autoreload\n",
        "%autoreload 2\n",
        "\n",
        "from solution import NeuralNetworkModel\n",
        "from utils import correct_scores, correct_loss\n",
        "\n",
        "input_size = 32 * 32 * 3\n",
        "hidden_size = 50\n",
        "num_classes = 10\n",
        "num_samples = 5\n",
        "\n",
        "toy_net = NeuralNetworkModel(input_size, hidden_size, num_classes)\n",
        "scores = toy_net.loss(val_images[:num_samples,:])\n",
        "\n",
        "assert np.allclose(correct_scores(), scores)\n",
        "\n",
        "print(f'Difference between your scores and correct scores:\\n'\n",
        "      f'{np.sum(np.abs(scores - correct_scores()))}\\n'\n",
        "      f'Scores difference < 1e-5: {np.sum(np.abs(scores - correct_scores())) < 1e-5}\\n')"
      ]
    },
    {
      "cell_type": "code",
      "execution_count": 12,
      "metadata": {
        "colab": {
          "base_uri": "https://localhost:8080/"
        },
        "id": "eFl2IftbbNV6",
        "outputId": "080d58cc-dd58-41ff-a6a8-f9f427db02b0"
      },
      "outputs": [
        {
          "name": "stdout",
          "output_type": "stream",
          "text": [
            "Correct loss: 2.3026622144610953\n",
            "Difference between your loss and correct loss:\n",
            "3.9591572642549977e-07\n",
            "Loss difference < 1e-5: True\n",
            "\n"
          ]
        }
      ],
      "source": [
        "loss, _ = toy_net.loss(val_images[:num_samples,:], val_labels[:num_samples], reg=0.05)\n",
        "\n",
        "print(f'Correct loss: {correct_loss()}\\n'\n",
        "      f'Difference between your loss and correct loss:\\n'\n",
        "      f'{np.sum(np.abs(loss - correct_loss()))}\\n'\n",
        "      f'Loss difference < 1e-5: {np.sum(np.abs(loss - correct_loss())) < 1e-5}\\n')"
      ]
    },
    {
      "cell_type": "markdown",
      "metadata": {
        "id": "PUoX1AtQbNV7"
      },
      "source": [
        "## 3 Backpropagation (4 pts + 2 Bonus pts)\n",
        "\n",
        "When we train our model, we are trying to solve the following minimization function via stochatic gradient descent:\n",
        "\n",
        "$$ \\begin{align}\n",
        "\\tag{15}\n",
        "\\min_{\\theta} \\tilde J (\\theta) \n",
        "\\end{align}$$\n",
        "\n",
        "To find the gradients $\\nabla_{\\theta} \\tilde J(\\theta)$, we perform backpropagation from the output layer to the parameters $\\theta$ at different layers. Backpropagation is simply a sequential application of chain rule as covered in the lecture and your course materials. For each parameter $\\theta$ in the model we want to compute the effect that parameter has on the loss, we compute the derivatives of the loss w.r.t each model parameter.\n",
        "\n",
        "### 3.1 Gradient Calculation (2 pts + 2 Bonus pts)\n",
        "\n",
        "Complete 2 of the following derivative calculations. For 2 Bonus points, complete the rest of them.\n",
        "\n",
        "1. Verify that the loss function defined in **Eq.12** has the gradient w.r.t $ z^{(3)}$ as below (i.e. derive the following gradient):\n",
        "\n",
        "\\begin{align}\n",
        "\\tag{16}\n",
        "\\frac{\\delta J}{\\delta z^{(3)}}(\\{x_i,y_i\\}^{N}_{i=1}) &= \\dfrac{1}{N}\\text{softmax}(z^{(3)}) - \\Delta \\\\\n",
        "\\end{align}\n",
        "\n",
        "where $\\Delta$ is a matrix of $N × K$ dimensions with:\n",
        "\n",
        "\\begin{align}\n",
        "\\tag{17}\n",
        "\\Delta_{i,j} = \\begin{cases} \n",
        "          1, & \\text{if }  y_{i} = j \\\\\n",
        "          0, & \\text{otherwise}\n",
        "       \\end{cases}\n",
        "\\end{align}\n",
        "\n",
        "2. Verify that the partial derivative of the loss w.r.t $W^{(2)}$ is:\n",
        "\n",
        "\\begin{align}\n",
        "\\tag{18}\n",
        "\\frac{\\delta J}{\\delta W^{(2)}}(\\{x_i,y_i\\}^{N}_{i=1}) &= \\frac{\\delta J}{\\delta z^{(3)}} \\cdot \\frac{\\delta z^{(3)}}{\\delta W^{(2)}} \\\\\n",
        "\\tag{19}\n",
        "&= \\dfrac{1}{N} \\big(\\text{softmax}(z^{(3)}) - \\Delta \\big) \\cdot a^{(2)}\n",
        "\\end{align}\n",
        "\n",
        "3. Verify that the regularized loss in **Eq. 13** has the following derivative w.r.t $W^{(2)}$:\n",
        "\n",
        "\\begin{align}\n",
        "\\tag{20}\n",
        "\\frac{\\delta \\tilde J}{\\delta W^{(2)}} = \\dfrac{1}{N} \\big(\\text{softmax}(z^{(3)}) - \\Delta \\big) \\cdot a^{(2)} + 2\\lambda W^{(2)}\n",
        "\\end{align}\n",
        "\n",
        "4. Dervive the expressions for the derivatives of the regularized loss in *Eq.13* w.r.t *$W^{(1)}, b^{(1)}, b^{(2)}$*.  These are referred to as Eq. 21-23 in `solution.py`. You should at least try to complete this as you will need to come up with the formulas for these derivatives to complete the next section, 3.2.\n",
        "\n",
        "**Note:** Activation functions are applied *element-wise*, so the derivative of an activation function has the shape as the original input to the activation function. E.g. if we have $f(a)$, where $a \\in \\mathbb{R}^{n \\times m}$, then $f(a) \\in \\mathbb{R}^{n \\times m}$ and $(\\nabla_{a} f(a)) \\in \\mathbb{R}^{n \\times m}$. Hence, the derivative of the activation function is also applied **element-wise**.\n",
        "\n",
        "### 3.2 Backpropagation Implementation (2 pts)\n",
        "\n",
        "Using the expressions you obtained for the derivatives of the loss w.r.t model parameters, **implement** the back-propogation algorithm in the file `solution.py`. (i.e. **Eq. 16, 17, 19, 20, 21-23**)\n",
        "Note that even though normally you would use PyTorch's autograd for this, you should write the optimization formulas without it here."
      ]
    },
    {
      "cell_type": "markdown",
      "metadata": {
        "id": "FdqXjdhCbNV7"
      },
      "source": [
        "## 3.1 <font color=\"green\"> Answer </font>\n",
        "\n",
        "1) \n",
        "\\begin{align}\n",
        "\\tag{12}\n",
        "J(\\theta, \\{x_{i}, y_{i}\\}^{N}_{i = 1}) &= \\frac{1}{N} \\sum^N_{i = 1} −\\log \\bigg[ \\frac{\\exp^{z^{(3)}_{y_{i}}}}{\\sum^{K}_{j}\\exp^{z^{(3)}_{j}}} \\bigg]\n",
        "\\end{align}\n"
      ]
    },
    {
      "cell_type": "markdown",
      "metadata": {
        "id": "8ECoOuuQ2tzd"
      },
      "source": [
        "1. <br>\n",
        "\n",
        "I would like to rewrite J function for the single entry in the following way:\n",
        "\n",
        "\\begin{align}\n",
        "\\tag{3.1.1}\n",
        "J(\\theta, x, y) &= \\frac{1}{N} (−\\sum^K_{i = 1} y_i \\log (s_i))\n",
        "\\end{align}\n",
        "\n",
        "and introduce J':\n",
        "\n",
        "\\begin{align}\n",
        "\\tag{3.1.2}\n",
        "J'(\\theta, x, y) &= -\\sum^K_{i = 1} y_i \\log (s_i)\n",
        "\\end{align}\n",
        "\n",
        "$s_i$ is just a new way to write softmax \n",
        "\\begin{align}\n",
        "\\tag{3.1.3}\n",
        "s_i &= \\frac{\\exp^{z^{(3)}_{i}}}{\\sum^{K}_{j}\\exp^{z^{(3)}_{j}}}\n",
        "\\end{align}\n",
        "\n",
        "and $y_i$ under sum is 1 only on i-th place, otherwise 0."
      ]
    },
    {
      "cell_type": "markdown",
      "metadata": {
        "id": "y56z_37c3uXU"
      },
      "source": [
        "Now let's consider the following derivative ($z^{3}_j = z_j$ for simplicity):\n",
        "\n",
        "\\begin{align}\n",
        "\\tag{3.1.4}\n",
        "\\frac{\\delta J'}{\\delta z^{}_j} &= - \\frac{\\delta}{\\delta z_j} \\sum^K_{i = 1} y_i \\log (s_i) = - \\sum^K_{i = 1} y_i (\\frac{\\delta}{\\delta z_j} \\log (s_i))\n",
        "\\end{align}"
      ]
    },
    {
      "cell_type": "markdown",
      "metadata": {
        "id": "U_2fHRl97ax8"
      },
      "source": [
        "From 3.1.4:\n",
        "\n",
        "\\begin{align}\n",
        "\\tag{3.1.5}\n",
        "\\frac{\\delta}{\\delta z_j} \\log (s_i)\n",
        "&= [\\text {w.r.t. 3.1.3 and rule that} \\log (\\frac{a}{b}) = \\log (a) - \\log (b)] = \\\\\n",
        "&= \\frac{\\delta z^{}_i}{\\delta z^{}_j} - \\frac{\\log \\sum^{K}_{l}\\exp^{z_{l}}}{\\delta z^{}_j} = \\\\\n",
        "&= 1\\{i=j\\} - \\frac{1}{ \\sum^{K}_{l}\\exp^{z_{l}}}*(\\frac{ \\sum^{K}_{l}\\exp^{z_{l}}}{\\delta z^{}_j})\n",
        "\\end{align}"
      ]
    },
    {
      "cell_type": "markdown",
      "metadata": {
        "id": "Iv4oy4x_X40d"
      },
      "source": [
        "From 3.1.5:\n",
        "\n",
        "\\begin{align}\n",
        "\\tag{3.1.6}\n",
        "\\frac{ \\sum^{K}_{l}\\exp^{z_{l}}}{\\delta z^{}_j} = \\frac{\\delta}{\\delta z_j} (exp^{z_1} + exp^{z_2} + ... + exp^{z_j} + ... + exp^{z_k}) \n",
        "&= \\frac{exp^{z_j}}{\\delta z_j} = exp^{z_j}\n",
        "\\end{align}\n",
        "\n",
        "Combining 3.1.5 and 3.1.6:\n",
        "\\begin{align}\n",
        "\\tag{3.1.7}\n",
        "\\frac{\\delta}{\\delta z_j} \\log (s_i) \n",
        "&= 1\\{i=j\\} - \\frac{exp^{z_j}}{ \\sum^{K}_{l}\\exp^{z_{l}}}\n",
        "= 1\\{i=j\\} - s_j\n",
        "\\end{align}\n",
        "\n",
        "Combining 3.1.4 and 3.1.7:\n",
        "\\begin{align}\n",
        "\\tag{3.1.8}\n",
        "\\frac{\\delta J'}{\\delta z^{}_j} &= - \\sum^K_{i = 1} y_i (1\\{i=j\\} - s_j) \\\\\n",
        "&= - (\\sum^K_{i = 1} y_i * 1\\{i=j\\} - \\sum^K_{i = 1} y_i s_j) \\\\\n",
        "&= s_j \\sum^K_{i = 1} y_i - y_j = s_j - y_j\n",
        "\\end{align}"
      ]
    },
    {
      "cell_type": "markdown",
      "metadata": {
        "id": "ZzFjOEBMbWn5"
      },
      "source": [
        "By going back from J' to J (multiply 3.1.8 by $\\frac{1}{N}$) and rewriting individual level derivative to the vector form we are obtaining the requested result."
      ]
    },
    {
      "cell_type": "markdown",
      "metadata": {
        "id": "AVPCjQpGcD-6"
      },
      "source": [
        "2. Using result of 3.1.1 task and chain rule provided in 3.2.1 task definition, we need to prove only that $$\\frac{\\delta z^{(3)}}{\\delta W^{(2)}}=a^{(2)}$$\n",
        "\n",
        "\\begin{align}\n",
        "\\tag{3.2.1}\n",
        "\\frac{\\delta z^{(3)}}{\\delta W^{(2)}} &= \\frac{\\delta }{\\delta W^{(2)}}(W^{(2)}a^{(2)} +b^{(2)}) = a^{(2)}\n",
        "\\end{align}"
      ]
    },
    {
      "cell_type": "markdown",
      "metadata": {
        "id": "0wfk_erkd9Ik"
      },
      "source": [
        "3. I use (13) and (19):\n",
        "\n",
        "\\begin{align}\n",
        "\\tag {3.2.1}\n",
        "\\frac{\\delta \\tilde J}{\\delta W^{(2)}} \n",
        "&= \\frac{\\delta }{\\delta W^{(2)}} (J + \\lambda \\big( \\Vert W^{(1)}\\Vert^{2}_{2} + \\Vert W^{(2)} \\Vert^{2}_{2} \\big)) \\\\\n",
        "&= \\frac{\\delta J}{\\delta W^{(2)}} + 2\\lambda W^{(2)} \\big( \\frac{\\delta (\\Vert W^{(2)} \\Vert)}{\\delta W^{(2)}} \\big) \\\\\n",
        "&= \\dfrac{1}{N} \\big(\\text{softmax}(z^{(3)}) - \\Delta \\big) \\cdot a^{(2)} + 2\\lambda W^{(2)}\n",
        "\\end{align}"
      ]
    },
    {
      "cell_type": "markdown",
      "metadata": {
        "id": "igwLpdG1X-wp"
      },
      "source": [
        "4. Derivative w.r.t to $b^{(2)}$ is as follows.\n",
        "\n",
        "\\begin{align}\n",
        "\\frac{\\partial J}{\\partial b^{(2)}} (\\{x_i,y_i\\}^{N}_{i=1}) &=  \\frac{\\partial J}{\\partial z^{(3)}} \\cdot \\frac{\\partial z^{(3)}}{\\partial b^{(2)}}\\\\\n",
        "&= \\frac{\\partial J}{\\partial z^{(3)}} \\cdot 1 \\\\\n",
        "&= \\dfrac{1}{N} (Softmax(z^{(3)}) - \\Delta)\\\\\n",
        "\\end{align}\n",
        "\n",
        "Derivative w.r.t to $W^{(1)}$\n",
        "\n",
        "\n",
        "\\begin{align}\n",
        "\\frac{\\delta J}{\\delta W^{(1)}} (\\{x_i,y_i\\}^{N}_{i=1}) &=  \\frac{\\delta J}{\\delta z^{(3)}} \\cdot \\frac{\\delta z^{(3)}}{\\delta a^{(2)}} \\cdot \\frac{\\delta a^{(2)}}{\\delta z^{(2)}} \\cdot \\frac{\\delta z^{(2)}}{\\delta W^{(1)}}\\\\\n",
        "&= (\\dfrac{1}{N} \\psi(z^{(3)}) - \\Delta) \\cdot \\frac{\\delta z^{(3)}}{\\delta a^{(2)}}\\cdot \\frac{\\delta a^{(2)}}{\\delta z^{(2)}} \\cdot \\frac{\\delta z^{(2)}}{\\delta W^{(1)}}\\\\\n",
        "\\frac{\\delta z^{(3)}}{\\delta a^{(2)}} &= \\frac{\\delta}{\\delta a^{(2)}} \\big( W^{(2)}a^{(2)} + b^{(2)}\\big) \\\\\n",
        "&= W^{(2)} \\\\\n",
        "\\frac{\\delta a^{(2)}}{\\delta z^{(2)}} &= \\frac{\\delta}{\\delta z^{(2)}} \\big( ReLu(z^{(2)}) \\big) \\\\\n",
        "&= ReLu'(z^{(2)}) \\\\\n",
        "\\frac{\\delta z^{(2)}}{\\delta W^{(1)}} &= \\frac{\\delta}{\\delta W^{(1)}} \\big( W^{(1)}a^{(1)} + b^{(1)} \\big) \\\\\n",
        "&= a^{(1)} \\\\\n",
        "\\frac{\\delta J}{\\delta W^{(1)}} (\\{x_i,y_i\\}^{N}_{i=1}) &= \\dfrac{1}{N} (\\psi(z^{(3)}) - \\Delta) \\cdot W^{(2)} \\cdot ReLu'(z^{(2)}) \\cdot a^{(1)} \\\\\n",
        "\\end{align}\n",
        "\n",
        "where,\n",
        "\n",
        "\\begin{align}\n",
        "ReLu'(x) = \\begin{cases} \n",
        "          0 & x < 0 \\\\\n",
        "          1 & otherwise\n",
        "       \\end{cases}\n",
        "\\end{align}\n",
        "\n",
        "\n",
        "Derivative w.r.t to $b^{(1)}$ is as follows.\n",
        "\n",
        "\n",
        "\\begin{align}\n",
        "\\frac{\\delta J}{\\delta b^{(1)}} (\\{x_i,y_i\\}^{N}_{i=1}) &=  \\frac{\\delta J}{\\delta z^{(3)}} \\cdot \\frac{\\delta z^{(3)}}{\\delta a^{(2)}} \\cdot \\frac{\\delta a^{(2)}}{\\delta z^{(2)}} \\cdot \\frac{\\delta z^{(2)}}{\\delta b^{(a)}}\\\\\n",
        "&= \\dfrac{1}{N} (\\psi(z^{(3)}) - \\Delta) \\cdot W^{(2)} \\cdot ReLu'(z^{(2)}) \\cdot 1 \\\\\n",
        "\\end{align}\n",
        "\n",
        "\n",
        "Note that for both $b^{(1)}$ and $b^{(2)}$, since there're no $b$ terms in the regularization formula, that part of the derivative is $= 0$\n"
      ]
    },
    {
      "cell_type": "markdown",
      "metadata": {
        "id": "b4QCqSjgbNV8"
      },
      "source": [
        "## 3.2\n",
        "\n",
        "After completing the code in `solution.py`. Run the code cell below to verify your answer. Do *not* change any code below."
      ]
    },
    {
      "cell_type": "code",
      "execution_count": 13,
      "metadata": {
        "colab": {
          "base_uri": "https://localhost:8080/",
          "height": 434
        },
        "id": "RO-I9QMlbNV8",
        "outputId": "63e0e0c1-395b-4317-dc72-954274f1df08"
      },
      "outputs": [
        {
          "name": "stdout",
          "output_type": "stream",
          "text": [
            "The autoreload extension is already loaded. To reload it, use:\n",
            "  %reload_ext autoreload\n",
            "W2 max relative error: 1.0; error < 1e-8: False\n",
            "b2 max relative error: 1.0; error < 1e-8: False\n",
            "W1 max relative error: 1.0; error < 1e-8: False\n",
            "b1 max relative error: 1.0; error < 1e-8: False\n"
          ]
        }
      ],
      "source": [
        "%load_ext autoreload\n",
        "%autoreload 2\n",
        "\n",
        "from utils import eval_numerical_gradient, rel_error, init_toy_data\n",
        "from solution import NeuralNetworkModel\n",
        "\n",
        "# computing the numerical gradient for W1 and b1 on the actual data would take way too long with the eval_numerical_gradient function\n",
        "# hence the toy data\n",
        "X_sm, y_sm = init_toy_data()\n",
        "toy_net_small = NeuralNetworkModel(input_size=4, hidden_size=10, output_size=3, std=1e-1)\n",
        "sm_loss, sm_grads = toy_net_small.loss(X_sm, y_sm, reg=0.05)\n",
        "\n",
        "for param_name in sm_grads:\n",
        "    f = lambda W: toy_net_small.loss(X_sm, y_sm, reg=0.05)[0]\n",
        "    param_grad_num = eval_numerical_gradient(f, toy_net_small.params[param_name], verbose=False)\n",
        "    print(f'{param_name} max relative error: {rel_error(param_grad_num, sm_grads[param_name])}; '\n",
        "          f'error < 1e-8: {rel_error(param_grad_num, sm_grads[param_name]) < 1e-8}')"
      ]
    }
  ],
  "metadata": {
    "colab": {
      "collapsed_sections": [],
      "name": "assignment_5.ipynb",
      "provenance": []
    },
    "kernelspec": {
      "display_name": "Python 3",
      "language": "python",
      "name": "python3"
    },
    "language_info": {
      "codemirror_mode": {
        "name": "ipython",
        "version": 3
      },
      "file_extension": ".py",
      "mimetype": "text/x-python",
      "name": "python",
      "nbconvert_exporter": "python",
      "pygments_lexer": "ipython3",
      "version": "3.8.2"
    }
  },
  "nbformat": 4,
  "nbformat_minor": 0
}
