{
  "nbformat": 4,
  "nbformat_minor": 0,
  "metadata": {
    "colab": {
      "name": "assignment_2_rev1.ipynb",
      "provenance": [],
      "collapsed_sections": []
    },
    "kernelspec": {
      "display_name": "Python 3",
      "language": "python",
      "name": "python3"
    },
    "language_info": {
      "codemirror_mode": {
        "name": "ipython",
        "version": 3
      },
      "file_extension": ".py",
      "mimetype": "text/x-python",
      "name": "python",
      "nbconvert_exporter": "python",
      "pygments_lexer": "ipython3",
      "version": "3.8.8"
    }
  },
  "cells": [
    {
      "cell_type": "markdown",
      "metadata": {
        "id": "ZT_S_io_85jk"
      },
      "source": [
        "# NNIA Assignment 2\n",
        "\n",
        "**DEADLINE: 24. 11. 2021 08:00 CET**  \n",
        "Submission more than 10 minutes past the deadline will **not** be graded!\n",
        "\n",
        "- Trevor Atkins & ID 1 (Teams username: trat00001@uni-saarland.de) \n",
        "- Tsimafei Prakapenka & tspr00001 (Teams username e.g. tspr00001@uni-saarland.de):\n",
        "- Hours of work per person: Tsimafei ~3.5h Trevor ~2.75h\n",
        "\n",
        "# Submission Instructions\n",
        "\n",
        "**IMPORTANT** Please make sure you read the following instructions carefully. If you are unclear about any part of the assignment, ask questions **before** the assignment deadline. All course-related questions can be addressed on the course **[Piazza Platform](https://piazza.com/class/kvc3vzhsvh55rt)**.\n",
        "\n",
        "* Assignments are to be submitted in a **team of 2**.\n",
        "* Please include your **names**, **ID's**, **Teams usernames**, and **approximate total time spent per person** at the beginning of the Notebook in the space provided\n",
        "* Make sure you appropriately comment your code wherever required. \n",
        "* Your final submission should contain this completed Jupyter Notebook, including the bonus question (if you attempt it), and any necessary Python files.\n",
        "* Do **not** submit any data or cache files (e.g. `__pycache__`).\n",
        "* Upload the **zipped** folder (*.zip* is the only accepted extension) in **Teams**.\n",
        "* Only **one member** of the group should make the submisssion.\n",
        "* **Important** please name the submitted zip folder as: `Name1_id1_Name2_id2.zip`. The Jupyter Notebook should also be named: `Name1_id1_Name2_id2.ipynb`. This is **very important** for our internal organization epeatedly students fail to do this.\n",
        "\n",
        "<font color=\"red\">Failure to follow the above instructions will result in point penalties at the discretion of the instructors.</font>."
      ]
    },
    {
      "cell_type": "markdown",
      "metadata": {
        "id": "b-Ur365126b3"
      },
      "source": [
        "# Regressions and Model Evaluation\n",
        "\n",
        "The objectives of the exercises in this assignment are:\n",
        "\n",
        "*   to develop an intuitive understanding of a regression model's trainable parameters\n",
        "*   to have a better understanding of PCA in practice \n",
        "*   to familiarize ourselves with how to fit various regression models\n",
        "*   to learn about various evaluation metrics and their characteristics\n",
        "\n",
        "Before going ahead with the exercises, recall the following information about Simple and Multiple Linear Regressions from the lecture slides.\n",
        "\n",
        "\n",
        "*   A *Simple Linear Regression* model predicts a quantitative response $y$ given a single predictor variable $x$ using the best fitting line $y \\approx mx + b$ for the observed data.\n",
        "\n",
        "*   In *Multiple Linear Regression*, the model predicts a quantitative response $y$ given multiple predictor variables by fitting a model $y \\approx w_{0} +w_{1}x_{1} + w_{2}x_{2} +... + w_{n}x_{n}$ to the observed data.\n",
        "\n",
        "*   An ideal model minizes the average squared distance between estimated response of the *i*−th sample $\\hat{y}^{train}$ and actual response $y^{train}$ of the *i*−th\n",
        "sample:\n",
        "\n",
        "\n",
        "$$MSE_{train} = \\frac{1}{m} \\sum_{i=1}^{m} (\\hat{y}_{i}^{train} - y_{i}^{train})^{2} $$\n",
        "\n",
        "*   To minimize $MSE_{train}$, we can set the gradient w.r.t. $w$ to $0$, solving for the weights or parameters $w$:\n",
        "\n",
        "$$w = (X_{train}^{T}X_{train})^{-1}X_{train}^{T}y_{train}$$\n",
        "\n",
        "We will be working with the same [California Housing Dataset](https://scikit-learn.org/stable/datasets/real_world.html#california-housing-dataset) that you have worked with before in the previous assignment in all the exercises in this assignment unless otherwise indicated.\n",
        "\n",
        "## 1 Efficient Linear Regression (3.5 points)\n",
        "\n",
        "Recall that there are 8 features that influence the housing prices in California according to this dataset. \n",
        "\n",
        "Although we want to consider as many predictive features as we can in our model, doing so may not necessarily be practical or desirable. Let's consider an assumption that Linear Regression is an algorithm that takes one extra hour to compute for every input feature (it does not but some models may work like this). Therefore, for the sake of efficiency, we want to limit the number of features in the dataset to 3.\n",
        "\n",
        "## 1.1 Dimensions $8 \\rightarrow 3$ (2 points)\n",
        "\n",
        "To reduce the 8 features to 3, we need to find out which features we should keep and which ones we can ignore. Implement the following two methods to find out:\n",
        "\n",
        "1. Try all subsets of size 3 of all the features and report which subset results in a Linear Regression model with the lowest MSE. (1 points)\n",
        "2. Perform PCA to 3 dimensions (components) and fit a Linear Regression using these 3 features. Report the 3 features selected by PCA and the MSE. (0.5 points)\n",
        "3. Compare the approaches and name one advantage of each over the other method. Comment on any insight you gain about the relationship between housing prices and the selected features in the dataset. (0.5 points)"
      ]
    },
    {
      "cell_type": "markdown",
      "metadata": {
        "id": "GWUfkmjdIXNS"
      },
      "source": [
        "### 1.1.1 <font color=\"green\">Solution</font>\n",
        "\n",
        "Try all subsets of size 3 of all the features and report which subset results in a Linear Regression model with the lowest MSE"
      ]
    },
    {
      "cell_type": "code",
      "metadata": {
        "id": "LcR6U42MxNUJ",
        "colab": {
          "base_uri": "https://localhost:8080/"
        },
        "outputId": "7e28dc9c-ba34-4a8c-adc9-135172b5ba05"
      },
      "source": [
        "%load_ext autoreload\n",
        "%autoreload 2\n",
        "\n",
        "import os\n",
        "import itertools\n",
        "import math\n",
        "\n",
        "import numpy as np\n",
        "import pandas as pd\n",
        "from matplotlib import pyplot as plt\n",
        "from typing import Tuple, List\n",
        "\n",
        "import sklearn\n",
        "from sklearn import linear_model\n",
        "from sklearn.metrics import mean_squared_error, r2_score\n",
        "from sklearn.datasets import fetch_california_housing\n",
        "from sklearn.decomposition import PCA\n",
        "from sklearn.preprocessing import StandardScaler"
      ],
      "execution_count": null,
      "outputs": [
        {
          "output_type": "stream",
          "name": "stdout",
          "text": [
            "The autoreload extension is already loaded. To reload it, use:\n",
            "  %reload_ext autoreload\n"
          ]
        }
      ]
    },
    {
      "cell_type": "markdown",
      "metadata": {
        "id": "gvEcZKLm7xyy"
      },
      "source": [
        "There are several insights about the selected dataset from [Kaggle](https://www.kaggle.com/camnugent/california-housing-prices):\n",
        "1. longitude: A measure of how far west a house is; a higher value is farther west\n",
        "\n",
        "2. latitude: A measure of how far north a house is; a higher value is farther north\n",
        "\n",
        "3. housingMedianAge: Median age of a house within a block; a lower number is a newer building\n",
        "\n",
        "4. totalRooms: Total number of rooms within a block\n",
        "\n",
        "5. totalBedrooms: Total number of bedrooms within a block\n",
        "\n",
        "6. population: Total number of people residing within a block\n",
        "\n",
        "7. households: Total number of households, a group of people residing within a home unit, for a block\n",
        "\n",
        "8. medianIncome: Median income for households within a block of houses (measured in tens of thousands of US Dollars)\n",
        "\n",
        "9. medianHouseValue: Median house value for households within a block (measured in US Dollars)"
      ]
    },
    {
      "cell_type": "code",
      "metadata": {
        "colab": {
          "base_uri": "https://localhost:8080/",
          "height": 204
        },
        "id": "uV0NKxfFxrnz",
        "outputId": "54a6b8db-2187-4b98-9f56-4fc0708f5ae3"
      },
      "source": [
        "housing = fetch_california_housing(as_frame=True)\n",
        "df_house = housing.frame\n",
        "\n",
        "scaled_df = pd.DataFrame(StandardScaler().fit_transform(df_house), columns=df_house.columns)\n",
        "scaled_df.head()"
      ],
      "execution_count": null,
      "outputs": [
        {
          "output_type": "execute_result",
          "data": {
            "text/html": [
              "<div>\n",
              "<style scoped>\n",
              "    .dataframe tbody tr th:only-of-type {\n",
              "        vertical-align: middle;\n",
              "    }\n",
              "\n",
              "    .dataframe tbody tr th {\n",
              "        vertical-align: top;\n",
              "    }\n",
              "\n",
              "    .dataframe thead th {\n",
              "        text-align: right;\n",
              "    }\n",
              "</style>\n",
              "<table border=\"1\" class=\"dataframe\">\n",
              "  <thead>\n",
              "    <tr style=\"text-align: right;\">\n",
              "      <th></th>\n",
              "      <th>MedInc</th>\n",
              "      <th>HouseAge</th>\n",
              "      <th>AveRooms</th>\n",
              "      <th>AveBedrms</th>\n",
              "      <th>Population</th>\n",
              "      <th>AveOccup</th>\n",
              "      <th>Latitude</th>\n",
              "      <th>Longitude</th>\n",
              "      <th>MedHouseVal</th>\n",
              "    </tr>\n",
              "  </thead>\n",
              "  <tbody>\n",
              "    <tr>\n",
              "      <th>0</th>\n",
              "      <td>2.344766</td>\n",
              "      <td>0.982143</td>\n",
              "      <td>0.628559</td>\n",
              "      <td>-0.153758</td>\n",
              "      <td>-0.974429</td>\n",
              "      <td>-0.049597</td>\n",
              "      <td>1.052548</td>\n",
              "      <td>-1.327835</td>\n",
              "      <td>2.129631</td>\n",
              "    </tr>\n",
              "    <tr>\n",
              "      <th>1</th>\n",
              "      <td>2.332238</td>\n",
              "      <td>-0.607019</td>\n",
              "      <td>0.327041</td>\n",
              "      <td>-0.263336</td>\n",
              "      <td>0.861439</td>\n",
              "      <td>-0.092512</td>\n",
              "      <td>1.043185</td>\n",
              "      <td>-1.322844</td>\n",
              "      <td>1.314156</td>\n",
              "    </tr>\n",
              "    <tr>\n",
              "      <th>2</th>\n",
              "      <td>1.782699</td>\n",
              "      <td>1.856182</td>\n",
              "      <td>1.155620</td>\n",
              "      <td>-0.049016</td>\n",
              "      <td>-0.820777</td>\n",
              "      <td>-0.025843</td>\n",
              "      <td>1.038503</td>\n",
              "      <td>-1.332827</td>\n",
              "      <td>1.258693</td>\n",
              "    </tr>\n",
              "    <tr>\n",
              "      <th>3</th>\n",
              "      <td>0.932968</td>\n",
              "      <td>1.856182</td>\n",
              "      <td>0.156966</td>\n",
              "      <td>-0.049833</td>\n",
              "      <td>-0.766028</td>\n",
              "      <td>-0.050329</td>\n",
              "      <td>1.038503</td>\n",
              "      <td>-1.337818</td>\n",
              "      <td>1.165100</td>\n",
              "    </tr>\n",
              "    <tr>\n",
              "      <th>4</th>\n",
              "      <td>-0.012881</td>\n",
              "      <td>1.856182</td>\n",
              "      <td>0.344711</td>\n",
              "      <td>-0.032906</td>\n",
              "      <td>-0.759847</td>\n",
              "      <td>-0.085616</td>\n",
              "      <td>1.038503</td>\n",
              "      <td>-1.337818</td>\n",
              "      <td>1.172900</td>\n",
              "    </tr>\n",
              "  </tbody>\n",
              "</table>\n",
              "</div>"
            ],
            "text/plain": [
              "     MedInc  HouseAge  AveRooms  ...  Latitude  Longitude  MedHouseVal\n",
              "0  2.344766  0.982143  0.628559  ...  1.052548  -1.327835     2.129631\n",
              "1  2.332238 -0.607019  0.327041  ...  1.043185  -1.322844     1.314156\n",
              "2  1.782699  1.856182  1.155620  ...  1.038503  -1.332827     1.258693\n",
              "3  0.932968  1.856182  0.156966  ...  1.038503  -1.337818     1.165100\n",
              "4 -0.012881  1.856182  0.344711  ...  1.038503  -1.337818     1.172900\n",
              "\n",
              "[5 rows x 9 columns]"
            ]
          },
          "metadata": {},
          "execution_count": 3
        }
      ]
    },
    {
      "cell_type": "code",
      "metadata": {
        "id": "DtdYlTtiyPuN"
      },
      "source": [
        "def fit_lin_reg(X: pd.DataFrame, Y: pd.Series) -> Tuple[float, List[float], float]:\n",
        "    # Fit linear regression model and return MSE along with model coefficients\n",
        "    model_k = linear_model.LinearRegression(fit_intercept=True)\n",
        "    model_k.fit(X, Y)\n",
        "    MSE = mean_squared_error(Y, model_k.predict(X))\n",
        "    return MSE, model_k.coef_, model_k.intercept_\n",
        "\n",
        "\n",
        "def subset_feat(subsetSize: int, X: pd.DataFrame, Y: pd.Series) -> pd.DataFrame:\n",
        "    # Find MSEs for each combination of features according to desired subset size\n",
        "    df_rows = []\n",
        "    df_columns = ['MSE', 'Features', 'Slope', 'Intercept']\n",
        "\n",
        "    for selected_features in itertools.combinations(X.columns, subsetSize):\n",
        "        mse_on_selected_features, slope, intercept = fit_lin_reg(X[list(selected_features)], Y)\n",
        "        df_rows.append((mse_on_selected_features, selected_features, slope, intercept))\n",
        "    df = pd.DataFrame(df_rows, columns=df_columns)\n",
        "    \n",
        "    return df.sort_values(by=['MSE'], ignore_index=True)"
      ],
      "execution_count": null,
      "outputs": []
    },
    {
      "cell_type": "code",
      "metadata": {
        "colab": {
          "base_uri": "https://localhost:8080/",
          "height": 359
        },
        "id": "allibWObGRCh",
        "outputId": "d055064c-c429-4d7b-c73d-17d29d44b48c"
      },
      "source": [
        "Y = scaled_df.MedHouseVal\n",
        "X = scaled_df.drop(columns='MedHouseVal', axis=1)\n",
        "\n",
        "# outputs should be MSEs and feature names\n",
        "MSEs = subset_feat(3, X, Y)\n",
        "display(MSEs.head(10))"
      ],
      "execution_count": null,
      "outputs": [
        {
          "output_type": "display_data",
          "data": {
            "text/html": [
              "<div>\n",
              "<style scoped>\n",
              "    .dataframe tbody tr th:only-of-type {\n",
              "        vertical-align: middle;\n",
              "    }\n",
              "\n",
              "    .dataframe tbody tr th {\n",
              "        vertical-align: top;\n",
              "    }\n",
              "\n",
              "    .dataframe thead th {\n",
              "        text-align: right;\n",
              "    }\n",
              "</style>\n",
              "<table border=\"1\" class=\"dataframe\">\n",
              "  <thead>\n",
              "    <tr style=\"text-align: right;\">\n",
              "      <th></th>\n",
              "      <th>MSE</th>\n",
              "      <th>Features</th>\n",
              "      <th>Slope</th>\n",
              "      <th>Intercept</th>\n",
              "    </tr>\n",
              "  </thead>\n",
              "  <tbody>\n",
              "    <tr>\n",
              "      <th>0</th>\n",
              "      <td>0.415741</td>\n",
              "      <td>(MedInc, Latitude, Longitude)</td>\n",
              "      <td>[0.6033513631605236, -0.896884948022407, -0.86...</td>\n",
              "      <td>-8.189394e-15</td>\n",
              "    </tr>\n",
              "    <tr>\n",
              "      <th>1</th>\n",
              "      <td>0.482807</td>\n",
              "      <td>(MedInc, HouseAge, Latitude)</td>\n",
              "      <td>[0.7035425715540965, 0.19037597618604674, -0.0...</td>\n",
              "      <td>5.893667e-17</td>\n",
              "    </tr>\n",
              "    <tr>\n",
              "      <th>2</th>\n",
              "      <td>0.487898</td>\n",
              "      <td>(MedInc, HouseAge, AveRooms)</td>\n",
              "      <td>[0.7289458221445272, 0.18346906801302976, -0.0...</td>\n",
              "      <td>1.584555e-16</td>\n",
              "    </tr>\n",
              "    <tr>\n",
              "      <th>3</th>\n",
              "      <td>0.489313</td>\n",
              "      <td>(MedInc, HouseAge, AveOccup)</td>\n",
              "      <td>[0.7115352734833827, 0.1908427748411942, -0.03...</td>\n",
              "      <td>1.558539e-16</td>\n",
              "    </tr>\n",
              "    <tr>\n",
              "      <th>4</th>\n",
              "      <td>0.490004</td>\n",
              "      <td>(MedInc, HouseAge, Population)</td>\n",
              "      <td>[0.7116756287621621, 0.19952598242365974, 0.03...</td>\n",
              "      <td>1.560022e-16</td>\n",
              "    </tr>\n",
              "    <tr>\n",
              "      <th>5</th>\n",
              "      <td>0.490665</td>\n",
              "      <td>(MedInc, HouseAge, Longitude)</td>\n",
              "      <td>[0.7102974834847212, 0.18857335263711403, -0.0...</td>\n",
              "      <td>2.975420e-17</td>\n",
              "    </tr>\n",
              "    <tr>\n",
              "      <th>6</th>\n",
              "      <td>0.490730</td>\n",
              "      <td>(MedInc, HouseAge, AveBedrms)</td>\n",
              "      <td>[0.7116091796080253, 0.19128692763919078, 0.01...</td>\n",
              "      <td>1.570165e-16</td>\n",
              "    </tr>\n",
              "    <tr>\n",
              "      <th>7</th>\n",
              "      <td>0.491288</td>\n",
              "      <td>(MedInc, AveRooms, AveBedrms)</td>\n",
              "      <td>[0.8810725840820782, -0.5072795736330723, 0.43...</td>\n",
              "      <td>2.255278e-16</td>\n",
              "    </tr>\n",
              "    <tr>\n",
              "      <th>8</th>\n",
              "      <td>0.514275</td>\n",
              "      <td>(MedInc, AveRooms, Latitude)</td>\n",
              "      <td>[0.7044566344819665, -0.06976940374167151, -0....</td>\n",
              "      <td>7.492487e-17</td>\n",
              "    </tr>\n",
              "    <tr>\n",
              "      <th>9</th>\n",
              "      <td>0.517097</td>\n",
              "      <td>(MedInc, Population, Latitude)</td>\n",
              "      <td>[0.6807591511849855, -0.03816442395198552, -0....</td>\n",
              "      <td>5.692190e-17</td>\n",
              "    </tr>\n",
              "  </tbody>\n",
              "</table>\n",
              "</div>"
            ],
            "text/plain": [
              "        MSE  ...     Intercept\n",
              "0  0.415741  ... -8.189394e-15\n",
              "1  0.482807  ...  5.893667e-17\n",
              "2  0.487898  ...  1.584555e-16\n",
              "3  0.489313  ...  1.558539e-16\n",
              "4  0.490004  ...  1.560022e-16\n",
              "5  0.490665  ...  2.975420e-17\n",
              "6  0.490730  ...  1.570165e-16\n",
              "7  0.491288  ...  2.255278e-16\n",
              "8  0.514275  ...  7.492487e-17\n",
              "9  0.517097  ...  5.692190e-17\n",
              "\n",
              "[10 rows x 4 columns]"
            ]
          },
          "metadata": {}
        }
      ]
    },
    {
      "cell_type": "markdown",
      "metadata": {
        "id": "TIelNBj9IdbO"
      },
      "source": [
        "### 1.1.2 <font color=\"green\">Solution</font>\n",
        "\n",
        "Perform PCA to 3 dimensions (components) and fit a Linear Regression using these 3 features. "
      ]
    },
    {
      "cell_type": "code",
      "metadata": {
        "id": "_v84Zg0U_o-D"
      },
      "source": [
        "# outputs should be MSE and feature names\n",
        "def reconstruct_with_PCA(standartized_data: pd.DataFrame, number_of_components: int) -> pd.DataFrame:\n",
        "    \"\"\"Reconstruct data using PCA and returns new data and the value of reconstruction error.\"\"\"\n",
        "    pca = PCA(n_components=number_of_components)\n",
        "    pca.fit(standartized_data.values)\n",
        "\n",
        "    print('Explained variance ratio:', pca.explained_variance_ratio_)\n",
        "\n",
        "    data_from_pca = pca.transform(standartized_data.values)\n",
        "\n",
        "    data_from_pca_df = pd.DataFrame(\n",
        "        data_from_pca, \n",
        "        columns=[f'PC-{i+1}' for i in range(number_of_components)],\n",
        "    )\n",
        "\n",
        "    return data_from_pca_df"
      ],
      "execution_count": null,
      "outputs": []
    },
    {
      "cell_type": "code",
      "metadata": {
        "colab": {
          "base_uri": "https://localhost:8080/",
          "height": 238
        },
        "id": "jLs3oh-bGRCk",
        "outputId": "ea33b7e0-e772-475f-9e58-6999213b7a04"
      },
      "source": [
        "pca_X = reconstruct_with_PCA(X, 3)\n",
        "\n",
        "display(pca_X.head())\n",
        "pca_mse, _, _ = fit_lin_reg(pca_X, Y)\n",
        "print('PCA MSE:', pca_mse)"
      ],
      "execution_count": null,
      "outputs": [
        {
          "output_type": "stream",
          "name": "stdout",
          "text": [
            "Explained variance ratio: [0.25336868 0.23516245 0.15888635]\n"
          ]
        },
        {
          "output_type": "display_data",
          "data": {
            "text/html": [
              "<div>\n",
              "<style scoped>\n",
              "    .dataframe tbody tr th:only-of-type {\n",
              "        vertical-align: middle;\n",
              "    }\n",
              "\n",
              "    .dataframe tbody tr th {\n",
              "        vertical-align: top;\n",
              "    }\n",
              "\n",
              "    .dataframe thead th {\n",
              "        text-align: right;\n",
              "    }\n",
              "</style>\n",
              "<table border=\"1\" class=\"dataframe\">\n",
              "  <thead>\n",
              "    <tr style=\"text-align: right;\">\n",
              "      <th></th>\n",
              "      <th>PC-1</th>\n",
              "      <th>PC-2</th>\n",
              "      <th>PC-3</th>\n",
              "    </tr>\n",
              "  </thead>\n",
              "  <tbody>\n",
              "    <tr>\n",
              "      <th>0</th>\n",
              "      <td>1.882704</td>\n",
              "      <td>-0.503362</td>\n",
              "      <td>-0.314134</td>\n",
              "    </tr>\n",
              "    <tr>\n",
              "      <th>1</th>\n",
              "      <td>1.371120</td>\n",
              "      <td>-0.121406</td>\n",
              "      <td>1.905258</td>\n",
              "    </tr>\n",
              "    <tr>\n",
              "      <th>2</th>\n",
              "      <td>2.086868</td>\n",
              "      <td>-0.501136</td>\n",
              "      <td>-0.937245</td>\n",
              "    </tr>\n",
              "    <tr>\n",
              "      <th>3</th>\n",
              "      <td>1.575801</td>\n",
              "      <td>-1.239495</td>\n",
              "      <td>-1.025957</td>\n",
              "    </tr>\n",
              "    <tr>\n",
              "      <th>4</th>\n",
              "      <td>1.591206</td>\n",
              "      <td>-1.345264</td>\n",
              "      <td>-1.249171</td>\n",
              "    </tr>\n",
              "  </tbody>\n",
              "</table>\n",
              "</div>"
            ],
            "text/plain": [
              "       PC-1      PC-2      PC-3\n",
              "0  1.882704 -0.503362 -0.314134\n",
              "1  1.371120 -0.121406  1.905258\n",
              "2  2.086868 -0.501136 -0.937245\n",
              "3  1.575801 -1.239495 -1.025957\n",
              "4  1.591206 -1.345264 -1.249171"
            ]
          },
          "metadata": {}
        },
        {
          "output_type": "stream",
          "name": "stdout",
          "text": [
            "PCA MSE: 0.9710305607951087\n"
          ]
        }
      ]
    },
    {
      "cell_type": "markdown",
      "metadata": {
        "id": "1_DByZGSdOEg"
      },
      "source": [
        "### 1.1.3 <font color=\"green\">Solution</font>\n"
      ]
    },
    {
      "cell_type": "markdown",
      "metadata": {
        "id": "Ph8WuDlpGRCl"
      },
      "source": [
        "One advantage of raw feature selection: the result is easily interpretable. <br>\n",
        "\n",
        "We see that top-10 feature subsets contain MedInc (median income for households within a block of houses measured in tens of thousands of US Dollars). This observation means that this particular feature has the biggest impact on house value. This could be explained, since people with higher income are tending to buy more expensive houses.<br>\n",
        "\n",
        "One advantage of PCA: we have no need to try all subsets of features, which can be very hard computationally.<br>"
      ]
    },
    {
      "cell_type": "markdown",
      "metadata": {
        "id": "O-pS81_N4RJF"
      },
      "source": [
        "## 1.2 Dimensions $8 \\rightarrow 1$ (1.5 points)\n",
        "\n",
        "Having to visualize the data across multiple dimensions can be cumbersome. Let's perform the same task as in 1.1 but this time consider only one feature (both a subset of the 8 features and PCA with 1 component). This way it will be easier to visualize the relationship of your predictive and target variables. Of course, you still want to select the feature that will result in the best performing model.\n",
        "\n",
        "Your output should include:\n",
        "\n",
        "1.   The respective MSEs (only the lowest MSE for the subset is fine.)\n",
        "2.   Plot a graph of the data with prices on the $y$ axis and the single feature/principal component on the $x$ axis. In the plot, also include a line as defined by the Linear Regression. (Make sure you don't forget to set the correct slope and y-intercept (constant))."
      ]
    },
    {
      "cell_type": "code",
      "metadata": {
        "colab": {
          "base_uri": "https://localhost:8080/",
          "height": 297
        },
        "id": "dvE_IbHcF9Ot",
        "outputId": "39cb4042-429c-46b4-b7f5-a5b71ad8885c"
      },
      "source": [
        "one_feature_MSEs = subset_feat(1, X, Y)\n",
        "display(one_feature_MSEs.head(10))"
      ],
      "execution_count": null,
      "outputs": [
        {
          "output_type": "display_data",
          "data": {
            "text/html": [
              "<div>\n",
              "<style scoped>\n",
              "    .dataframe tbody tr th:only-of-type {\n",
              "        vertical-align: middle;\n",
              "    }\n",
              "\n",
              "    .dataframe tbody tr th {\n",
              "        vertical-align: top;\n",
              "    }\n",
              "\n",
              "    .dataframe thead th {\n",
              "        text-align: right;\n",
              "    }\n",
              "</style>\n",
              "<table border=\"1\" class=\"dataframe\">\n",
              "  <thead>\n",
              "    <tr style=\"text-align: right;\">\n",
              "      <th></th>\n",
              "      <th>MSE</th>\n",
              "      <th>Features</th>\n",
              "      <th>Slope</th>\n",
              "      <th>Intercept</th>\n",
              "    </tr>\n",
              "  </thead>\n",
              "  <tbody>\n",
              "    <tr>\n",
              "      <th>0</th>\n",
              "      <td>0.526553</td>\n",
              "      <td>(MedInc,)</td>\n",
              "      <td>[0.6880752079585479]</td>\n",
              "      <td>1.583194e-16</td>\n",
              "    </tr>\n",
              "    <tr>\n",
              "      <th>1</th>\n",
              "      <td>0.976912</td>\n",
              "      <td>(AveRooms,)</td>\n",
              "      <td>[0.15194828974145774]</td>\n",
              "      <td>1.937558e-16</td>\n",
              "    </tr>\n",
              "    <tr>\n",
              "      <th>2</th>\n",
              "      <td>0.979218</td>\n",
              "      <td>(Latitude,)</td>\n",
              "      <td>[-0.1441602768746593]</td>\n",
              "      <td>4.816591e-17</td>\n",
              "    </tr>\n",
              "    <tr>\n",
              "      <th>3</th>\n",
              "      <td>0.988844</td>\n",
              "      <td>(HouseAge,)</td>\n",
              "      <td>[0.10562341249320996]</td>\n",
              "      <td>2.032173e-16</td>\n",
              "    </tr>\n",
              "    <tr>\n",
              "      <th>4</th>\n",
              "      <td>0.997819</td>\n",
              "      <td>(AveBedrms,)</td>\n",
              "      <td>[-0.04670051296948688]</td>\n",
              "      <td>1.988474e-16</td>\n",
              "    </tr>\n",
              "    <tr>\n",
              "      <th>5</th>\n",
              "      <td>0.997887</td>\n",
              "      <td>(Longitude,)</td>\n",
              "      <td>[-0.045966615117978525]</td>\n",
              "      <td>-1.881359e-16</td>\n",
              "    </tr>\n",
              "    <tr>\n",
              "      <th>6</th>\n",
              "      <td>0.999392</td>\n",
              "      <td>(Population,)</td>\n",
              "      <td>[-0.024649678888894872]</td>\n",
              "      <td>2.035275e-16</td>\n",
              "    </tr>\n",
              "    <tr>\n",
              "      <th>7</th>\n",
              "      <td>0.999437</td>\n",
              "      <td>(AveOccup,)</td>\n",
              "      <td>[-0.023737412956134338]</td>\n",
              "      <td>2.038808e-16</td>\n",
              "    </tr>\n",
              "  </tbody>\n",
              "</table>\n",
              "</div>"
            ],
            "text/plain": [
              "        MSE       Features                    Slope     Intercept\n",
              "0  0.526553      (MedInc,)     [0.6880752079585479]  1.583194e-16\n",
              "1  0.976912    (AveRooms,)    [0.15194828974145774]  1.937558e-16\n",
              "2  0.979218    (Latitude,)    [-0.1441602768746593]  4.816591e-17\n",
              "3  0.988844    (HouseAge,)    [0.10562341249320996]  2.032173e-16\n",
              "4  0.997819   (AveBedrms,)   [-0.04670051296948688]  1.988474e-16\n",
              "5  0.997887   (Longitude,)  [-0.045966615117978525] -1.881359e-16\n",
              "6  0.999392  (Population,)  [-0.024649678888894872]  2.035275e-16\n",
              "7  0.999437    (AveOccup,)  [-0.023737412956134338]  2.038808e-16"
            ]
          },
          "metadata": {}
        }
      ]
    },
    {
      "cell_type": "code",
      "metadata": {
        "colab": {
          "base_uri": "https://localhost:8080/",
          "height": 296
        },
        "id": "6q1mlQnF1C96",
        "outputId": "517d1f5a-e2c3-43c2-d889-4822affb77dd"
      },
      "source": [
        "x = np.linspace(min(scaled_df.MedInc), max(scaled_df.MedInc), 100)\n",
        "y = x*one_feature_MSEs.loc[0].Slope[0]+one_feature_MSEs.loc[0].Intercept\n",
        "\n",
        "plt.xlabel('Median Income (scaled)')\n",
        "plt.ylabel('Median House Value (scaled)')\n",
        "plt.scatter(scaled_df.MedInc, Y)\n",
        "plt.plot(x, y, 'red')"
      ],
      "execution_count": null,
      "outputs": [
        {
          "output_type": "execute_result",
          "data": {
            "text/plain": [
              "[<matplotlib.lines.Line2D at 0x7f1e18d09ad0>]"
            ]
          },
          "metadata": {},
          "execution_count": 9
        },
        {
          "output_type": "display_data",
          "data": {
            "image/png": "[encoded data removed]",
            "text/plain": [
              "<Figure size 432x288 with 1 Axes>"
            ]
          },
          "metadata": {
            "needs_background": "light"
          }
        }
      ]
    },
    {
      "cell_type": "code",
      "metadata": {
        "colab": {
          "base_uri": "https://localhost:8080/",
          "height": 238
        },
        "id": "E3wEQ6o4GiPU",
        "outputId": "5685b01b-3a0b-470f-c248-dbd676a478b2"
      },
      "source": [
        "pca_X_one_feature = reconstruct_with_PCA(X, 1)\n",
        "display(pca_X_one_feature.head())\n",
        "pca_one_feature_mse, pca_one_feature_slope, pca_one_feature_intercept  = fit_lin_reg(pca_X_one_feature, Y)\n",
        "print('One-feature PCA MSE, slope and intercept:', pca_one_feature_mse, pca_one_feature_slope, pca_one_feature_intercept)"
      ],
      "execution_count": null,
      "outputs": [
        {
          "output_type": "stream",
          "name": "stdout",
          "text": [
            "Explained variance ratio: [0.25336868]\n"
          ]
        },
        {
          "output_type": "display_data",
          "data": {
            "text/html": [
              "<div>\n",
              "<style scoped>\n",
              "    .dataframe tbody tr th:only-of-type {\n",
              "        vertical-align: middle;\n",
              "    }\n",
              "\n",
              "    .dataframe tbody tr th {\n",
              "        vertical-align: top;\n",
              "    }\n",
              "\n",
              "    .dataframe thead th {\n",
              "        text-align: right;\n",
              "    }\n",
              "</style>\n",
              "<table border=\"1\" class=\"dataframe\">\n",
              "  <thead>\n",
              "    <tr style=\"text-align: right;\">\n",
              "      <th></th>\n",
              "      <th>PC-1</th>\n",
              "    </tr>\n",
              "  </thead>\n",
              "  <tbody>\n",
              "    <tr>\n",
              "      <th>0</th>\n",
              "      <td>1.882704</td>\n",
              "    </tr>\n",
              "    <tr>\n",
              "      <th>1</th>\n",
              "      <td>1.371120</td>\n",
              "    </tr>\n",
              "    <tr>\n",
              "      <th>2</th>\n",
              "      <td>2.086868</td>\n",
              "    </tr>\n",
              "    <tr>\n",
              "      <th>3</th>\n",
              "      <td>1.575801</td>\n",
              "    </tr>\n",
              "    <tr>\n",
              "      <th>4</th>\n",
              "      <td>1.591206</td>\n",
              "    </tr>\n",
              "  </tbody>\n",
              "</table>\n",
              "</div>"
            ],
            "text/plain": [
              "       PC-1\n",
              "0  1.882704\n",
              "1  1.371120\n",
              "2  2.086868\n",
              "3  1.575801\n",
              "4  1.591206"
            ]
          },
          "metadata": {}
        },
        {
          "output_type": "stream",
          "name": "stdout",
          "text": [
            "One-feature PCA MSE, slope and intercept: 0.998793645774826 [0.02439585] 2.0272408423686205e-16\n"
          ]
        }
      ]
    },
    {
      "cell_type": "code",
      "metadata": {
        "colab": {
          "base_uri": "https://localhost:8080/",
          "height": 296
        },
        "id": "8W2s1_Z7o2Os",
        "outputId": "23f5b258-4293-49fc-d6a0-8fafe6ac4570"
      },
      "source": [
        "x = np.linspace(min(pca_X_one_feature.values), max(pca_X_one_feature.values), 100)\n",
        "y = x*pca_one_feature_slope[0]+pca_one_feature_intercept\n",
        "\n",
        "plt.xlabel('PC-1')\n",
        "plt.ylabel('Median House Value (scaled)')\n",
        "plt.scatter(pca_X_one_feature.values, Y)\n",
        "plt.plot(x, y, 'red')"
      ],
      "execution_count": null,
      "outputs": [
        {
          "output_type": "execute_result",
          "data": {
            "text/plain": [
              "[<matplotlib.lines.Line2D at 0x7f1e18802cd0>]"
            ]
          },
          "metadata": {},
          "execution_count": 11
        },
        {
          "output_type": "display_data",
          "data": {
            "image/png": "[encoded data removed]",
            "text/plain": [
              "<Figure size 432x288 with 1 Axes>"
            ]
          },
          "metadata": {
            "needs_background": "light"
          }
        }
      ]
    },
    {
      "cell_type": "code",
      "metadata": {
        "id": "rbBzhK6f42J2"
      },
      "source": [
        "# from solution import ....\n",
        "\n",
        "# import your function from your .py file here and run this cell when you're done!\n",
        "# outputs should be the MSEs, feauture names, and plots (make sure to label your plots!)"
      ],
      "execution_count": null,
      "outputs": []
    },
    {
      "cell_type": "markdown",
      "metadata": {
        "id": "nxMm8kFf_DYF"
      },
      "source": [
        "## 2 Manual Regression (4 points)\n",
        "\n",
        "Now that you are a bit more familiar with the data and the features. This exercise aims to develop some intuition behind regressions by manually adjusting the parameters (coefficients and intercept) in the model. The functions below all perform regression (predicting a real value) but they are far from perfect. Your goal is to improve the four functions from the initial ones in the `code cells` as follows:\n",
        "\n",
        "1. `hand_base` should serve as a baseline. The constraint is that it should only return a *single (constant) number* for all values. In other words, this is a model with no adjustable parameters. However, for the dataset there exists a unique value that minimizes the Mean Squared Error (MSE). Which one is it? (0.5 points) \n",
        "2. `hand_linear` should be a reasonable *linear* function that utilizes the input feature(s). Note that it should be strictly linear, that is in the form $\\sum \\lambda_i x_i+\\lambda_{const}$ where $\\lambda_k$ and $\\lambda_{const}$ are the coefficients and intercept that you can estimate from the given data by *trial and error*. Your estimates should be reasonable, i.e. definitely better than `hand_base`. Do this exercise before proceeding to the next function where you will obtain the coefficients and intercepts from fitting a Linear Regression model using *sklearn*. We will award full points based on any justified solution that's better than `hand_base`. Make sure that you read what the features mean and argue why you chose the specific formula. (1 point) (Note: we are *not* asking you to compute the coefficients and intercept, but rather play around with adjusting the coefficients and intercept manually to arrive at your best estimate.)\n",
        "3. `auto_linear`, obtain the coefficients and intercept from fitting a Linear Regression model using `sklearn`.\n",
        "<!-- Note how the coeficients here should be similar to the coefficients you came up with in your `hand_linear` regression model. -->\n",
        "(Consult [sklearn Linear Regression Documention](https://scikit-learn.org/stable/modules/generated/sklearn.linear_model.LinearRegression.html) on how to obtain the model's coefficients and intercept.) (1 point)\n",
        "4. `hand_complex` does not have any restriction on the content of the function. It can contain polynomial relationships (e.g. `x[0]*x[0]`), `if-else` statements, etc.) Now that you have both your hand crafted model and the one from `sklearn`, improve upon either of the models (or you can start with the parameters in the `auto_linear` model) so that the performance of the `hand_complex` is better than `auto_linear`.\n",
        "What are the disadvantages of this more complex approach apart from the difficulty of creating it? (Hint: think about unseen data.)\n",
        "\n",
        "Always comment on what led you to select the specific values."
      ]
    },
    {
      "cell_type": "markdown",
      "metadata": {
        "id": "13EgQJtJdu7w"
      },
      "source": [
        "## 2 <font color=\"green\">Solution</font>\n",
        "\n",
        "Modify the functions in the `code cell` below.\n"
      ]
    },
    {
      "cell_type": "code",
      "metadata": {
        "id": "yo0nFWosRS_T",
        "colab": {
          "base_uri": "https://localhost:8080/"
        },
        "outputId": "9cc29e5f-8237-4e58-8863-a58e5687d028"
      },
      "source": [
        "%load_ext autoreload\n",
        "%autoreload 2\n",
        "\n",
        "print(\"Features\", housing.feature_names)\n",
        "\n",
        "def hand_base(_x):\n",
        "  # We choose 0, since Y data is standartized. \n",
        "  # So, mean(Y) ~ 0, and it the best approximation.\n",
        "  return 0\n",
        "\n",
        "def hand_linear(x: pd.Series):\n",
        "  coefs = [0] * len(x)\n",
        "  # First coefficient is for Median Income which is proven to be the best single variable for the regression.\n",
        "  # So, We make all coefficients zero except MedInc.\n",
        "  coefs[0] = 1\n",
        "\n",
        "  # -0.1 is quite a random thing, no real logic under it\n",
        "  return np.dot(coefs, x)-0.1\n",
        "\n",
        "# TODO:\n",
        "# 1. Fit LinearRegression\n",
        "# 2. Report training MSE\n",
        "# 3. Examine the coefficients and intercept and use them for the `auto_linear` function\n",
        "# <https://scikit-learn.org/stable/modules/generated/sklearn.linear_model.LinearRegression.html>\n",
        "\n",
        "mse, slope, intercept = fit_lin_reg(X, Y)\n",
        "print('Training MSE: ', mse)\n",
        "\n",
        "def auto_linear(x):\n",
        "  # DONE: use coefficients from your linear regression\n",
        "  return np.dot(x, slope)+intercept\n",
        "\n",
        "def hand_complex(x):\n",
        "  # We have discovered that original y values never exceed 2.6, whereas the appoximation produced by regression sometimes does.\n",
        "  # Hence, cutting appoximation outliers with constant 2.6 should produce better MSE.\n",
        "  # please look at cells above for details\n",
        "  return min(2.6, auto_linear(x))\n",
        "\n",
        "hand_base_y = list(map(hand_base, X.values))\n",
        "hand_linear_y = list(map(hand_linear, X.values))\n",
        "auto_linear_y = list(map(auto_linear, X.values))\n",
        "hand_complex_y = list(map(hand_complex, X.values))\n",
        "\n",
        "print(f\"MSE Hand-Base: {mean_squared_error(Y, hand_base_y):.5f}\")\n",
        "print(f\"MSE Hand-Linear: {mean_squared_error(Y, hand_linear_y):.5f}\")\n",
        "print(f\"MSE Auto-LR: {mean_squared_error(Y, auto_linear_y):.5f}\")\n",
        "print(f\"MSE Hand-Complex: {mean_squared_error(Y, hand_complex_y):.5f}\")"
      ],
      "execution_count": null,
      "outputs": [
        {
          "output_type": "stream",
          "name": "stdout",
          "text": [
            "The autoreload extension is already loaded. To reload it, use:\n",
            "  %reload_ext autoreload\n",
            "Features ['MedInc', 'HouseAge', 'AveRooms', 'AveBedrms', 'Population', 'AveOccup', 'Latitude', 'Longitude']\n",
            "Training MSE:  0.3937673148001949\n",
            "MSE Hand-Base: 1.00000\n",
            "MSE Hand-Linear: 0.63385\n",
            "MSE Auto-LR: 0.39377\n",
            "MSE Hand-Complex: 0.38230\n"
          ]
        }
      ]
    },
    {
      "cell_type": "code",
      "metadata": {
        "colab": {
          "base_uri": "https://localhost:8080/",
          "height": 282
        },
        "id": "nBFpK-pZo8Zs",
        "outputId": "0042eb23-c6f8-46c7-aa5f-09e1f9ff28e9"
      },
      "source": [
        "x = np.linspace(0, len(auto_linear_y), len(auto_linear_y))\n",
        "plt.scatter(x, auto_linear_y)"
      ],
      "execution_count": null,
      "outputs": [
        {
          "output_type": "execute_result",
          "data": {
            "text/plain": [
              "<matplotlib.collections.PathCollection at 0x7f1e12f87e10>"
            ]
          },
          "metadata": {},
          "execution_count": 54
        },
        {
          "output_type": "display_data",
          "data": {
            "image/png": "[encoded data removed]",
            "text/plain": [
              "<Figure size 432x288 with 1 Axes>"
            ]
          },
          "metadata": {
            "needs_background": "light"
          }
        }
      ]
    },
    {
      "cell_type": "code",
      "metadata": {
        "colab": {
          "base_uri": "https://localhost:8080/",
          "height": 282
        },
        "id": "UujrGp-bp9dZ",
        "outputId": "27d8a69b-3c21-447c-bcf3-676c61488075"
      },
      "source": [
        "plt.scatter(x, Y)"
      ],
      "execution_count": null,
      "outputs": [
        {
          "output_type": "execute_result",
          "data": {
            "text/plain": [
              "<matplotlib.collections.PathCollection at 0x7f1e12ff8590>"
            ]
          },
          "metadata": {},
          "execution_count": 55
        },
        {
          "output_type": "display_data",
          "data": {
            "image/png": "[encoded data removed]",
            "text/plain": [
              "<Figure size 432x288 with 1 Axes>"
            ]
          },
          "metadata": {
            "needs_background": "light"
          }
        }
      ]
    },
    {
      "cell_type": "code",
      "metadata": {
        "colab": {
          "base_uri": "https://localhost:8080/"
        },
        "id": "nXR5qrAnq_f8",
        "outputId": "6272a1ce-8754-4d99-f948-dc9400cbfc32"
      },
      "source": [
        "print(max(Y))\n",
        "print(max(auto_linear_y))"
      ],
      "execution_count": null,
      "outputs": [
        {
          "output_type": "stream",
          "name": "stdout",
          "text": [
            "2.540410937738136\n",
            "5.98106326537652\n"
          ]
        }
      ]
    },
    {
      "cell_type": "code",
      "metadata": {
        "colab": {
          "base_uri": "https://localhost:8080/"
        },
        "id": "TFj8gRDhqMiD",
        "outputId": "bccfe473-3ddc-4802-9941-79e5f627bda2"
      },
      "source": [
        "print(len([i for i, num in enumerate(Y) if num > 2.6]))\n",
        "print(len([i for i, num in enumerate(auto_linear_y) if num > 2.6]))"
      ],
      "execution_count": null,
      "outputs": [
        {
          "output_type": "stream",
          "name": "stdout",
          "text": [
            "0\n",
            "174\n"
          ]
        }
      ]
    },
    {
      "cell_type": "markdown",
      "metadata": {
        "id": "0vCvnDsvshdV"
      },
      "source": [
        "Conclusion: we see that the hand-crafted non-linear approach based on automatic linear regression gives the lowest MSE. However, it looks like overfitting, since the constant value (2.6) was selected based exclusively on training data. Actual test data can have different values with other hidden max_value constants."
      ]
    },
    {
      "cell_type": "markdown",
      "metadata": {
        "id": "Wlwban3iHIum"
      },
      "source": [
        "## 3 Evaluation Metrics (2.5 points)\n",
        "\n",
        "To appropriately a assess model's performance, we need to know what metrics to use based on your application(s). \n",
        "\n",
        "## 3.1 Confusion Matrix (0.5 points)\n",
        "\n",
        "\n",
        "1. What is a confusion matrix? Give an example of one for a 2-class classification problem in your response. (0.5 points)\n",
        "\n",
        "## 3.2 Accuracy, Precision, Recall, F-1, and MCC (2 points)\n",
        "\n",
        "Watch [this video about evaluation metrics](https://youtu.be/wpQiEHYkBys). Discuss the differences between Accuracy, Precision, Recall, F1, MCC (Mathews Correlation Coeffcient):\n",
        "\n",
        "1. How are they calculated? (0.5 points)\n",
        "2. In which case can a model get the perfect score? (0.5 points)\n",
        "3. Give examples of situations when you would prefer one over the others. (0.5 points)\n",
        "4. Chooses one metric. In which case can a model get a very high score even though we would judge its performance to be bad? I.e. how can the model cheat the metric? (0.5 points)\n",
        "\n",
        "\n",
        "\n",
        "\n",
        "\n",
        "\n",
        "\n"
      ]
    },
    {
      "cell_type": "markdown",
      "metadata": {
        "id": "B7eDOpAuGRCv"
      },
      "source": [
        "## 3 <font color=\"green\">Solution</font>"
      ]
    },
    {
      "cell_type": "markdown",
      "metadata": {
        "id": "nzVGIr21GRCv"
      },
      "source": [
        "### 3.1\n",
        "A confusion matrix provides a summary for the types of errors that a classifier has against test data. A two-dimensional matrix with one dimension as the true class of a object and another with the class assigned by the classifier. \n",
        "An example with a 2-class classification problem is one with predicting coronavirus:\n",
        "\n",
        "\n",
        " _ | Assigned Positive (Infected) |Assigned Negative (Normal)\n",
        "-------------------|------------------|------------------\n",
        "Actual Positive (Infected)  | 110 | 30\n",
        "Actual Negative  (Normal)     | 10 | 50\n",
        "\n",
        "---\n",
        "\n",
        "### 3.2\n",
        "Discuss the differences between Accuracy, Precision, Recall, F1, MCC (Mathews Correlation Coeffcient):\n",
        "\n",
        "How are they calculated? (0.5 points)<br>\n",
        "\n",
        "Accuracy is calculated by \n",
        "$$\\frac{\\text{Number of correct predictions (True Positives + True Negatives)}}{\\text{Total number of predictions}}$$<br>\n",
        "Precision is calculated by \n",
        "$$\\frac{\\text{True Positive}}{\\text{True Positive + False Positive}}$$<br>\n",
        "Recall is calculated by $$\\frac{\\text{True Positive}}{\\text{True Positive + False Negative}}$$<br>\n",
        "F1 is calculated by $$\\frac{2 \\cdot \\text{Precision} \\cdot \\text{Recall}}{\\text{Precision + Recall}}$$<br>\n",
        "Matthews Correlation Coefficient (MCC)  is calculated by $$\\frac{\\text{TP} \\cdot \\text{TN} + \\text{FP} \\cdot \\text{FN}}{\\sqrt{\\text{(TP + FP)(TP + FN)(TN + FP)(TN + FN)}}}$$\n",
        "\n",
        "In which case can a model get the perfect score? \n",
        "\n",
        "A model can get the perfect score for accuracy if all the predicted or assigned classes match with all the true class values out of the total number of predications. For precision and recall, the perfect score aligns with the null hypothesis, where a given value or element is relevant to the class. So a perfect precision score indicates every classification was relevant (but not whether all of the relevant elements were identified) and a perfect recall score indicates all relevant elements were found (but not whether all of the irrelevant elements were found).\n",
        "\n",
        "Give examples of situations when you would prefer one over the others. \n",
        "\n",
        "In spam detection, precision may be preferred over the others because it is important for there to be less mail to be marked as spam when it is not.\n",
        "\n",
        "In medical situations, recall may be preferred over the others because it is important for reduce the number of patients to be sent home when actually infected. \n",
        "\n",
        "Chooses one metric. In which case can a model get a very high score even though we would judge its performance to be bad? I.e. how can the model cheat the metric?\n",
        "\n",
        "A model can get a very high training accuracy score even though its performance would be bad because it could be \"cheating\" the metric by overfitting with the data. Also, with recall the model can \"cheat\" the metric by assigning every element as the \"positive\" class."
      ]
    },
    {
      "cell_type": "markdown",
      "metadata": {
        "id": "C5Pu7huYRyoW"
      },
      "source": [
        "# Bonus. Polynomial Regression and Overfitting (1 point):\n",
        "\n",
        "Find out how incorporating more features affects our model on the [California Housing Dataset](https://scikit-learn.org/stable/datasets/real_world.html#california-housing-dataset).\n",
        "\n",
        "1. Transform the feature space using polynomial features: <https://scikit-learn.org/stable/modules/generated/sklearn.preprocessing.PolynomialFeatures.html> (hint: make use of the Pipeline class) and run a regression model on top of it. Use degrees 1, 2, 3 and 4. \n",
        "\n",
        "2. Plot a graph with polynomial degree on the x-axis and training MSE on the y axis. What is an essential caveat to expanding the original feature space like this? (Hint: Think of unseen data again.)"
      ]
    },
    {
      "cell_type": "markdown",
      "metadata": {
        "id": "5MdJPr9lDtUd"
      },
      "source": [
        "## Bonus: <font color=\"red\">To Do</font>\n"
      ]
    },
    {
      "cell_type": "code",
      "metadata": {
        "id": "ccreCT1RDscQ",
        "colab": {
          "base_uri": "https://localhost:8080/"
        },
        "outputId": "df2d7d64-0e91-4083-c2d2-f03386ce7f32"
      },
      "source": [
        "%load_ext autoreload\n",
        "%autoreload 2\n",
        "  \n",
        "# from solution import ....\n",
        "# import your function from your .py file here and run this cell when you're done!"
      ],
      "execution_count": null,
      "outputs": [
        {
          "output_type": "stream",
          "name": "stdout",
          "text": [
            "The autoreload extension is already loaded. To reload it, use:\n",
            "  %reload_ext autoreload\n"
          ]
        }
      ]
    }
  ]
}