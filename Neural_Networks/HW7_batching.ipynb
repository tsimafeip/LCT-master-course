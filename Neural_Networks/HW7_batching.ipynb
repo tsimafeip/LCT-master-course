{
  "cells": [
    {
      "cell_type": "markdown",
      "metadata": {
        "id": "BmmhqmrNb8gc",
        "pycharm": {
          "name": "#%% md\n"
        }
      },
      "source": [
        "# NNIA Assignment 7\n",
        "\n",
        "**DEADLINE: 12. 1. 2022 08:00 CET**\n",
        "Submission more than 10 minutes past the deadline will **not** be graded!\n",
        "\n",
        "- Trevor Atkins & trat00001@uni-saarland.de \n",
        "- Tsimafei Prakapenka & tspr00001@uni-saarland.de\n",
        "- Hours of work per person: Prakapenka ~4h\n",
        "\n",
        "# Submission Instructions\n",
        "\n",
        "**IMPORTANT** Please make sure you read the following instructions carefully. If you are unclear about any part of the assignment, ask questions **before** the assignment deadline. All course-related questions can be addressed on the course **[Piazza Platform](https://piazza.com/class/kvc3vzhsvh55rt)**.\n",
        "\n",
        "* Assignments are to be submitted in a **team of 2**.\n",
        "* Please include your **names**, **ID's**, **Teams usernames**, and **approximate total time spent per person** at the beginning of the Notebook in the space provided\n",
        "* Make sure you appropriately comment your code wherever required.\n",
        "* Your final submission should contain this completed Jupyter Notebook, including the bonus question (if you attempt it), and any necessary Python files.\n",
        "* Do **not** submit any data or cache files (e.g. `__pycache__`).\n",
        "* Upload the **zipped** folder (*.zip* is the only accepted extension) in **Teams**.\n",
        "* Only **one member** of the group should make the submisssion.\n",
        "* **Important** please name the submitted zip folder as: `Name1_id1_Name2_id2.zip`. The Jupyter Notebook should also be named: `Name1_id1_Name2_id2.ipynb`. This is **very important** for our internal organization epeatedly students fail to do this."
      ]
    },
    {
      "cell_type": "markdown",
      "metadata": {
        "id": "hAJnViA-b8g8",
        "pycharm": {
          "name": "#%% md\n"
        }
      },
      "source": [
        "# Neural Network Implementation: Training and Optimization\n",
        "\n",
        "In Assignment 5, you have implemented the forward pass and backpropagation from scratch. Congratulations! Now you can train your network.\n",
        "\n",
        "In this exercise, we will go back to working with [the PyTorch Datasets Class](https://pytorch.org/vision/stable/datasets.html) to obtain\n",
        "[the CIFAR10 Dataset](https://www.cs.toronto.edu/~kriz/cifar.html). Our goal is to benchmark our simple neural network by classifying the images in this dataset into their proper classes.\n",
        "\n",
        "You have learned about regularization and optimization techniques during the previous lectures. In this exercise, you will get to have some more hands-on practice to improve this simple neural network."
      ]
    },
    {
      "cell_type": "markdown",
      "metadata": {
        "id": "rJxaQgdTb8g9"
      },
      "source": [
        "## 1 SGD, Batch, Mini-Batch  (1.5 pts)\n",
        "\n",
        "Recall from Assignment 5 that when we train our model, we are trying to solve the following minimization function via stochatic gradient descent:\n",
        "\n",
        "$$ \\begin{align}\n",
        "\\tag{15}\n",
        "\\min_{\\theta} \\tilde J (\\theta) \n",
        "\\end{align}$$\n",
        "\n",
        "Typically neural networks are large and are trained with millions of data points. It is thus often infeasible to compute the gradient $\\nabla_{\\theta} \\tilde J(\\theta)$ that requires the accumulation of the gradient over the entire training set. \n",
        "\n",
        "There are various online resources on Stochastic, Batch, and Minit-Gradient Descent methods in addition to what was covered during the lecture. Here are a few:\n",
        "\n",
        "- [Medium: Batch , Mini-Batch and Stochastic gradient descent](https://sweta-nit.medium.com/batch-mini-batch-and-stochastic-gradient-descent-e9bc4cacd461)\n",
        "- [DeepLearningAI: Batch vs Mini-Batch](https://youtu.be/4qJaSmvhxi8)\n",
        "\n",
        "**Discuss pros and cons of (1) stochastic (m=1), (2) batch (m = size of dataset) and (3) mini-batch gradient descent** (m is the number of points passed at a time)."
      ]
    },
    {
      "cell_type": "markdown",
      "metadata": {
        "id": "deBZUsZ3b8hE"
      },
      "source": [
        "## <font color=\"green\">Answer</font>\n",
        "\n",
        "\n",
        "### 1\n",
        "\n",
        "- Stochastic: \n",
        "  - Pros: \n",
        "    - Faster than batch and mini-batch\n",
        "  - Cons:\n",
        "    - Less accurate than batch and mini-batch\n",
        "\n",
        "- Batch: \n",
        "  - Pros: \n",
        "    - More accurate than stochastic and mini-batch\n",
        "  - Cons:\n",
        "    - Less fast than batch and mini-batch\n",
        "\n",
        "- Mini-Batch: \n",
        "  - Pros: \n",
        "    - More accurate than stochastic and faster than batch\n",
        "  - Cons:\n",
        "    - Less fast than stochastic and less accurate than batch  "
      ]
    },
    {
      "cell_type": "markdown",
      "metadata": {
        "id": "A3vkxS0zb8hF"
      },
      "source": [
        "## 2: Training Implementation (4 pts)\n",
        "\n",
        "In this question we will implement the `training` and `predicting` functions to the *NeuralNetworkModel* Class in `solution.py` we worked on previously in the last assignment. The inialization and the loss computation is provided as a solution from the previous assignment. You may use your own implementation from the previous assignment or the one provided as long as you get similar results.\n",
        "\n",
        "In this exercise, you will be following the Mini-Batch Gradient Descent approach in training the model. The skeleton code in `solution.py` includes momentum in the training.(You can read more about what that is in [Chapter 8: Optimization for Training Deep Models](https://www.deeplearningbook.org/contents/optimization.html) in [Goodfellow et al. (2016)](https://www.deeplearningbook.org/))\n",
        "\n",
        "**Implement the code in `solution.py`** "
      ]
    },
    {
      "cell_type": "markdown",
      "metadata": {
        "id": "2OBbz-2Jb8hF"
      },
      "source": [
        "## 2 <font color=\"red\"> To Do </font>\n",
        "\n"
      ]
    },
    {
      "cell_type": "markdown",
      "metadata": {
        "id": "emwo-mBbBocP"
      },
      "source": [
        "### 2.1 Write the pseudocode steps for updating the gradients in a mini-batch gradient descent algorithm (1 pt)\n",
        "Make sure to include learning rate, batch-size, iteration limit."
      ]
    },
    {
      "cell_type": "markdown",
      "metadata": {
        "id": "_WTAKBF2b8hG"
      },
      "source": [
        "Your pseudocode: \n"
      ]
    },
    {
      "cell_type": "markdown",
      "metadata": {
        "id": "gguo0P9dBtuM"
      },
      "source": [
        "\n",
        "### 2.2 Implementation (2 pt)\n",
        "Implement the `train` and `predict` functions in `solution.py`. Use the following default hyperparameters to train your model:\n",
        "\n",
        "* num_epocs = 4\n",
        "* learning_rate = 1e-5\n",
        "* reg = 0.1\n",
        "* learning_rate_decay = 0.95\n",
        "\n",
        "(Hint: with the deafult parameters above, you should get the validation accuracy of around 23%.)"
      ]
    },
    {
      "cell_type": "markdown",
      "metadata": {
        "id": "bFDBn-VOb8hH"
      },
      "source": [
        "**Fill in the missing code below to load the dataset**\n",
        "\n",
        "You may need to import necessary modules."
      ]
    },
    {
      "cell_type": "code",
      "execution_count": 1,
      "metadata": {},
      "outputs": [],
      "source": [
        "# %%capture\n",
        "# ! pip install wget"
      ]
    },
    {
      "cell_type": "code",
      "execution_count": 2,
      "metadata": {},
      "outputs": [],
      "source": [
        "import os\n",
        "import wget\n",
        "\n",
        "import numpy as np\n",
        "import matplotlib.pyplot as plt\n",
        "\n",
        "%matplotlib inline\n",
        "plt.style.use('seaborn-whitegrid')"
      ]
    },
    {
      "cell_type": "code",
      "execution_count": 3,
      "metadata": {
        "id": "fvxPf-VDD59N"
      },
      "outputs": [],
      "source": [
        "if not os.path.isfile('solution.py'):\n",
        "    wget.download(\n",
        "        'https://raw.githubusercontent.com/tsimafeip/LCT-master-course/main/Neural_Networks/HW7_solution.py',\n",
        "        'solution.py',\n",
        "    )\n",
        "\n",
        "if not os.path.isfile('utils.py'):\n",
        "    wget.download(\n",
        "        'https://raw.githubusercontent.com/tsimafeip/LCT-master-course/main/Neural_Networks/HW7_utils.py',\n",
        "        'utils.py',\n",
        "    )"
      ]
    },
    {
      "cell_type": "code",
      "execution_count": 4,
      "metadata": {
        "id": "uiMMSgOBb8hI"
      },
      "outputs": [],
      "source": [
        "%load_ext autoreload\n",
        "%autoreload 2"
      ]
    },
    {
      "cell_type": "code",
      "execution_count": 5,
      "metadata": {
        "id": "toGUEF_BCaAX"
      },
      "outputs": [],
      "source": [
        "from solution import NeuralNetworkModel, get_cifar10_dataset"
      ]
    },
    {
      "cell_type": "code",
      "execution_count": 6,
      "metadata": {},
      "outputs": [],
      "source": [
        "BATCH_SIZE = 200"
      ]
    },
    {
      "cell_type": "code",
      "execution_count": 7,
      "metadata": {
        "colab": {
          "base_uri": "https://localhost:8080/"
        },
        "id": "q1pYVewEb8hj",
        "outputId": "6f0492f2-1a0d-4eab-8fba-603aac95d9e4"
      },
      "outputs": [
        {
          "name": "stdout",
          "output_type": "stream",
          "text": [
            "Files already downloaded and verified\n",
            "Files already downloaded and verified\n"
          ]
        }
      ],
      "source": [
        "train_loader, test_loader, val_loader, classes = get_cifar10_dataset(batch_size=BATCH_SIZE)\n",
        "\n",
        "val_dataset_tensor = next(iter(val_loader))\n",
        "X_val, y_val = val_dataset_tensor[0], val_dataset_tensor[1]\n",
        "\n",
        "test_dataset_tensor = next(iter(test_loader))\n",
        "X_test, y_test = test_dataset_tensor[0], test_dataset_tensor[1]"
      ]
    },
    {
      "cell_type": "code",
      "execution_count": 8,
      "metadata": {},
      "outputs": [
        {
          "name": "stdout",
          "output_type": "stream",
          "text": [
            "torch.Size([1000, 3072]) torch.Size([10000, 3072])\n"
          ]
        }
      ],
      "source": [
        "print(X_val.shape, X_test.shape)"
      ]
    },
    {
      "cell_type": "code",
      "execution_count": 9,
      "metadata": {},
      "outputs": [],
      "source": [
        "# for batch_idx, (X_train, y_train) in enumerate(train_loader):\n",
        "#     print(batch_idx, X_train, y_train, len(y_train), X_train.shape)\n",
        "#     break"
      ]
    },
    {
      "cell_type": "code",
      "execution_count": 10,
      "metadata": {},
      "outputs": [],
      "source": [
        "hyperparams = {\n",
        "    'num_epochs': 4,\n",
        "    'learning_rate': 1e-5,\n",
        "    'reg': 0.1,\n",
        "    'learning_rate_decay': 0.95,\n",
        "    'batch_size': BATCH_SIZE,\n",
        "    'input_size': X_val.shape[1],\n",
        "    'hidden_size': 128,\n",
        "    'output_size': len(classes),\n",
        "}"
      ]
    },
    {
      "cell_type": "code",
      "execution_count": 11,
      "metadata": {
        "colab": {
          "base_uri": "https://localhost:8080/",
          "height": 322
        },
        "id": "ra1wpuU5b8hk",
        "outputId": "f27fe7a4-75da-4f7c-f8ba-3d9e95eea65e"
      },
      "outputs": [
        {
          "name": "stdout",
          "output_type": "stream",
          "text": [
            "batch 1 / 383: loss 2.302553\n",
            "batch 101 / 383: loss 2.298725\n",
            "batch 201 / 383: loss 2.294884\n",
            "batch 301 / 383: loss 2.255740\n",
            "Epoch 1 / 4:\n",
            "Training Accuracy: 0.1171875\n",
            "Validation Accuracy: 0.145\n",
            "Loss: 2.247197579443918\n",
            "batch 1 / 383: loss 2.215842\n",
            "batch 101 / 383: loss 2.150008\n",
            "batch 201 / 383: loss 2.112459\n",
            "batch 301 / 383: loss 2.086168\n",
            "Epoch 2 / 4:\n",
            "Training Accuracy: 0.193359375\n",
            "Validation Accuracy: 0.202\n",
            "Loss: 2.0875233278249117\n",
            "batch 1 / 383: loss 2.105411\n",
            "batch 101 / 383: loss 1.995794\n",
            "batch 201 / 383: loss 1.957928\n",
            "batch 301 / 383: loss 2.100420\n",
            "Epoch 3 / 4:\n",
            "Training Accuracy: 0.25390625\n",
            "Validation Accuracy: 0.264\n",
            "Loss: 1.9925324834199947\n",
            "batch 1 / 383: loss 2.064007\n",
            "batch 101 / 383: loss 2.010504\n",
            "batch 201 / 383: loss 1.931363\n",
            "batch 301 / 383: loss 1.991801\n",
            "Epoch 4 / 4:\n",
            "Training Accuracy: 0.30859375\n",
            "Validation Accuracy: 0.266\n",
            "Loss: 2.013512321396097\n"
          ]
        }
      ],
      "source": [
        "# Train the network with default hyperparameters\n",
        "model = NeuralNetworkModel(input_size=hyperparams['input_size'],\n",
        "                           hidden_size=hyperparams['hidden_size'],\n",
        "                           output_size=hyperparams['output_size'])\n",
        "\n",
        "train_metrics = model.train(train_dataloader=train_loader,\n",
        "                            X_val=X_val,\n",
        "                            y_val=y_val, \n",
        "                            learning_rate=hyperparams['learning_rate'],\n",
        "                            learning_rate_decay=hyperparams['learning_rate_decay'], \n",
        "                            num_epochs=hyperparams['num_epochs'])"
      ]
    },
    {
      "cell_type": "markdown",
      "metadata": {
        "id": "AGDAn-lHB55U"
      },
      "source": [
        "### 2.3 Ploting (1 pt)\n",
        "One strategy for getting insight into what's going on during training is to plot the loss and the accuracies on the training and validation sets. Submit 2 plots:\n",
        "\n",
        "(1) Loss vs loss update steps \n",
        "\n",
        "(2) training and validation accuracies vs Iterations (Epochs)"
      ]
    },
    {
      "cell_type": "code",
      "execution_count": 14,
      "metadata": {
        "id": "2VYwEL0ub8hl"
      },
      "outputs": [
        {
          "data": {
            "image/png": "[encoded data removed]",
            "text/plain": [
              "<Figure size 432x288 with 1 Axes>"
            ]
          },
          "metadata": {},
          "output_type": "display_data"
        }
      ],
      "source": [
        "# Show your plots here. Make sure to label your axes and give descriptive titles.\n",
        "\n",
        "loss_history = train_metrics['loss_history']\n",
        "\n",
        "x = np.linspace(0, len(loss_history), len(loss_history))\n",
        "plt.plot(x, loss_history)\n",
        "plt.xlabel('Steps')\n",
        "plt.ylabel('Loss')\n",
        "plt.title('Loss History')\n",
        "plt.show()"
      ]
    },
    {
      "cell_type": "code",
      "execution_count": 17,
      "metadata": {},
      "outputs": [
        {
          "data": {
            "image/png": "[encoded data removed]",
            "text/plain": [
              "<Figure size 432x288 with 1 Axes>"
            ]
          },
          "metadata": {},
          "output_type": "display_data"
        }
      ],
      "source": [
        "# Show your plots here. Make sure to label your axes and give descriptive titles.\n",
        "\n",
        "train_acc_history = train_metrics['train_acc_history']\n",
        "\n",
        "x = np.linspace(0, len(train_acc_history), len(train_acc_history))\n",
        "plt.plot(x, train_acc_history)\n",
        "plt.xlabel('Steps')\n",
        "plt.ylabel('Train Accuracy')\n",
        "plt.title('Train Accuracy History')\n",
        "plt.show()"
      ]
    },
    {
      "cell_type": "code",
      "execution_count": 18,
      "metadata": {},
      "outputs": [
        {
          "data": {
            "image/png": "[encoded data removed]",
            "text/plain": [
              "<Figure size 432x288 with 1 Axes>"
            ]
          },
          "metadata": {},
          "output_type": "display_data"
        }
      ],
      "source": [
        "# Show your plots here. Make sure to label your axes and give descriptive titles.\n",
        "\n",
        "val_acc_history = train_metrics['val_acc_history']\n",
        "\n",
        "x = np.linspace(0, len(val_acc_history), len(val_acc_history))\n",
        "plt.plot(x, val_acc_history)\n",
        "plt.xlabel('Steps')\n",
        "plt.ylabel('Validation Accuracy')\n",
        "plt.title('Validation Accuracy History')\n",
        "plt.show()"
      ]
    },
    {
      "cell_type": "markdown",
      "metadata": {
        "id": "tAnimWpGb8hl"
      },
      "source": [
        "## 3 Fine-Tuning (2 pts + 1 Bonus pts)\n",
        "\n",
        "With default hyperparameters, if previous questions have been done correctly, you should get validation set accuracy of at least around 23%. Can we do better?. \n",
        "\n",
        "### Fine-Tuning (1 + 1 = 2 pts)\n",
        "\n",
        "Your task is to fine-tune the model training and come up with a better set of hyper-parameters to improve the performance on the validation set from the default results. **(1 pt)** Visualize the training and validation performance curves to help with this analysis.\n",
        "\n",
        "(Note: if you decided to change the batch size from 200, with the way the skeleton code is implemented, you will have to adjust this in the `get_cifar10_dataset` function and reload your Dataloaders.)\n",
        "\n",
        "**Justify** The hyperparameters you are modifying and **discuss** the effects of adjusting these hyperparameters on your validation results. **(1 pt)**\n",
        "\n",
        "**Bonus 1 pt:** Experiment with different combinations of hyperparameters and report the evaluation results on the test set from your best model.\n",
        "\n"
      ]
    },
    {
      "cell_type": "markdown",
      "metadata": {
        "id": "5bKAmpnJb8hm"
      },
      "source": [
        "## 3 <font color=\"red\"> To Do </font>"
      ]
    },
    {
      "cell_type": "code",
      "execution_count": 19,
      "metadata": {
        "id": "m9VBuv0Hb8hm"
      },
      "outputs": [],
      "source": [
        "from solution import find_best_model\n",
        "# your implementation here\n",
        "\n",
        "# TODO\n",
        "# 1) increase epoch num.\n",
        "# 2) Try 32-64-128-256-512 batch size\n",
        "# 3) Try learning rates: 1e-5, 1e-4, 1e-3\n",
        "# 4) Visualise train and validation curve on the same plot, possibly move visualization code to function in solution.py "
      ]
    },
    {
      "cell_type": "markdown",
      "metadata": {
        "id": "DCUqWo8wb8hn"
      },
      "source": [
        "## 4 Data Augmentation in Natural Language Processing (NLP) (2.5 pts)\n",
        "\n",
        "You have learned about data augmentation as a regularization technique to reduce overfitting. For image data, you can do various transformations. For natural language processing problems, this is not as straight-forward.\n",
        "\n",
        "Read about [Data Augmentation in NLP by Shahul E.S.](https://neptune.ai/blog/data-augmentation-nlp). For a fuller picture, you can also have a look at [the Visual Survey of Data Augmentation in NLP by Amit Chaudhary](https://amitness.com/2020/05/data-augmentation-for-nlp/). \n",
        "\n",
        "After consulting the above resources, answer the following questions:\n",
        "\n",
        "\n",
        "1. In computer vision, data augmentation happens on the go, whereas in NLP data is augmented before training. Why is it so? Explain in 3-4 sentences. (0.5 pts)\n",
        "\n",
        "2. Data augmentation in NLP is very task-specific and should be applied carefully. Provide an example of a augmentation method  and task pair where data augmentation might harm the model. Justify your answer (2-4 sentences). A (non-exhaustive) list of NLP tasks you can be found at the [Natural Language Understanding Wiki](https://natural-language-understanding.fandom.com/wiki/List_of_natural_language_processing_tasks). You can also give an example with a task not from this list. (1 pt)\n",
        "\n",
        "3. If we perform K-fold cross-validation, do we augment data before or after splitting the data? Why? Give at least *two* reasons. (0.5 pts)\n",
        "\n",
        "4. Does the proportion of augmented data depend on the size of the training dataset? Ex- plain why. Hint: think about the relation between training dataset size and overfitting. (0.5 pts)\n",
        "\n"
      ]
    },
    {
      "cell_type": "markdown",
      "metadata": {
        "id": "EbG3m5aSb8hn"
      },
      "source": [
        "## 4 <font color=\"red\">To Do</font>\n",
        "\n"
      ]
    },
    {
      "cell_type": "code",
      "execution_count": null,
      "metadata": {
        "id": "-xHn2Ytzb8hn"
      },
      "outputs": [],
      "source": []
    }
  ],
  "metadata": {
    "colab": {
      "collapsed_sections": [],
      "name": "assignment_7.ipynb",
      "provenance": []
    },
    "kernelspec": {
      "display_name": "Python 3",
      "language": "python",
      "name": "python3"
    },
    "language_info": {
      "codemirror_mode": {
        "name": "ipython",
        "version": 3
      },
      "file_extension": ".py",
      "mimetype": "text/x-python",
      "name": "python",
      "nbconvert_exporter": "python",
      "pygments_lexer": "ipython3",
      "version": "3.8.2"
    }
  },
  "nbformat": 4,
  "nbformat_minor": 0
}
